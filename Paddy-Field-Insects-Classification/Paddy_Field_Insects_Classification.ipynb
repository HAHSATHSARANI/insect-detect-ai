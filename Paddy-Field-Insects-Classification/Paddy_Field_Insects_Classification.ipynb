{
  "nbformat": 4,
  "nbformat_minor": 0,
  "metadata": {
    "colab": {
      "provenance": [],
      "gpuType": "T4",
      "authorship_tag": "ABX9TyNUYFN9XgjDEBZOHNIuOPU2",
      "include_colab_link": true
    },
    "kernelspec": {
      "name": "python3",
      "display_name": "Python 3"
    },
    "language_info": {
      "name": "python"
    },
    "accelerator": "GPU"
  },
  "cells": [
    {
      "cell_type": "markdown",
      "metadata": {
        "id": "view-in-github",
        "colab_type": "text"
      },
      "source": [
        "<a href=\"https://colab.research.google.com/github/ywchanna2001/Paddy-Field-Insects-Classification/blob/main/Paddy_Field_Insects_Classification.ipynb\" target=\"_parent\"><img src=\"https://colab.research.google.com/assets/colab-badge.svg\" alt=\"Open In Colab\"/></a>"
      ]
    },
    {
      "cell_type": "markdown",
      "source": [
        "### Connect to Google Drive"
      ],
      "metadata": {
        "id": "eRxgIfxYznIb"
      }
    },
    {
      "cell_type": "code",
      "execution_count": 1,
      "metadata": {
        "colab": {
          "base_uri": "https://localhost:8080/"
        },
        "id": "8S9W3aFTzj-K",
        "outputId": "b3ba1e12-b12b-4815-ebfc-58c876912390"
      },
      "outputs": [
        {
          "output_type": "stream",
          "name": "stdout",
          "text": [
            "Mounted at /content/drive\n"
          ]
        }
      ],
      "source": [
        "from google.colab import drive\n",
        "drive.mount('/content/drive')"
      ]
    },
    {
      "cell_type": "code",
      "source": [
        "# Install the Ultralytics package\n",
        "!pip install ultralytics\n",
        "\n",
        "# Import necessary libraries\n",
        "import os\n",
        "from ultralytics import YOLO"
      ],
      "metadata": {
        "colab": {
          "base_uri": "https://localhost:8080/"
        },
        "id": "FEzDRYpsztI2",
        "outputId": "ac486805-158c-44e4-c9bc-3bf80644c20f"
      },
      "execution_count": 13,
      "outputs": [
        {
          "output_type": "stream",
          "name": "stdout",
          "text": [
            "Requirement already satisfied: ultralytics in /usr/local/lib/python3.12/dist-packages (8.3.184)\n",
            "Requirement already satisfied: numpy>=1.23.0 in /usr/local/lib/python3.12/dist-packages (from ultralytics) (2.0.2)\n",
            "Requirement already satisfied: matplotlib>=3.3.0 in /usr/local/lib/python3.12/dist-packages (from ultralytics) (3.10.0)\n",
            "Requirement already satisfied: opencv-python>=4.6.0 in /usr/local/lib/python3.12/dist-packages (from ultralytics) (4.12.0.88)\n",
            "Requirement already satisfied: pillow>=7.1.2 in /usr/local/lib/python3.12/dist-packages (from ultralytics) (11.3.0)\n",
            "Requirement already satisfied: pyyaml>=5.3.1 in /usr/local/lib/python3.12/dist-packages (from ultralytics) (6.0.2)\n",
            "Requirement already satisfied: requests>=2.23.0 in /usr/local/lib/python3.12/dist-packages (from ultralytics) (2.32.4)\n",
            "Requirement already satisfied: scipy>=1.4.1 in /usr/local/lib/python3.12/dist-packages (from ultralytics) (1.16.1)\n",
            "Requirement already satisfied: torch>=1.8.0 in /usr/local/lib/python3.12/dist-packages (from ultralytics) (2.8.0+cu126)\n",
            "Requirement already satisfied: torchvision>=0.9.0 in /usr/local/lib/python3.12/dist-packages (from ultralytics) (0.23.0+cu126)\n",
            "Requirement already satisfied: tqdm>=4.64.0 in /usr/local/lib/python3.12/dist-packages (from ultralytics) (4.67.1)\n",
            "Requirement already satisfied: psutil in /usr/local/lib/python3.12/dist-packages (from ultralytics) (5.9.5)\n",
            "Requirement already satisfied: py-cpuinfo in /usr/local/lib/python3.12/dist-packages (from ultralytics) (9.0.0)\n",
            "Requirement already satisfied: pandas>=1.1.4 in /usr/local/lib/python3.12/dist-packages (from ultralytics) (2.2.2)\n",
            "Requirement already satisfied: ultralytics-thop>=2.0.0 in /usr/local/lib/python3.12/dist-packages (from ultralytics) (2.0.16)\n",
            "Requirement already satisfied: contourpy>=1.0.1 in /usr/local/lib/python3.12/dist-packages (from matplotlib>=3.3.0->ultralytics) (1.3.3)\n",
            "Requirement already satisfied: cycler>=0.10 in /usr/local/lib/python3.12/dist-packages (from matplotlib>=3.3.0->ultralytics) (0.12.1)\n",
            "Requirement already satisfied: fonttools>=4.22.0 in /usr/local/lib/python3.12/dist-packages (from matplotlib>=3.3.0->ultralytics) (4.59.1)\n",
            "Requirement already satisfied: kiwisolver>=1.3.1 in /usr/local/lib/python3.12/dist-packages (from matplotlib>=3.3.0->ultralytics) (1.4.9)\n",
            "Requirement already satisfied: packaging>=20.0 in /usr/local/lib/python3.12/dist-packages (from matplotlib>=3.3.0->ultralytics) (25.0)\n",
            "Requirement already satisfied: pyparsing>=2.3.1 in /usr/local/lib/python3.12/dist-packages (from matplotlib>=3.3.0->ultralytics) (3.2.3)\n",
            "Requirement already satisfied: python-dateutil>=2.7 in /usr/local/lib/python3.12/dist-packages (from matplotlib>=3.3.0->ultralytics) (2.9.0.post0)\n",
            "Requirement already satisfied: pytz>=2020.1 in /usr/local/lib/python3.12/dist-packages (from pandas>=1.1.4->ultralytics) (2025.2)\n",
            "Requirement already satisfied: tzdata>=2022.7 in /usr/local/lib/python3.12/dist-packages (from pandas>=1.1.4->ultralytics) (2025.2)\n",
            "Requirement already satisfied: charset_normalizer<4,>=2 in /usr/local/lib/python3.12/dist-packages (from requests>=2.23.0->ultralytics) (3.4.3)\n",
            "Requirement already satisfied: idna<4,>=2.5 in /usr/local/lib/python3.12/dist-packages (from requests>=2.23.0->ultralytics) (3.7)\n",
            "Requirement already satisfied: urllib3<3,>=1.21.1 in /usr/local/lib/python3.12/dist-packages (from requests>=2.23.0->ultralytics) (2.5.0)\n",
            "Requirement already satisfied: certifi>=2017.4.17 in /usr/local/lib/python3.12/dist-packages (from requests>=2.23.0->ultralytics) (2025.8.3)\n",
            "Requirement already satisfied: filelock in /usr/local/lib/python3.12/dist-packages (from torch>=1.8.0->ultralytics) (3.19.1)\n",
            "Requirement already satisfied: typing-extensions>=4.10.0 in /usr/local/lib/python3.12/dist-packages (from torch>=1.8.0->ultralytics) (4.14.1)\n",
            "Requirement already satisfied: setuptools in /usr/local/lib/python3.12/dist-packages (from torch>=1.8.0->ultralytics) (75.2.0)\n",
            "Requirement already satisfied: sympy>=1.13.3 in /usr/local/lib/python3.12/dist-packages (from torch>=1.8.0->ultralytics) (1.13.3)\n",
            "Requirement already satisfied: networkx in /usr/local/lib/python3.12/dist-packages (from torch>=1.8.0->ultralytics) (3.5)\n",
            "Requirement already satisfied: jinja2 in /usr/local/lib/python3.12/dist-packages (from torch>=1.8.0->ultralytics) (3.1.6)\n",
            "Requirement already satisfied: fsspec in /usr/local/lib/python3.12/dist-packages (from torch>=1.8.0->ultralytics) (2025.3.0)\n",
            "Requirement already satisfied: nvidia-cuda-nvrtc-cu12==12.6.77 in /usr/local/lib/python3.12/dist-packages (from torch>=1.8.0->ultralytics) (12.6.77)\n",
            "Requirement already satisfied: nvidia-cuda-runtime-cu12==12.6.77 in /usr/local/lib/python3.12/dist-packages (from torch>=1.8.0->ultralytics) (12.6.77)\n",
            "Requirement already satisfied: nvidia-cuda-cupti-cu12==12.6.80 in /usr/local/lib/python3.12/dist-packages (from torch>=1.8.0->ultralytics) (12.6.80)\n",
            "Requirement already satisfied: nvidia-cudnn-cu12==9.10.2.21 in /usr/local/lib/python3.12/dist-packages (from torch>=1.8.0->ultralytics) (9.10.2.21)\n",
            "Requirement already satisfied: nvidia-cublas-cu12==12.6.4.1 in /usr/local/lib/python3.12/dist-packages (from torch>=1.8.0->ultralytics) (12.6.4.1)\n",
            "Requirement already satisfied: nvidia-cufft-cu12==11.3.0.4 in /usr/local/lib/python3.12/dist-packages (from torch>=1.8.0->ultralytics) (11.3.0.4)\n",
            "Requirement already satisfied: nvidia-curand-cu12==10.3.7.77 in /usr/local/lib/python3.12/dist-packages (from torch>=1.8.0->ultralytics) (10.3.7.77)\n",
            "Requirement already satisfied: nvidia-cusolver-cu12==11.7.1.2 in /usr/local/lib/python3.12/dist-packages (from torch>=1.8.0->ultralytics) (11.7.1.2)\n",
            "Requirement already satisfied: nvidia-cusparse-cu12==12.5.4.2 in /usr/local/lib/python3.12/dist-packages (from torch>=1.8.0->ultralytics) (12.5.4.2)\n",
            "Requirement already satisfied: nvidia-cusparselt-cu12==0.7.1 in /usr/local/lib/python3.12/dist-packages (from torch>=1.8.0->ultralytics) (0.7.1)\n",
            "Requirement already satisfied: nvidia-nccl-cu12==2.27.3 in /usr/local/lib/python3.12/dist-packages (from torch>=1.8.0->ultralytics) (2.27.3)\n",
            "Requirement already satisfied: nvidia-nvtx-cu12==12.6.77 in /usr/local/lib/python3.12/dist-packages (from torch>=1.8.0->ultralytics) (12.6.77)\n",
            "Requirement already satisfied: nvidia-nvjitlink-cu12==12.6.85 in /usr/local/lib/python3.12/dist-packages (from torch>=1.8.0->ultralytics) (12.6.85)\n",
            "Requirement already satisfied: nvidia-cufile-cu12==1.11.1.6 in /usr/local/lib/python3.12/dist-packages (from torch>=1.8.0->ultralytics) (1.11.1.6)\n",
            "Requirement already satisfied: triton==3.4.0 in /usr/local/lib/python3.12/dist-packages (from torch>=1.8.0->ultralytics) (3.4.0)\n",
            "Requirement already satisfied: six>=1.5 in /usr/local/lib/python3.12/dist-packages (from python-dateutil>=2.7->matplotlib>=3.3.0->ultralytics) (1.17.0)\n",
            "Requirement already satisfied: mpmath<1.4,>=1.1.0 in /usr/local/lib/python3.12/dist-packages (from sympy>=1.13.3->torch>=1.8.0->ultralytics) (1.3.0)\n",
            "Requirement already satisfied: MarkupSafe>=2.0 in /usr/local/lib/python3.12/dist-packages (from jinja2->torch>=1.8.0->ultralytics) (3.0.2)\n"
          ]
        }
      ]
    },
    {
      "cell_type": "markdown",
      "source": [
        "### Loading roboflow dataset"
      ],
      "metadata": {
        "id": "BhWqxyz1z5lC"
      }
    },
    {
      "cell_type": "code",
      "source": [
        "!pip install roboflow\n",
        "\n",
        "from roboflow import Roboflow\n",
        "rf = Roboflow(api_key=\"ZGiIefwMk9l91xuS3pQo\")\n",
        "project = rf.workspace(\"football-analyzing-system\").project(\"paddy-field-insects-all-classes-ugbpw\")\n",
        "version = project.version(2)\n",
        "dataset = version.download(\"yolov8\")"
      ],
      "metadata": {
        "colab": {
          "base_uri": "https://localhost:8080/",
          "height": 1000
        },
        "id": "yOd_Wcxtz3i-",
        "outputId": "d54d5d64-30cd-4962-ba31-8efc99357721"
      },
      "execution_count": 3,
      "outputs": [
        {
          "output_type": "stream",
          "name": "stdout",
          "text": [
            "Collecting roboflow\n",
            "  Downloading roboflow-1.2.6-py3-none-any.whl.metadata (9.7 kB)\n",
            "Requirement already satisfied: certifi in /usr/local/lib/python3.12/dist-packages (from roboflow) (2025.8.3)\n",
            "Collecting idna==3.7 (from roboflow)\n",
            "  Downloading idna-3.7-py3-none-any.whl.metadata (9.9 kB)\n",
            "Requirement already satisfied: cycler in /usr/local/lib/python3.12/dist-packages (from roboflow) (0.12.1)\n",
            "Requirement already satisfied: kiwisolver>=1.3.1 in /usr/local/lib/python3.12/dist-packages (from roboflow) (1.4.9)\n",
            "Requirement already satisfied: matplotlib in /usr/local/lib/python3.12/dist-packages (from roboflow) (3.10.0)\n",
            "Requirement already satisfied: numpy>=1.18.5 in /usr/local/lib/python3.12/dist-packages (from roboflow) (2.0.2)\n",
            "Collecting opencv-python-headless==4.10.0.84 (from roboflow)\n",
            "  Downloading opencv_python_headless-4.10.0.84-cp37-abi3-manylinux_2_17_x86_64.manylinux2014_x86_64.whl.metadata (20 kB)\n",
            "Requirement already satisfied: Pillow>=7.1.2 in /usr/local/lib/python3.12/dist-packages (from roboflow) (11.3.0)\n",
            "Collecting pi-heif<2 (from roboflow)\n",
            "  Downloading pi_heif-1.1.0-cp312-cp312-manylinux_2_27_x86_64.manylinux_2_28_x86_64.whl.metadata (6.5 kB)\n",
            "Collecting pillow-avif-plugin<2 (from roboflow)\n",
            "  Downloading pillow_avif_plugin-1.5.2-cp312-cp312-manylinux_2_28_x86_64.whl.metadata (2.1 kB)\n",
            "Requirement already satisfied: python-dateutil in /usr/local/lib/python3.12/dist-packages (from roboflow) (2.9.0.post0)\n",
            "Requirement already satisfied: python-dotenv in /usr/local/lib/python3.12/dist-packages (from roboflow) (1.1.1)\n",
            "Requirement already satisfied: requests in /usr/local/lib/python3.12/dist-packages (from roboflow) (2.32.4)\n",
            "Requirement already satisfied: six in /usr/local/lib/python3.12/dist-packages (from roboflow) (1.17.0)\n",
            "Requirement already satisfied: urllib3>=1.26.6 in /usr/local/lib/python3.12/dist-packages (from roboflow) (2.5.0)\n",
            "Requirement already satisfied: tqdm>=4.41.0 in /usr/local/lib/python3.12/dist-packages (from roboflow) (4.67.1)\n",
            "Requirement already satisfied: PyYAML>=5.3.1 in /usr/local/lib/python3.12/dist-packages (from roboflow) (6.0.2)\n",
            "Requirement already satisfied: requests-toolbelt in /usr/local/lib/python3.12/dist-packages (from roboflow) (1.0.0)\n",
            "Collecting filetype (from roboflow)\n",
            "  Downloading filetype-1.2.0-py2.py3-none-any.whl.metadata (6.5 kB)\n",
            "Requirement already satisfied: contourpy>=1.0.1 in /usr/local/lib/python3.12/dist-packages (from matplotlib->roboflow) (1.3.3)\n",
            "Requirement already satisfied: fonttools>=4.22.0 in /usr/local/lib/python3.12/dist-packages (from matplotlib->roboflow) (4.59.1)\n",
            "Requirement already satisfied: packaging>=20.0 in /usr/local/lib/python3.12/dist-packages (from matplotlib->roboflow) (25.0)\n",
            "Requirement already satisfied: pyparsing>=2.3.1 in /usr/local/lib/python3.12/dist-packages (from matplotlib->roboflow) (3.2.3)\n",
            "Requirement already satisfied: charset_normalizer<4,>=2 in /usr/local/lib/python3.12/dist-packages (from requests->roboflow) (3.4.3)\n",
            "Downloading roboflow-1.2.6-py3-none-any.whl (88 kB)\n",
            "\u001b[2K   \u001b[90m━━━━━━━━━━━━━━━━━━━━━━━━━━━━━━━━━━━━━━━━\u001b[0m \u001b[32m88.6/88.6 kB\u001b[0m \u001b[31m3.7 MB/s\u001b[0m eta \u001b[36m0:00:00\u001b[0m\n",
            "\u001b[?25hDownloading idna-3.7-py3-none-any.whl (66 kB)\n",
            "\u001b[2K   \u001b[90m━━━━━━━━━━━━━━━━━━━━━━━━━━━━━━━━━━━━━━━━\u001b[0m \u001b[32m66.8/66.8 kB\u001b[0m \u001b[31m6.2 MB/s\u001b[0m eta \u001b[36m0:00:00\u001b[0m\n",
            "\u001b[?25hDownloading opencv_python_headless-4.10.0.84-cp37-abi3-manylinux_2_17_x86_64.manylinux2014_x86_64.whl (49.9 MB)\n",
            "\u001b[2K   \u001b[90m━━━━━━━━━━━━━━━━━━━━━━━━━━━━━━━━━━━━━━━━\u001b[0m \u001b[32m49.9/49.9 MB\u001b[0m \u001b[31m18.6 MB/s\u001b[0m eta \u001b[36m0:00:00\u001b[0m\n",
            "\u001b[?25hDownloading pi_heif-1.1.0-cp312-cp312-manylinux_2_27_x86_64.manylinux_2_28_x86_64.whl (1.4 MB)\n",
            "\u001b[2K   \u001b[90m━━━━━━━━━━━━━━━━━━━━━━━━━━━━━━━━━━━━━━━━\u001b[0m \u001b[32m1.4/1.4 MB\u001b[0m \u001b[31m68.5 MB/s\u001b[0m eta \u001b[36m0:00:00\u001b[0m\n",
            "\u001b[?25hDownloading pillow_avif_plugin-1.5.2-cp312-cp312-manylinux_2_28_x86_64.whl (4.2 MB)\n",
            "\u001b[2K   \u001b[90m━━━━━━━━━━━━━━━━━━━━━━━━━━━━━━━━━━━━━━━━\u001b[0m \u001b[32m4.2/4.2 MB\u001b[0m \u001b[31m85.0 MB/s\u001b[0m eta \u001b[36m0:00:00\u001b[0m\n",
            "\u001b[?25hDownloading filetype-1.2.0-py2.py3-none-any.whl (19 kB)\n",
            "Installing collected packages: pillow-avif-plugin, filetype, pi-heif, opencv-python-headless, idna, roboflow\n",
            "  Attempting uninstall: opencv-python-headless\n",
            "    Found existing installation: opencv-python-headless 4.12.0.88\n",
            "    Uninstalling opencv-python-headless-4.12.0.88:\n",
            "      Successfully uninstalled opencv-python-headless-4.12.0.88\n",
            "  Attempting uninstall: idna\n",
            "    Found existing installation: idna 3.10\n",
            "    Uninstalling idna-3.10:\n",
            "      Successfully uninstalled idna-3.10\n",
            "Successfully installed filetype-1.2.0 idna-3.7 opencv-python-headless-4.10.0.84 pi-heif-1.1.0 pillow-avif-plugin-1.5.2 roboflow-1.2.6\n"
          ]
        },
        {
          "output_type": "display_data",
          "data": {
            "application/vnd.colab-display-data+json": {
              "pip_warning": {
                "packages": [
                  "cv2"
                ]
              },
              "id": "e731ff45705049659ccfbd5e08921dab"
            }
          },
          "metadata": {}
        },
        {
          "output_type": "stream",
          "name": "stdout",
          "text": [
            "loading Roboflow workspace...\n",
            "loading Roboflow project...\n"
          ]
        },
        {
          "output_type": "stream",
          "name": "stderr",
          "text": [
            "Downloading Dataset Version Zip in Paddy-Field-Insects-All-Classes-2 to yolov8:: 100%|██████████| 320988/320988 [00:05<00:00, 63721.62it/s]"
          ]
        },
        {
          "output_type": "stream",
          "name": "stdout",
          "text": [
            "\n"
          ]
        },
        {
          "output_type": "stream",
          "name": "stderr",
          "text": [
            "\n",
            "Extracting Dataset Version Zip to Paddy-Field-Insects-All-Classes-2 in yolov8:: 100%|██████████| 15282/15282 [00:02<00:00, 6092.95it/s]\n"
          ]
        }
      ]
    },
    {
      "cell_type": "markdown",
      "source": [
        "### Check the number of images per class"
      ],
      "metadata": {
        "id": "IfA5X1Mh0eV5"
      }
    },
    {
      "cell_type": "code",
      "source": [
        "import os\n",
        "import yaml\n",
        "from collections import Counter\n",
        "import matplotlib.pyplot as plt\n",
        "import shutil\n",
        "from tqdm import tqdm\n",
        "\n",
        "# --- 1. CONFIGURATION ---\n",
        "yaml_file_path = '/content/Paddy-Field-Insects-All-Classes-2/data.yaml'\n",
        "\n",
        "# --- 2. INITIALIZE VARIABLES AND LOAD DATA FROM YAML ---\n",
        "class_names = []\n",
        "train_images_path = ''\n",
        "train_labels_path = ''\n",
        "\n",
        "try:\n",
        "    with open(yaml_file_path, 'r') as file:\n",
        "        data = yaml.safe_load(file)\n",
        "        class_names = data['names']\n",
        "\n",
        "        # --- THIS IS THE KEY FIX ---\n",
        "        # Get the root directory of the dataset from the yaml file's location\n",
        "        dataset_root = os.path.dirname(yaml_file_path)\n",
        "        # Construct the full, correct paths for both images and labels\n",
        "        train_images_path = os.path.join(dataset_root, data['train'].replace('../', ''))\n",
        "        train_labels_path = os.path.join(dataset_root, 'train/labels') # Standard YOLO structure\n",
        "\n",
        "        print(f\"Successfully loaded {len(class_names)} classes from {yaml_file_path}\")\n",
        "        print(f\"Source images path set to: {train_images_path}\")\n",
        "        print(f\"Source labels path set to: {train_labels_path}\")\n",
        "\n",
        "except Exception as e:\n",
        "    print(f\"Error loading or parsing YAML file: {e}\")\n",
        "\n",
        "# --- 3. RUN ANALYSIS AND ORGANIZATION (only if setup was successful) ---\n",
        "if class_names and os.path.exists(train_images_path) and os.path.exists(train_labels_path):\n",
        "\n",
        "    # --- COUNT CLASS INSTANCES ---\n",
        "    class_counts = Counter()\n",
        "    for filename in os.listdir(train_labels_path):\n",
        "        if filename.endswith('.txt'):\n",
        "            with open(os.path.join(train_labels_path, filename), 'r') as f:\n",
        "                for line in f:\n",
        "                    try:\n",
        "                        class_id = int(line.split()[0])\n",
        "                        class_counts[class_id] += 1\n",
        "                    except (ValueError, IndexError):\n",
        "                        continue\n",
        "\n",
        "    # --- DISPLAY THE RESULTS ---\n",
        "    print(\"\\n--- Instance Counts per Class ---\")\n",
        "    sorted_counts = sorted(class_counts.items())\n",
        "    for class_id, count in sorted_counts:\n",
        "        class_name = class_names[class_id]\n",
        "        print(f\"{class_name} (ID: {class_id}): {count} instances\")\n",
        "\n",
        "    # --- VISUALIZE THE RESULTS ---\n",
        "    class_ids = [item[0] for item in sorted_counts]\n",
        "    counts = [item[1] for item in sorted_counts]\n",
        "    names_for_plot = [class_names[id] for id in class_ids]\n",
        "\n",
        "    plt.figure(figsize=(12, 8))\n",
        "    plt.bar(names_for_plot, counts, color='skyblue')\n",
        "    plt.xlabel('Insect Class')\n",
        "    plt.ylabel('Number of Instances')\n",
        "    plt.title('Class Distribution in Training Set')\n",
        "    plt.xticks(rotation=45, ha='right')\n",
        "    plt.tight_layout()\n",
        "    plt.show()\n",
        "\n",
        "    # --- ORGANIZE AND SAVE DATASET TO GOOGLE DRIVE ---\n",
        "    DRIVE_OUTPUT_DIR = '/content/drive/MyDrive/Organized_Paddy_Insects_Classification/Dataset_Before_Class_Balance'\n",
        "    print(f\"\\n--- Starting to organize dataset into: {DRIVE_OUTPUT_DIR} ---\")\n",
        "\n",
        "    os.makedirs(DRIVE_OUTPUT_DIR, exist_ok=True)\n",
        "    for name in class_names:\n",
        "        os.makedirs(os.path.join(DRIVE_OUTPUT_DIR, name), exist_ok=True)\n",
        "    print(\"Created class folders in Google Drive.\")\n",
        "\n",
        "    label_files = [f for f in os.listdir(train_labels_path) if f.endswith('.txt')]\n",
        "\n",
        "    print(\"\\nCopying images to their respective class folders...\")\n",
        "    for label_file in tqdm(label_files):\n",
        "        present_class_ids = set()\n",
        "        with open(os.path.join(train_labels_path, label_file), 'r') as f:\n",
        "            for line in f:\n",
        "                 try:\n",
        "                    class_id = int(line.split()[0])\n",
        "                    present_class_ids.add(class_id)\n",
        "                 except (ValueError, IndexError):\n",
        "                    continue\n",
        "\n",
        "        base_name = os.path.splitext(label_file)[0]\n",
        "        source_image_path = None\n",
        "        for ext in ['.jpg', '.jpeg', '.png']:\n",
        "            # This line now works because train_images_path is correctly defined\n",
        "            potential_path = os.path.join(train_images_path, base_name + ext)\n",
        "            if os.path.exists(potential_path):\n",
        "                source_image_path = potential_path\n",
        "                break\n",
        "\n",
        "        if source_image_path is None:\n",
        "            print(f\"Warning: Could not find a matching image for label file: {label_file}\")\n",
        "            continue\n",
        "\n",
        "        for class_id in present_class_ids:\n",
        "            class_name = class_names[class_id]\n",
        "            destination_folder = os.path.join(DRIVE_OUTPUT_DIR, class_name)\n",
        "            shutil.copy(source_image_path, destination_folder)\n",
        "\n",
        "    print(f\"\\n✅ Successfully organized and copied images to Google Drive!\")\n",
        "\n",
        "else:\n",
        "    print(\"\\nCould not proceed. Check the path to your data.yaml file or the existence of your train directories.\")"
      ],
      "metadata": {
        "colab": {
          "base_uri": "https://localhost:8080/",
          "height": 1000
        },
        "id": "qkqSWvm1z-tJ",
        "outputId": "d92890c3-640d-4d7d-a042-8cdda2eacd65"
      },
      "execution_count": 6,
      "outputs": [
        {
          "output_type": "stream",
          "name": "stdout",
          "text": [
            "Successfully loaded 11 classes from /content/Paddy-Field-Insects-All-Classes-2/data.yaml\n",
            "Source images path set to: /content/Paddy-Field-Insects-All-Classes-2/train/images\n",
            "Source labels path set to: /content/Paddy-Field-Insects-All-Classes-2/train/labels\n",
            "\n",
            "--- Instance Counts per Class ---\n",
            "Armyworm (ID: 0): 1193 instances\n",
            "Brown_Planthopper (ID: 1): 781 instances\n",
            "Crickets (ID: 2): 632 instances\n",
            "Dragonfly (ID: 3): 148 instances\n",
            "Mealybug (ID: 4): 905 instances\n",
            "Rice_Bug (ID: 5): 88 instances\n",
            "Rice_Gall_Midge (ID: 6): 657 instances\n",
            "Rice_Water_Weevil (ID: 7): 938 instances\n",
            "Thrips (ID: 8): 1077 instances\n",
            "Wasps (ID: 9): 1696 instances\n",
            "Whorl_Maggot (ID: 10): 672 instances\n"
          ]
        },
        {
          "output_type": "display_data",
          "data": {
            "text/plain": [
              "<Figure size 1200x800 with 1 Axes>"
            ],
            "image/png": "[encoded data removed]"
          },
          "metadata": {}
        },
        {
          "output_type": "stream",
          "name": "stdout",
          "text": [
            "\n",
            "--- Starting to organize dataset into: /content/drive/MyDrive/Organized_Paddy_Insects_Classification/Dataset_Before_Class_Balance ---\n",
            "Created class folders in Google Drive.\n",
            "\n",
            "Copying images to their respective class folders...\n"
          ]
        },
        {
          "output_type": "stream",
          "name": "stderr",
          "text": [
            "100%|██████████| 5345/5345 [00:41<00:00, 128.85it/s]"
          ]
        },
        {
          "output_type": "stream",
          "name": "stdout",
          "text": [
            "\n",
            "✅ Successfully organized and copied images to Google Drive!\n"
          ]
        },
        {
          "output_type": "stream",
          "name": "stderr",
          "text": [
            "\n"
          ]
        }
      ]
    },
    {
      "cell_type": "markdown",
      "source": [
        "### Balancing the classes"
      ],
      "metadata": {
        "id": "DIT4ywZ54n-d"
      }
    },
    {
      "cell_type": "code",
      "source": [
        "import cv2\n",
        "import yaml\n",
        "import albumentations as A\n",
        "import random\n",
        "import numpy as np\n",
        "\n",
        "# ==============================================================================\n",
        "# --- 1. CONFIGURATION ---\n",
        "# ==============================================================================\n",
        "# Path to the root directory of your downloaded Roboflow dataset\n",
        "SOURCE_DATASET_DIR = '/content/Paddy-Field-Insects-All-Classes-2'\n",
        "\n",
        "# Path where the new, balanced dataset will be created\n",
        "OUTPUT_DATASET_DIR = '/content/Paddy_Insects_Class_Balanced'\n",
        "\n",
        "# The target number of instances for each class\n",
        "TARGET_INSTANCES = 1000\n",
        "# ==============================================================================\n",
        "\n",
        "\n",
        "# ==============================================================================\n",
        "# --- V3 - FINAL, ROBUST FUNCTION ---\n",
        "# This function now fully sanitizes bounding boxes to prevent all coordinate errors.\n",
        "# ==============================================================================\n",
        "def get_yolo_labels(label_path):\n",
        "    \"\"\"\n",
        "    Reads a YOLO label file, performs robust sanitization, and returns a\n",
        "    list of clean bounding boxes.\n",
        "    \"\"\"\n",
        "    sanitized_labels = []\n",
        "    if not os.path.exists(label_path):\n",
        "        return sanitized_labels\n",
        "\n",
        "    with open(label_path, 'r') as f:\n",
        "        for line in f:\n",
        "            try:\n",
        "                parts = line.strip().split()\n",
        "                if len(parts) < 5:\n",
        "                    continue\n",
        "\n",
        "                class_id = int(parts[0])\n",
        "                x_c, y_c, w, h = [float(p) for p in parts[1:]]\n",
        "\n",
        "                # --- START OF ROBUST FIX ---\n",
        "                # 1. Convert YOLO to min/max format\n",
        "                x_min = x_c - w / 2\n",
        "                y_min = y_c - h / 2\n",
        "                x_max = x_c + w / 2\n",
        "                y_max = y_c + h / 2\n",
        "\n",
        "                # 2. Clip min/max values to be within [0.0, 1.0]\n",
        "                x_min = np.clip(x_min, 0.0, 1.0)\n",
        "                y_min = np.clip(y_min, 0.0, 1.0)\n",
        "                x_max = np.clip(x_max, 0.0, 1.0)\n",
        "                y_max = np.clip(y_max, 0.0, 1.0)\n",
        "\n",
        "                # 3. Convert sanitized min/max back to YOLO\n",
        "                new_w = x_max - x_min\n",
        "                new_h = y_max - y_min\n",
        "                new_x_c = x_min + new_w / 2\n",
        "                new_y_c = y_min + new_h / 2\n",
        "\n",
        "                # 4. Only add if the box still has a valid area\n",
        "                if new_w > 1e-6 and new_h > 1e-6: # Check for a tiny positive area\n",
        "                    sanitized_labels.append([class_id, new_x_c, new_y_c, new_w, new_h])\n",
        "                # --- END OF ROBUST FIX ---\n",
        "\n",
        "            except (ValueError, IndexError):\n",
        "                print(f\"Warning: Skipping malformed line in {label_path}: '{line.strip()}'\")\n",
        "                continue\n",
        "    return sanitized_labels\n",
        "\n",
        "def save_yolo_labels(label_path, labels):\n",
        "    \"\"\"Saves a list of bounding boxes to a YOLO format label file.\"\"\"\n",
        "    with open(label_path, 'w') as f:\n",
        "        for label in labels:\n",
        "            class_id = int(label[0])\n",
        "            coords = ' '.join([f'{c:.6f}' for c in label[1:]])\n",
        "            f.write(f'{class_id} {coords}\\n')\n",
        "\n",
        "# --- 2. DEFINE AUGMENTATION PIPELINE ---\n",
        "transform = A.Compose([\n",
        "    A.HorizontalFlip(p=0.5),\n",
        "    A.RandomBrightnessContrast(p=0.3),\n",
        "    A.Rotate(limit=25, p=0.4, border_mode=cv2.BORDER_CONSTANT),\n",
        "    A.Blur(blur_limit=3, p=0.2),\n",
        "    A.GaussNoise(p=0.2)\n",
        "], bbox_params=A.BboxParams(format='yolo', label_fields=['class_labels'], min_visibility=0.1))\n",
        "\n",
        "\n",
        "print(\"--- Starting Dataset Balancing Script (v3 - Robust) ---\")\n",
        "\n",
        "# --- 3. SETUP DIRECTORIES ---\n",
        "if os.path.exists(OUTPUT_DATASET_DIR):\n",
        "    shutil.rmtree(OUTPUT_DATASET_DIR)\n",
        "    print(f\"Removed existing output directory: {OUTPUT_DATASET_DIR}\")\n",
        "\n",
        "for split in ['train', 'valid', 'test']:\n",
        "    os.makedirs(os.path.join(OUTPUT_DATASET_DIR, split, 'images'), exist_ok=True)\n",
        "    os.makedirs(os.path.join(OUTPUT_DATASET_DIR, split, 'labels'), exist_ok=True)\n",
        "\n",
        "print(\"Created new dataset directory structure.\")\n",
        "\n",
        "# --- 4. LOAD CONFIG and ANALYZE DATASET ---\n",
        "yaml_path = os.path.join(SOURCE_DATASET_DIR, 'data.yaml')\n",
        "with open(yaml_path, 'r') as file:\n",
        "    data_config = yaml.safe_load(file)\n",
        "    class_names = data_config['names']\n",
        "\n",
        "source_train_images = os.path.join(SOURCE_DATASET_DIR, 'train/images')\n",
        "source_train_labels = os.path.join(SOURCE_DATASET_DIR, 'train/labels')\n",
        "\n",
        "image_files = [f for f in os.listdir(source_train_images) if f.endswith(('.jpg', '.jpeg', '.png'))]\n",
        "\n",
        "class_instance_counts = Counter()\n",
        "images_per_class = {i: [] for i in range(len(class_names))}\n",
        "\n",
        "print(\"Analyzing source training data...\")\n",
        "for img_file in tqdm(image_files):\n",
        "    label_file = os.path.splitext(img_file)[0] + '.txt'\n",
        "    labels = get_yolo_labels(os.path.join(source_train_labels, label_file))\n",
        "    if not labels:\n",
        "        continue\n",
        "\n",
        "    for label in labels:\n",
        "        class_id = int(label[0])\n",
        "        class_instance_counts[class_id] += 1\n",
        "        if img_file not in images_per_class[class_id]:\n",
        "            images_per_class[class_id].append(img_file)\n",
        "\n",
        "print(\"\\n--- Initial Class Distribution ---\")\n",
        "for i, name in enumerate(class_names):\n",
        "    print(f\"{name} (ID {i}): {class_instance_counts.get(i, 0)} instances\")\n",
        "\n",
        "# --- 5. COPY VALID & TEST SETS ---\n",
        "print(\"\\nCopying validation and test sets...\")\n",
        "shutil.copytree(os.path.join(SOURCE_DATASET_DIR, 'valid', 'images'), os.path.join(OUTPUT_DATASET_DIR, 'valid', 'images'), dirs_exist_ok=True)\n",
        "shutil.copytree(os.path.join(SOURCE_DATASET_DIR, 'valid', 'labels'), os.path.join(OUTPUT_DATASET_DIR, 'valid', 'labels'), dirs_exist_ok=True)\n",
        "shutil.copytree(os.path.join(SOURCE_DATASET_DIR, 'test', 'images'), os.path.join(OUTPUT_DATASET_DIR, 'test', 'images'), dirs_exist_ok=True)\n",
        "shutil.copytree(os.path.join(SOURCE_DATASET_DIR, 'test', 'labels'), os.path.join(OUTPUT_DATASET_DIR, 'test', 'labels'), dirs_exist_ok=True)\n",
        "\n",
        "\n",
        "# --- 6. PERFORM BALANCING ON TRAINING SET ---\n",
        "print(\"\\n--- Starting Balancing Process ---\")\n",
        "dest_train_images = os.path.join(OUTPUT_DATASET_DIR, 'train/images')\n",
        "dest_train_labels = os.path.join(OUTPUT_DATASET_DIR, 'train/labels')\n",
        "\n",
        "final_image_list = set()\n",
        "final_class_counts = Counter()\n",
        "\n",
        "# First pass: Undersample by selecting images to keep\n",
        "print(\"Step 1: Undersampling classes with >\", TARGET_INSTANCES, \"instances...\")\n",
        "images_to_process = sorted(image_files)\n",
        "random.shuffle(images_to_process)\n",
        "\n",
        "for img_file in tqdm(images_to_process):\n",
        "    label_file = os.path.splitext(img_file)[0] + '.txt'\n",
        "    labels = get_yolo_labels(os.path.join(source_train_labels, label_file))\n",
        "\n",
        "    can_add = True\n",
        "    for label in labels:\n",
        "        class_id = int(label[0])\n",
        "        if class_instance_counts.get(class_id, 0) > TARGET_INSTANCES and final_class_counts[class_id] >= TARGET_INSTANCES:\n",
        "            can_add = False\n",
        "            break\n",
        "\n",
        "    if can_add:\n",
        "        final_image_list.add(img_file)\n",
        "        shutil.copy(os.path.join(source_train_images, img_file), os.path.join(dest_train_images, img_file))\n",
        "        shutil.copy(os.path.join(source_train_labels, label_file), os.path.join(dest_train_labels, label_file))\n",
        "        for label in labels:\n",
        "            final_class_counts[int(label[0])] += 1\n",
        "\n",
        "# Second pass: Oversample with augmentation\n",
        "print(\"\\nStep 2: Oversampling classes with <\", TARGET_INSTANCES, \"instances...\")\n",
        "for class_id in range(len(class_names)):\n",
        "    if final_class_counts[class_id] < TARGET_INSTANCES:\n",
        "        num_needed = TARGET_INSTANCES - final_class_counts[class_id]\n",
        "        print(f\"Augmenting class '{class_names[class_id]}'. Need {num_needed} more instances.\")\n",
        "\n",
        "        possible_images = images_per_class[class_id]\n",
        "        if not possible_images:\n",
        "            print(f\"Warning: No source images found for class '{class_names[class_id]}'. Cannot augment.\")\n",
        "            continue\n",
        "\n",
        "        pbar = tqdm(total=num_needed, desc=f\"Augmenting {class_names[class_id]}\")\n",
        "        aug_count = 0\n",
        "        while final_class_counts[class_id] < TARGET_INSTANCES:\n",
        "            img_to_aug = random.choice(possible_images)\n",
        "            img_path = os.path.join(source_train_images, img_to_aug)\n",
        "            label_path = os.path.join(source_train_labels, os.path.splitext(img_to_aug)[0] + '.txt')\n",
        "\n",
        "            image = cv2.imread(img_path)\n",
        "            if image is None:\n",
        "                continue\n",
        "            image = cv2.cvtColor(image, cv2.COLOR_BGR2RGB)\n",
        "\n",
        "            labels = get_yolo_labels(label_path)\n",
        "            if not labels:\n",
        "                continue\n",
        "\n",
        "            bboxes = [l[1:] for l in labels]\n",
        "            class_labels = [l[0] for l in labels]\n",
        "\n",
        "            try:\n",
        "                transformed = transform(image=image, bboxes=bboxes, class_labels=class_labels)\n",
        "            except ValueError as e:\n",
        "                print(f\"\\nSkipping augmentation for {img_to_aug} due to error: {e}\")\n",
        "                continue\n",
        "\n",
        "            if transformed['bboxes']:\n",
        "                base_name = os.path.splitext(img_to_aug)[0]\n",
        "                new_img_name = f\"{base_name}_aug_{aug_count}.jpg\"\n",
        "                new_label_name = f\"{base_name}_aug_{aug_count}.txt\"\n",
        "\n",
        "                aug_image = cv2.cvtColor(transformed['image'], cv2.COLOR_RGB2BGR)\n",
        "                cv2.imwrite(os.path.join(dest_train_images, new_img_name), aug_image)\n",
        "\n",
        "                new_labels = [[l] + list(b) for l, b in zip(transformed['class_labels'], transformed['bboxes'])]\n",
        "                save_yolo_labels(os.path.join(dest_train_labels, new_label_name), new_labels)\n",
        "\n",
        "                initial_count = final_class_counts[class_id]\n",
        "                for l in new_labels:\n",
        "                    final_class_counts[int(l[0])] += 1\n",
        "\n",
        "                instances_added = final_class_counts[class_id] - initial_count\n",
        "                if instances_added > 0:\n",
        "                  pbar.update(instances_added)\n",
        "                aug_count += 1\n",
        "        pbar.close()\n",
        "\n",
        "# --- 7. CREATE FINAL YAML and REPORT ---\n",
        "final_yaml_path = os.path.join(OUTPUT_DATASET_DIR, 'data.yaml')\n",
        "data_config['train'] = 'train/images'\n",
        "data_config['val'] = 'valid/images'\n",
        "data_config['test'] = 'test/images'\n",
        "\n",
        "# Make sure all paths in yaml are relative for portability\n",
        "if 'path' in data_config:\n",
        "    del data_config['path']\n",
        "\n",
        "with open(final_yaml_path, 'w') as file:\n",
        "    yaml.dump(data_config, file)\n",
        "\n",
        "print(\"\\n--- Final Class Distribution ---\")\n",
        "for i, name in enumerate(class_names):\n",
        "    print(f\"{name} (ID {i}): {final_class_counts[i]} instances\")\n",
        "\n",
        "print(f\"\\n✅ Successfully created balanced dataset at: {OUTPUT_DATASET_DIR}\")\n",
        "print(f\"You can now train your YOLO model using the new config file: {final_yaml_path}\")"
      ],
      "metadata": {
        "colab": {
          "base_uri": "https://localhost:8080/"
        },
        "id": "YZZHfzCi0thm",
        "outputId": "b7995f2b-2df8-4e5f-cab1-acca96fc1387"
      },
      "execution_count": 8,
      "outputs": [
        {
          "output_type": "stream",
          "name": "stdout",
          "text": [
            "--- Starting Dataset Balancing Script (v3 - Robust) ---\n",
            "Removed existing output directory: /content/Paddy_Insects_Class_Balanced\n",
            "Created new dataset directory structure.\n",
            "Analyzing source training data...\n"
          ]
        },
        {
          "output_type": "stream",
          "name": "stderr",
          "text": [
            " 19%|█▉        | 1038/5345 [00:00<00:00, 10326.09it/s]"
          ]
        },
        {
          "output_type": "stream",
          "name": "stdout",
          "text": [
            "Warning: Skipping malformed line in /content/Paddy-Field-Insects-All-Classes-2/train/labels/WHORL-MAGGOTS_original_whorl-10-jpg_2708a4b3-73e9-46e8-89b6-b1a15dd9d713_jpg.rf.ca6204ac52d2a7c540d9847365ce6c7a.txt: '10 0.2587453125 0.575590625 0.2676296875 0.6005515625 0.278484375 0.60625 0.2835671875 0.60625 0.29373125 0.5865109375 0.2987296875 0.5646687499999999 0.3078125 0.5377375 0.3078125 0.5110718750000001 0.3074765625 0.5022671875 0.288734375 0.48510625 0.2749890625 0.5022671875 0.26249375 0.5225484375 0.25999374999999997 0.5537484375 0.2587453125 0.575590625'\n",
            "Warning: Skipping malformed line in /content/Paddy-Field-Insects-All-Classes-2/train/labels/Image_25_jpg.rf.1bee6e713fbbb70967e561302e351fce.txt: '4 0.79155625 0 0.74858125 0.18460000000000001 0.6878328125000001 0.26984375 0.5075453125 0.38154374999999996 0.47423125 0.44327187500000004 0.4820703125 0.49030312499999995 0.378209375 0.5579109375 0.27630937499999997 0.7342765625000001 0.1724484375 0.8371578124999999 0.14109375 0.9312203125 0.14109375 0.9782515625 0.182246875 0.9929500000000001 0.6741140624999999 0.990009375 0.7622984374999999 0.8224609375 1 0.6215859375 1 0 0.79155625 0'\n",
            "Warning: Skipping malformed line in /content/Paddy-Field-Insects-All-Classes-2/train/labels/WHORL-MAGGOTS_original_whorl-26-jpg_fec77fbd-18d4-4fe5-8c77-e79b0304d433_jpg.rf.b4ec422722c8b6169b9c0939a3fc6c9a.txt: '10 0.3285546875 0.0541875 0.31406718749999996 0.067075 0.2760390625 0.13408437499999998 0.259740625 0.15728124999999998 0.252496875 0.20625 0.2434421875 0.2500640625 0.245253125 0.288725 0.248875 0.348003125 0.25611875 0.3892390625 0.266984375 0.4279 0.2724171875 0.48975468749999995 0.286209375 0.5265625 0.30887031249999997 0.5265625 0.32674375 0.5103734375 0.33942031250000004 0.48460000000000003 0.34666406250000004 0.4588265625 0.359340625 0.4150125 0.36296249999999997 0.355734375 0.3647734375 0.314496875 0.37020624999999996 0.2732609375 0.3828828125 0.22171406249999998 0.3937484375 0.18820937499999998 0.41004687500000003 0.1598578125 0.4140625 0.12127812499999999 0.4140625 0.048928125 0.41366875 0.043878125000000004 0.3844515625 0.018106249999999997 0.37020624999999996 0.028415625 0.36296249999999997 0.028415625 0.3430421875 0.038724999999999996 0.3285546875 0.0541875'\n",
            "Warning: Skipping malformed line in /content/Paddy-Field-Insects-All-Classes-2/train/labels/WHORL-MAGGOTS_original_whorl-26-jpg_fec77fbd-18d4-4fe5-8c77-e79b0304d433_jpg.rf.b4ec422722c8b6169b9c0939a3fc6c9a.txt: '10 0.0352484375 0.49163125 0.022571874999999998 0.5277140625000001 0.0098953125 0.5663734375 0.0098953125 0.584415625 0.0435859375 0.5953125 0.1520359375 0.5953125 0.1565796875 0.5947250000000001 0.18917656249999998 0.5895703125 0.205475 0.5895703125 0.2217734375 0.5869921875 0.23125 0.5847453125000001 0.23125 0.46716875 0.230684375 0.4194671875 0.21090781249999999 0.4194671875 0.1602015625 0.4194671875 0.11492968750000002 0.4297765625 0.0750890625 0.4503953125 0.0352484375 0.49163125'\n",
            "Warning: Skipping malformed line in /content/Paddy-Field-Insects-All-Classes-2/train/labels/WHORL-MAGGOTS_original_whorl-26-jpg_fec77fbd-18d4-4fe5-8c77-e79b0304d433_jpg.rf.b4ec422722c8b6169b9c0939a3fc6c9a.txt: '10 0.11453437500000001 0.6573125 0.0819375 0.6753546874999999 0.063828125 0.7191687499999999 0.0529625 0.757828125 0.051151562500000004 0.7939109375 0.06745 0.8531890625 0.092803125 0.8944265625 0.11996718749999999 0.9330859374999999 0.143509375 0.9640140625000001 0.170671875 0.9846328124999999 0.1776890625 0.990625 0.23951250000000002 0.990625 0.26829843750000004 0.9897875 0.2796875 0.925675 0.2796875 0.9045249999999999 0.24310937500000002 0.9021578124999999 0.2014578125 0.8738078125 0.1905921875 0.8274156250000001 0.15256406250000001 0.7346328125 0.1308328125 0.67793125 0.11453437500000001 0.6573125'\n",
            "Warning: Skipping malformed line in /content/Paddy-Field-Insects-All-Classes-2/train/labels/WHORL-MAGGOTS_original_whorl-148-jpg_e129936e-91f9-4a93-b224-e794c70c70f4_jpg.rf.95076e0b723103d0fe6b094202ff8460.txt: '10 0.5130015625000001 0.21947812500000002 0.43640156250000006 0.2629015625 0.357978125 0.3139859375 0.31603125 0.39316874999999996 0.288921875 0.46213437500000004 0.339740625 0.4800140625 0.4509921875 0.48767812499999996 0.5294156250000001 0.4646890625 0.5841296875 0.49023125 0.642490625 0.5745234375 0.700853125 0.689465625 0.7517484375000001 0.73125 0.7549125 0.73125 0.782925 0.6920203125 0.825 0.6429125 0.825 0.598190625 0.824871875 0.5949578125 0.7756296875 0.5183296875 0.744625 0.4519171875 0.706325 0.3267578125 0.6370203125 0.2348046875 0.5130015625000001 0.21947812500000002'\n",
            "Warning: Skipping malformed line in /content/Paddy-Field-Insects-All-Classes-2/train/labels/WHORL-MAGGOTS_original_whorl-145-jpg_3f83f1a1-f79c-4e04-84e5-70e5cb6b142b_jpg.rf.22b2f3d227aee5de957ae72de7a1c9aa.txt: '10 0.399109375 0.552425 0.3821921875 0.659390625 0.44063281249999997 0.6967046875 0.495996875 0.641978125 0.5652015625 0.5549125 0.63440625 0.52755 0.7266796875 0.5300374999999999 0.8297171875 0.5399875 0.8494781250000001 0.5026734375 0.85 0.4667078125 0.85 0.3795578125 0.8081875000000001 0.3384953125 0.720528125 0.27879375 0.6128750000000001 0.29620625 0.5159890625 0.3683453125 0.44217031249999994 0.4628734375 0.399109375 0.552425'\n",
            "Warning: Skipping malformed line in /content/Paddy-Field-Insects-All-Classes-2/train/labels/WHORL-MAGGOTS_original_whorl-26-jpg_70051b04-71e5-4832-9eae-49468ba1f90a_jpg.rf.8e8931dc8950101c992e139204d9d852.txt: '10 0.2841515625 0.12086875 0.296828125 0.0641671875 0.2749328125 0.0048890625 0.17911875 0.0023109375 0.168253125 0.0048890625 0.161009375 0.0126203125 0.15014375 0.020353125 0.12841249999999998 0.048703125 0.09400625 0.09767187499999999 0.072275 0.1517953125 0.046921875 0.19818750000000002 0.0523546875 0.2626203125 0.09299375 0.2953125 0.104865625 0.2953125 0.12841249999999998 0.29354843750000004 0.168253125 0.267775 0.197228125 0.2162296875 0.21352656250000002 0.1724140625 0.2587984375 0.1466421875 0.2841515625 0.12086875'\n",
            "Warning: Skipping malformed line in /content/Paddy-Field-Insects-All-Classes-2/train/labels/WHORL-MAGGOTS_original_whorl-26-jpg_70051b04-71e5-4832-9eae-49468ba1f90a_jpg.rf.8e8931dc8950101c992e139204d9d852.txt: '10 0.0035671875 0.556475 0.006385937499999999 0.5578125 0.0359609375 0.5578125 0.063328125 0.5513203125 0.1086 0.5410109375000001 0.1502515625 0.5332796875 0.2100125 0.49462031250000005 0.2534734375 0.46369218749999996 0.265625 0.43651718749999996 0.265625 0.43373906250000005 0.2534734375 0.39668125 0.2190671875 0.3837953125 0.137575 0.39668125 0.0578953125 0.39668125 0.001896875 0.406990625 0.0035671875 0.556475'\n",
            "Warning: Skipping malformed line in /content/Paddy-Field-Insects-All-Classes-2/train/labels/WHORL-MAGGOTS_original_whorl-26-jpg_70051b04-71e5-4832-9eae-49468ba1f90a_jpg.rf.8e8931dc8950101c992e139204d9d852.txt: '10 0.3026015625 0.5647953125 0.29173593750000004 0.6163421875 0.26819375 0.680775 0.24103124999999997 0.7838671875000001 0.237409375 0.8173734375 0.23559843749999998 0.8560328125 0.23559843749999998 0.902425 0.237409375 0.9436609375 0.25913906249999996 0.9720125 0.28471875 0.9765625 0.2953296875 0.9765625 0.3189 0.9745890625 0.3388203125 0.9565484375000001 0.373228125 0.8611875 0.3750390625 0.8122187500000001 0.3913375 0.7452078125 0.3985796875 0.6962390625 0.4040125 0.629228125 0.41125625 0.5570640625000001 0.4125 0.5393703125 0.4125 0.497078125 0.3985796875 0.47974375 0.3859046875 0.47458906250000005 0.36960625 0.46685781249999997 0.358740625 0.4539703125 0.3351984375 0.48232187499999996 0.3026015625 0.5647953125'\n",
            "Warning: Skipping malformed line in /content/Paddy-Field-Insects-All-Classes-2/train/labels/Image_25_jpg.rf.84bd07a3cb726afae1048dd3bf208e91.txt: '4 0 0 0 0.6215859375 0.040565625 0.5873046875 0.12875 0.4609078125 0.1601046875 0.349209375 0.25808593750000003 0.237509375 0.250246875 0.16696249999999999 0.32079375 0.049384375 0.32827656250000004 0 0 0'\n",
            "Warning: Skipping malformed line in /content/Paddy-Field-Insects-All-Classes-2/train/labels/BA-7-_jpg.rf.298c2f622934146de5d942f4f5f847f7.txt: '8 0.5136718765625 0.7216796890625 0.4179687484375 0.5087890640625 0.431640625 0.5146484375 0.5039062515625 0.6455078125 0.5361328125 0.6855468765625 0.5517578125 0.6875 0.447265625 0.4873046890625 0.6474609359375 0.5546874984375 0.7119140640625 0.5585937484375 0.7548828125 0.546875 0.802734375 0.5009765625 0.828125 0.4501953109375 0.8261718765625 0.3037109359375 0.8144531234375 0.2783203109375 0.7373046890625 0.2265625015625 0.5869140640625 0.208984375 0.3056640640625 0.234375 0.2177734375 0.3457031234375 0.1552734375 0.2851562515625 0.1523437484375 0.3017578125 0.2011718765625 0.3720703109375 0.208984375 0.4306640640625 0.1738281234375 0.5244140640625 0.2353515625 0.46875 0.2792968765625 0.4970703109375 0.2675781234375 0.7763671875 0.2851562515625 0.7216796890625 0.296875 0.5478515625 0.3291015625 0.4765625015625 0.3466796890625 0.4765625015625 0.390625 0.5166015625 0.4394531234375 0.6298828125 0.5087890640625 0.740234375 0.5136718765625 0.7216796890625'\n",
            "Warning: Skipping malformed line in /content/Paddy-Field-Insects-All-Classes-2/train/labels/Image_25_jpg.rf.f8fc4f7571bfdea8c894a91707cd28d4.txt: '4 0.20844374999999998 1 0.1651953125 0.814228125 0.10444687500000001 0.7525000000000001 0.0299796875 0.776015625 0 0.681078125 0 1 0.20844374999999998 1'\n",
            "Warning: Skipping malformed line in /content/Paddy-Field-Insects-All-Classes-2/train/labels/PB-35_png_jpg.rf.1a1fba5c2663086a93ca2c1160fa4217.txt: '5 0.1800564546875 0.834180459375 0.1921615484375 0.8702499875 0.2647920078125 0.834180459375 0.3844977515625 0.7328421625 0.4450231171875 0.700207778125 0.4598181859375 0.906319515625 0.27286203593749997 0.8874259656250001 0.2365468578125 0.9698707125 0.2580669671875 0.9853289890625 0.27824208906250003 0.9166250765624999 0.4773033328125 0.9286483406249999 0.46519824062500004 0.6761614484375 0.5297585687499999 0.64352719375 0.5929740125 0.6830318 0.5593488078125 0.8032636468750001 0.6198741734375 0.85479158125 0.6292891890625001 0.8410508765625 0.587593959375 0.782652525 0.617184096875 0.67787915 0.5418636609374999 0.6229158765625 0.5647288609375 0.578258359375 0.657534340625 0.5834112703125001 0.6817445265625001 0.6263512171875 0.7463048546875 0.636656646875 0.7449599703125 0.616045525 0.6992296734375001 0.610892678125 0.6723295125 0.5696703703125 0.5835588921875 0.5542119640625 0.6077690796875 0.5404713265625001 0.6185291859375 0.5250127875 0.8027953609375 0.5301656343750001 0.99647645 0.60058725 1 0.5490593140625 0.868700678125 0.5181424359375 0.7543749875 0.5009664593750001 0.6333242546875 0.49753137968749994 0.6373592171875 0.4786377 0.6212191609375 0.470049709375 0.6413942828125 0.4374153265625 0.6642593812500001 0.342947446875 0.693849621875 0.200386840625 0.6992296734375001 0.0990485421875 0.696539596875 0.006298334375000001 0.6777094625 0.0011454874999999999 0.6723295125 0.1316828953125 0.6669494593749999 0.269090753125 0.630634178125 0.4030633703125 0.6198741734375 0.40993378593749996 0.6333242546875 0.3669938421875 0.6212191609375 0.3635586328125 0.5983540640625 0.42195691875 0.6212191609375 0.4339801171875 0.5324486453125 0.509554446875 0.48537336093750005 0.5507767546875 0.4826832828125 0.4030633703125 0.3966028453125 0.4460033140625 0.385842740625 0.4013457984375 0.3737376453125 0.404780940625 0.385842740625 0.48207284218749996 0.4746132546875 0.42195691875 0.4773033328125 0.5627999531250001 0.43829807656249997 0.60058725 0.2352018703125 0.4837904796875 0.1437412765625 0.602304690625 0.0832159109375 0.55936474375 0.0709243390625 0.5911922671875 0.0738008953125 0.5937167 0.1343262609375 0.636656646875 0.2298218171875 0.5147073578125 0.42081293124999997 0.6177632265625 0.3212823078125 0.69849020625 0.2204066984375 0.7774996796875 0.1800564546875 0.834180459375'\n",
            "Warning: Skipping malformed line in /content/Paddy-Field-Insects-All-Classes-2/train/labels/WHORL-MAGGOTS_original_whorl-52-jpg_cf5722a0-c016-4940-aa4f-73b35ea7a158_jpg.rf.2cb56d1cda92f45d4808974e959d210b.txt: '10 0.42522031250000003 0.4908625 0.404015625 0.6011562500000001 0.3797828125 0.6893921875 0.4459234375 0.7203125 0.44901093750000004 0.7203125 0.5009484375000001 0.6746859374999999 0.5706203125 0.584 0.626659375 0.530078125 0.700875 0.5202734375 0.803865625 0.5349796875 0.8477890625000001 0.5202734375 0.86875 0.483728125 0.86875 0.4721 0.8568765624999999 0.40262656249999995 0.7978078125 0.326646875 0.71450625 0.294784375 0.572134375 0.31439218750000003 0.5054921875 0.3560578125 0.42522031250000003 0.4908625'\n",
            "Warning: Skipping malformed line in /content/Paddy-Field-Insects-All-Classes-2/train/labels/PB-6_jpg.rf.1e368323835cde4d50e324c93d0ca536.txt: '5 0.4532495609375 0.6768336734375 0.4543760640625 0.72262098125 0.42959257031250003 0.812616871875 0.4791594703125 0.8252477921875 0.4960572703125 0.7257788015625 0.4769064625 0.6389407921875 0.5366119734375 0.5678914640625 0.547877175 0.5315772562500001 0.582799365625 0.518946275 0.559142375 0.646835165625 0.5816727765625 0.72262098125 0.6379987765624999 0.7573562796875 0.6515170703125001 0.8710351609375 0.6864392593749999 0.85840411875 0.6717944625000001 0.71788443125 0.60082366875 0.64525619375 0.6165949656249999 0.5284196156250001 0.6515170703125001 0.5110519046875 0.7866994734375 0.6342040609375 0.813735884375 0.5899956015625001 0.877947665625 0.6010476734375 0.877947665625 0.5110519046875 0.804723865625 0.5347350140625 0.7821934625 0.5631547343750001 0.6729208812499999 0.4889476453125 0.9590570749999999 0.42263492343750003 0.9410326859374999 0.3484278390625 0.908363671875 0.3373757671875 0.9455388687499999 0.296325009375 0.936526671875 0.26474753125 0.8734414828125001 0.30264052656249996 0.7202348609375 0.18422494843749998 0.644757965625 0.3594799671875 0.5625219703125001 0.35474335468749996 0.544497665625 0.3847419859375 0.5107020640625 0.35474335468749996 0.5095755609375 0.3531645078125 0.474653371875 0.3926363546875 0.5107020640625 0.43210820781250003 0.4836655671875 0.440002578125 0.3969235578125 0.4163194640625 0.2335781515625 0.32000811875 0.169366459375 0.2615897671875 0.0403228953125 0.20390142187500002 0.0353105578125 0.2426433265625 0.10177525624999999 0.3042193796875 0.1749990578125 0.3373757671875 0.3158140640625 0.4305292984375 0.402556159375 0.4794744265625 0.37101356406249997 0.5094729953125 0.4205804625 0.5947322125000001 0.3856583578125 0.619994175 0.4104417640625 0.681570284375 0.4532495609375 0.6768336734375'\n",
            "Warning: Skipping malformed line in /content/Paddy-Field-Insects-All-Classes-2/train/labels/WHORL-MAGGOTS_original_whorl-129-jpg_a9551bc1-ff20-46c1-93cc-c2aa0a57faaa_jpg.rf.0737b008ff1cde0f2f2574b0a074c1fd.txt: '10 0.12268593750000001 0.5877578125 0.1626703125 0.7480640625 0.294621875 0.8498453125 0.4161671875 0.9296875 0.455596875 0.9296875 0.597175 0.9236359375 0.686475 0.8676562499999999 0.8015625 0.5090421875 0.8015625 0.5024609375 0.77044375 0.36384062500000003 0.7211296875000001 0.31549375 0.5638546875 0.66155 0.1546734375 0.511421875 0.1254515625 0.5903031249999999 0.12268593750000001 0.5877578125'\n",
            "Warning: Skipping malformed line in /content/Paddy-Field-Insects-All-Classes-2/train/labels/PB-32_jpg.rf.8c567ecc9a32df12b4f4014d02e9f277.txt: '5 0.316086896875 0.4067994234375 0.481093096875 0.511501359375 0.4933155875 0.571784259375 0.273307478125 0.5590931328125001 0.1541363234375 0.601925678125 0.0105199484375 0.593993715625 0 0.609857640625 0.1571919453125 0.6288943625 0.23969516093749998 0.593993715625 0.48414871875000004 0.6130304375 0.49942706562500006 0.6495174515625 0.1877486390625 0.817675084375 0.288585825 0.9318952906250001 0.148025075 0.9604504031250001 0.1571919453125 0.9810735515625 0.3405321140625 0.9461728468749999 0.24580640625 0.8351253765625 0.52387228125 0.6606222109375001 0.52387228125 0.7700833125 0.5330393812499999 0.9192042234375 0.6247094671875 0.9810735515625 0.661377409375 0.9763143265625001 0.719435175 0.9112722625 0.704156828125 0.787533603125 0.6705445078125 0.6780725624999999 0.8386063296874999 0.7605649828125001 0.8049940140625 0.9207905921874999 0.9547218624999999 0.9588640343750001 0.9547218624999999 0.9414137421875 0.8477734328125001 0.9128586296875 0.8997197187499999 0.7494601624999999 0.6644332640624999 0.6511038796874999 0.688878478125 0.5892345515625 0.67665575625 0.5670250921875 0.7988825328125 0.533710815625 0.704156828125 0.606684903125 0.701101203125 0.6352399546874999 0.8141608796875 0.6130304375 0.8141608796875 0.5844755078125 0.746936246875 0.606684903125 0.8447175765624999 0.5241924859375 0.8355507078125 0.495637434375 0.6460990578125 0.5416427781250001 0.6185982203125 0.5003966 0.786660040625 0.421076978125 0.691934103125 0.40838585156249996 0.731657896875 0.37189877656250003 0.725546653125 0.3227206359375 0.6430434359375 0.414731384375 0.70721245 0.4321817375 0.6063754984374999 0.481359878125 0.5666517015625 0.43852727187499996 0.572763178125 0.3576212828125 0.5849856703125 0.3147886734375 0.6430434359375 0.1926364453125 0.6980455812499999 0.0800026078125 0.7224907968750001 0.002269353125 0.694989959375 0.0006829859375 0.67360013125 0.0609658859375 0.5910971484374999 0.211673165625 0.5330393812499999 0.3465165234375 0.520816659375 0.41949055 0.5024826874999999 0.41155858749999996 0.4933155875 0.3814171671875 0.3802559109375 0.27354249531249997 0.23052805781250002 0.1751861234375 0.120524003125 0.1291807484375 0.08476510625 0.1412698421875 0.358866315625 0.3036839140625 0.45970326874999995 0.39728109218749996 0.4933155875 0.4861190421875 0.30080855 0.360794078125 0.09302293125 0.2560921421875 0.09302293125 0.2925791546875 0.316086896875 0.4067994234375'\n",
            "Warning: Skipping malformed line in /content/Paddy-Field-Insects-All-Classes-2/train/labels/PB-5_jpg.rf.6df69a0fcb52aebafdaf9425cd00daed.txt: '5 0.287697528125 0.572257146875 0.2191952796875 0.628541434375 0.23333069062499998 0.6802623125 0.22245732343750002 0.7502373484375 0.1974485453125 0.8430304171874999 0.198535865625 0.8917087140625 0.23985469531249998 0.9053995203125 0.23550533125 0.8095641015625 0.2583393859375 0.7076437515625 0.2909594875 0.6224566765625 0.3301036765625 0.5859478953124999 0.4149158921875 0.54487553125 0.44318662968750006 0.5250999671875001 0.4736320921875 0.5250999671875001 0.425789259375 0.6772197890625 0.50190283125 0.7669705062500001 0.5040775546875 0.8719332062499999 0.5345229328125 0.82325479375 0.535610253125 0.7289405515625 0.4725447734375 0.6528806390625 0.5051648734375 0.534227190625 0.5508329843750001 0.5327059578125 0.6345579625 0.7852248390625001 0.8052698796875 0.7608856890625 0.8400646203125 0.8004368203125001 0.8585493124999999 0.7837036640624999 0.7965711515625 0.7091649265625 0.649780609375 0.71372856875 0.580191125 0.5250999671875001 0.860723953125 0.5327059578125 0.8542000312500001 0.42622208281249996 0.7008854859375 0.401882934375 0.5965011765625 0.3988405265625 0.6595666578125 0.25280552031250003 0.8183178874999999 0.3592893953125 0.8770340031250001 0.2847506609375 0.860723953125 0.2512842875 0.812881203125 0.3151746234375 0.6476059703125 0.1782667859375 0.5595317109375 0.39427694375 0.481243415625 0.388192128125 0.4551474015625 0.32734420000000003 0.5290862484375001 0.3060474578125 0.54865834375 0.2223815578125 0.5247368859375 0.19804234999999998 0.4986408703125 0.24824187968750003 0.41165393124999994 0.3227806171875 0.4638460453125 0.41101010000000004 0.41926525468750003 0.42470090781250003 0.34641372812500004 0.3699377359375 0.2822608453125 0.3562469875 0.20832191249999998 0.2786658453125 0.13112102187500002 0.17674563906250002 0.0887148734375 0.0885160953125 0.06370617656250001 0.07482531875000001 0.0668478015625 0.08789954531250001 0.0908895953125 0.17066079375 0.1419943890625 0.257369103125 0.2104966375 0.33799259843749996 0.26595079374999997 0.3927557109375 0.32466699375 0.4459976484375 0.34641372812500004 0.4612096296875 0.3496756875 0.49011242031249996 0.287697528125 0.572257146875'\n",
            "Warning: Skipping malformed line in /content/Paddy-Field-Insects-All-Classes-2/train/labels/BA-59-_JPG_jpg.rf.0dc9a4ef624e3ea6a32311a0352d9b82.txt: '8 0.71875 0.7646484375 0.6796874984375 0.7138671875 0.6738281234375 0.6630859359375 0.8007812515625 0.6611328125 0.6787109359375 0.6425781234375 0.650390625 0.5673828125 0.630859375 0.4501953109375 0.5605468765625 0.3291015625 0.4462890640625 0.2363281234375 0.3740234375 0.197265625 0.3349609359375 0.1953125015625 0.322265625 0.2080078125 0.3212890640625 0.2460937484375 0.2548828125 0.2480468765625 0.1796874984375 0.2998046890625 0.150390625 0.3544921875 0.1523437484375 0.4150390640625 0.1923828125 0.4765625015625 0.4033203109375 0.5507812515625 0.4648437484375 0.6025390640625 0.4677734375 0.6113281234375 0.4169921875 0.630859375 0.3115234375 0.65625 0.3085937484375 0.6689453109375 0.4853515625 0.6386718765625 0.53125 0.7607421875 0.5292968765625 0.8369140640625 0.5390625015625 0.8408203109375 0.546875 0.7646484375 0.5712890640625 0.7109374984375 0.5908203109375 0.734375 0.6015625015625 0.6982421875 0.6474609359375 0.6699218765625 0.65625 0.7080078125 0.7138671875 0.7890625015625 0.71875 0.7646484375'\n",
            "Warning: Skipping malformed line in /content/Paddy-Field-Insects-All-Classes-2/train/labels/PB-11_jpg.rf.e1cbe5d8eed67049170c69e548a1b3ba.txt: '5 0.6269465546874999 1 0.5986758156249999 0.9045485359375001 0.65521729375 0.648246290625 0.5345229328125 0.50265443125 0.5312609734375 0.44805751875000005 0.5954137734375 0.381327909375 0.60085045625 0.463223334375 0.6030251796874999 0.52843644375 0.6476059703125 0.5966826125 0.656304696875 0.52691976875 0.625859234375 0.4541238109375 0.6204225515624999 0.33583046250000004 0.597588496875 0.329764171875 0.543221659375 0.37829473281250003 0.5377849765625 0.3570626265625 0.5638810750000001 0.28729984218750004 0.606287140625 0.30853200625 0.6356452828125 0.27213402656249996 0.6280338750000001 0.2418023953125 0.5954137734375 0.2615180015625 0.5682303546874999 0.2251200234375 0.5334356125 0.2979159234375 0.526911609375 0.28729984218750004 0.5453963 0.2054044453125 0.5812784453125001 0.15232409062500002 0.65521729375 0.143224625 0.7084968093749999 0.17203966875 0.7335055875000001 0.199338125 0.7476409984375 0.17203966875 0.686750075 0.115926140625 0.64325660625 0.0992437671875 0.5769290828125 0.115926140625 0.5377849765625 0.1401915078125 0.5203876046875 0.1932718625 0.5095142375 0.255451653125 0.5008155109375 0.25090192031249997 0.50190283125 0.178106046875 0.4790687765625 0.11744278593749999 0.45405999843749995 0.0977271796875 0.41926525468750003 0.079528246875 0.3888197953125 0.1144095828125 0.37685910625 0.1356417171875 0.401867884375 0.1659733484375 0.40108693124999995 0.15971168593750001 0.43557530624999996 0.1265422234375 0.4671080890625 0.159907 0.483418140625 0.228153196875 0.48450545937499995 0.285783284375 0.4486233140625 0.2054044453125 0.43013862343750003 0.20237129843749999 0.417090615625 0.2342194890625 0.44536135468750004 0.2615180015625 0.4671080890625 0.3024656578125 0.4714574515625 0.33583046250000004 0.456234721875 0.36161235937499997 0.457322040625 0.3873942578125 0.3877324734375 0.347963103125 0.3931691578125 0.41772588749999995 0.4127412515625 0.49658813906250004 0.39425647812500003 0.522369978125 0.3877324734375 0.555734784375 0.32575431250000003 0.6133648703125 0.35185041250000004 0.7180090781249999 0.40078056406250007 0.828719459375 0.40404252500000004 0.8484350656249999 0.3681604625 0.90606509375 0.3953438796875 0.93184705 0.4464486734375 0.86966723125 0.3931691578125 0.7392411265625001 0.36272377968749997 0.6330804765625 0.4616714046875 0.5451187015625 0.44753599531250005 0.6436965 0.44318662968750006 0.730141659375 0.46602076875 0.8211365515625 0.47689413593749996 0.85753453125 0.5073395140625 0.85753453125 0.5312609734375 0.7619898484375 0.5377849765625 0.6163980453125 0.5345229328125 0.5769669484375 0.6149858671875 0.6725116890625 0.5780164015625 0.8802832546875001 0.574754440625 0.9272972578124999 0.601937859375 1 0.6269465546874999 1'\n",
            "Warning: Skipping malformed line in /content/Paddy-Field-Insects-All-Classes-2/train/labels/PB-48_jpg.rf.664545a25aac133930bb75bb537a9440.txt: '5 1 0.45606149531250006 0.880954309375 0.3976085171875 0.6993596359375001 0.416566246875 0.7072550546875 0.40550756562499995 0.697780575 0.39128925312499996 0.6740943140625 0.3897094671875 0.6946224546875001 0.3454748015625 0.7325203765625 0.3707517375 0.7830511421875 0.30597955625 0.7719976015625 0.287021825 0.727783196875 0.337575753125 0.6993596359375001 0.324937225 0.7909465625000001 0.1527379546875 0.8383190859375 0.0042358312500000005 0.8133385593750001 0.002371075 0.814632825 0.0026560453125 0.7656811203125 0.1322005 0.7340995578125 0.2001322515625 0.697780575 0.2949208734375 0.6772524343749999 0.3138786046875 0.6567244109375 0.340735325 0.620405428125 0.39128925312499996 0.5982982265625 0.40550756562499995 0.579349265625 0.43710376406250007 0.5130277796875 0.4513220171875 0.46881337656250005 0.470279746875 0.4388107546875 0.3470545890625 0.41512449218749997 0.3470545890625 0.34880300625 0.5066154234375 0.37248926875 0.516094259375 0.41670355312499996 0.3928691 0.42617815312499996 0.4529018625 0.44354805468749997 0.4844980609375 0.43249439375 0.500296159375 0.3803846890625 0.5413711921875 0.1403638296875 0.3644324734375 0.11194038749999999 0.3723315234375 0.156154671875 0.685133928125 0.1166775671875 0.6930329765625001 0.0393025421875 0.685133928125 0.0393025421875 0.7183099703125 0.11194038749999999 0.71357049375 0.1719455125 0.694612884375 0.137205709375 0.41340661562500003 0.187736353125 0.42604508281250003 0.35511936718750003 0.5603290421875 0.3630147890625 0.5666481875 0.170366453125 0.6993521796875 0.026669821875 0.8336360203125001 0.06456786406250001 0.8905091515624999 0.1403638296875 0.8604928609375 0.329853925 0.7025119328125 0.43565263437499996 0.6503780984375 0.5035531796875 0.91578620625 0.25879513906249996 0.9489621906249999 0.254057959375 0.9947767015625001 0.2761651609375 0.9947767015625001 0.2698488015625 0.963180503125 0.5382931015625 0.92210535 0.45618065625000004 0.6298405828125 0.5114486 0.5982443843749999 0.6551453515625 0.704091596875 0.5067114203124999 0.76570426875 0.5114486 0.797300465625 0.5240813203125 0.797300465625 0.5209232015625 0.7767628890625 0.693043275 0.7025119328125 0.5382931015625 0.5871857031250001 0.560400303125 0.557169290625 0.5967191671875 0.5239933078125001 0.802000103125 0.48133842812500005 0.79252574375 0.45606149531250006 0.6377753296875001 0.4844980609375 0.67093619375 0.47343937968749994 0.6788316125 0.4465825984375 0.8477936875 0.4307845 1 0.470279746875 1 0.45606149531250006'\n",
            "Warning: Skipping malformed line in /content/Paddy-Field-Insects-All-Classes-2/train/labels/WHORL-MAGGOTS_original_whorl-10-jpg_bfd3ccc2-a7dd-4eaa-ad8e-998528149478_jpg.rf.6d26b636c9ad454c63ab2f175100fedb.txt: '10 0.2581421875 0.5720078125 0.263821875 0.5947 0.2734390625 0.609375 0.2761453125 0.609375 0.2933578125 0.601790625 0.296653125 0.5975359375 0.296875 0.595571875 0.296875 0.5256062499999999 0.2910859375 0.513859375 0.2740453125 0.49116875000000004 0.25587031250000003 0.4925859375 0.24791875000000002 0.513859375 0.2490546875 0.5393875 0.2581421875 0.5720078125'\n",
            "Warning: Skipping malformed line in /content/Paddy-Field-Insects-All-Classes-2/train/labels/WHORL-MAGGOTS_original_whorl-25-jpg_ecd8fafe-0f37-48db-be46-d381468af709_jpg.rf.c95f8c6176daa71529e3f757704db020.txt: '10 0.26831875 0.247253125 0.3099703125 0.350346875 0.3407546875 0.47921250000000004 0.357053125 0.546221875 0.376453125 0.553125 0.3793671875 0.553125 0.39689375 0.52818125 0.40594843750000004 0.489521875 0.40625 0.4723453125 0.40625 0.24295624999999998 0.40413750000000004 0.2008625 0.36791874999999996 0.12611875 0.2848625 0.02818125 0.2592640625 0.046221875 0.242965625 0.13385156250000002 0.26831875 0.247253125'\n",
            "Warning: Skipping malformed line in /content/Paddy-Field-Insects-All-Classes-2/train/labels/WHORL-MAGGOTS_original_whorl-25-jpg_ecd8fafe-0f37-48db-be46-d381468af709_jpg.rf.c95f8c6176daa71529e3f757704db020.txt: '10 0.045787499999999995 0.4333359375 0.0046875 0.44354375 0.0046875 0.478478125 0.005946875 0.5853984375 0.0726375 0.6 0.103821875 0.6 0.1580640625 0.598284375 0.2268796875 0.5957078124999999 0.24317812499999997 0.5853984375 0.25 0.56840625 0.25 0.5625578124999999 0.2486109375 0.5467375 0.22325781249999999 0.5158109375000001 0.217825 0.5055015625 0.18160625 0.459109375 0.10735937499999999 0.446221875 0.045787499999999995 0.4333359375'\n",
            "Warning: Skipping malformed line in /content/Paddy-Field-Insects-All-Classes-2/train/labels/WHORL-MAGGOTS_original_whorl-25-jpg_ecd8fafe-0f37-48db-be46-d381468af709_jpg.rf.c95f8c6176daa71529e3f757704db020.txt: '10 0.1467 0.7989453125 0.123159375 0.8788421874999999 0.094184375 0.9071921875 0.065209375 0.8968828125 0.05072187500000001 0.9097703125000001 0.052532812500000005 0.95100625 0.068478125 0.9984375 0.08464374999999999 0.9984375 0.1738640625 0.9896671874999999 0.193784375 0.9613156249999999 0.21913749999999999 0.9123468750000001 0.237246875 0.863378125 0.24086875000000002 0.8041 0.253125 0.7467843750000001 0.253125 0.741684375 0.24630156250000002 0.690696875 0.2426796875 0.6700796875 0.2173265625 0.654615625 0.193784375 0.6675015625 0.16118749999999998 0.7293578125 0.1467 0.7989453125'\n",
            "Warning: Skipping malformed line in /content/Paddy-Field-Insects-All-Classes-2/train/labels/Image_25_jpg.rf.d8a94929522754fa62936d45a7a29498.txt: '4 0 0 0 0.6215859375 0.2377015625 0.8224609375 0.3258859375 0.990009375 0.817753125 0.9929500000000001 0.8589062500000001 0.9782515625 0.8589062500000001 0.9312203125 0.8275515625000001 0.8371578124999999 0.7236921875 0.7342765625000001 0.621790625 0.5579109375 0.5179296875 0.49030312499999995 0.52576875 0.44327187500000004 0.4924546875 0.38154374999999996 0.3121671875 0.26984375 0.25141874999999997 0.18460000000000001 0.20844374999999998 0 0 0'\n",
            "Warning: Skipping malformed line in /content/Paddy-Field-Insects-All-Classes-2/train/labels/PB-33_jpg.rf.07562ad4a6594dea9832d06af26f4d1d.txt: '5 0.39296260156249996 0.2622196203125 0.3956301625 0.28553955000000003 0.42230615625 0.31052522968749996 0.4916638015625 0.42212795 0.4849948046875 0.4554421921875 0.41830481875 0.4254593875 0.4316428140625 0.482093559375 0.39429638125 0.46377075312500005 0.4049668203125 0.5037478671875 0.44364693125 0.510410678125 0.43697793125000006 0.4671021875 0.47965958437499995 0.480427871875 0.4849948046875 0.5353963578125 0.34494583125 0.6086877125 0.4103019375 0.7469418625 0.368954165625 0.7919160375 0.37295560625 0.8185674046875 0.43697793125000006 0.751938921875 0.3702879453125 0.6170162718750001 0.4916638015625 0.5653791625 0.49833280156250004 0.6336733921875 0.49699892031250004 0.7635989828125 0.5343453546875 0.8502159593749999 0.54768335 0.8518816453125 0.5703579046875 0.7302847421875 0.5796945640625 0.6536619499999999 0.5570199078125 0.5653791625 0.671726765625 0.6786476296874999 0.6663915453125 0.806907471875 0.6863985421875001 0.848550271875 0.6863985421875001 0.8718702671875 0.7090730953125 0.880198828125 0.699736540625 0.8335588375 0.6823971015625 0.801910284375 0.6903998796875 0.658659075 0.5583537875 0.5353963578125 0.5623551265625 0.507079303125 0.643716890625 0.51707355 0.693067540625 0.5770391578125 0.73975053125 0.5787049078125001 0.73841665 0.5537192281250001 0.6944013203125 0.5370621078125 0.6517197703125001 0.4904221203125 0.5610213484375 0.47709643437500004 0.5543523484375 0.43711938437500003 0.5997015593749999 0.3588309046875 0.5997015593749999 0.3988079578125 0.6303788921875 0.36049659218749996 0.627711334375 0.345505221875 0.60903811875 0.375488025 0.6077043375 0.3205195421875 0.5490171296875 0.420462265625 0.5450157921875001 0.3521680328125 0.5943663406249999 0.20391969687499997 0.6637238859375 0.110639784375 0.759757528125 0.037348525 0.721077415625 0.024022778124999998 0.5703579046875 0.143954028125 0.5250087953125 0.3205195421875 0.5076693578125 0.3155223546875 0.45698492812499997 0.26388530781249997 0.3582838296875 0.198922509375 0.2689191875 0.143954028125 0.183555984375 0.1256311875 0.16621665000000002 0.138956903125 0.162215209375 0.143954028125 0.1619999703125 0.146250003125 0.16621665000000002 0.1689397078125 0.200895421875 0.160611146875 0.3329416140625 0.2189110671875 0.43564415468749995 0.2822081125 0.5050018 0.36049659218749996 0.5050018 0.39381083281249996 0.43697793125000006 0.295533859375 0.39296260156249996 0.2622196203125'\n",
            "Warning: Skipping malformed line in /content/Paddy-Field-Insects-All-Classes-2/train/labels/WHORL-MAGGOTS_original_whorl-53-jpg_04b319ad-3f00-47fd-9866-d7d4e96f950f_jpg.rf.debd30ddca516e84b43f7c7ba81dd083.txt: '10 0.7682828125000001 0.51541875 0.6501453125000001 0.5031640625 0.56684375 0.45904531249999997 0.47899843750000004 0.36100625000000003 0.435075 0.272771875 0.383578125 0.28747656250000003 0.34571406250000003 0.385515625 0.37600625 0.48110468749999996 0.46385156250000004 0.6208109375 0.5335234375 0.711496875 0.6243984375 0.758065625 0.6886359375 0.7640625 0.7055234375 0.7640625 0.8016046875 0.7090453125 0.8743046874999999 0.6624765625 0.9074109375000001 0.6306140625000001 0.88490625 0.525221875 0.86673125 0.4835546875 0.7682828125000001 0.51541875'\n",
            "Warning: Skipping malformed line in /content/Paddy-Field-Insects-All-Classes-2/train/labels/WHORL-MAGGOTS_original_whorl-129-jpg_d6a0829a-5068-4e52-860b-e13dd119bbd2_jpg.rf.3dd5e00e8802ae86703b7c5bd24c182f.txt: '10 0.1575109375 0.350984375 0.13125 0.51391875 0.13125 0.517571875 0.250809375 0.8777015625000001 0.41428750000000003 0.940625 0.4175140625 0.940625 0.7546203125 0.778465625 0.7879421875 0.658871875 0.796875 0.5784703125 0.796875 0.5763078125 0.7958359374999999 0.5799921875 0.7839437499999999 0.5316453125 0.5960125 0.5647249999999999 0.38409218749999996 0.658871875 0.204159375 0.32045 0.1575109375 0.350984375'\n",
            "Warning: Skipping malformed line in /content/Paddy-Field-Insects-All-Classes-2/train/labels/PB-40_jpg.rf.00b031f3f7a198b14581bf32f8b12a88.txt: '5 0.4102095125 0.36287855 0.3499474765625 0.35008589375 0.32343221718750004 0.30371250625 0.2752225875 0.3165051625 0.318611328125 0.3644776703125 0.37646291875000004 0.3740721453125 0.4511878078125 0.4492290859375 0.439135396875 0.47961169843749996 0.33789506875 0.43483730937500004 0.255938846875 0.4508281453125 0.1739824421875 0.4220446546875 0.147467184375 0.43163919218749996 0.2270129609375 0.4844089359375 0.33789506875 0.45562544374999997 0.42708299062500005 0.50679613125 0.42708299062500005 0.52118796875 0.434314325 0.5659621734375 0.1812137734375 0.6091375640625001 0.20290814531249998 0.7162760546875 0.1354147734375 0.7386632484375 0.140235665625 0.7626495015625 0.2583492921875 0.7354650078125 0.2390653671875 0.6235292203125 0.4439562890625 0.58834936875 0.4198514734375 0.7562531421875 0.46324021406250004 0.8426036796874999 0.5138602859375 0.8442027375000001 0.542785990625 0.8154191859375001 0.5476070625 0.68429438125 0.542785990625 0.594745665625 0.7476769125 0.6858934421875 0.8007076140624999 0.8458017984374999 0.8537381328125001 0.9017697218749999 0.882663834375 0.8825807687499999 0.8199913546875001 0.8330092015625 0.7766027984375 0.6810963234375 0.5524279515625 0.5691604765625 0.5572490265625001 0.5355796234375 0.7259827265625 0.5147914874999999 0.7838341328125 0.6091375640625001 0.9043583890625 0.6107365015624999 0.89230598125 0.581953009375 0.8199913546875001 0.5851513125000001 0.7308036140625 0.48760711562500003 0.5572490265625001 0.5035979515625 0.5572490265625001 0.50199883125 0.5451966171875 0.46841810156249997 0.6319739125 0.3932611625 0.6970568375 0.40605381874999996 0.7428560234375 0.37087396875 0.7428560234375 0.348486834375 0.6825939875 0.38686480156249997 0.6247423953125 0.3644776703125 0.5548383968749999 0.42364377343750004 0.5548383968749999 0.3948602203125 0.5958166921875 0.32929781875 0.6729520234375 0.2605372375 0.8368648343749999 0.23175374531249998 0.8344543921875 0.20776749218749999 0.6657206890625 0.241348221875 0.5909956171874999 0.28292437187499997 0.518681175 0.378869384375 0.49698699062499996 0.3676758484375 0.49216591562499995 0.378869384375 0.4584191421875 0.33409505781250004 0.39333621406249997 0.2765280734375 0.2704016984375 0.2045693140625 0.166750925 0.154997715625 0.09443648125000001 0.140605940625 0.0909638015625 0.1544000015625 0.09443648125000001 0.16299313437500002 0.1619300328125 0.1901775359375 0.2752225875 0.236550984375 0.3981571046875 0.31490604218749996 0.46565065624999996 0.38206756406250003 0.44636673125000004 0.42524283125 0.4102095125 0.36287855'\n",
            "Warning: Skipping malformed line in /content/Paddy-Field-Insects-All-Classes-2/train/labels/WHORL-MAGGOTS_original_whorl-128-jpg_73f213c5-ea12-40f7-9460-20940788ab61_jpg.rf.b35ddf8d71f4215142fea8e7e1b89b7b.txt: '10 0.12061718749999999 0.389028125 0.1367140625 0.4551859375 0.13794375 0.46027500000000005 0.20192031250000003 0.4755421875 0.5511234375 0.3432265625 0.7334015625 0.6734375 0.7351156249999999 0.6734375 0.7643765625000001 0.66129375 0.7890625 0.554634375 0.7890625 0.5432328125 0.7763718749999999 0.3712171875 0.6590828125 0.0964078125 0.471153125 0.060784375 0.224578125 0.18292187499999998 0.14860625 0.3025140625 0.12061718749999999 0.389028125'\n",
            "Warning: Skipping malformed line in /content/Paddy-Field-Insects-All-Classes-2/train/labels/WHORL-MAGGOTS_original_whorl-24-jpg_f72355e4-450c-4bf4-b382-34ea1a4b5a9d_jpg.rf.51e9dde253c9a5742727876a8a7d940e.txt: '10 0 0.5749765625000001 0.02216875 0.5749765625000001 0.0873609375 0.5723984375 0.161609375 0.5723984375 0.2159359375 0.5723984375 0.2431 0.5646671875 0.25625 0.5436124999999999 0.25625 0.509078125 0.2340453125 0.48477031249999997 0.172475 0.45126406250000006 0.07830625 0.4306453125 0.0060109375 0.4409546875 0 0.528559375 0 0.5749765625000001'\n",
            "Warning: Skipping malformed line in /content/Paddy-Field-Insects-All-Classes-2/train/labels/WHORL-MAGGOTS_original_whorl-24-jpg_f72355e4-450c-4bf4-b382-34ea1a4b5a9d_jpg.rf.51e9dde253c9a5742727876a8a7d940e.txt: '10 0.136478125 0.6826187499999999 0.114746875 0.6465375 0.100259375 0.6284953125 0.08215 0.6310734375 0.0694734375 0.6568453125 0.0658515625 0.6800421875 0.0658515625 0.7212796875 0.0694734375 0.7676703125000001 0.08939375000000001 0.844990625 0.08939375000000001 0.901690625 0.1256125 0.9506609375 0.149153125 0.976434375 0.1700125 0.99375 0.176284375 0.99375 0.2668640625 0.9815875000000001 0.2671875 0.9723671875000001 0.2671875 0.9222828125 0.2632421875 0.901690625 0.2234015625 0.8991140625 0.20167031249999998 0.86303125 0.18537187500000002 0.79344375 0.1545859375 0.7393203125000001 0.136478125 0.6826187499999999'\n",
            "Warning: Skipping malformed line in /content/Paddy-Field-Insects-All-Classes-2/train/labels/WHORL-MAGGOTS_original_whorl-24-jpg_f72355e4-450c-4bf4-b382-34ea1a4b5a9d_jpg.rf.51e9dde253c9a5742727876a8a7d940e.txt: '10 0.3497484375 0.304634375 0.3678578125 0.24535625 0.38415468750000004 0.2015421875 0.39683125 0.15257343750000002 0.39139843750000003 0.0804078125 0.3678578125 0.031439062499999997 0.3352609375 0.028862500000000003 0.3135296875 0.039171875 0.2899875 0.0700984375 0.27006718749999997 0.11906874999999999 0.2555796875 0.1706140625 0.2410921875 0.24020156250000002 0.23384999999999997 0.3226765625 0.22660624999999998 0.3896859375 0.2392828125 0.4644296875 0.2410921875 0.485046875 0.24286249999999998 0.5203125 0.246925 0.5203125 0.2555796875 0.5185531250000001 0.26463437500000003 0.49535625000000005 0.27885468750000003 0.4618515625 0.3026640625 0.40515 0.3243953125 0.358759375 0.3497484375 0.304634375'\n",
            "Warning: Skipping malformed line in /content/Paddy-Field-Insects-All-Classes-2/train/labels/WHORL-MAGGOTS_original_whorl-24-jpg_078889f3-1d3e-4be9-8f08-939b036d7a6b_jpg.rf.ebcf96dffcbb0582000c6ea7f21fcdcb.txt: '10 0.2990140625 0.96875 0.2996546875 0.96875 0.3482109375 0.9098828125 0.3952953125 0.7861703125 0.4061609375 0.6366859375 0.3808078125 0.502665625 0.362725 0.4640625 0.36264375000000004 0.4640625 0.3301015625 0.4975109375 0.3192359375 0.6160687499999999 0.3065609375 0.7346250000000001 0.2703421875 0.8557593750000001 0.2594765625 0.9150375000000001 0.2990140625 0.96875'\n",
            "Warning: Skipping malformed line in /content/Paddy-Field-Insects-All-Classes-2/train/labels/WHORL-MAGGOTS_original_whorl-24-jpg_078889f3-1d3e-4be9-8f08-939b036d7a6b_jpg.rf.ebcf96dffcbb0582000c6ea7f21fcdcb.txt: '10 0 0.55390625 0.0329359375 0.5578125 0.045828125 0.5578125 0.1235265625 0.5356953125 0.1995859375 0.502190625 0.2321828125 0.4583765625 0.2328125 0.4458203125 0.2328125 0.42217031250000003 0.1597453125 0.4145625 0.065578125 0.4171390625 0.0023359375000000003 0.4171390625 0 0.50195 0 0.55390625'\n",
            "Warning: Skipping malformed line in /content/Paddy-Field-Insects-All-Classes-2/train/labels/WHORL-MAGGOTS_original_whorl-24-jpg_078889f3-1d3e-4be9-8f08-939b036d7a6b_jpg.rf.ebcf96dffcbb0582000c6ea7f21fcdcb.txt: '10 0.068846875 0.05157031250000001 0.061603125 0.0928078125 0.119553125 0.1005390625 0.1358515625 0.149509375 0.17931406249999998 0.26806562500000003 0.20104375000000002 0.34022968750000004 0.24568125 0.3453125 0.2463609375 0.3453125 0.2765625 0.29474374999999997 0.2765625 0.22047656249999997 0.24450625 0.149509375 0.1956109375 0.046415625 0.1613 0.0000234375 0.11593125 0.0000234375 0.07766406249999999 0.0022937499999999998 0.068846875 0.05157031250000001'\n",
            "Warning: Skipping malformed line in /content/Paddy-Field-Insects-All-Classes-2/train/labels/PB-56_png_jpg.rf.b0935134521ab29da196f49fdcc36d54.txt: '5 0.265912103125 0.5631010921875 0.20124298437500002 0.6054297875 0.2066319921875 0.633648896875 0.27669011875 0.5866170281249999 0.43836281250000003 0.6132684328125 0.5084211453124999 0.5489915078125 0.5650065453125 0.581913853125 0.551533821875 0.6618681265624999 0.486864703125 0.69322270625 0.486864703125 0.7449576312499999 0.5272828765625001 0.7433899265624999 0.5272828765625001 0.7057644078124999 0.5919519953125 0.6634357125 0.6000355078124999 0.583481678125 0.6027302156250001 0.600726553125 0.6323701703125 0.608565196875 0.64045368125 0.643055246875 0.6512319015625 0.71517075625 0.6350646734375001 0.8013958499999999 0.6135082296875 0.87037595 0.583868278125 0.93935605 0.5730900578125 0.9926588593749999 0.6000355078124999 0.9973619734374999 0.6431483906250001 0.8625373046875 0.6700938390625 0.7904217953125 0.67817735 0.730848046875 0.675482846875 0.6634357125 0.6566211125 0.622674903125 0.707817303125 0.643055246875 0.7051227984375 0.6164038421875 0.8129045937500001 0.6555970671875 0.9961337296874999 0.6885194125 0.9961337296874999 0.6618681265624999 0.864100990625 0.647758421875 0.691650075 0.5944556734375 0.6889555703125 0.5678043875000001 0.6620101218750001 0.564668796875 0.61889744375 0.5019596390625 0.5973410015625 0.4815791734375 0.7967373656250001 0.49098552343749996 0.7320682484375001 0.3906509046875 0.78865365 0.389083140625 0.7859591453125 0.37027044062500003 0.6997337921875 0.38751543593750004 0.7536246890625 0.475308234375 0.5811737734375 0.46903735468749996 0.5407556015625 0.42200548437499996 0.6889555703125 0.22917483125000002 0.5407556015625 0.1304078875 0.5757847671875 0.0786728125 0.5488393171875 0.0802406078125 0.5084211453124999 0.1445174421875 0.6620101218750001 0.23387800625000002 0.5111156484375 0.414166840625 0.470697475 0.38281225937499996 0.4114173640625 0.3122644546875 0.298246559375 0.24014888750000002 0.23357744062500002 0.1915493125 0.19046476406249999 0.1946847515625 0.182381046875 0.224471596875 0.3683046875 0.378109084375 0.40602835625000006 0.4439536546875 0.1338793609375 0.44552141875 0.1527410953125 0.2668002921875 0.0234030625 0.232310240625 0.017508356250000003 0.2592156875 0.012624842187499999 0.2668002921875 0.10423940937500001 0.2762067015625 0.0988501953125 0.4737405296875 0.42489008906250003 0.45492776875 0.47608648281250004 0.53331421875 0.41950108124999996 0.5944556734375 0.265912103125 0.5631010921875'\n",
            "Warning: Skipping malformed line in /content/Paddy-Field-Insects-All-Classes-2/train/labels/BA-12-_jpg.rf.ba412115ad8d85ff9cadb8733a3688ef.txt: '8 0.3641775859375 0.23974457500000002 0.4098123671875 0.2413188765625 0.4224013140625 0.25548780625 0.40194430781249996 0.29327157812500004 0.35945681875 0.30586615 0.329558159375 0.30586615 0.2996594984375 0.31216340468750003 0.194227515625 0.20983241718749998 0.19265380625 0.20825811718749998 0.2461566515625 0.313737765625 0.24458306406250002 0.34837287968749997 0.23042052812499997 0.39402820781250003 0.20838992968749998 0.4444065515625 0.19737469218749998 0.49793355625 0.1863594515625 0.545163240625 0.18950662812500002 0.5939673484375 0.19580110312500001 0.652217184375 0.19894828125 0.702595528125 0.19894828125 0.7655683843750001 0.211537228125 0.8206696859375 0.22569976249999998 0.899385828125 0.28549696406249997 0.938743903125 0.29179143750000003 0.915129059375 0.30910115 0.8694737921875 0.3358526328125 0.8852170203125 0.43656373281249994 0.9135547624999999 0.47905133749999995 0.8694737921875 0.47905133749999995 0.811223771875 0.488492990625 0.74825085625 0.5341277718749999 0.79705484375 0.551437484375 0.8269670031249999 0.5577319593750001 0.85215614375 0.598645859375 0.8915142171875001 0.65214870625 0.9135547624999999 0.7025042546875 0.9025345484375 0.70565143125 0.8584534578125 0.7276821499999999 0.8647507750000001 0.763875284375 0.8899399171875 0.7859057625 0.8867913218749999 0.81895171875 0.8553048640625001 0.8362613109374999 0.8143724906250001 0.8378350203125 0.7624197859375 0.8346878437499999 0.7136158015625 0.8331141328125 0.6837036421875 0.82996695625 0.6333254171875 0.8142308328125001 0.570352384375 0.7953475328125 0.5073794671875 0.7717433437500001 0.4475552109375 0.751286334375 0.401899821875 0.7213875562500001 0.35467013281250004 0.693062725 0.318460721875 0.67103200625 0.296420178125 0.6348389937500001 0.252339146875 0.6033667453125 0.2413188765625 0.608087509375 0.20825811718749998 0.660016765625 0.1657513875 0.7213875562500001 0.0964812484375 0.67103200625 0.1232446890625 0.633265284375 0.170474375 0.5734680828125 0.211406775 0.5608791359375 0.19723784687499998 0.49026162187500005 0.206964390625 0.47433045468749996 0.2208526890625 0.45229985624999997 0.22557564531250002 0.40509148125000005 0.2208526890625 0.35001504687499996 0.20983241718749998 0.274481725 0.192514890625 0.2870705515625 0.21298107656249998 0.3641775859375 0.23974457500000002'\n",
            "Warning: Skipping malformed line in /content/Paddy-Field-Insects-All-Classes-2/train/labels/PB-19_jpg.rf.44dfaafafa74c6f20b598a8792f90b36.txt: '5 0.3530041296875 0.553070325 0.28742571093749997 0.588708865625 0.1573801859375 0.6708323296875001 0.1840561984375 0.697173834375 0.3085441390625 0.6026543249999999 0.44748160937500003 0.5515209703124999 0.49527613437499995 0.5515209703124999 0.529732609375 0.57786235625 0.49083011875000004 0.6475898375 0.5608546390625 0.7033717984375001 0.5641890859375 0.7653517812499999 0.604203146875 0.7622528281250001 0.59419963125 0.7018223203125 0.5308440937500001 0.6351938515625 0.5619661203125 0.57786235625 0.5808615828125 0.580961365625 0.664224065625 0.735911265625 0.7664820953125 0.712668771875 0.8142766203124999 0.7374608578124999 0.8131650515625 0.7111192953125001 0.786489125 0.6723818046875001 0.6764505468750001 0.7018223203125 0.6097606453125 0.5685653234375 0.6419940703125 0.57786235625 0.7197991390625 0.5933573515624999 0.79093505625 0.58406031875 0.8064961546875 0.5546198609374999 0.7898236578125 0.5174318484375 0.7197991390625 0.497288484375 0.6331021234375 0.3593828796875 0.5841961171875 0.4724963953125 0.5541856562499999 0.477144884375 0.539736125 0.42601140937500004 0.5664121359375 0.38727391875 0.5641890859375 0.30669992968750004 0.523063628125 0.3097989390625 0.521952146875 0.376427409375 0.49972215000000003 0.4213628625 0.5197290953125 0.48799139062499997 0.4730461390625 0.494189353125 0.44748160937500003 0.49263987968749995 0.394129671875 0.45700139999999995 0.2474116515625 0.3500859046875 0.1762757328125 0.2850069109375 0.147499975 0.32403100937499996 0.148488240625 0.32839288906249997 0.148488240625 0.3299424234375 0.2829796953125 0.424461875 0.359673196875 0.4817933703125 0.448593178125 0.525179346875 0.42414013125 0.528278475 0.3530041296875 0.553070325'\n",
            "Warning: Skipping malformed line in /content/Paddy-Field-Insects-All-Classes-2/train/labels/WHORL-MAGGOTS_original_whorl-24-jpg_2c82f525-6b3c-4569-ad66-9f8a87c8d009_jpg.rf.524d0dd2ab8544577a5cbc95c86f73c9.txt: '10 0.2609375 0.3917921875 0.2789453125 0.4814953125 0.3066484375 0.5046875 0.31089218750000003 0.5046875 0.33870625 0.44283593750000005 0.349571875 0.3526296875 0.35681562499999997 0.22891875 0.3803578125 0.156753125 0.3875 0.07796875 0.3875 0.076696875 0.3583796875 0.0304640625 0.3024875 0.07170156250000001 0.28075625 0.17221718749999998 0.262646875 0.25726875 0.2609375 0.38382499999999997 0.2609375 0.3917921875'\n",
            "Warning: Skipping malformed line in /content/Paddy-Field-Insects-All-Classes-2/train/labels/WHORL-MAGGOTS_original_whorl-24-jpg_2c82f525-6b3c-4569-ad66-9f8a87c8d009_jpg.rf.524d0dd2ab8544577a5cbc95c86f73c9.txt: '10 0 0.5444421875 0.01429375 0.5775015625 0.0812984375 0.572346875 0.1555453125 0.572346875 0.1920890625 0.578125 0.20459999999999998 0.578125 0.215625 0.443265625 0.215625 0.44089375000000003 0.1627890625 0.438325 0.0704328125 0.4460578125 0.017915624999999998 0.49245 0 0.5434453125 0 0.5444421875'\n",
            "Warning: Skipping malformed line in /content/Paddy-Field-Insects-All-Classes-2/train/labels/WHORL-MAGGOTS_original_whorl-24-jpg_2c82f525-6b3c-4569-ad66-9f8a87c8d009_jpg.rf.524d0dd2ab8544577a5cbc95c86f73c9.txt: '10 0.1756140625 1 0.2244984375 0.930428125 0.2607171875 0.8092937499999999 0.265625 0.7254640625000001 0.265625 0.7154499999999999 0.2317421875 0.6469234375 0.2063890625 0.67011875 0.16654843749999998 0.73970625 0.1448171875 0.8531093750000001 0.09954531250000001 0.8995 0.061515625 0.9149640625 0.0597046875 0.9536250000000001 0.07435312499999999 1 0.1756140625 1'\n",
            "Warning: Skipping malformed line in /content/Paddy-Field-Insects-All-Classes-2/train/labels/Image_26_jpg.rf.793835c03a7de81eec8267d2244f6d66.txt: '4 0.7641 0 0.765625 0.0518625 0.791015625 0.090303125 0.837890625 0.10428124999999999 0.85546875 0.12874375 0.8515625 0.29648281249999997 0.86328125 0.359384375 0.880859375 0.41180312499999994 0.9296875 0.45723281250000003 0.955078125 0.41879218749999997 0.978515625 0.42578125 0.998046875 0.397825 1 0.3894375 1 0 0.7641 0'\n",
            "Warning: Skipping malformed line in /content/Paddy-Field-Insects-All-Classes-2/train/labels/WHORL-MAGGOTS_original_whorl-25-jpg_fe0e1611-69e3-4d68-94cb-225dad44ad8e_jpg.rf.aeee5c19affc6cfc6dd09db39882b972.txt: '10 0.208425 1 0.2995359375 0.9925906250000001 0.34662031249999997 0.868878125 0.355675 0.77351875 0.365625 0.683828125 0.365625 0.6560453125000001 0.36291875 0.5982609375 0.34662031249999997 0.5080546874999999 0.316090625 0.4384671875 0.250640625 0.48485781250000004 0.22891093749999997 0.62145625 0.21985625 0.7657859375 0.1836375 0.8663015625 0.1546875 0.96158125 0.1546875 0.96171875 0.1714984375 1 0.208425 1'\n",
            "Warning: Skipping malformed line in /content/Paddy-Field-Insects-All-Classes-2/train/labels/Image_25_jpg.rf.3e730006411c82247c09473b9b2b2d86.txt: '4 1 0.681078125 0.9770703125000001 0.6084671875 0.8555734375 0.4967671875 0.8555734375 0.29100625 0.8046218749999999 0.26161093750000003 0.7438734375 0.117578125 0.591021875 0.12345625 0.536153125 0.011757812500000001 0.449928125 0.011757812500000001 0.38330000000000003 0.21751874999999998 0.2970765625 0.21751874999999998 0.1363875 0.011757812500000001 0.1618625 0.10875937499999999 0.1540234375 0.296884375 0.261803125 0.42328124999999994 0.308834375 0.37625000000000003 0.334309375 0.4321 0.30295625 0.6437406250000001 0.402896875 0.6643171875 0.5126375000000001 0.564375 0.5106765625 0.6025875 0.5283140625 0.5702546875000001 0.583184375 0.68783125 0.6262953125 0.6349218750000001 0.7046812499999999 0.68783125 0.82421875 0.9259281250000001 0.7987437500000001 0.9935359375000001 0.7595500000000001 0.9994140625 0.6596093749999999 0.9200484375 0.6717234375000001 1 1 1 1 0.681078125'\n",
            "Warning: Skipping malformed line in /content/Paddy-Field-Insects-All-Classes-2/train/labels/WHORL-MAGGOTS_original_whorl-148-jpg_84e11602-b763-4ca2-8f09-d36a45913fb2_jpg.rf.1e5ccc4b02002a6dad8305e344ae624a.txt: '10 0.4548671875 0.388328125 0.38920937499999997 0.2963734375 0.36002968750000003 0.291265625 0.2834296875 0.3117 0.2546875 0.37208125000000003 0.2546875 0.37365624999999997 0.3126109375 0.4598484375 0.35638125 0.595225 0.4366296875 0.7025046875000001 0.5314671875 0.753590625 0.6828421875 0.7995671875 0.817803125 0.7663609375 0.896228125 0.6973953125000001 0.9375 0.61651875 0.9375 0.6105765625 0.9308796875 0.533921875 0.8688703125 0.505825 0.7667375 0.5237046875 0.6554859375000001 0.526259375 0.5241718750000001 0.48539062499999996 0.4548671875 0.388328125'\n",
            "Warning: Skipping malformed line in /content/Paddy-Field-Insects-All-Classes-2/train/labels/Image_25_jpg.rf.2cc5f99bf1e67c1d8127189db3d93c76.txt: '4 0.20844374999999998 1 0.1651953125 0.814228125 0.10444687500000001 0.7525000000000001 0.0299796875 0.776015625 0 0.681078125 0 1 0.20844374999999998 1'\n",
            "Warning: Skipping malformed line in /content/Paddy-Field-Insects-All-Classes-2/train/labels/PB-58_jpg.rf.c2fba14712c2080e0f611f7972c74307.txt: '5 0.4626781515625 0.595925684375 0.5049961046875 0.613962778125 0.450923159375 0.73858376875 0.5191020578125001 0.8058134671875001 0.5073470671875 0.9107574484375001 0.5320325296874999 0.8796021843749999 0.5379100265625001 0.8008942921875001 0.45915161875 0.728745296875 0.5273306046874999 0.613962778125 0.559069046875 0.6074038203125001 0.5132245609375 0.7500619625 0.534383584375 0.7861365234375 0.601387 0.833689278125 0.609615546875 0.9123971750000001 0.6248969828125001 0.9156767453124999 0.6190194859375 0.815651934375 0.5355590640625 0.7500619625 0.5884565265624999 0.620521925 0.61549304375 0.6123231796875 0.7013044296875 0.833689278125 0.7953443609375 0.73858376875 0.8623477796874999 0.6844720515625 0.9399307968749999 0.7107081421875 0.9411063687500001 0.691031009375 0.8635233515625 0.6582360234375 0.84471529375 0.6533169156249999 0.71423499375 0.804173740625 0.6354764937499999 0.6106833296875 0.7941689734375 0.602484584375 0.887033334375 0.564770296875 0.8811558375 0.5319753109375001 0.882331409375 0.5319753109375001 0.8658743140625 0.505739471875 0.6542844624999999 0.5139382171875 0.7318674796875 0.3417644109375 0.9222983109375 0.4729443578125 0.992828259375 0.412273621875 0.9787223046875001 0.3925966171875 0.9199473484375 0.4335903484375 0.721287878125 0.3007706796875 0.631949959375 0.5073791328125 0.56729750625 0.5090188578125 0.5390855984375 0.4417890984375 0.607264496875 0.45162763281249996 0.6366519765625 0.474584084375 0.662513009375 0.3991556375 0.6507580203125001 0.40571466093749997 0.6366519765625 0.4581865890625 0.6143174734375 0.4303109015625 0.5108736015625001 0.4204723671875 0.546138575 0.505739471875 0.48853909843750004 0.5385344578125 0.4744331421875 0.527056075 0.453274121875 0.5368946078125 0.3721646625 0.44670839687499997 0.346303715625 0.307329703125 0.34865467968749997 0.08924301875 0.3251446953125 0.0925225 0.3169162359375 0.235180703125 0.3192672 0.32044768437500004 0.327495746875 0.3925966171875 0.339250740625 0.43850964687499994 0.346303715625 0.474584084375 0.44504566562500003 0.5631306984375 0.44034364843749996 0.572969046875 0.3521812125 0.591006325 0.276949246875 0.6320000609374999 0.21582332499999998 0.6533169156249999 0.14294232499999998 0.7123477406250001 0.086518415625 0.7615402828125 0.038322878125 0.8402481749999999 0.0206903921875 0.902558703125 0.0218659625 0.904198425 0.019388925 0.9048400328125 0.0312699015625 0.9222356421875 0.060657381249999996 0.848446925 0.134713865625 0.7566209859375 0.21582332499999998 0.6844720515625 0.30163471249999996 0.6483975515625 0.3745157125 0.6221615234375 0.4180091484375 0.595925684375 0.4626781515625 0.595925684375'\n",
            "Warning: Skipping malformed line in /content/Paddy-Field-Insects-All-Classes-2/train/labels/WHORL-MAGGOTS_original_whorl-145-jpg_b6afb5a5-b20b-4e9c-bfb6-06f381d340fd_jpg.rf.3bd419c24cc485e6f8152f4cb8892af3.txt: '10 0.4142 0.49074999999999996 0.3578125 0.5918171875 0.3578125 0.5977359375 0.36345 0.652440625 0.390571875 0.7109375 0.393365625 0.7109375 0.44188124999999995 0.6847796875000001 0.5110859375000001 0.5778140625 0.5910562500000001 0.5206000000000001 0.6817921874999999 0.5081625 0.7633 0.4982125 0.826353125 0.5305500000000001 0.8640625 0.4839234375 0.8640625 0.4818875 0.8371187499999999 0.40865937499999994 0.7863687500000001 0.3390078125 0.7110109375 0.26189375 0.5941328125 0.27930625 0.504934375 0.366371875 0.4142 0.49074999999999996'\n",
            "Warning: Skipping malformed line in /content/Paddy-Field-Insects-All-Classes-2/train/labels/BA-2-_jpg.rf.c21fd67ce5da367ec3934f6b516c0c88.txt: '8 0.53108366875 0.22996535625 0.42490701093750005 0.3190060546875 0.3764895515625 0.432976996875 0.332667025 0.6785295437500001 0.3426875640625 0.8368689203124999 0.371253875 0.840362571875 0.4436712328125 0.8992135250000001 0.494666225 0.9019239484374999 0.5493115140625 0.8805537984375 0.5988777046875 0.7994782546875 0.6185674437500001 0.5487801671875 0.6513251921875 0.5865600328125 0.654856828125 0.64482239375 0.6723298375 0.6307386 0.669144715625 0.5395286265625 0.6193269124999999 0.39904675625 0.649336253125 0.40099294218750003 0.693358175 0.3755025640625 0.826781540625 0.3379078015625 0.8323447984375001 0.325736978125 0.7249482015625001 0.33697269375 0.6683187375 0.3015235140625 0.6367619343750001 0.298134296875 0.470922571875 0.13625381718750001 0.53108366875 0.22996535625'\n",
            "Warning: Skipping malformed line in /content/Paddy-Field-Insects-All-Classes-2/train/labels/BA-59-_JPG_jpg.rf.e431d89e3e28de030e7f9954b6c10f79.txt: '8 0.19846952812500002 0.66582170625 0.2124183328125 0.6783812640625 0.2522343125 0.6773169484375 0.257906828125 0.74653965625 0.3160574140625 0.82221328125 0.374755328125 0.8498076359375 0.437860721875 0.8444557171874999 0.49990180000000006 0.7992878171875 0.5658463734375 0.5750036046875 0.6165164109375 0.5079398734375 0.625532084375 0.5044003218750001 0.648701625 0.5563484046875 0.6809806984375 0.66507083125 0.694395178125 0.66743486875 0.6531177734375 0.4845522671875 0.7780505093750001 0.42995423749999995 0.8576824734375 0.42782560781249995 0.8612263562500001 0.417416353125 0.7812738015625 0.4134276671875 0.7238625984375 0.39087764062499997 0.7472632109374999 0.3692042125 0.708952009375 0.3599661328125 0.6768736609375 0.313596709375 0.7161553171875 0.30233686875 0.7976256609375 0.237748375 0.771869684375 0.23398642343749998 0.7209902515625 0.277547015625 0.6682941140625 0.2864428203125 0.6593087875 0.154007853125 0.6466163484375 0.2824671390625 0.5696603484375 0.3161484609375 0.4483826921875 0.342951409375 0.32580531874999996 0.42298481875 0.235199428125 0.5473485515625 0.1983713328125 0.6249327375 0.19846952812500002 0.66582170625'\n"
          ]
        },
        {
          "output_type": "stream",
          "name": "stderr",
          "text": [
            " 54%|█████▍    | 2906/5345 [00:00<00:00, 7944.22it/s]"
          ]
        },
        {
          "output_type": "stream",
          "name": "stdout",
          "text": [
            "Warning: Skipping malformed line in /content/Paddy-Field-Insects-All-Classes-2/train/labels/Image_26_jpg.rf.dc926047599685df9bbce75c6415d9dd.txt: '4 0.859225 0 0.859375 0.0029390625 0.90234375 0.037884375 0.8984375 0.1077765625 0.87890625 0.1776671875 0.89453125 0.3104609375 0.919921875 0.334921875 0.982421875 0.3139546875 1 0.3894375 1 0 0.859225 0'\n",
            "Warning: Skipping malformed line in /content/Paddy-Field-Insects-All-Classes-2/train/labels/Image_26_jpg.rf.dc926047599685df9bbce75c6415d9dd.txt: '4 0.82421875 0.5131453125000001 0.83984375 0.3943296875 0.798828125 0.26503125 0.779296875 0.25804218749999996 0.736328125 0.1881515625 0.642578125 0.1112703125 0.6328125 0.20562343749999998 0.6484375 0.2545484375 0.64453125 0.3663734375 0.6171875 0.44325468749999997 0.6171875 0.6529281250000001 0.6328125 0.750775 0.625 0.8206671875 0.6875 0.88356875 0.703125 0.88356875 0.71484375 0.8066890624999999 0.7734375 0.6529281250000001 0.76953125 0.6179828125 0.82421875 0.5131453125000001'\n",
            "Warning: Skipping malformed line in /content/Paddy-Field-Insects-All-Classes-2/train/labels/WHORL-MAGGOTS_original_whorl-26-jpg_26178c15-d608-4415-b412-da7d3d0c3acc_jpg.rf.13622b062da66723f610803e3282d949.txt: '10 0.25738125 0.061846875 0.2591921875 0.1700953125 0.2809234375 0.25772343750000004 0.30084374999999997 0.3273109375 0.317140625 0.39947656249999997 0.331628125 0.45102343749999996 0.360603125 0.51545625 0.3801484375 0.521875 0.385190625 0.521875 0.4140625 0.48561875 0.4140625 0.4751359375 0.40587656250000004 0.386590625 0.404065625 0.2809203125 0.360603125 0.15463125 0.3406828125 0.0695796875 0.290225 0.028342187499999998 0.25738125 0.061846875'\n",
            "Warning: Skipping malformed line in /content/Paddy-Field-Insects-All-Classes-2/train/labels/WHORL-MAGGOTS_original_whorl-26-jpg_26178c15-d608-4415-b412-da7d3d0c3acc_jpg.rf.13622b062da66723f610803e3282d949.txt: '10 0.0244828125 0.57525 0.0886015625 0.584375 0.1973875 0.584375 0.259375 0.5753265625 0.259375 0.565109375 0.25628125 0.5056625 0.1892765625 0.45153906250000003 0.07156718749999999 0.4283421875 0.002753125 0.4180328125 0.0118078125 0.5778265625000001 0.0244828125 0.57525'\n",
            "Warning: Skipping malformed line in /content/Paddy-Field-Insects-All-Classes-2/train/labels/WHORL-MAGGOTS_original_whorl-26-jpg_26178c15-d608-4415-b412-da7d3d0c3acc_jpg.rf.13622b062da66723f610803e3282d949.txt: '10 0.103896875 0.6336984375 0.08216562499999999 0.646584375 0.062245312500000004 0.6775125 0.074921875 0.7445234375 0.0731109375 0.8141109375 0.0731109375 0.8914296875 0.09303125 0.9455546874999999 0.1248015625 0.98125 0.23816406250000002 0.98125 0.24375 0.9422109375 0.24375 0.911296875 0.2342828125 0.886275 0.20168593750000002 0.881121875 0.18357812499999998 0.8089562499999999 0.16546875 0.72648125 0.125628125 0.6543171875 0.103896875 0.6336984375'\n",
            "Warning: Skipping malformed line in /content/Paddy-Field-Insects-All-Classes-2/train/labels/WHORL-MAGGOTS_original_whorl-43-jpg_5e7b2ee2-7537-425a-9d11-09b93c0f9209_jpg.rf.f494bf3ddc502468a666e8531d23022c.txt: '10 0.5181046874999999 0.09044218750000001 0.5094265625000001 0.09304375000000001 0.4906453125 0.09044218750000001 0.42091874999999995 0.126871875 0.391415625 0.158096875 0.40009375 0.2049359375 0.42943125000000004 0.24375 0.49422812499999996 0.24375 0.5840515625 0.19712968749999998 0.6812375 0.1763125 0.7558625 0.1659046875 0.8270171875000001 0.12427031250000001 0.8582546875 0.1060546875 0.8625 0.06786875 0.8625 0.058692187500000007 0.844371875 0.0488078125 0.8079265625 0.0410015625 0.7333015625 0.04620625 0.646528125 0.06181875 0.5528140625 0.069625 0.5181046874999999 0.09044218750000001'\n",
            "Warning: Skipping malformed line in /content/Paddy-Field-Insects-All-Classes-2/train/labels/WHORL-MAGGOTS_original_whorl-43-jpg_5e7b2ee2-7537-425a-9d11-09b93c0f9209_jpg.rf.f494bf3ddc502468a666e8531d23022c.txt: '10 0.375221875 0.0468796875 0.4324921875 0.07289999999999999 0.6077734375 0.130146875 0.6619609375 0.146875 0.671409375 0.146875 0.715371875 0.13274999999999998 0.7328125 0.0869875 0.7328125 0.0603390625 0.725784375 0.023459374999999998 0.6977765625 0.007846875 0.27109375 0.0026421875 0.28150624999999996 0.015653125 0.3179515625 0.0442765625 0.375221875 0.0468796875'\n",
            "Warning: Skipping malformed line in /content/Paddy-Field-Insects-All-Classes-2/train/labels/WHORL-MAGGOTS_original_whorl-43-jpg_5e7b2ee2-7537-425a-9d11-09b93c0f9209_jpg.rf.f494bf3ddc502468a666e8531d23022c.txt: '10 0.2735296875 0.11756875 0.26658750000000003 0.07853750000000001 0.2422921875 0.068128125 0.24250625 0.052515624999999996 0.2249375 0.060321875000000004 0.19196249999999998 0.135784375 0.18849218750000002 0.20604218749999997 0.200640625 0.2476765625 0.2093171875 0.3101265625 0.23535 0.3986 0.25270468749999997 0.44283593750000005 0.26658750000000003 0.49748125 0.2735296875 0.5651359375 0.2735296875 0.6145765625 0.2735296875 0.6484046875 0.2735296875 0.69524375 0.2926203125 0.734275 0.30814375 0.7359375 0.319046875 0.7359375 0.34641875 0.7238671875 0.37939375000000003 0.6692218750000001 0.39375 0.6046421875 0.39375 0.5715234375 0.39154062500000003 0.5235015625 0.36724531250000003 0.4454375 0.33600625 0.35176093750000004 0.309975 0.2554828125 0.277 0.167009375 0.2735296875 0.11756875'\n",
            "Warning: Skipping malformed line in /content/Paddy-Field-Insects-All-Classes-2/train/labels/WHORL-MAGGOTS_original_whorl-43-jpg_5e7b2ee2-7537-425a-9d11-09b93c0f9209_jpg.rf.f494bf3ddc502468a666e8531d23022c.txt: '10 0.1203859375 0.1584109375 0.1151796875 0.2650984375 0.0995609375 0.32755 0.073528125 0.42643125 0.07179375 0.46025937499999997 0.077 0.514903125 0.10933124999999999 0.528125 0.12443125 0.528125 0.1655078125 0.5175062500000001 0.1984828125 0.4472484375 0.22625 0.3795921875 0.2421875 0.2970390625 0.2421875 0.1342046875 0.20715937499999998 0.0387140625 0.170534375 0.007487499999999999 0.097825 0.01529375 0.1047671875 0.049121874999999995 0.127328125 0.11937968750000001 0.1203859375 0.1584109375'\n",
            "Warning: Skipping malformed line in /content/Paddy-Field-Insects-All-Classes-2/train/labels/WHORL-MAGGOTS_original_whorl-43-jpg_5e7b2ee2-7537-425a-9d11-09b93c0f9209_jpg.rf.f494bf3ddc502468a666e8531d23022c.txt: '10 0.11835625000000001 0.6848 0.083646875 0.7212296874999999 0.057615625000000004 0.7602625 0.0315828125 0.8149078125000001 0.0177 0.8383265625 0.007285937500000001 0.8643468750000001 0.0003453125 0.89036875 0.0003453125 0.924196875 0.0177 0.9658312499999999 0.0350546875 0.9658312499999999 0.0529875 0.9703125 0.0738609375 0.9703125 0.0957953125 0.9450140625 0.137446875 0.89036875 0.16521406249999998 0.8539390625 0.19298125 0.825315625 0.20859999999999998 0.8044984375 0.2207484375 0.7732734375 0.23116093750000002 0.75245625 0.240625 0.738265625 0.240625 0.47335781250000003 0.22595468749999997 0.44020000000000004 0.2051296875 0.4349953125 0.1895109375 0.4870375 0.179096875 0.5677046875 0.16521406249999998 0.627553125 0.11835625000000001 0.6848'\n",
            "Warning: Skipping malformed line in /content/Paddy-Field-Insects-All-Classes-2/train/labels/WHORL-MAGGOTS_original_whorl-43-jpg_5e7b2ee2-7537-425a-9d11-09b93c0f9209_jpg.rf.f494bf3ddc502468a666e8531d23022c.txt: '10 0.6202796875 0.22865625 0.5664796875 0.270290625 0.5404484375 0.3223328125 0.5213578125 0.3977953125 0.5213578125 0.4472359375 0.5552546875 0.4828125 0.567446875 0.4828125 0.5907765625 0.48106406249999994 0.61854375 0.4472359375 0.642840625 0.40039687500000004 0.6671359375 0.361365625 0.7296125 0.3249359375 0.7920906249999999 0.31973124999999997 0.8771281249999999 0.31973124999999997 0.9465453125 0.31973124999999997 0.9864609375000001 0.2963125 0.9953125 0.2565 0.9953125 0.23853125 0.973984375 0.2182484375 0.8181218749999999 0.18181875 0.7764703125 0.18181875 0.7278781249999999 0.187021875 0.679284375 0.2000328125 0.6202796875 0.22865625'\n",
            "Warning: Skipping malformed line in /content/Paddy-Field-Insects-All-Classes-2/train/labels/WHORL-MAGGOTS_original_whorl-43-jpg_5e7b2ee2-7537-425a-9d11-09b93c0f9209_jpg.rf.f494bf3ddc502468a666e8531d23022c.txt: '10 0.8421218749999999 0.4059375 0.790478125 0.33828125 0.7640265625 0.379915625 0.7327874999999999 0.43195937500000003 0.7536140625 0.48920624999999995 0.783115625 0.554259375 0.8126187500000001 0.6323234375 0.8403859375 0.692171875 0.8560062500000001 0.7468171875 0.86641875 0.8014609374999999 0.86641875 0.8561062500000001 0.8560062500000001 0.9107515625 0.847328125 0.928965625 0.847328125 0.9679984375 0.8646828125000001 0.9836109375 0.895921875 0.9784062499999999 0.9184828125 0.9419765625000001 0.93063125 0.897740625 0.942778125 0.8483 0.942778125 0.7936546875 0.9479859375 0.7103875000000001 0.9484375 0.6914015625000001 0.9484375 0.62873125 0.937571875 0.554259375 0.93063125 0.5100234375 0.9150109375 0.48400156250000004 0.89765625 0.455378125 0.8542703125 0.4189484375 0.8421218749999999 0.4059375'\n",
            "Warning: Skipping malformed line in /content/Paddy-Field-Insects-All-Classes-2/train/labels/WHORL-MAGGOTS_original_whorl-43-jpg_5e7b2ee2-7537-425a-9d11-09b93c0f9209_jpg.rf.f494bf3ddc502468a666e8531d23022c.txt: '10 0.6720843750000001 0.6190703125 0.6234921875 0.6086609375 0.5957250000000001 0.64769375 0.5887828125000001 0.720553125 0.6096078125 0.7673921874999999 0.6651421875 0.8142296874999999 0.7033234375 0.8636703125 0.741503125 0.926121875 0.7588578125 0.95214375 0.786625 0.9859703124999999 0.8032546875 0.9984375 0.8878812500000001 0.9984375 0.8890625 0.9922390625 0.8890625 0.9552531249999999 0.8495437499999999 0.84545625 0.80224375 0.7804015625 0.7796828125 0.7075421875 0.7345609375000001 0.6607046875 0.70679375 0.6398875 0.6720843750000001 0.6190703125'\n",
            "Warning: Skipping malformed line in /content/Paddy-Field-Insects-All-Classes-2/train/labels/PB-52_jpeg_jpg.rf.25fce88c21fba220ecd2eeb7faa09ad7.txt: '5 0.8458710249999999 1 0.85187303125 0.9807140593750001 0.744835634375 0.8825524203124999 0.60078525 0.78439090625 0.596783834375 0.6688135890625 0.6277946625 0.6323987671875 0.6107887468750001 0.6070668953125 0.59778416875 0.6039002625000001 0.59878458125 0.5152382281250001 0.60778766875 0.502572228125 0.589781415625 0.45190818281249995 0.54676634375 0.35691311875 0.5317610968750001 0.33949732187500004 0.5407642625 0.2888333359375 0.51675585 0.252418515625 0.592782421875 0.0798441875 0.6327964125000001 0.114675753125 0.6708098125 0.19383830156249998 0.6938177343749999 0.3284146140625 0.705822053125 0.3236648125 0.689816396875 0.20333775781250002 0.650802740625 0.0925101828125 0.601785584375 0.045012648437500004 0.5867803375 0.0370963953125 0.51075376875 0.228669746875 0.49074677187500004 0.1954215 0.46773869687499997 0.0022648609375 0.439728946875 0.000681634375 0.46173661250000003 0.1954215 0.465738028125 0.23183626249999997 0.45473419374999996 0.26350128281249996 0.45073278125 0.303082559375 0.460736278125 0.3284146140625 0.46273694687500005 0.37432885625 0.45373385937500005 0.42340967812499997 0.433726865625 0.409160390625 0.287675734375 0.1400077125 0.144625759375 0.341080609375 0.056594946874999996 0.29358307968749997 0.056499978125 0.299405940625 0.059596025 0.3236648125 0.081603690625 0.33316435625 0.156629925 0.3806618859375 0.285675065625 0.206504271875 0.342694971875 0.304665846875 0.40871811874999997 0.42657612812499995 0.432726453125 0.4629909546875 0.45273345000000004 0.4534914109375 0.375706546875 0.559569365625 0.24366040312499998 0.5184047374999999 0.255664571875 0.5912343859375 0.271670153125 0.785974134375 0.27967298125 0.876219515625 0.23865865312499998 0.9189672421875 0.19164216875 0.934799753125 0.19064183437499999 0.9822972875 0.247661740625 0.9632983218750001 0.278672646875 0.9205504703124999 0.271670153125 0.9949633421874999 0.28667539999999997 0.9949633421874999 0.32568905625 0.6418983125 0.44973244687499997 0.73214356875 0.487745690625 0.7147278359375 0.487745690625 0.74639285625 0.409718453125 0.7986401875 0.39971495625000003 0.8603870046875001 0.405717040625 0.890468678125 0.42272295625 0.820805728125 0.4847446875 0.7780578765625 0.49574852187499996 0.9949633421874999 0.615790496875 1 0.59078175 0.8097228953125001 0.825864028125 1 0.8458710249999999 1'\n",
            "Warning: Skipping malformed line in /content/Paddy-Field-Insects-All-Classes-2/train/labels/BA-43-_jpg.rf.bcf64a4ca9c0b75183c7ab02bcb898e7.txt: '8 0.347317096875 0.8840048203125 0.49087289375000004 0.7709290906249999 0.6196810187499999 0.62359345625 0.65671151875 0.533019878125 0.64900663125 0.5022422578125 0.586867509375 0.5079245453125 0.581049734375 0.4760573984375 0.549211221875 0.4579552609375 0.5476942734375 0.48147638125 0.4376007921875 0.5827810671875 0.30857895625 0.7428208171875 0.261820975 0.8339782687499999 0.2800222984375 0.8851153015625 0.3108781453125 0.8949782734375 0.347317096875 0.8840048203125'\n",
            "Warning: Skipping malformed line in /content/Paddy-Field-Insects-All-Classes-2/train/labels/BA-43-_jpg.rf.bcf64a4ca9c0b75183c7ab02bcb898e7.txt: '8 0.1869588359375 0.4406486515625 0.3786100984375 0.44574144843749997 0.54520233125 0.40743073281250003 0.59291434375 0.348432365625 0.544334190625 0.30351190156249996 0.507311365625 0.3047578734375 0.4637800328125 0.2707612734375 0.2066428578125 0.248121578125 0.135068190625 0.25925148125 0.089777565625 0.285400034375 0.096976803125 0.324018034375 0.060003571874999995 0.366751778125 0.072679053125 0.39088540312500003 0.11294181406249999 0.419220678125 0.1869588359375 0.4406486515625'\n",
            "Warning: Skipping malformed line in /content/Paddy-Field-Insects-All-Classes-2/train/labels/BA-43-_jpg.rf.bcf64a4ca9c0b75183c7ab02bcb898e7.txt: '8 0.6560284609375 0.44031684843749996 0.736197109375 0.6292910875 0.7874619593750001 0.6701453984375 0.8173637734374999 0.647849284375 0.884872284375 0.6340346859375 0.919588246875 0.5699588640625 0.9039438015625001 0.4557000453125 0.8295642937500001 0.322512865625 0.9083668312500001 0.326081046875 0.962399875 0.300900078125 0.9620381625000001 0.300273571875 0.8910126828125 0.31345515156250003 0.802696378125 0.29776673124999997 0.8157573671874999 0.1656767515625 0.7717127140625 0.22884812812500002 0.6420364515625 0.2722649328125 0.6799350859375 0.2856101875 0.65127924375 0.344929121875 0.6560284609375 0.44031684843749996'\n",
            "Warning: Skipping malformed line in /content/Paddy-Field-Insects-All-Classes-2/train/labels/PB-17_jpeg_jpg.rf.aafac97fbce7b7c942f9e7ea7e799f04.txt: '5 0.459929196875 0.25764823593749997 0.30532970000000004 0.39853664375000003 0.2632694859375 0.347304478125 0.245081325 0.382526596875 0.30646644375 0.42895575937499997 0.4406042046875 0.320087446875 0.4326469125 0.46737983749999995 0.4190058125 0.46577885625000004 0.2962355765625 0.4513697890625 0.24394458125 0.4513697890625 0.20302119843750002 0.4801879234375 0.2098417484375 0.52021304375 0.2382607765625 0.5554350984374999 0.42355278749999997 0.5650411656250001 0.35762069531249996 0.6611014515625 0.336022215625 0.5826521921875 0.28145764687499997 0.605066284375 0.28259447656250003 0.6338844796875 0.309876675 0.6258794562500001 0.343979509375 0.7379497296875 0.459929196875 0.5794501703125 0.513356934375 0.5826521921875 0.604297825 0.5842532328125001 0.632716853125 0.6210763296875 0.6804607859375 0.68831854375 0.7043328390625 0.7779748484375 0.7031960078124999 0.86442900625 0.6884182531249999 0.9893074265624999 0.7145636203125 0.992509390625 0.7361621859375 0.8916461609375 0.739572503125 0.8003888171875 0.7270680609375 0.7299447046875 0.697512203125 0.6546974078125001 0.632716853125 0.5650411656250001 0.634990428125 0.5602381624999999 0.6224859859375 0.5282180656250001 0.6702300046875 0.46097585468749996 0.677050640625 0.395334621875 0.6531785875 0.28166330781250004 0.6224859859375 0.185603021875 0.6065714 0.1039518328125 0.580091515625 0.1061519984375 0.604297825 0.2208251390625 0.6190757546875 0.2976733546875 0.633853596875 0.39853664375000003 0.6202124984374999 0.46257683437499997 0.5611009546875 0.49299594999999996 0.539502475 0.476985903125 0.572468565625 0.40173866562500005 0.5565538921875001 0.3841276359375 0.4678864890625 0.44496580625000004 0.459929196875 0.25764823593749997'\n",
            "Warning: Skipping malformed line in /content/Paddy-Field-Insects-All-Classes-2/train/labels/PB-16_jpeg_jpg.rf.31b9cee31ae8a20e51925ae06af8efe7.txt: '5 0.5538695203125 0.4099548015625 0.61080905625 0.4916529328125 0.602993771875 0.5246463796875 0.578431646875 0.53250196875 0.5672670281250001 0.6220558078125 0.578431646875 0.6330535234375 0.5996444390625 0.5843488390625 0.5828975109375001 0.6676181234375 0.5538695203125 0.6927561015625 0.5706164484375 0.7100383124999999 0.6197407 0.6676181234375 0.6342547374999999 0.5670666875 0.6621662828125 0.57649325 0.6643991734375 0.5890622390625 0.6688650375 0.6377669828125 0.691194275 0.6676181234375 0.7235717703125 0.7775963 0.6878448546875 0.864007771875 0.674447346875 0.9598460453125 0.7023588921874999 0.9645593281249999 0.7057083109375 0.9472770562499999 0.71240715 0.8922879375000001 0.739202165625 0.8200165484375 0.76599718125 0.925281384375 0.8117721843749999 0.9519904578125 0.837450840625 0.9331369734375 0.7838606390625 0.7194649937500001 0.82740258125 0.6361957703125001 0.735852746875 0.5969178281249999 0.721338709375 0.479084003125 0.6465358 0.353394590625 0.6643991734375 0.18842726406250002 0.625323009375 0.1334381453125 0.5873633765624999 0.080020090625 0.5159098015625 0.0611666671875 0.5125603812499999 0.11144244375000001 0.5739657828125 0.1255825578125 0.6141583921875 0.20885175312499998 0.6127231890625 0.3285517796875 0.6096926125000001 0.32511442343749997 0.5940621296875 0.3109744 0.5103274921875001 0.4083837078125 0.48241594687499995 0.3738191078125 0.47125132968749994 0.39738587187499996 0.5047451828125 0.44766165 0.5538695203125 0.4099548015625'\n",
            "Warning: Skipping malformed line in /content/Paddy-Field-Insects-All-Classes-2/train/labels/WHORL-MAGGOTS_original_whorl-144-jpg_abc8b04a-a266-428b-aa8c-84385678e873_jpg.rf.dd9aa690834d98435a627722d3bffcfa.txt: '10 0.4572109375 0.3056453125 0.4095359375 0.2932078125 0.377240625 0.367834375 0.38339218750000004 0.46485000000000004 0.4587484375 0.594203125 0.5387187499999999 0.6762921875 0.6586734375 0.6937046875 0.7327890625 0.6984375 0.777471875 0.6984375 0.852446875 0.591715625 0.8447578124999999 0.5170890625 0.7940078125000001 0.4748 0.664825 0.48226250000000004 0.5679375 0.459875 0.4572109375 0.3056453125'\n",
            "Warning: Skipping malformed line in /content/Paddy-Field-Insects-All-Classes-2/train/labels/PB-30_jpg.rf.e25d9b979ecabc4360d9d6ebbd35b6c4.txt: '5 0.23935774375 0.8542031140624999 0.3358601546875 0.8756467859375 0.36802745 0.8143792171875001 0.41857638281250004 0.6137278937499999 0.4438507625 0.56011876875 0.5587344578125 0.8312277765625 0.35424144218750003 0.9032172390625 0.35883689375 0.9644848093749999 0.40019492031250004 0.9124073515625 0.59319956875 0.8358228890625 0.4645298609375 0.5585872203125 0.480613509375 0.51263654375 0.7310600046875 0.529484984375 0.7586320203125 0.630576509375 0.8689206171875 0.6841856328125 0.8895995421875 0.6688687390625 0.779311121875 0.6198547890625 0.760929834375 0.5218265375 0.4852089609375 0.48966108750000004 0.4852089609375 0.452900521875 0.6529390546875 0.377847784375 0.99299486875 0.29360487812499997 0.9998879609375001 0.27062953749999996 0.8643249875000001 0.30585837968749996 0.7747158453125 0.28594643125 0.6276646765625 0.2905414859375 0.53575771875 0.3043267140625 0.48750660156250003 0.3273020515625 0.450743853125 0.34261894531250003 0.37492054218750004 0.23080558281250002 0.471422778125 0.187918296875 0.4277671140625 0.10980216875 0.38411127343749996 0.12818247968750002 0.43466003124999997 0.1787281546875 0.370325265625 0.21702041562500002 0.200297359375 0 0.163534609375 0.0056473406249999995 0.349646165625 0.22621052812500003 0.3151810546875 0.2461224765625 0.404790375 0.38550623125 0.30369268437499997 0.4743441953125 0.2990972328125 0.5509287734375 0.0003996203125 0.6213863374999999 0.163534609375 0.80212565625 0.11828877812500001 0.8337164765624999 0.11987877031250001 0.8342912234375 0.13596241874999998 0.8572665625000001 0.202594996875 0.8036574390625001 0.025674173437499996 0.6367032312500001 0.301395046875 0.5739041125 0.248548475 0.7423898703125 0.23935774375 0.8542031140624999'\n",
            "Warning: Skipping malformed line in /content/Paddy-Field-Insects-All-Classes-2/train/labels/PB-70_jpg.rf.24c5721ecdf9e618b4d1322c35fc8db4.txt: '5 0.4771160515625 0.332238965625 0.478750584375 0.36872604062500003 0.419906503125 0.2449873828125 0.3953881265625 0.257678571875 0.346351371875 0.20215486562499999 0.341447646875 0.211673165625 0.3953881265625 0.2814744578125 0.4117337109375 0.2656105328125 0.465674190625 0.38617633281249997 0.4525976734375 0.4543911953125 0.3332748546875 0.3798307390625 0.29731461718749996 0.519433321875 0.21885575937500001 0.489291840625 0.2041448328125 0.519433321875 0.31366020156249996 0.544815696875 0.341447646875 0.40838585156249996 0.4525976734375 0.4686687515625 0.4542322078125 0.49087820937500004 0.455866740625 0.557506703125 0.19924110781249998 0.6209624 0.29894915 0.8605076328125 0.231932278125 0.9160313656250001 0.2352013453125 0.9303089234374999 0.3300057875 0.8573348953125001 0.2270285515625 0.6320672796875 0.45750139843750004 0.5733706265625 0.4640395328125 0.609857640625 0.43625208750000005 0.7415282000000001 0.437886621875 0.9160313656250001 0.4738469828125 0.9667959968750001 0.5032689609375 0.9667959968750001 0.5555749078125001 0.8890627421874999 0.5653822328125 0.808156753125 0.5523057171875 0.5781297921874999 0.7876822890625 0.666967803125 0.7533564593750001 0.9033403 0.7566255281250001 0.9192042234375 0.8497953109375 0.9715551015624999 0.857968103125 0.9588640343750001 0.7680673859375 0.9112722625 0.8089313499999999 0.6574494125 0.5523057171875 0.555920334375 0.5621130421875 0.5051558859374999 0.558843975 0.4861190421875 0.694512378125 0.430595309375 0.75989459375 0.5781297921874999 0.8530646265625 0.549574740625 0.8399881109375 0.5273652828125 0.76970204375 0.552747659375 0.6961469140625 0.40362662499999996 0.5555749078125001 0.4575639921875 0.544132925 0.39093549843750003 0.6095152625 0.26719690156250003 0.6552829499999999 0.27036969843750003 0.7173961 0.20215486562499999 0.70431970625 0.1926364453125 0.6520137593750001 0.25450577343749997 0.5980734046875 0.25450577343749997 0.5392293234375 0.36872604062500003 0.53105653125 0.354448484375 0.5392293234375 0.3274798015625 0.5261528046875 0.3116158765625 0.5392293234375 0.2560921421875 0.573555025 0.191050046875 0.6765321359375001 0.13235354531250001 0.8334497265625 0.0609658859375 0.9347925515625001 0.032410834375 0.9233504437500001 0.0165469109375 0.8497953109375 0.0276517 0.7288380828125 0.0736570125 0.593169678125 0.152976634375 0.537594665625 0.22436429218749998 0.5179800125 0.2862336234375 0.4967307015625 0.25926493906250003 0.483654309375 0.2814744578125 0.4346175546875 0.21484596250000002 0.3790425421875 0.1751861234375 0.2907763578125 0.1513902359375 0.2204904171875 0.1307672078125 0.145300628125 0.1149032828125 0.03251619375 0.099039359375 0.0249182625 0.095634921875 0.0178051421875 0.1371127109375 0.091360271875 0.1386991703125 0.1747227296875 0.1498038671875 0.25154692968750003 0.1577358296875 0.3888498671875 0.2085003703125 0.44932860625000004 0.26243773593749997 0.4771160515625 0.3084430796875 0.4771160515625 0.332238965625'\n",
            "Warning: Skipping malformed line in /content/Paddy-Field-Insects-All-Classes-2/train/labels/BA-2-_jpg.rf.35773bab88393c8bc595e7b5ac2e9db1.txt: '8 0.7697382078125 0.43755521093749994 0.670341903125 0.33810164062500003 0.5508530734375 0.299238409375 0.2987620484375 0.276656684375 0.13959173281249998 0.300789021875 0.13858652656249998 0.32997409375000003 0.0855017640625 0.40838141875 0.0872718140625 0.4601691359375 0.113706403125 0.5135171093750001 0.2000446890625 0.5564507140625 0.45520281249999994 0.55418288125 0.4199102484375 0.59063703125 0.3613283859375 0.599359540625 0.37711017812500003 0.615776503125 0.46902760624999995 0.6044904625 0.606627190625 0.54170854375 0.607313846875 0.57221544375 0.6369738453125 0.6144604640625 0.6867759296875 0.7460059671875 0.6995707437500001 0.7505532015624999 0.6787152984375 0.6429855859375 0.709540746875 0.5826069640625 0.7101759171875 0.5504082046875001 0.8591455171875 0.36845408125 0.7697382078125 0.43755521093749994'\n",
            "Warning: Skipping malformed line in /content/Paddy-Field-Insects-All-Classes-2/train/labels/PB-28_jpg.rf.f659efd2fd07d9df7c762748e1d3a7c0.txt: '5 0.14550078125000002 0.4688869875 0.2149973609375 0.35683909062499997 0.36361305625 0.4752896875 0.39782680625 0.48009178906249994 0.401034290625 0.5041020546875 0.18399117812500002 0.620951990625 0.11663292343750001 0.6337575765625 0.117702084375 0.664170478125 0.2053747421875 0.6481636359375 0.38285829531250004 0.5521225828125 0.42990215000000004 0.512105475 0.44380141718750005 0.5361157390625 0.4170719640625 0.6865800203125 0.3486446265625 0.8386450234374999 0.3112233921875 0.9090751562499999 0.34222949375 0.9218806781250001 0.444870659375 0.6913820625 0.46732338437500004 0.5537233640625 0.49298367499999995 0.5489212015625 0.5197131296874999 0.5841362671875 0.542165853125 0.61134785 0.4993987296875 0.7009862046875 0.457700765625 0.72499646875 0.457700765625 0.7650135734375 0.50474461875 0.7554094921875001 0.5517884734375 0.6481636359375 0.5913480328125 0.6545663359375 0.5731720359375 0.79222515625 0.5999014890625001 0.841846465625 0.6522911515625001 0.841846465625 0.6448069375000001 0.79862791875 0.6234233765625 0.8050306812500001 0.5956247609374999 0.79222515625 0.619146646875 0.641760996875 0.5785179281249999 0.59534100625 0.588140465625 0.512105475 0.7025425750000001 0.38885277500000004 0.8340515171874999 0.2768048765625 0.9644912187499999 0.1887672125 0.960214571875 0.1663576390625 0.8500891906250001 0.2095761296875 0.7282027828125 0.30881856406249997 0.543235015625 0.5041020546875 0.5271973453125 0.48009178906249994 0.523989778125 0.45768218593750004 0.6138007578125 0.2960131015625 0.60631654375 0.2800062578125 0.48549938125000003 0.3808493546875 0.46304665468749995 0.372845934375 0.3935500765625 0.320023365625 0.3016007734375 0.262398696875 0.2534877578125 0.2255829703125 0.22568914218749997 0.2191802109375 0.2032363359375 0.22718363125000002 0.210020015625 0.294694696875 0.20751306406249997 0.29441238125 0.149777428125 0.41446370000000005 0.10594114218749999 0.3808493546875 0.087765146875 0.38885277500000004 0.087765146875 0.41446370000000005 0.1016644125 0.4096616578125 0.14550078125000002 0.4688869875'\n",
            "Warning: Skipping malformed line in /content/Paddy-Field-Insects-All-Classes-2/train/labels/BA-7-_jpg.rf.4fa2dc2d1583fa55dff92655d0c4a116.txt: '8 0.71343809375 0.4340671796875 0.7430021421874999 0.3997502140625 0.7572449781249999 0.333838225 0.7497733015625 0.27658295625 0.6648204484375 0.154187328125 0.6405002125 0.139444046875 0.5460187015625 0.139679675 0.409222090625 0.21038650625000002 0.1865295765625 0.39174199375 0.17573838749999998 0.5355904984375 0.0886091484375 0.5200851359375 0.0955803765625 0.535748646875 0.1767360984375 0.567263003125 0.21664554531250002 0.6122225640625001 0.24031991874999997 0.7112601093750001 0.260536278125 0.629339121875 0.3136940359375 0.6282251890625 0.4626504921875 0.8703751671875001 0.44637031718750003 0.8142693875000001 0.35739425156250004 0.6610440015625 0.3440233515625 0.582610225 0.3588441171875 0.5726134921875 0.41866636250000006 0.5813800703124999 0.5242585375 0.6491229671875 0.6454754859375 0.7027328796875 0.6390402609375 0.6843118703125 0.43727789375 0.5592425921874999 0.45213739999999997 0.556407609375 0.587487328125 0.62564229375 0.637429065625 0.6410733640624999 0.6517138265625 0.633834128125 0.44976094062499994 0.524467103125 0.656873790625 0.4674283625 0.71343809375 0.4340671796875'\n",
            "Warning: Skipping malformed line in /content/Paddy-Field-Insects-All-Classes-2/train/labels/BA-8-_jpg.rf.8aceea28a74bc4dd61681d03c21b790b.txt: '8 0.698745925 0.6387536593750001 0.64489710625 0.626874775 0.613950940625 0.638378940625 0.6605556046875 0.6665561984374999 0.7015417375 0.6615237328125 0.698745925 0.6387536593750001'\n",
            "Warning: Skipping malformed line in /content/Paddy-Field-Insects-All-Classes-2/train/labels/BA-8-_jpg.rf.8aceea28a74bc4dd61681d03c21b790b.txt: '8 0.48300866875 0.400209709375 0.43776252656250003 0.35799763281249997 0.4128883796875 0.3687562484375 0.450757790625 0.40108784062499997 0.48300866875 0.400209709375'\n",
            "Warning: Skipping malformed line in /content/Paddy-Field-Insects-All-Classes-2/train/labels/PB-25_jpeg_jpg.rf.acbd579c3888b92bc709fb74c69ca7fa.txt: '5 0.264463103125 0.5030553921875 0.3796548984375 0.5144633984375 0.4378571046875 0.524241771875 0.40633085468749996 0.5649848296875 0.3020519859375 0.6415817921875 0.1868601921875 0.6611384109375 0.1310831296875 0.70188146875 0.1468462546875 0.7263273671875 0.19049786562499998 0.685584246875 0.317815109375 0.6611384109375 0.42088145312499997 0.5796522937499999 0.4536201359375 0.5389092359375 0.4839337671875 0.5437984499999999 0.49363416562499995 0.708400509375 0.447557409375 0.7866270421875 0.4257316515625 0.8567051546875 0.441494684375 0.8599645499999999 0.46332053437500004 0.7784784328125001 0.5106098171875 0.711659840625 0.5057596171875 0.547057846875 0.5421359734375 0.5552064578125 0.613676159375 0.685584246875 0.681578671875 0.8518159375 0.6876413984374999 0.84040793125 0.613676159375 0.626914390625 0.5603241515625 0.5535768859375 0.603975759375 0.5421686921875 0.64156464375 0.5715036812500001 0.6294391921875 0.623654809375 0.6767284734375 0.6252845687499999 0.7240177546875 0.7703298203125 0.7700945078125 1 0.7870700687500001 0.9838234218749999 0.7458436046875 0.7735893390624999 0.6900664515625 0.5959495171875 0.6633904937499999 0.5486876046875 0.6803661453125 0.4949067828125 0.6294391921875 0.4949067828125 0.8379969296875001 0.3449723140625 0.9713769015624999 0.24229981875 0.9580390171875001 0.21948367968750002 0.6015507062500001 0.49653660312500003 0.5785123296875 0.473720340625 0.5566864781249999 0.4688311859375 0.5785123296875 0.4215692765625 0.56881193125 0.4085314484375 0.540923446875 0.4525339640625 0.5093971984375 0.42645843125000005 0.41966892656250004 0.4297178875 0.3275154171875 0.3531209265625 0.1868601921875 0.3987531390625 0.14078352968750002 0.34986146875 0.1456336359375 0.375937 0.138181790625 0.3693436609375 0.1577590890625 0.402012596875 0.18564766562499999 0.42645843125000005 0.3141774390625 0.3791964578125 0.39056782343749996 0.43623674062499995 0.26567562968749997 0.43623674062499995 0.22566169375 0.44927450625 0.22566169375 0.490017565625 0.264463103125 0.5030553921875'\n",
            "Warning: Skipping malformed line in /content/Paddy-Field-Insects-All-Classes-2/train/labels/WHORL-MAGGOTS_original_whorl-26-jpg_56232ddc-0e42-4b6b-9296-ec7ebd5e3cbc_jpg.rf.6523c03ee2aa2478f210f4cc3f060f5c.txt: '10 0.275771875 0.2654640625 0.2812046875 0.198453125 0.25222968749999997 0.11082499999999999 0.22144375 0.0463921875 0.20152343749999999 0.025773437500000003 0.16530625000000002 0.0025765625 0.071303125 0.00773125 0.051217187500000004 0.0670109375 0.051217187500000004 0.108246875 0.07838125 0.12113437499999999 0.118221875 0.1262890625 0.13633125 0.19072187499999999 0.1453859375 0.2474234375 0.181603125 0.301546875 0.1906578125 0.322165625 0.2449859375 0.337628125 0.275771875 0.2654640625'\n",
            "Warning: Skipping malformed line in /content/Paddy-Field-Insects-All-Classes-2/train/labels/WHORL-MAGGOTS_original_whorl-26-jpg_56232ddc-0e42-4b6b-9296-ec7ebd5e3cbc_jpg.rf.6523c03ee2aa2478f210f4cc3f060f5c.txt: '10 0.22868750000000002 0.4974234375 0.2377421875 0.47938125 0.2377421875 0.45360781250000004 0.22325468750000002 0.42010312499999997 0.20695625 0.4020625 0.176171875 0.39175312500000004 0.10916718750000001 0.4046390625 0.053028125 0.4046390625 0.0024625000000000003 0.40979374999999996 0.009567187500000001 0.5618562500000001 0.015 0.5618562500000001 0.024054687499999998 0.5618562500000001 0.042162500000000006 0.5670109375 0.051217187500000004 0.5670109375 0.0983015625 0.5618562500000001 0.1453859375 0.54896875 0.19609062500000002 0.5231953125000001 0.22868750000000002 0.4974234375'\n",
            "Warning: Skipping malformed line in /content/Paddy-Field-Insects-All-Classes-2/train/labels/WHORL-MAGGOTS_original_whorl-26-jpg_56232ddc-0e42-4b6b-9296-ec7ebd5e3cbc_jpg.rf.6523c03ee2aa2478f210f4cc3f060f5c.txt: '10 0.2775828125 0.9639171875000001 0.30836874999999997 0.969071875 0.3373421875 0.9587625 0.37174999999999997 0.9149484375 0.397103125 0.8402062499999999 0.404346875 0.7731953125000001 0.411590625 0.7087625 0.4134015625 0.6752578125 0.40615781249999994 0.621134375 0.400725 0.5670109375 0.397103125 0.5360828125 0.3880484375 0.5154640625 0.382615625 0.5 0.36812812500000003 0.489690625 0.34666562500000003 0.489690625 0.319234375 0.538659375 0.3029359375 0.6237109375000001 0.2866375 0.6855671875 0.2739609375 0.7268046874999999 0.254040625 0.77835 0.24679687499999997 0.8170109374999999 0.2449859375 0.8762890625 0.24860781250000002 0.917525 0.2630953125 0.95103125 0.2775828125 0.9639171875000001'\n",
            "Warning: Skipping malformed line in /content/Paddy-Field-Insects-All-Classes-2/train/labels/WHORL-MAGGOTS_original_whorl-148-jpg_4487306e-d918-46bc-9d75-94c4d115c779_jpg.rf.5bf6fb6346e7025159213acd0e4369f4.txt: '10 0.43406874999999995 0.4754953125 0.344703125 0.506146875 0.288165625 0.539353125 0.286340625 0.582775 0.3665890625 0.6951640625 0.457896875 0.7453125 0.4749890625 0.7453125 0.5854453125 0.7385859375 0.6729875 0.692609375 0.75870625 0.6032093749999999 0.81706875 0.49082187499999996 0.8546875 0.4130453125 0.8546875 0.40954218750000004 0.8371296875 0.3554453125 0.7988296874999999 0.30691406250000003 0.7495875 0.373325 0.6182734375 0.4729421875 0.5289078125 0.4729421875 0.43406874999999995 0.4754953125'\n",
            "Warning: Skipping malformed line in /content/Paddy-Field-Insects-All-Classes-2/train/labels/WHORL-MAGGOTS_original_whorl-26-jpg_5d3be34a-655c-4a29-b013-b60e14b7cb1b_jpg.rf.4a2e811fdbf873ff7792d2089c4ce797.txt: '10 0.3284875 0.0443453125 0.3194328125 0.0340375 0.3049453125 0.0263046875 0.28889375 0.02115 0.252428125 0.0469234375 0.234375 0.11372968750000001 0.234375 0.11427499999999999 0.2451859375 0.18094375000000001 0.2542390625 0.2453765625 0.25605 0.3458921875 0.26872656250000004 0.4257890625 0.29226874999999997 0.4850671875 0.310378125 0.5288828125 0.33210937500000004 0.559809375 0.3539703125 0.5765625 0.3575921875 0.5765625 0.382815625 0.559809375 0.4081671875 0.4953765625 0.4109375 0.44807499999999995 0.4109375 0.423515625 0.4045453125 0.3484703125 0.3973015625 0.28145937499999996 0.3864375 0.21960312499999998 0.375571875 0.1474390625 0.33573125 0.052078124999999996 0.3284875 0.0443453125'\n",
            "Warning: Skipping malformed line in /content/Paddy-Field-Insects-All-Classes-2/train/labels/WHORL-MAGGOTS_original_whorl-26-jpg_5d3be34a-655c-4a29-b013-b60e14b7cb1b_jpg.rf.4a2e811fdbf873ff7792d2089c4ce797.txt: '10 0.0062203125 0.577178125 0.004409375 0.6106843750000001 0.00803125 0.631303125 0.033384375 0.6441890625 0.047593750000000004 0.6453125 0.0715984375 0.6453125 0.10582031249999999 0.63645625 0.125740625 0.618415625 0.16558124999999999 0.597796875 0.1873125 0.590065625 0.20179999999999998 0.590065625 0.2162859375 0.590065625 0.2203125 0.590065625 0.2203125 0.42494062499999996 0.1782578125 0.4225390625 0.1311734375 0.44315781249999997 0.055115625 0.4818171875 0.026140625 0.5127453125 0.011653125 0.5359421875 0.0062203125 0.577178125'\n",
            "Warning: Skipping malformed line in /content/Paddy-Field-Insects-All-Classes-2/train/labels/WHORL-MAGGOTS_original_whorl-26-jpg_5d3be34a-655c-4a29-b013-b60e14b7cb1b_jpg.rf.4a2e811fdbf873ff7792d2089c4ce797.txt: '10 0.12050625 0.70805 0.0858859375 0.677121875 0.073421875 0.6822765625 0.0679890625 0.6848546875 0.0553125 0.710628125 0.0390140625 0.7518640624999999 0.031770312499999995 0.7905249999999999 0.03358125 0.82660625 0.0426359375 0.9322765625 0.0716109375 0.968359375 0.1042078125 0.9864 0.139446875 0.9921875 0.1569859375 0.9921875 0.1965640625 0.97866875 0.21467343749999998 0.9657828125 0.24908125 0.9451640625 0.253125 0.9163875000000001 0.253125 0.906009375 0.2182953125 0.8936171875 0.1929421875 0.88073125 0.17664375000000002 0.8549578125 0.160346875 0.8137203124999999 0.14585937499999999 0.7518640624999999 0.12050625 0.70805'\n",
            "Warning: Skipping malformed line in /content/Paddy-Field-Insects-All-Classes-2/train/labels/PB-51_jpeg_jpg.rf.5438d41e98d0c546907e0c8830b320e1.txt: '5 0.3302739546875 0.423711809375 0.328940175 0.44578984843749997 0.3742893859375 0.4631369453125 0.41963859687499994 0.4174037609375 0.4009653796875 0.4773299578125 0.41563715625000003 0.489945990625 0.447648371875 0.3969027015625 0.5450157921875001 0.4599829234375 0.5410143515625 0.5025620828124999 0.513004578125 0.50571610625 0.447648371875 0.739112846875 0.31693595625 0.7469978734375 0.31293461875 0.7674989921875001 0.41830481875 0.7627679265625 0.2809234046875 0.8558112765624999 0.21956863906250002 0.964624678125 0.222236196875 0.9709327234374999 0.29426140312500004 0.8668503859375001 0.476991925 0.7454208921875 0.43964559375 0.824271165625 0.44097937187499997 0.8778893765625 0.47832580468749997 0.9031214390625 0.5290101328125 0.7596139640625 0.5796945640625 0.6208374953125 0.621042334375 0.5041391828124999 0.6503858890624999 0.4662909078125 0.6530535484375 0.436327840625 0.6517197703125001 0.40163370781249996 0.6317127734375 0.3622085703125 0.6357141109375 0.2738962859375 0.7157420953125 0.21081606718749998 0.7450856484374999 0.1556209046875 0.7557560859375 0.10673366875000001 0.7610914078125 0.0641545390625 0.751754646875 0 0.7037379796875001 0.005805384375 0.7330815328125 0.0404994578125 0.7330815328125 0.07834758124999999 0.7264125328125 0.1288117390625 0.70507165625 0.1698138890625 0.62370989375 0.2533951671875 0.6570548859375 0.16508288437500002 0.6650577671875 0.1225037234375 0.64104933125 0.051538476562500005 0.6290451140625 0.0073823359375 0.545333303125 0.0043392531249999994 0.5436819093749999 0.0121133390625 0.5970339 0.027883393750000002 0.6223761156250001 0.0673085328125 0.6343803328125001 0.127234759375 0.62370989375 0.21239305000000003 0.610371896875 0.19662299375 0.47432436562499997 0.19820000625 0.44898214999999997 0.16035185000000002 0.4463145921875 0.1729679109375 0.47032292499999995 0.2202780765625 0.6063705578125 0.2139700296875 0.5610213484375 0.348015496875 0.5594294578125 0.2717870703125 0.49299758125000004 0.2597032125 0.444730040625 0.255423075 0.43972945625 0.25636040625 0.44097937187499997 0.27705025 0.5530185703125 0.27862729218750004 0.5503509078125 0.3543235421875 0.5623551265625 0.3716705796875 0.546349571875 0.43317381718750003 0.518339796875 0.3212064515625 0.5050018 0.31489840625 0.38896116406250003 0.43475079843750003 0.3302739546875 0.423711809375'\n",
            "Warning: Skipping malformed line in /content/Paddy-Field-Insects-All-Classes-2/train/labels/PB-2_jpg.rf.feea0f209338f11a83fb9dd1f8100e8b.txt: '5 0.3241051515625 0.39192240625 0.3385546828125 0.48644185625 0.38412615781250004 0.5313773671875001 0.399687171875 0.5561693375 0.399687171875 0.5670159640625 0.345223665625 0.585609853125 0.1773872171875 0.6692827953125 0.094024734375 0.7250648156249999 0.06512575625 0.7870447984375 0.030669196875 0.84902478125 0.0195541984375 0.9110047640625 0.037338262500000004 0.9388958046875 0.055122242187500003 0.8660692531249999 0.12403519375000001 0.7576042828125 0.235185171875 0.673931340625 0.33188570156249997 0.6475898359375 0.4030216203125 0.6135009515625 0.42191716718750005 0.6073028125000001 0.3985756875 0.6475898359375 0.41747115 0.673931340625 0.44081262812500005 0.67238180625 0.459708175 0.633644315625 0.4686001234375 0.6073028125000001 0.4963876171875 0.615050309375 0.42747466562499997 0.735911265625 0.4708231734375 0.788594275 0.514171596875 0.8118367671875 0.5041681671875 0.8924108171875 0.539736125 0.9001583140625 0.547516590625 0.8273317625000001 0.5953111140625 0.8366287375000001 0.6075375937499999 0.9218512140625 0.6464400859375 0.9218512140625 0.63421360625 0.8226833359375 0.5408476078125 0.7529558546875 0.5841961171875 0.6305453046875 0.611983609375 0.6227978078125 0.69201164375 0.85987123125 0.8565136437499999 0.697173834375 0.9387645593749999 0.7266142921875 0.946545025 0.6863273249999999 0.8531791109375 0.6367434453125 0.712018675 0.7746487546874999 0.644217121875 0.6227978078125 0.8898586375 0.587159328125 0.88096660625 0.4988379 0.7342486703125 0.47559534687499994 0.6664471171875 0.5034863875 0.7320255343750001 0.3593828796875 0.9243150281249999 0.474045871875 0.9943395484374999 0.4198133859375 0.976555484375 0.3764274109375 0.9198690984375 0.429110359375 0.7097955390624999 0.2850069109375 0.6653356328125 0.4012193796875 0.636436571875 0.37952642187499996 0.629767590625 0.44460535625000003 0.5175061296875 0.3934718828125 0.5008336328125 0.40276891406250004 0.5263981625 0.49418935468749997 0.46971160625 0.522080334375 0.46694441875 0.5120155046875 0.38079162499999997 0.42756088437499995 0.35633866406250003 0.2834574359375 0.34744663125 0.1254084671875 0.3530041296875 0.09441847656249999 0.32966265156249996 0.07892347968749999 0.311878671875 0.1610469453125 0.3141016375 0.24626942187499998 0.3241051515625 0.39192240625'\n",
            "Warning: Skipping malformed line in /content/Paddy-Field-Insects-All-Classes-2/train/labels/BA-12-_jpg.rf.6ad76e77088306acf1d05594f4b9146f.txt: '8 0.544375371875 0.8989551406249999 0.504156540625 0.8408673015625 0.5089730640625 0.8060387921875 0.5440220390625 0.804019028125 0.5934426703125 0.769910646875 0.6221345453125 0.7539981171875 0.661308009375 0.72557275625 0.7052724 0.6864512703125001 0.73922455625 0.646183065625 0.7804735015625 0.5924888015625001 0.8178584843750001 0.5342380125 0.85205845625 0.47507380625 0.86986304375 0.42500270156250003 0.8801360671875 0.39518730468749996 0.8974838187499999 0.34670938125 0.9109676234374999 0.2936748671875 0.9053281500000001 0.24722680625 0.8810218000000001 0.2057716921875 0.859639946875 0.19619206250000001 0.8157015375000001 0.2111812015625 0.791578278125 0.2111610734375 0.801185375 0.16563627812499998 0.7534219375 0.1398705 0.69287924375 0.14664995625 0.640051503125 0.17460857031250002 0.6263715109375 0.19827417187500002 0.6001731390625 0.2235230484375 0.539826546875 0.25967125625 0.54854575625 0.1932006875 0.565449659375 0.134249771875 0.535242925 0.07730867500000001 0.425096521875 0.07676146874999999 0.3934545359375 0.0849309625 0.389185503125 0.0337031421875 0.38966821406249996 0.0079775234375 0.317729959375 0.0304562859375 0.280553928125 0.1060096796875 0.2518233453125 0.1581207328125 0.2335488953125 0.22185131406249997 0.215744271875 0.2719225421875 0.19247020937499998 0.32904664375000003 0.175122421875 0.3775246921875 0.17256435625 0.428519246875 0.1681788296875 0.48588689062499996 0.17585493593749998 0.5432646 0.1769389046875 0.593579184375 0.1684804671875 0.629087696875 0.0837241078125 0.720310240625 0.08577360625 0.71917368125 0.22217021718750002 0.6462072937500001 0.2506012 0.661256784375 0.280859615625 0.6699332453125 0.3202034484375 0.695009046875 0.3299419171875 0.7391839906250001 0.3130897328125 0.7498701515625 0.266448990625 0.7382203781250001 0.1806475109375 0.7429297828125 0.161968009375 0.75998900625 0.24343566249999998 0.7643825484375 0.30237284375 0.7692126171875 0.35151983593749997 0.778132496875 0.37244493749999996 0.7893054671875 0.384537475 0.8079840328125 0.4531820984375 0.838320509375 0.4700342828125 0.8276343484375 0.518672590625 0.8864121609375 0.54318789375 0.9451698796875 0.5863827140625 0.986868315625 0.544375371875 0.8989551406249999'\n",
            "Warning: Skipping malformed line in /content/Paddy-Field-Insects-All-Classes-2/train/labels/BA-32-_jpg.rf.c818a5297109076906b52d7c7a3d0dad.txt: '8 0.473983584375 0.26136521562500004 0.4503206484375 0.3337547609375 0.43483666249999997 0.3443331421875 0.3545891671875 0.321330253125 0.4256140828125 0.3644819875 0.42245669531249996 0.4048599234375 0.37293642656250003 0.40656360156250004 0.4289500171875 0.423688675 0.43351696874999995 0.5690206765625 0.4632186171875 0.6822251125000001 0.5000467484375 0.7470776984375 0.5671828125 0.7829155671875 0.6081493734375 0.75409705625 0.613215475 0.6974591265625001 0.645887125 0.7258226296875 0.67657864375 0.730612275 0.7117119265625 0.6908229625 0.6975656890625 0.6068739953125 0.5793750015625 0.43752234999999995 0.5085463 0.383711984375 0.473983584375 0.26136521562500004'\n",
            "Warning: Skipping malformed line in /content/Paddy-Field-Insects-All-Classes-2/train/labels/PB-45_jpg.rf.84f036e8243b9aa9b6bb6cb614aace09.txt: '5 0.5662775359375 0.30466476249999996 0.5583242109375 0.2811303703125 0.5530220171875 0.293682034375 0.5751145484375 0.4505779890625 0.5653938468749999 0.4725434453125 0.5256272921875 0.386250671875 0.48055847500000004 0.44587112187500005 0.4575822578125 0.4050781375 0.451396375 0.4270435953125 0.47967478750000003 0.47411238125 0.5273946671874999 0.4176298625 0.5539057046875 0.4882330421875 0.5441850046875001 0.58393966875 0.4310712203125 0.6561116640625 0.44432673906250003 0.8679212625 0.4027928078125 0.9134211125 0.41516463750000004 0.9432312484375001 0.4575822578125 0.8867487281249999 0.4452104265625 0.67337025625 0.54683606875 0.599629265625 0.5220924734375 0.72430803125 0.5220924734375 0.8529627859375 0.5273946671874999 0.8984626375 0.5547893921875 0.8984626375 0.5777656109375 0.7729458734375 0.591904884375 0.631739515625 0.6696705515625 0.7839285421875 0.6078114671875 0.9471003578125 0.634322503125 1 0.6528802828125 0.9991204343750001 0.622834428125 0.9410690390625 0.6899957078125001 0.784172965625 0.5945559484375 0.5896219578124999 0.608695153125 0.5237257343749999 0.653763903125 0.46881215000000004 0.621950671875 0.548829034375 0.6405083859375 0.566087565625 0.6440432703125001 0.5409842375 0.638741009375 0.5394153312500001 0.6723216828125 0.44057083124999996 0.6502291515625 0.44684666406250007 0.613113659375 0.486070653125 0.613113659375 0.4562604265625 0.6564150328125 0.34486429375 0.64721695 0.32727747812499997 0.66878693125 0.2962265421875 0.7050186015625 0.2742610984375 0.7872028421875 0.2570025546875 0.9003166281249999 0.26641630156249996 0.9524549468749999 0.2946575765625 0.9533387015624999 0.27739903125 0.8994328734374999 0.242881909375 0.7209252515625 0.242881909375 0.6696705515625 0.26327838593749997 0.6104625968749999 0.369967653125 0.599858140625 0.3636918203125 0.5821841171875 0.2930886109375 0.5539057046875 0.21777856562500003 0.40721131406250005 0.023115217187500002 0.348003290625 0 0.342535315625 0.0023547890625000003 0.3444685390625 0.0363726765625 0.37186326406250003 0.041079603125 0.44255936250000005 0.1007000234375 0.5035347609375 0.16816527187500002 0.5371153671875 0.2262167859375 0.5653938468749999 0.27328557343750004 0.583067871875 0.37526794375 0.579533053125 0.40978506406250004 0.5662775359375 0.30466476249999996'\n",
            "Warning: Skipping malformed line in /content/Paddy-Field-Insects-All-Classes-2/train/labels/PB-24_jpg.rf.88327ba3ce1066c1fbfef57dc267172f.txt: '5 0.7226242890625 1 0.7067036015625 0.9081347046875001 0.667432609375 0.7380871078125 0.6366525984375 0.6443224937500001 0.58570636875 0.5124163875 0.5888905390625 0.4869886671875 0.609056678125 0.504470234375 0.6217932765625 0.49811341093749995 0.6589415437499999 0.5092379140625 0.6822918515625 0.548968675 0.690782915625 0.609359534375 0.7035194328125 0.6967672046875 0.689721471875 0.795299375 0.70139670625 0.8461546984374999 0.713071940625 0.776228659375 0.7173173937499999 0.684053253125 0.70245815 0.5442009953125 0.6738007859375 0.49016713906250003 0.6684938890625001 0.45202558593750003 0.7735705171875 0.37892101562499997 0.8149642375000001 0.4599717390625 0.8616650140625 0.4154733015625 0.8807697093750001 0.4329548703125 0.883953878125 0.41229482968750003 0.8690946359374999 0.3932241140625 0.8149642375000001 0.4218302453125 0.7863070343749999 0.3709748625 0.99115323125 0.1977487625 0.99115323125 0.170731896875 0.7746318 0.3550825609375 0.7544656625 0.3169410078125 0.6334684296875001 0.39958099687500004 0.6037497828125 0.3948133171875 0.52733051875 0.2978702921875 0.4530339828125 0.2962810265625 0.3851057046875 0.0070411234375000005 0.3744919140625 0.0054518859375 0.1929961046875 0.172321071875 0.1567639015625 0.11767044374999999 0.15478647343750002 0.1198764515625 0.142049878125 0.13417954999999998 0.19405746875000002 0.20887335624999998 0.36706229375 0.0420041734375 0.43180640156249994 0.29945949843749997 0.2948884828125 0.2517825890625 0.1526636671875 0.237479490625 0.1208222953125 0.3010487046875 0.13355889375000002 0.348725615625 0.3734305515625 0.418651771875 0.4211926109375 0.44566870312500007 0.164338903125 0.5664501828125 0.103840246875 0.35985024062500004 0.043341670312500004 0.3519040875 0.043341670312500004 0.3709748625 0.0826126640625 0.3836886953125 0.148418215625 0.596645584375 0.168584353125 0.601413384375 0.43392912812500006 0.464739478125 0.49230497812499996 0.49334561250000003 0.46683194375000003 0.7349085734374999 0.3681236546875 0.757157825 0.3235457671875 0.8731716875 0.339466453125 0.898599346875 0.375553278125 0.7809962796875001 0.477445734375 0.7555686171875 0.5039802124999999 0.4869886671875 0.5570491671875 0.49016713906250003 0.6377139625 0.7126594468749999 0.667432609375 0.8096024734375 0.708826328125 1 0.7226242890625 1'\n",
            "Warning: Skipping malformed line in /content/Paddy-Field-Insects-All-Classes-2/train/labels/WHORL-MAGGOTS_original_whorl-10-jpg_68cdf9a6-8432-46aa-9fe1-7c49b6761f72_jpg.rf.da02114e22e3d1e7979bad0bbc9c3741.txt: '10 0.2590734375 0.58608125 0.2732296875 0.609375 0.27456718750000003 0.609375 0.28395000000000004 0.6002640625 0.2930375 0.58608125 0.3009890625 0.5633890625 0.31007656250000004 0.5321875 0.3125 0.512015625 0.3125 0.5025953125 0.30212500000000003 0.489640625 0.28395000000000004 0.492478125 0.2714546875 0.5151687500000001 0.2600953125 0.53360625 0.2566875 0.5633890625 0.2590734375 0.58608125'\n",
            "Warning: Skipping malformed line in /content/Paddy-Field-Insects-All-Classes-2/train/labels/WHORL-MAGGOTS_original_whorl-53-jpg_7fd5d906-d893-4f2d-9ff0-9a26cee52d28_jpg.rf.ee8741336d34154269d47ade4d8b6640.txt: '10 0.49634375000000003 0.333103125 0.4387890625 0.27182968750000003 0.40546875 0.3183984375 0.372146875 0.3919265625 0.400925 0.49977031250000004 0.4796828125 0.614965625 0.5478390625 0.705653125 0.63288125 0.715625 0.7256890625 0.715625 0.7311046875 0.71545625 0.8356109375 0.661534375 0.8659015625 0.6321234375 0.86875 0.6030375 0.86875 0.560446875 0.8659015625 0.5071234375 0.8462125 0.47771093750000004 0.7583671875 0.487515625 0.62356875 0.49241718749999996 0.5554125 0.4213390625 0.49634375000000003 0.333103125'\n",
            "Warning: Skipping malformed line in /content/Paddy-Field-Insects-All-Classes-2/train/labels/PB-20_jpg.rf.8991683c144c05e15890690d5ec867c7.txt: '5 0.47289073281249994 0.55894058125 0.45628339375 0.6116576 0.466052434375 0.6394805046875 0.477775253125 0.6599815421875 0.5002440781249999 0.6350874296875 0.515874528125 0.5296533375 0.5188052703125 0.5530831093749999 0.546158540625 0.589692165625 0.5627659546875 0.5618693171875 0.5608121015624999 0.5164740546875 0.5598352125 0.48132939375 0.5275973484375001 0.4696144515625 0.5373663890625 0.43154105625000005 0.5930499671875 0.4227549046875 0.657525696875 0.47107884687499996 0.659479475 0.4212905078125 0.605749675 0.39932507500000003 0.5510430609375 0.384681453125 0.543227871875 0.3773596421875 0.5246666796875 0.4037181515625 0.5227128265625 0.3963963390625 0.49829022500000003 0.3348931703125 0.46019102500000003 0.29681971875 0.4269762703125 0.2733899453125 0.41406247812499997 0.29706959843749997 0.41818411875 0.30414152968749997 0.45726028281250003 0.333428775 0.4914519265625 0.3876101875 0.47582147499999994 0.43593413124999997 0.48461362656249996 0.48132939375 0.4416298328125 0.507687903125 0.47289073281249994 0.55894058125'\n",
            "Warning: Skipping malformed line in /content/Paddy-Field-Insects-All-Classes-2/train/labels/Image_25_jpg.rf.e73debfcd9b64c09c339b92e5644fe20.txt: '4 1 0.681078125 0.9770703125000001 0.6084671875 0.8555734375 0.4967671875 0.8555734375 0.29100625 0.8046218749999999 0.26161093750000003 0.7438734375 0.117578125 0.591021875 0.12345625 0.536153125 0.011757812500000001 0.449928125 0.011757812500000001 0.38330000000000003 0.21751874999999998 0.2970765625 0.21751874999999998 0.1363875 0.011757812500000001 0.1618625 0.10875937499999999 0.1540234375 0.296884375 0.261803125 0.42328124999999994 0.308834375 0.37625000000000003 0.334309375 0.4321 0.30295625 0.6437406250000001 0.402896875 0.6643171875 0.5126375000000001 0.564375 0.5106765625 0.6025875 0.5283140625 0.5702546875000001 0.583184375 0.68783125 0.6262953125 0.6349218750000001 0.7046812499999999 0.68783125 0.82421875 0.9259281250000001 0.7987437500000001 0.9935359375000001 0.7595500000000001 0.9994140625 0.6596093749999999 0.9200484375 0.6717234375000001 1 1 1 1 0.681078125'\n",
            "Warning: Skipping malformed line in /content/Paddy-Field-Insects-All-Classes-2/train/labels/WHORL-MAGGOTS_original_whorl-25-jpg_70b5ae17-0e2a-417e-8bc2-f779fedfbc51_jpg.rf.a36baac5299c210812c1559bc2a8322b.txt: '10 0.11259843750000001 0.2371859375 0.150628125 0.26038125 0.190625 0.19355781249999998 0.190625 0.17101875 0.183225 0.08254687499999999 0.1687375 0.025845312500000002 0.002271875 0.025845312500000002 0.043784375 0.0851234375 0.0528390625 0.172753125 0.11259843750000001 0.2371859375'\n",
            "Warning: Skipping malformed line in /content/Paddy-Field-Insects-All-Classes-2/train/labels/WHORL-MAGGOTS_original_whorl-25-jpg_70b5ae17-0e2a-417e-8bc2-f779fedfbc51_jpg.rf.a36baac5299c210812c1559bc2a8322b.txt: '10 0.2427734375 0.49201875 0.22672656249999998 0.4945953125 0.20680625 0.510059375 0.1796421875 0.6079984375 0.165625 0.710240625 0.165625 0.7170124999999999 0.17783125 0.8038734375000001 0.20318437500000003 0.919853125 0.2224625 0.9921875 0.3765625 0.9921875 0.3765625 0.991028125 0.37160000000000004 0.9533578125 0.34986875 0.8915031250000001 0.317271875 0.8038734375000001 0.288296875 0.6543890625000001 0.27018906249999997 0.5409875000000001 0.2427734375 0.49201875'\n",
            "Warning: Skipping malformed line in /content/Paddy-Field-Insects-All-Classes-2/train/labels/PB-54_jpeg_jpg.rf.230a523814e8f30950aad703b0b38e05.txt: '5 0.33017870625 0.49941269374999997 0.2491980078125 0.5197533937500001 0.18536619375000002 0.5291412171875 0.1062908953125 0.5479171609375 0.10914906718749999 0.5698224390625 0.13010874687500001 0.555740465625 0.2501507078125 0.5307059125 0.3768617109375 0.5213179125 0.412112103125 0.5400938546875 0.42068654531250005 0.56512846875 0.44259899843749995 0.56512846875 0.4587951078125 0.58546905 0.3168406953125 0.6011156609375 0.2720631609375 0.6981246546875 0.2149003171875 0.7200298734375 0.2187111859375 0.7466291828125 0.279684903125 0.7169006 0.32255703593749996 0.624585575 0.46832225000000005 0.60424499375 0.5283432671875 0.6449262765625 0.4378354265625 0.8186035640625 0.48737653124999997 0.987586884375 0.5035727156250001 0.989151640625 0.45688970937500006 0.8279915062500001 0.548350246875 0.6543140984375 0.59026968125 0.669960709375 0.6483852999999999 0.8045215921875 0.7503256781250001 0.99384555 0.7808125 0.9969749453125001 0.75985281875 0.97506966875 0.7322240234375 0.9250004437499999 0.6779193484375 0.826426871875 0.6064657921875 0.67309004375 0.620756503125 0.659008128125 0.68173029375 0.6949953203125 0.8055831250000001 0.7747930078125 0.8684621671875 0.78887498125 0.8913273921875 0.7622757921875001 0.8846582765625 0.740370515625 0.8065357515624999 0.6527495812499999 0.7284132249999999 0.6058097499999999 0.6607704671875 0.5541758296875 0.7703325859375 0.44464955625 0.8427389156249999 0.6668314359374999 0.8875164484375 0.6871720171875 0.8875164484375 0.67309004375 0.886563821875 0.6668314359374999 0.8541714546874999 0.6496201265625 0.8236846328125 0.5494818578125 0.777954328125 0.4321322828125 0.764616390625 0.40709766875 0.6474325265624999 0.541658553125 0.6283782453125 0.5181886390625 0.6064657921875 0.4368262515625 0.5931277796875001 0.42900294843750003 0.5664518296875001 0.48220138593749995 0.5550192171874999 0.469684109375 0.4607005796875 0.4962834796875 0.44736256875 0.47124880625000004 0.398774165625 0.361722534375 0.3892470234375 0.361722534375 0.373050840625 0.4321322828125 0.326367834375 0.3679811421875 0.29111744375000004 0.3116533703125 0.228238328125 0.20995040625 0.18727159375 0.1379759921875 0.1596428703125 0.07538955 0.1101017671875 0.0268850515625 0.11873950312499999 0.056577796874999996 0.2177584859375 0.21307973750000003 0.3311314046875 0.40866236718750004 0.40639583281249997 0.4947187234375 0.38162528125 0.4947187234375 0.385436153125 0.507235996875 0.3568547296875 0.49941269374999997 0.33017870625 0.49941269374999997'\n",
            "Warning: Skipping malformed line in /content/Paddy-Field-Insects-All-Classes-2/train/labels/Image_26_jpg.rf.6e945f350d131496272c3f54f07120f3.txt: '4 0 0 0 0.3894375 0.017578125 0.3139546875 0.080078125 0.334921875 0.10546875 0.3104609375 0.12109375 0.1776671875 0.1015625 0.1077765625 0.09765625 0.037884375 0.140625 0.0029390625 0.140775 0 0 0'\n",
            "Warning: Skipping malformed line in /content/Paddy-Field-Insects-All-Classes-2/train/labels/Image_26_jpg.rf.6e945f350d131496272c3f54f07120f3.txt: '4 0.28515625 0.8066890624999999 0.296875 0.88356875 0.3125 0.88356875 0.375 0.8206671875 0.3671875 0.750775 0.3828125 0.6529281250000001 0.3828125 0.44325468749999997 0.35546875 0.3663734375 0.3515625 0.2545484375 0.3671875 0.20562343749999998 0.357421875 0.1112703125 0.263671875 0.1881515625 0.220703125 0.25804218749999996 0.201171875 0.26503125 0.16015625 0.3943296875 0.17578125 0.5131453125000001 0.23046875 0.6179828125 0.2265625 0.6529281250000001 0.28515625 0.8066890624999999'\n",
            "Warning: Skipping malformed line in /content/Paddy-Field-Insects-All-Classes-2/train/labels/PB-57_jpeg_jpg.rf.9a1904be0af86051899f0e94f7a92cc4.txt: '5 0.4084507859375 0.41259907343749996 0.39834879375 0.426708659375 0.37814480625 0.5050952296875 0.25085964375 0.514501459375 0.1942885796875 0.552127096875 0.33975720625 0.7041967031249999 0.3458184640625 0.679113003125 0.25085964375 0.555262446875 0.37814480625 0.5270433406249999 0.368042815625 0.6054297859375 0.349859196875 0.7057644062499999 0.343797940625 0.776312209375 0.368042815625 0.78258315 0.396328425 0.75593180625 0.460981115625 0.6069976140625 0.46704236874999994 0.5286111640625 0.5579603 0.6540294828125 0.5155318109375 0.8374536671874999 0.5539194125 0.8797822999999999 0.5721030296875 0.868808246875 0.5417970515625 0.8311827265625 0.5902866484375 0.6477584234375 0.47512384062499996 0.49882422968749995 0.48724635625 0.4831468796875 0.6347353515624999 0.44238595 0.72161255 0.5427206265625 0.7983875968749999 0.5333142203125 0.79636723125 0.5160692234375001 0.7418165328125 0.5270433406249999 0.675143321875 0.46746959062500004 0.6347353515624999 0.426708659375 0.4993687171875 0.45022459374999996 0.5013890812499999 0.4220054828125 0.5983682703125 0.34832220937499997 0.642816978125 0.41259907343749996 0.7135309234375 0.3937863734375 0.699388196875 0.371838146875 0.656959703125 0.392218609375 0.63069461875 0.3514576796875 0.6024090078125 0.3263739796875 0.5155318109375 0.389083140625 0.5094707078125 0.36556720625 0.5155318109375 0.2981548703125 0.52159306875 0.2182007171875 0.5539194125 0.15078841406250001 0.5882662796875 0.07710510625 0.656959703125 0.0034218328125 0.5963477515625 0.0034218328125 0.547858309375 0.08651145625 0.5155318109375 0.166465703125 0.49532782812500004 0.232310240625 0.48724635625 0.3153999265625 0.4791647296875 0.3310772171875 0.4448178625 0.27307122968750003 0.396328425 0.226039359375 0.3579408234375 0.185278403125 0.3033899703125 0.1413819734375 0.218533296875 0.09278239687499999 0.14781935156249998 0.08024060625 0.1368340859375 0.10235294375 0.1437786140625 0.10062104375 0.2650025234375 0.14451744375 0.366022446875 0.232310240625 0.4549198578125 0.337348096875 0.4448178625 0.36713497031250003 0.35996118906249996 0.31696762968750003 0.4084507859375 0.41259907343749996'\n",
            "Warning: Skipping malformed line in /content/Paddy-Field-Insects-All-Classes-2/train/labels/PB-21_jpeg_jpg.rf.04c26e68a47eac76c3a519d135ebf635.txt: '5 0.12714236406249999 0.2029701921875 0.0030347328125 0.1997721046875 0.0030347328125 0.22855556875 0.1506799734375 0.23974916406250002 0.3004649734375 0.2669335359375 0.39889507968750004 0.35008589218749997 0.46094889375000003 0.43323825156250007 0.45880914375000004 0.48760711562500003 0.313303653125 0.43323825156250007 0.1977553578125 0.540376859375 0.10788426250000001 0.553169640625 0.1014650046875 0.5851513125000001 0.2170133 0.5851513125000001 0.3282822515625 0.482809815625 0.46950806875 0.5131925515625 0.47592749218749997 0.5675612953125 0.23627140156249998 0.6954879796875 0.2897660421875 0.8761844078125 0.2384111546875 0.9417468124999999 0.261948925 0.97532754375 0.343260684375 0.8889771281250001 0.27692736406249996 0.7162760515625 0.50160485625 0.59794384375 0.5058843640624999 0.6443172921875 0.5294221343750001 0.7674466796875 0.54226081875 0.87778346875 0.6449704281249999 0.924156915625 0.674927459375 0.879382528125 0.6834866359375 0.8298109640625 0.6299919953125 0.6699026046875 0.6192930640625 0.5915475484375 0.8311318765625 0.6491146515625 0.754099625 0.84740085625 0.8311318765625 0.9113642000000001 0.854669653125 0.9001706640625 0.7947554218749999 0.8505990953125 0.9210028124999999 0.6443172921875 0.6257124859375 0.553169640625 0.61073389375 0.4652199203125 0.6792071281250001 0.4204455953125 0.7198629249999999 0.50519713125 0.8311318765625 0.5131925515625 0.835411384375 0.48121075625 0.7562393796875 0.4636208640625 0.6920458125 0.37087396875 0.576497353125 0.447630028125 0.555099496875 0.406053815625 0.606454384375 0.3165051640625 0.5850565296875 0.24774457968750002 0.6428306734375 0.159795015625 0.715583421875 0.0734444484375 0.7947554218749999 0.0014856875 0.7241425984375 0.006282928124999999 0.6449704281249999 0.08943528437500001 0.5615189203125001 0.1949748046875 0.5032085078125 0.2964 0.490905925 0.2973161484375 0.46736831562500003 0.3245005796875 0.41815318125 0.29411796875 0.321862828125 0.24454640468750002 0.261948925 0.2029701921875 0.2255724765625 0.2205601484375 0.12714236406249999 0.2029701921875'\n",
            "Warning: Skipping malformed line in /content/Paddy-Field-Insects-All-Classes-2/train/labels/Image_26_jpg.rf.14ca6bbcbd3c17359517b4248b676114.txt: '4 1 0.419346875 0.978515625 0.419346875 0.943359375 0.4892390625 0.880859375 0.524184375 0.890625 0.6255265624999999 0.880859375 0.6499890625 0.845703125 0.643 0.822265625 0.740846875 0.763671875 0.7198796875 0.68359375 0.7862765625 0.69140625 0.86315625 0.67578125 0.9050921875 0.724609375 0.9784765625 0.763671875 0.9854671875 0.7641 1 1 1 1 0.419346875'\n",
            "Warning: Skipping malformed line in /content/Paddy-Field-Insects-All-Classes-2/train/labels/WHORL-MAGGOTS_original_whorl-136-jpg_e680ff20-ba24-4cfd-a253-c4578af35f6a_jpg.rf.a04efc49b9b9953bb9dbb0ae1196a561.txt: '10 0.881671875 0.1834625 0.807625 0.2971578125 0.6132531250000001 0.46769999999999995 0.45220312500000004 0.506459375 0.2504265625 0.5193796875000001 0.2059984375 0.5581390625 0.23191406250000002 0.6666671875 0.328175 0.7700265625 0.424434375 0.8423765624999999 0.5965921875 0.8242890624999999 0.7243234375000001 0.7622734375 0.813178125 0.6537468750000001 0.9298015625 0.5012921875 0.9982953125 0.351421875 0.9649734375 0.22480625 0.881671875 0.1834625'\n",
            "Warning: Skipping malformed line in /content/Paddy-Field-Insects-All-Classes-2/train/labels/Image_25_jpg.rf.ea482db46653f0f448767bba792d1f2a.txt: '4 1 0.681078125 0.9700203125 0.776015625 0.895553125 0.7525000000000001 0.8348046874999999 0.814228125 0.79155625 1 1 1 1 0.681078125'\n",
            "Warning: Skipping malformed line in /content/Paddy-Field-Insects-All-Classes-2/train/labels/WHORL-MAGGOTS_original_whorl-25-jpg_793bbf4d-489c-4eb7-9e81-ae48644df867_jpg.rf.dd6753e92767b945e0ca58503f4d492e.txt: '10 0.21502500000000002 0 0.12404843750000001 0.0127171875 0.07153125 0.09261406250000001 0.0624765625 0.1828203125 0.05523281249999999 0.2627171875 0.08376875 0.33125 0.0968109375 0.33125 0.11499375 0.32972812500000004 0.1548328125 0.2317890625 0.1765640625 0.159625 0.1946734375 0.0900375 0.2218375 0.0900375 0.2421875 0.07555625 0.2421875 0.0681859375 0.23632499999999998 0.04106875 0.2163171875 0 0.21502500000000002 0'\n",
            "Warning: Skipping malformed line in /content/Paddy-Field-Insects-All-Classes-2/train/labels/WHORL-MAGGOTS_original_whorl-25-jpg_793bbf4d-489c-4eb7-9e81-ae48644df867_jpg.rf.dd6753e92767b945e0ca58503f4d492e.txt: '10 0.0062265624999999995 0.5571359375 0.02976875 0.5571359375 0.0784359375 0.5640625 0.0856796875 0.5640625 0.1348015625 0.5390953125 0.18550781249999998 0.49012500000000003 0.22353593749999998 0.4746625 0.228125 0.4441859375 0.228125 0.4365765625 0.218103125 0.41280625000000004 0.18550781249999998 0.40249687500000003 0.12393593750000001 0.40249687500000003 0.0370125 0.4076515625 0.00028125 0.4256921875 0.0062265624999999995 0.5571359375'\n",
            "Warning: Skipping malformed line in /content/Paddy-Field-Insects-All-Classes-2/train/labels/WHORL-MAGGOTS_original_whorl-25-jpg_793bbf4d-489c-4eb7-9e81-ae48644df867_jpg.rf.dd6753e92767b945e0ca58503f4d492e.txt: '10 0.3461984375 0.5842859375 0.33171093749999997 0.5069671875 0.3079046875 0.47346093749999996 0.2918703125 0.48634843749999995 0.28100468749999996 0.5378953125 0.2628953125 0.630678125 0.2502203125 0.75954375 0.25746250000000004 0.852328125 0.2954921875 0.9219156249999999 0.32264375 0.9734375 0.32318281249999997 0.9734375 0.3787953125 0.970884375 0.3950921875 0.88325625 0.3643078125 0.8342859375 0.34438749999999996 0.75954375 0.34438749999999996 0.6744921875000001 0.3461984375 0.5842859375'\n",
            "Warning: Skipping malformed line in /content/Paddy-Field-Insects-All-Classes-2/train/labels/Image_25_jpg.rf.575c4eb68da1f1a226548408ce80f3d8.txt: '4 0.6717234375000001 0 0.67920625 0.049384375 0.749753125 0.16696249999999999 0.7419140625 0.237509375 0.8398953125 0.349209375 0.8712500000000001 0.4609078125 0.9594343750000001 0.5873046875 1 0.6215859375 1 0 0.6717234375000001 0'\n"
          ]
        },
        {
          "output_type": "stream",
          "name": "stderr",
          "text": [
            "\r 70%|██████▉   | 3726/5345 [00:00<00:00, 7574.33it/s]"
          ]
        },
        {
          "output_type": "stream",
          "name": "stdout",
          "text": [
            "Warning: Skipping malformed line in /content/Paddy-Field-Insects-All-Classes-2/train/labels/PB-49_jpeg_jpg.rf.bc2db7977e20f18922b73fa122a5268b.txt: '5 0.034961290625 0.37998158437499996 0.034961290625 0.3910907546875 0.1887341234375 0.31808769375 0.4020318734375 0.30380453281249997 0.49958666875 0.37839452812499996 0.5161213765625 0.41013496875 0.5144678046875 0.46091969375 0.4053387640625 0.446636528125 0.40864578125 0.5291616375 0.38384371875 0.53074869375 0.3888040546875 0.5593152015625 0.44502208593750003 0.5482059125000001 0.4152595640625 0.4704418640625 0.5144678046875 0.48789908281249994 0.5045470046875 0.5466189171875 0.4599033453125 0.5799463578124999 0.31109098125 0.5751854234375 0.3044770734375 0.66564558125 0.2664471953125 0.725952471875 0.26810076875 0.746583690625 0.23833824531249997 0.7624539125 0.239991690625 0.7910203578125 0.31605131875 0.733887584375 0.31605131875 0.6846898609375 0.3805367 0.611686803125 0.4384081765625 0.5926425234375 0.512814359375 0.610099803125 0.5111609140625 0.7402355765624999 0.5458837765625 0.8703714671875 0.5954878953125 0.9481355812500001 0.6235969765625 0.8735454624999999 0.6302107593749999 0.822760803125 0.6318643265625 0.7656280265625 0.6252504234375 0.6942120921875 0.61367605 0.6354921359375 0.7393399265625 0.7180173625 0.7128842953125 0.9275042453125 0.7872906046875 0.981463021875 0.80051841875 0.9751149078125 0.8087856453125 0.9592446859375 0.8071323265625001 0.9576576906250001 0.802171740625 0.9576576906250001 0.74264681875 0.9163951359375 0.7724092140625001 0.7132562484375 0.620289959375 0.5974036375 0.6087157140625 0.5228135843749999 0.7145378640625 0.4863120828125 0.8087857734374999 0.5561410265625 0.8831919546875 0.54503185625 0.8749246046874999 0.52440058125 0.7922510640625 0.514878471875 0.7211516453125 0.451397584375 0.60706226875 0.4958341921875 0.5772997453125 0.42441819687500004 0.5739928546875 0.36887241875 0.6318643265625 0.2958694234375 0.6765079859375 0.218105309375 0.755874509375 0.14192822656249998 0.850122540625 0.0625771484375 0.9410634312499999 0.0181405671875 0.939409859375 0.0063481140625 0.9096473359375 0.0063481140625 0.7707558953125 0.0752733140625 0.6583198359375 0.1847779 0.549190790625 0.34348008750000003 0.5359629765625 0.335544978125 0.5185955546875001 0.358074990625 0.52438873125 0.36728541875 0.4830519640625 0.3307838609375 0.3921110734375 0.2657159734375 0.2432987046875 0.28317319687500003 0.13913 0.3133266421875 0.034961290625 0.36728541875 0.034961290625 0.37998158437499996'\n",
            "Warning: Skipping malformed line in /content/Paddy-Field-Insects-All-Classes-2/train/labels/PB-55_jpg.rf.d15e1dd43534130adef809e3d83ede09.txt: '5 0.30098307343749997 0.4678548390625 0.274868628125 0.50248953125 0.236960634375 0.594271440625 0.19821025625 0.762249690625 0.19568309374999998 0.9319597203125 0.21253109218750002 0.9233010453125001 0.21168864062499998 0.8297873625 0.21927025156250002 0.76744495 0.243699859375 0.6652725921875 0.2622326296875 0.5734906796875 0.304352621875 0.5042213046875 0.3574238359375 0.47651351406250003 0.3734294453125 0.4851721859375 0.3270974546875 0.5267338390625 0.3692174453125 0.632369609375 0.37427183125 0.62024745625 0.34563022656250003 0.5336607359375 0.4340822078125 0.49036737500000005 0.44250620625000003 0.5094164937500001 0.36837505937500004 0.6531505671875 0.3717446078125 0.6670043 0.41470704999999997 0.729346778125 0.4113374375 0.8280556546875 0.429027821875 0.8280556546875 0.43323982031249997 0.7345419671875 0.387750215625 0.65488214375 0.4568270421875 0.5094164937500001 0.45598459062499996 0.47651351406250003 0.5040014187499999 0.4695866125 0.494735034375 0.609857209375 0.48968058125 0.6600774031250001 0.5090558046875 0.7033707609375 0.56633901875 0.6219792296875 0.5823445640625 0.6860534203124999 0.5983501734375001 0.679126584375 0.5713934046875 0.597734921875 0.518322190625 0.6618092421874999 0.5141101906250001 0.5042213046875 0.5191645765625 0.448805790625 0.545279021875 0.43495192656250004 0.56381179375 0.4695866125 0.6893293796875 0.4955626296875 0.7550365921875 0.54924650625 0.75756381875 0.5336607359375 0.6960686046875 0.47478180625000005 0.5848717875 0.44707401718749995 0.5730781781250001 0.42282977343750006 0.583187015625 0.42109800000000003 0.7146013765625 0.37780463750000004 0.7946293578125 0.34836520625 0.80136858125 0.31373051875 0.7996838078125 0.2964131734375 0.7643029140625 0.2790958265625 0.677535834375 0.2790958265625 0.62193739375 0.10419061249999999 0.6050893984375 0.09726374843749999 0.55959979375 0.29814488125 0.4762021984375 0.28429102031250003 0.402913440625 0.38992679375 0.3826958296875 0.3795364109375 0.38185344374999997 0.40551242812500005 0.3717446078125 0.4193662921875 0.3506846125 0.4003172390625 0.275711078125 0.320657415625 0.21084625468749998 0.2271437984375 0.14766626562500001 0.1353618515625 0.0802742796875 0.05397038750000001 0.028045484375000002 0 0.0128420859375 0.006930909375 0.0111974875 0.01760389375 0.1569326515625 0.1873138515625 0.26475985468749996 0.3500969140625 0.26475985468749996 0.351828621875 0.362478221875 0.436683634375 0.34899983749999997 0.46265965 0.30098307343749997 0.4678548390625'\n",
            "Warning: Skipping malformed line in /content/Paddy-Field-Insects-All-Classes-2/train/labels/Image_26_jpg.rf.eaf79aad4ea737619a4cf43e924d031f.txt: '4 0.140775 1 0.14453125 0.926059375 0.154296875 0.9085859375 0.169921875 0.9085859375 0.1875 0.9400375000000001 0.16015625 0.7862765625 0.171875 0.737353125 0.146484375 0.712890625 0.134765625 0.6709562499999999 0.07421875 0.632515625 0.0703125 0.5626249999999999 0.05859375 0.548646875 0.029296875 0.419346875 0 0.419346875 0 1 0.140775 1'\n",
            "Warning: Skipping malformed line in /content/Paddy-Field-Insects-All-Classes-2/train/labels/Image_26_jpg.rf.eaf79aad4ea737619a4cf43e924d031f.txt: '4 1 0.080375 0.970703125 0.02795625 0.857421875 0.013978125 0.80078125 0.080375 0.771484375 0.18171718750000002 0.75390625 0.12230937500000001 0.724609375 0.09085937499999999 0.705078125 0.0978484375 0.67578125 0.150265625 0.671875 0.2620921875 0.693359375 0.34945624999999997 0.732421875 0.34945624999999997 0.794921875 0.39837968749999997 0.861328125 0.419346875 0.923828125 0.496228125 0.97265625 0.5136999999999999 0.98046875 0.499721875 0.95703125 0.4088640625 0.98828125 0.3040265625 0.984375 0.26908125 1 0.24112499999999998 1 0.080375'\n",
            "Warning: Skipping malformed line in /content/Paddy-Field-Insects-All-Classes-2/train/labels/whorl-128-_jpg.rf.71a8f2304b317198616192628dc59014.txt: '10 0.525853125 0.6287281250000001 0.3779078125 0.6618078125 0.30193593750000003 0.5803828125 0.2566203125 0.46333437499999997 0.227296875 0.381909375 0.20197343750000002 0.343740625 0.1966421875 0.3361078125 0.1753171875 0.3386515625 0.1553234375 0.351375 0.137996875 0.364096875 0.1313328125 0.3793640625 0.1180046875 0.4709671875 0.137996875 0.6032828125 0.195309375 0.76104375 0.26994843749999997 0.8806375 0.3759828125 0.915625 0.38308749999999997 0.915625 0.5231874999999999 0.8984484374999999 0.6338125 0.8322906250000001 0.7257781249999999 0.748321875 0.7884203125 0.6847078125 0.803125 0.6192078125 0.803125 0.6097671874999999 0.7804234375 0.544759375 0.7723187499999999 0.5294921875 0.7457703125 0.5498484375 0.6751296875 0.5727484375 0.61781875 0.59565 0.525853125 0.6287281250000001'\n",
            "Warning: Skipping malformed line in /content/Paddy-Field-Insects-All-Classes-2/train/labels/BA-58-_JPG_jpg.rf.fa99c59f4d94a9644eac347d8ad8ec40.txt: '8 0.8115234375 0.583984375 0.8105468765625 0.5654296890625 0.734375 0.5068359359375 0.734375 0.4833984375 0.7646484375 0.4257812515625 0.8779296890625 0.3769531234375 0.8740234375 0.369140625 0.8388671875 0.3710937484375 0.7587890640625 0.4101562515625 0.7265625015625 0.3564453109375 0.6796874984375 0.3173828125 0.662109375 0.2744140640625 0.5986328125 0.2460937484375 0.4384765625 0.244140625 0.2978515625 0.265625 0.150390625 0.2490234375 0.1591796890625 0.265625 0.2070312515625 0.2861328125 0.1611328125 0.3085937484375 0.11718749843750001 0.3505859359375 0.08984374843750001 0.4150390640625 0.08984374843750001 0.5048828125 0.1357421875 0.5742187484375 0.1689453109375 0.5917968765625 0.2021484375 0.5917968765625 0.3642578125 0.5351562515625 0.4824218765625 0.5185546890625 0.4306640640625 0.5644531234375 0.3515625015625 0.5830078125 0.3544921875 0.5976562515625 0.4013671875 0.5976562515625 0.4501953109375 0.5820312515625 0.5146484375 0.53125 0.5351562515625 0.5576171875 0.4238281234375 0.6806640640625 0.4345703109375 0.6953125015625 0.6103515625 0.5136718765625 0.666015625 0.6162109359375 0.7109374984375 0.6748046890625 0.7480468765625 0.7001953109375 0.7519531234375 0.6826171875 0.7226562515625 0.6591796890625 0.6855468765625 0.5888671875 0.6855468765625 0.5439453109375 0.7099609359375 0.5292968765625 0.7548828125 0.5917968765625 0.7587890640625 0.5703125015625 0.8115234375 0.583984375'\n",
            "Warning: Skipping malformed line in /content/Paddy-Field-Insects-All-Classes-2/train/labels/PB-66_jpeg_jpg.rf.ea4e64c07dec5fdad6bc720b22416449.txt: '5 1 0.1918336765625 0.8897860874999999 0.3334594515625 0.7991162671875001 0.4107098546875 0.7000954109374999 0.45738200312500005 0.6786209609375 0.45094444375 0.6654977265625 0.4670382796875 0.63567215 0.449335084375 0.7227628671875 0.364037765625 0.6953233 0.2900060828125 0.723955871875 0.2513809421875 0.7144116515625 0.23850582656250002 0.6702698359375 0.291615503125 0.7036745171875001 0.359209565625 0.611811690625 0.4557725828125 0.5807931109375 0.43806938906250004 0.5605117546875 0.43806938906250004 0.592723340625 0.2771310265625 0.4758070484375 0.2047087640625 0.4877372796875 0.1274583625 0.488930375 0.1274583625 0.46149080781249996 0.12102080156249999 0.4591048 0.21758381875000002 0.567669875 0.2819591640625 0.542616409375 0.44128816718749997 0.49966750937500004 0.45738200312500005 0.41257688437500006 0.2932248625 0.351732728125 0.20953690156250002 0.17993739687500002 0.283568584375 0.097618790625 0.21114635312500002 0.086881565625 0.2256307359375 0.165621065625 0.30609991718749996 0.349346628125 0.23689643437500002 0.4770001453125 0.46060078281249994 0.40183965781250003 0.449335084375 0.26702802187499997 0.444506946875 0.20618386718749998 0.46221014218749995 0.1612999125 0.48953301250000003 0.1620420515625 0.4960071734375 0.1751652859375 0.5458981015625 0.27060712656249997 0.5732576359375 0.3755931890625 0.563601296875 0.46864892812500003 0.5668202 0.38752341874999996 0.7615554703125 0.23243042812499998 0.6698206546875001 0.17993739687500002 0.7374147171875001 0.1870955171875 0.758336753125 0.23243042812499998 0.7020083265625 0.39826055312499997 0.7824774437500001 0.4549242234375 0.6382123703125 0.467455925 0.6987895453124999 0.47819314999999996 0.6891332078125 0.4710350296875 0.652117396875 0.5593186593749999 0.6328047796875 0.567669875 0.58130455625 0.58795123125 0.5941796109374999 0.6654977265625 0.5330230453125 0.6929372921875 0.5426793234375 0.7132186453125 0.5410699640625001 0.7979233531250001 0.6328047796875 0.8850140703125 0.8130557578125 0.9685256796875 1 0.993579053125 0.9981348750000001 0.9398930171875 0.8388058718750001 0.8921720984375 0.734195996875 0.8325209484375 0.6408516984375 0.7740628015625 0.5684294375000001 0.720376765625 0.5137104296875 0.745430321875 0.4927884546875 0.731113990625 0.4750851984375 0.8551884937500001 0.4042723546875 0.926769875 0.3334594515625 1 0.22884951718750002 1 0.1918336765625'\n",
            "Warning: Skipping malformed line in /content/Paddy-Field-Insects-All-Classes-2/train/labels/WHORL-MAGGOTS_original_whorl-26-jpg_7ad50575-ee1f-4dac-9ea2-e03e16ed9830_jpg.rf.502a0a99bb7abd23d05d294192ee5258.txt: '10 0.22325468750000002 0.3427828125 0.24679687499999997 0.3350515625 0.261284375 0.27835 0.2576625 0.20360781249999998 0.25222968749999997 0.15463906249999998 0.2377421875 0.1030921875 0.2142 0.04896875 0.20152343749999999 0.0360828125 0.1906578125 0.023195312500000002 0.176171875 0.0154640625 0.1580625 0.00773125 0.154440625 0.0051546874999999995 0.0495640625 0.0025765625 0.042162500000000006 0.0644328125 0.0584609375 0.108246875 0.082003125 0.1443296875 0.103734375 0.1804125 0.12184375 0.211340625 0.132709375 0.24226874999999998 0.1526296875 0.2938140625 0.168928125 0.32732031250000004 0.1979015625 0.3479375 0.22325468750000002 0.3427828125'\n",
            "Warning: Skipping malformed line in /content/Paddy-Field-Insects-All-Classes-2/train/labels/WHORL-MAGGOTS_original_whorl-26-jpg_7ad50575-ee1f-4dac-9ea2-e03e16ed9830_jpg.rf.502a0a99bb7abd23d05d294192ee5258.txt: '10 0.1942796875 0.49226875000000003 0.2123890625 0.47165 0.23049843750000001 0.43556718749999995 0.23049843750000001 0.412371875 0.210578125 0.389175 0.168928125 0.39175312500000004 0.1417640625 0.389175 0.103734375 0.389175 0.0403515625 0.4020625 0.0024625000000000003 0.41752500000000003 0.007756250000000001 0.5695875 0.015 0.5670109375 0.0294875 0.5670109375 0.043973437500000004 0.5644328125 0.0693265625 0.5618562500000001 0.10011250000000001 0.5541234375 0.13452031250000002 0.530928125 0.161684375 0.5128859375 0.1942796875 0.49226875000000003'\n",
            "Warning: Skipping malformed line in /content/Paddy-Field-Insects-All-Classes-2/train/labels/WHORL-MAGGOTS_original_whorl-26-jpg_7ad50575-ee1f-4dac-9ea2-e03e16ed9830_jpg.rf.502a0a99bb7abd23d05d294192ee5258.txt: '10 0.404346875 0.5644328125 0.397103125 0.47680468749999994 0.37174999999999997 0.44329843750000003 0.35391249999999996 0.44072187500000004 0.3228546875 0.44587656249999996 0.283015625 0.5128859375 0.283015625 0.6520625 0.2558515625 0.81185625 0.23412031249999998 0.912371875 0.2449859375 0.9587625 0.3300984375 0.97938125 0.397103125 0.889175 0.404346875 0.7396906249999999 0.404346875 0.5644328125'\n",
            "Warning: Skipping malformed line in /content/Paddy-Field-Insects-All-Classes-2/train/labels/WHORL-MAGGOTS_original_whorl-24-jpg_f6c13afe-151b-4701-b907-b4afcd10b246_jpg.rf.77febd7f16e588f5ee02bf83fcbae30a.txt: '10 0.022215625 0.010365625 0.0004859375 0.072221875 0.0004859375 0.141809375 0.0095390625 0.2165515625 0.041678124999999996 0.240625 0.051110937499999995 0.240625 0.087409375 0.232015625 0.1109515625 0.1830453125 0.1399265625 0.1340765625 0.1399265625 0.072221875 0.1651390625 0.018096875000000002 0.022215625 0.010365625'\n",
            "Warning: Skipping malformed line in /content/Paddy-Field-Insects-All-Classes-2/train/labels/WHORL-MAGGOTS_original_whorl-24-jpg_f6c13afe-151b-4701-b907-b4afcd10b246_jpg.rf.77febd7f16e588f5ee02bf83fcbae30a.txt: '10 0.038246875 0.5205140625 0.11249374999999999 0.49474062500000004 0.14146875 0.45608125 0.14375 0.420371875 0.14375 0.398771875 0.10525 0.3813390625 0.058167187499999995 0.365875 0.0021687499999999997 0.3529875 0.0092296875 0.565625 0.010071875 0.565625 0.038246875 0.5205140625'\n",
            "Warning: Skipping malformed line in /content/Paddy-Field-Insects-All-Classes-2/train/labels/WHORL-MAGGOTS_original_whorl-24-jpg_f6c13afe-151b-4701-b907-b4afcd10b246_jpg.rf.77febd7f16e588f5ee02bf83fcbae30a.txt: '10 0.23800156249999999 0.71423125 0.20359375000000002 0.814746875 0.1800515625 0.9255718749999999 0.1583203125 0.9874281249999999 0.297721875 0.996875 0.31056875 0.996875 0.31949218749999997 0.9384578125 0.34665625 0.8611390625 0.343034375 0.7425828125 0.343034375 0.6601078125 0.3515625 0.5945640625 0.3515625 0.5789125 0.3484671875 0.5106234374999999 0.335790625 0.49258281249999997 0.3179390625 0.5028921875 0.2941390625 0.5260875 0.2651640625 0.6111390625 0.23800156249999999 0.71423125'\n",
            "Warning: Skipping malformed line in /content/Paddy-Field-Insects-All-Classes-2/train/labels/BA-32-_jpg.rf.2b0ba3aca9743b2baaefa828a9f29988.txt: '8 0.6976173671875 0.6412768453125001 0.6636443375 0.57430740625 0.667064609375 0.5561362765625 0.7390525515624999 0.5162243515625 0.65944663125 0.5356580140625 0.6334958234375 0.5053044390625 0.666834371875 0.46959022343749995 0.615840840625 0.49670396562499997 0.5113287140625 0.39856015624999996 0.4116921390625 0.34034057500000003 0.34079859687499997 0.3208014453125 0.2690034015625 0.342623084375 0.26053357187500004 0.3912784359375 0.2964903359375 0.434299546875 0.253935578125 0.43730326093749994 0.2291975015625 0.45536249218749997 0.23244376562500002 0.5075998125 0.30083742812500003 0.5562674734375 0.5013168796875 0.591937771875 0.5882173796875 0.580072296875 0.6976173671875 0.6412768453125001'\n",
            "Warning: Skipping malformed line in /content/Paddy-Field-Insects-All-Classes-2/train/labels/WHORL-MAGGOTS_original_whorl-137-jpg_30edd445-64d2-462a-a1bd-7f4cf8aee886_jpg.rf.a3c6f860e2dcdb5c4b5d57cbff0e054c.txt: '10 0.6795015624999999 0.49132499999999996 0.5240046875 0.47323750000000003 0.4110828125 0.315615625 0.316675 0.186415625 0.283353125 0.21225624999999998 0.22055937499999997 0.29043125000000003 0.22055937499999997 0.3171515625 0.24262812500000003 0.393134375 0.30186562499999997 0.5740125 0.4092328125 0.71613125 0.522153125 0.7884828125000001 0.6461812499999999 0.8169062500000001 0.7551281249999999 0.8265625 0.764084375 0.8265625 0.9331109375000001 0.736803125 0.97545 0.6231078125 0.999753125 0.5300859375 0.99605 0.4680703125 0.88498125 0.45515 0.6795015624999999 0.49132499999999996'\n",
            "Warning: Skipping malformed line in /content/Paddy-Field-Insects-All-Classes-2/train/labels/PB-69_jpg.rf.011f709f0a20ead7f349405cc1de8580.txt: '5 0.5027787375 0.352862115625 0.515481640625 0.430595309375 0.3900409265625 0.421076978125 0.2852424015625 0.45915036093749995 0.21696451093750002 0.44011370000000005 0.20902522656250003 0.45915036093749995 0.2995331375 0.4781870828125 0.377338025 0.4417000671875 0.5138938078125 0.4464592328125 0.553590228125 0.5241924859375 0.3344659390625 0.6971092234375 0.33764160312499997 0.7034549390625 0.4297373484375 0.7748425375 0.3646352421875 0.8446437078125 0.3725745265625 0.8509893015625 0.45831882031250004 0.7700833125 0.369398740625 0.6955229765625 0.571056628125 0.5416427781250001 0.7139637421875 0.8906491125 0.7647751125 0.9350681484375001 0.7949445374999999 0.923963328125 0.791768628125 0.8525756703124999 0.7361937625 0.6891772625 0.6885580578125 0.5686115828125 0.842580240625 0.674899765625 0.8854523265625 0.9144449984374999 0.977548071875 0.9905918828125 0.9902507328124999 0.952518440625 0.920385128125 0.9033403 0.858458809375 0.6352399546874999 0.6679158703125 0.511501359375 0.6329830703125 0.40521305312499994 0.706024459375 0.3005111171875 0.752072209375 0.3274798015625 0.8044715328125 0.23864185 0.7854172984375001 0.219605128125 0.7361937625 0.2909927875 0.7012608390625 0.279888028125 0.61075305 0.37507157343749997 0.5901108625 0.343343725 0.6631522515625 0.20532757343750002 0.7314301421875 0.160908596875 0.7584237828125 0.0974529 0.7298423109375001 0.078416209375 0.7123759093750001 0.1402855078125 0.6171045000000001 0.2085003703125 0.5678808421875 0.3227206359375 0.558353725 0.3116158765625 0.553590228125 0.2767152328125 0.5250087578125 0.2529193453125 0.5011909046875 0.1545630921875 0.5027787375 0.0879345703125 0.5202451375 0.0054421515625 0.5043665703125 0.00702855 0.47896088593749997 0.12283524531250001 0.4805487171875 0.183118084375 0.42814951562500003 0.19739564062499998 0.4043316625 0.1624950546875 0.29000590000000004 0.10538486250000001 0.016894575000000002 0.0197197375 0.0103174234375 0.06587301718750001 0.012130957812499999 0.0657250515625 0.14233528906249998 0.086348171875 0.2995331375 0.1386991703125 0.4043316625 0.20374120312500002 0.47578522031250003 0.28781999062499997 0.47896088593749997 0.3163750421875 0.5027787375 0.352862115625'\n",
            "Warning: Skipping malformed line in /content/Paddy-Field-Insects-All-Classes-2/train/labels/WHORL-MAGGOTS_original_whorl-128-jpg_ccb523b0-ce81-4363-a11a-6f331536c0e1_jpg.rf.7a20e816fc63d30e5843c3ee4c20b177.txt: '10 0.1829265625 0.33011406249999997 0.14027499999999998 0.358103125 0.1256140625 0.5158640625 0.2122484375 0.8110296874999999 0.3082125 0.907721875 0.421521875 0.9359375 0.43492031249999996 0.9359375 0.762709375 0.7499609375 0.7946984375 0.6329125 0.789265625 0.5845671875 0.76004375 0.5336765625 0.3748546875 0.663446875 0.1829265625 0.33011406249999997'\n",
            "Warning: Skipping malformed line in /content/Paddy-Field-Insects-All-Classes-2/train/labels/Image_26_jpg.rf.1ce495750f2a551faa9e0f02bc7c24cc.txt: '4 0 0 0 0.3894375 0.017578125 0.3139546875 0.080078125 0.334921875 0.10546875 0.3104609375 0.12109375 0.1776671875 0.1015625 0.1077765625 0.09765625 0.037884375 0.140625 0.0029390625 0.140775 0 0 0'\n",
            "Warning: Skipping malformed line in /content/Paddy-Field-Insects-All-Classes-2/train/labels/Image_26_jpg.rf.1ce495750f2a551faa9e0f02bc7c24cc.txt: '4 0.220703125 0.25804218749999996 0.201171875 0.26503125 0.16015625 0.3943296875 0.17578125 0.5131453125000001 0.23046875 0.6179828125 0.2265625 0.6529281250000001 0.28515625 0.8066890624999999 0.296875 0.88356875 0.3125 0.88356875 0.375 0.8206671875 0.3671875 0.750775 0.3828125 0.6529281250000001 0.3828125 0.44325468749999997 0.35546875 0.3663734375 0.3515625 0.2545484375 0.3671875 0.20562343749999998 0.357421875 0.1112703125 0.263671875 0.1881515625 0.220703125 0.25804218749999996'\n",
            "Warning: Skipping malformed line in /content/Paddy-Field-Insects-All-Classes-2/train/labels/PB-62_jpeg_jpg.rf.391ca7c46f73037d48cbeac851c29c01.txt: '5 0.22962767187500002 0.477924275 0.2240701734375 0.5276949859375 0.2563036828125 0.5501720265625 0.357450146875 0.5501720265625 0.4441471609375 0.5758601515625 0.300763675 0.6866400031250001 0.188502215625 0.709117103125 0.136261675 0.7620988390625001 0.1495997234375 0.770126365625 0.1973941609375 0.7315942078125001 0.3063211734375 0.7219611968749999 0.41969411718750005 0.6288418234375001 0.4585966078125 0.579071115625 0.49083011875000004 0.5967317125 0.49083011875000004 0.7508602234375 0.4452586453125 0.8359520703125 0.43970114687499995 0.8760897078125 0.42858614843750004 0.91622735 0.4308091140625 0.9403099328125 0.45415067656249997 0.8760897078125 0.5108371484374999 0.755676790625 0.509725665625 0.5951261703124999 0.54640510625 0.6095758671875 0.6164296265625 0.739621734375 0.67867368125 0.9194383109375 0.6920116453125 0.9114107828125 0.627544625 0.7203555953125 0.5753040828125 0.622419778125 0.5641890859375 0.5822821375 0.605314628125 0.5806766578125 0.6575550828125001 0.622419778125 0.6820080453124999 0.6705849453125 0.7642591296875 0.9981081078124999 0.7775970937500001 0.9948971468750001 0.74536366875 0.8407685125000001 0.6842311796875 0.6432913375 0.664224065625 0.58709864375 0.6731161828125 0.5276949859375 0.6264331421875 0.5341169703124999 0.967663621875 0.2515480125 0.9565486249999999 0.24191494218749998 0.604203146875 0.5293005875000001 0.5953111140625 0.516456434375 0.569746584375 0.52287841875 0.549739640625 0.5020068578125 0.5786386171875 0.46186921875 0.563077603125 0.452236209375 0.5308440937500001 0.4891628265625 0.51194863125 0.47471325000000003 0.4141366171875 0.46508024375 0.33188570156249997 0.3751719546875 0.188502215625 0.43618115468749996 0.1596032359375 0.3944379734375 0.1391666421875 0.402008034375 0.1418191734375 0.40888754687500006 0.1862791640625 0.46026373749999994 0.326328203125 0.40407104374999997 0.40413318593750003 0.47471325000000003 0.3207707046875 0.46508024375 0.265195715625 0.47471325000000003 0.22962767187500002 0.477924275'\n",
            "Warning: Skipping malformed line in /content/Paddy-Field-Insects-All-Classes-2/train/labels/whorl-88-_jpg.rf.5782a157372eb632057ef8f697402502.txt: '10 0.0811984375 0.617378125 0.1356078125 0.6453249999999999 0.2650640625 0.673271875 0.396396875 0.683434375 0.5089671874999999 0.7240859375 0.6703187500000001 0.7621953125 0.786640625 0.7799796875 0.8785734375 0.8155484375000001 0.9348593749999999 0.8231703125 0.9423640625 0.8104671874999999 0.9273546874999999 0.7367890625 0.8635640625000001 0.698678125 0.76975625 0.685975 0.5277296875 0.6046750000000001 0.39076875 0.576728125 0.32322656250000004 0.551321875 0.2538078125 0.5309953125 0.122475 0.5055890625 0.08870312500000001 0.5284546875 0.0811984375 0.617378125'\n",
            "Warning: Skipping malformed line in /content/Paddy-Field-Insects-All-Classes-2/train/labels/BA-43-_jpg.rf.802abe293594e6dcd1ca06f4badc68b3.txt: '8 0.5361328125 0.4414062515625 0.5078125015625 0.4580078125 0.525390625 0.4697265625 0.5546874984375 0.6005859359375 0.6210937484375 0.7724609359375 0.6708984375 0.849609375 0.71875 0.8583984375 0.740234375 0.8388671875 0.7480468765625 0.8056640640625 0.724609375 0.6435546890625 0.6679687484375 0.4775390640625 0.6142578125 0.4082031234375 0.5869140640625 0.400390625 0.5634765625 0.4511718765625 0.5361328125 0.4414062515625'\n",
            "Warning: Skipping malformed line in /content/Paddy-Field-Insects-All-Classes-2/train/labels/BA-43-_jpg.rf.802abe293594e6dcd1ca06f4badc68b3.txt: '8 0.3242187484375 0.4404296890625 0.1914062515625 0.6298828125 0.1679687484375 0.6904296890625 0.1679687484375 0.7373046890625 0.2011718765625 0.7490234375 0.2177734375 0.796875 0.2421874984375 0.7978515625 0.2822265625 0.7792968765625 0.3320312515625 0.7314453109375 0.421875 0.5849609359375 0.4667968765625 0.4384765625 0.4423828125 0.375 0.3857421875 0.3925781234375 0.3701171875 0.421875 0.3242187484375 0.4404296890625'\n",
            "Warning: Skipping malformed line in /content/Paddy-Field-Insects-All-Classes-2/train/labels/BA-43-_jpg.rf.802abe293594e6dcd1ca06f4badc68b3.txt: '8 0.5712890640625 0.06445312343750001 0.5488281234375 0.1279296890625 0.4970703109375 0.1894531234375 0.400390625 0.1201171875 0.4296874984375 0.1826171875 0.4052734375 0.302734375 0.4326171875 0.2792968765625 0.4658203109375 0.328125 0.5419921875 0.3671874984375 0.724609375 0.3896484375 0.7792968765625 0.3681640640625 0.775390625 0.3349609359375 0.7949218765625 0.2763671875 0.7607421875 0.2207031234375 0.6650390640625 0.181640625 0.5283203109375 0.1796874984375 0.5664062515625 0.1201171875 0.5712890640625 0.06445312343750001'\n",
            "Warning: Skipping malformed line in /content/Paddy-Field-Insects-All-Classes-2/train/labels/PB-71_jpg.rf.1a64b05524bdca09356bcfecf75e3594.txt: '5 0.40467036875 0.0641386828125 0.48093380625000004 0.1371127109375 0.5068959453125 0.211673165625 0.495537478125 0.24974660937499998 0.519876890625 0.302097546875 0.519876890625 0.3338253953125 0.5133863562500001 0.354448484375 0.50527321875 0.430595309375 0.495537478125 0.3306525984375 0.3819535609375 0.3163750421875 0.35761414999999996 0.2767152328125 0.3381426703125 0.279888028125 0.3673498890625 0.3465165234375 0.48093380625000004 0.3512756875 0.4939148765625 0.4353544734375 0.5020280125000001 0.4369409015625 0.4987828078125 0.4797735109375 0.44685865625 0.414731384375 0.351123615625 0.4988102328125 0.32029379375 0.47660071249999997 0.307312725 0.49722392343750005 0.364104684375 0.5305380203125 0.44523605312500003 0.4496320296875 0.503650615625 0.5130878484375 0.50527321875 0.5210198109374999 0.47768860156250004 0.528951771875 0.437122915625 0.560679621875 0.347878409375 0.6542766765625 0.25214336875 0.7780152734375 0.22293615 0.8494029328125 0.24565283437500002 0.8494029328125 0.3738404234375 0.6701406015625 0.43063238281249994 0.6130304375 0.5004054109375 0.5543339046875 0.516631684375 0.571784259375 0.5068959453125 0.7922928296875 0.5247448218749999 0.825607046875 0.5020280125000001 0.8747851875 0.52312221875 0.9636231390625 0.5409710953125 0.9556911765624999 0.5312353562500001 0.8811307828125001 0.5312353562500001 0.8462301968749999 0.5474616296875 0.8430573390625 0.5636879031250001 0.817675084375 0.5685557109375 0.7684969421875001 0.5685557109375 0.6717270906249999 0.5701783140625001 0.6050984749999999 0.5864045875 0.5321244484375 0.601008259375 0.49405100468749996 0.592895121875 0.4686687515625 0.5620651765625 0.38300353593750003 0.5523294375 0.3369981921875 0.57342364375 0.283060825 0.6091213953125 0.2085003703125 0.6529324109375 0.1196623875 0.6756490953125 0.06889784843749999 0.6422922625 0.0621423375 0.617234534375 0.1386991703125 0.57829145 0.211673165625 0.5442163015625 0.31002950937499996 0.5442163015625 0.2925791546875 0.5442163015625 0.237055421875 0.52312221875 0.191050046875 0.51014115 0.1402855078125 0.4858017390625 0.0942801328125 0.4160287109375 0.048274759375 0.40467036875 0.0641386828125'\n",
            "Warning: Skipping malformed line in /content/Paddy-Field-Insects-All-Classes-2/train/labels/PB-44_jpg.rf.168cc2533d70a63d782e8f630060ccf0.txt: '5 1 0.4248462328125 0.75629663125 0.4956717828125 0.7631955968749999 0.2957863265625 0.7383592828125 0.27217781093750004 0.6569514859375001 0.3776292015625 0.607278859375 0.302081896875 0.5327701312500001 0.28791682343749997 0.5244912890625 0.21236957812499999 0.487236928125 0.27532562656250004 0.4072089 0.25014316875 0.36719499375 0.21236957812499999 0.2402539890625 0.07544016875000001 0.2195571 0.089605271875 0.000344796875 0.370472440625 0.001549896875 0.37133357031249997 0 0.43271574062499996 0.227835834375 0.11793553906250001 0.3451182234375 0.215517334375 0.27198926874999996 0.1840393390625 0.2609508828125 0.27375168906249997 0.27888823125 0.2816211921875 0.285787196875 0.20135222812500003 0.30234466875 0.21236957812499999 0.3616758 0.2564387984375 0.4003099375 0.2926385125 0.40996855156249995 0.3367077328125 0.44722291406250003 0.35402068125 0.47481876874999995 0.4122549765625 0.378233271875 0.3980899015625 0.23197525468750002 0.380776953125 0.233355028125 0.5869580390625 0.1574664203125 0.673522603125 0.165745159375 0.71129625625 0.26371053125 0.6058448656250001 0.2554316890625 0.41697672812500003 0.4996550828125 0.4374374296875 0.5217317484375 0.4594720125 0.2761285828125 0.4878022796875 0.33407994531249996 0.6121404328125 0.3589161515625 0.6011231140625 0.30924363125 0.5035412906250001 0.5451881828125 0.483080528125 0.576923459375 0.5208542984375 0.2554316890625 0.6514879640625 0.218177328125 0.6908354921875001 0.4334249859375 0.8797036296874999 0.3809929203125 0.9788594484375001 0.40306958593750003 0.9914505859375 0.46929957968749997 0.8734080000000001 0.27198926874999996 0.693983425 0.6031395453124999 0.54131488125 0.6804079203125 0.62945338125 0.8542617968749999 0.8419299765625 0.89013649375 0.8261909640624999 0.9342898203125 0.8010085703125001 0.9177323484375 0.742774275 0.7769935234374999 0.5507583265625 0.760435840625 0.5224280546875 1 0.467341515625 1 0.4248462328125'\n",
            "Warning: Skipping malformed line in /content/Paddy-Field-Insects-All-Classes-2/train/labels/WHORL-MAGGOTS_original_whorl-145-jpg_e1e27977-dfd2-4878-a2cd-00695e872784_jpg.rf.f31f2d0ca8c3316c360c16a8ea7774f8.txt: '10 0.53419375 0.3279875 0.4296171875 0.218534375 0.375790625 0.2657984375 0.334375 0.3402328125 0.334375 0.3408203125 0.36041249999999997 0.43743906250000003 0.4388453125 0.57176875 0.5326562499999999 0.725996875 0.6249296875 0.7807234375000001 0.7213984375 0.8359375 0.7339953125 0.8359375 0.8494609375 0.8105734375000001 0.9601890624999999 0.748384375 0.990625 0.6070890624999999 0.990625 0.6046046875 0.9863328125 0.5245046875 0.9278921875 0.489678125 0.78333125 0.489678125 0.6925953125000001 0.489678125 0.594171875 0.4299765625 0.53419375 0.3279875'\n",
            "Warning: Skipping malformed line in /content/Paddy-Field-Insects-All-Classes-2/train/labels/PB-4_jpg.rf.fb793fd63086fe132e73732408e4d1ea.txt: '5 0.7288611453125 0.5849356203125 0.699471140625 0.6047413328125 0.704913740625 0.629117640625 0.6777007421875 0.6626350296875 0.699471140625 0.702246509375 0.73539233125 0.6717762234375 0.7234185453124999 0.6215000546875 0.7386577578125 0.6230235484375 0.75063154375 0.6656820171875 0.781110134375 0.651970396875 0.7615167421875 0.6123589171875 0.790906746875 0.5971237453125 0.827916521875 0.6778702 0.8671031390625 0.6961523578125 0.8986703171875 0.7190051734375 0.8975817296875 0.6839642328125 0.9008473234375 0.6809171875 0.914998115625 0.7159580703125 0.9367685140625 0.7205286671875 0.940033940625 0.697675909375 0.9650699312500001 0.6824407390625 0.9280603203125001 0.6611114765624999 0.9269717343749999 0.636735225 0.9944599359374999 0.6473998562500001 0.9955485218750001 0.607788378125 0.9269717343749999 0.586459171875 0.9073783421874999 0.5224714421875001 0.8420671484375 0.55598883125 0.762605328125 0.53923010625 0.7408349296875001 0.5239949359375 0.7201529515625 0.45696021875000004 0.7364807515625 0.386878396875 0.707090746875 0.3914489359375 0.7027367328125 0.40363711875 0.694028540625 0.4737188828125 0.7201529515625 0.540753659375 0.696205546875 0.53923010625 0.6679039640625 0.55903581875 0.6058583625 0.65501744375 0.5756256546875 0.770198171875 0.5786453640625 0.7753752609375 0.5917076531250001 0.8104162 0.6058583625 0.7951810296875 0.6134780515625 0.7372873328125 0.6526647515625 0.642829259375 0.691851534375 0.581888575 0.7288611453125 0.5849356203125'\n",
            "Warning: Skipping malformed line in /content/Paddy-Field-Insects-All-Classes-2/train/labels/WHORL-MAGGOTS_original_whorl-24-jpg_f7449026-caa0-4ea0-b8a1-4c6e2591b9d1_jpg.rf.903f0c4a8219f6eb3f67b78805737c5a.txt: '10 0.037859375 0.0070999999999999995 0.030615625 0.0792640625 0.0016421875 0.16431562500000002 0.003453125 0.21328593749999997 0.0244671875 0.265625 0.033957812500000004 0.265625 0.0632125 0.25967656250000004 0.103053125 0.2210171875 0.14108281250000002 0.12823437499999998 0.173678125 0.0818421875 0.1827328125 0.01483125 0.037859375 0.0070999999999999995'\n",
            "Warning: Skipping malformed line in /content/Paddy-Field-Insects-All-Classes-2/train/labels/WHORL-MAGGOTS_original_whorl-24-jpg_f7449026-caa0-4ea0-b8a1-4c6e2591b9d1_jpg.rf.903f0c4a8219f6eb3f67b78805737c5a.txt: '10 0.004065625 0.565625 0.0111671875 0.565625 0.0203859375 0.5641671875000001 0.063846875 0.5435484374999999 0.118175 0.5151984374999999 0.1489609375 0.49973437499999995 0.15 0.48494374999999995 0.15 0.45858437500000004 0.1489609375 0.437878125 0.1326625 0.409528125 0.1036875 0.3837546875 0.058415625000000006 0.3837546875 0.0006046875 0.3837546875 0.004065625 0.565625'\n",
            "Warning: Skipping malformed line in /content/Paddy-Field-Insects-All-Classes-2/train/labels/WHORL-MAGGOTS_original_whorl-24-jpg_f7449026-caa0-4ea0-b8a1-4c6e2591b9d1_jpg.rf.903f0c4a8219f6eb3f67b78805737c5a.txt: '10 0.2663703125 0.592703125 0.242828125 0.5360015625 0.2229078125 0.5024968750000001 0.20660937499999998 0.481878125 0.199365625 0.4664140625 0.1903109375 0.4561046875 0.175825 0.474146875 0.17220312499999998 0.5024968750000001 0.17220312499999998 0.5591984375 0.1740140625 0.6081671875 0.18306875 0.6957953125 0.179446875 0.801465625 0.1975546875 0.8968265625 0.20479843749999999 0.9664140625 0.21549999999999997 0.996875 0.289453125 0.996875 0.34946875 0.9921875 0.34967187499999997 0.9226000000000001 0.34242812499999997 0.8478578125 0.335184375 0.76280625 0.3098328125 0.6854859375 0.2663703125 0.592703125'\n",
            "Warning: Skipping malformed line in /content/Paddy-Field-Insects-All-Classes-2/train/labels/Image_26_jpg.rf.5818cc935f42aee8fc2ebee8c78cf148.txt: '4 0.2359 1 0.236328125 0.9854671875 0.275390625 0.9784765625 0.32421875 0.9050921875 0.30859375 0.86315625 0.31640625 0.7862765625 0.236328125 0.7198796875 0.177734375 0.740846875 0.154296875 0.643 0.119140625 0.6499890625 0.109375 0.6255265624999999 0.119140625 0.524184375 0.056640625 0.4892390625 0.021484375 0.419346875 0 0.419346875 0 1 0.2359 1'\n",
            "Warning: Skipping malformed line in /content/Paddy-Field-Insects-All-Classes-2/train/labels/WHORL-MAGGOTS_original_whorl-144-jpg_c5b55875-d69d-461f-8555-a5fdb7202ba3_jpg.rf.949ab6039d050ece4e3dcb18faf0447a.txt: '10 0.4419953125 0.47231249999999997 0.3734375 0.5955265625 0.3734375 0.687028125 0.4150421875 0.7375 0.41703906249999995 0.7375 0.48813125 0.6787796875 0.5465718749999999 0.5469390625 0.6188515625 0.48226250000000004 0.7311171875 0.48475 0.8295421875000001 0.5071375 0.8625 0.45346562500000004 0.8625 0.44923124999999997 0.844921875 0.362859375 0.7772546874999999 0.3106203125 0.6895953125000001 0.2708203125 0.5850187499999999 0.2757953125 0.48351875 0.357884375 0.4419953125 0.47231249999999997'\n",
            "Warning: Skipping malformed line in /content/Paddy-Field-Insects-All-Classes-2/train/labels/WHORL-MAGGOTS_original_whorl-137-jpg_c29ba212-f574-4818-ab6a-6f1d6585385c_jpg.rf.21b9febdb4b33f0fc39469a33e30f36e.txt: '10 0.4873578125 0.6952390625 0.5706609375 0.7236640624999999 0.65155625 0.7359375 0.6580515625000001 0.7359375 0.7631812499999999 0.705575 0.8388187500000001 0.6022171875 0.8421875 0.5450999999999999 0.8421875 0.5342875 0.8057578124999999 0.488521875 0.6595171875 0.47043437499999996 0.54289375 0.4497625 0.3707890625 0.2921875 0.3706640625 0.2921875 0.3059453125 0.3360671875 0.3046875 0.383453125 0.3046875 0.40668906250000003 0.36333125 0.4911046875 0.39295 0.5867125 0.4873578125 0.6952390625'\n",
            "Warning: Skipping malformed line in /content/Paddy-Field-Insects-All-Classes-2/train/labels/PB-15_jpg.rf.8551cf6cb3cdc7a17590300587d44364.txt: '5 0.12133497499999998 0.364645534375 0.31705558749999996 0.347963103125 0.42143989531250003 0.40862636406249997 0.4497107171875 0.46928962500000004 0.4247019390625 0.43592487812499997 0.3812084703125 0.43592487812499997 0.32575431250000003 0.41772588749999995 0.3203176296875 0.4374414375 0.37250974375 0.463223334375 0.40404252500000004 0.4556404265625 0.45188535781250005 0.4950715234375 0.45405999843749995 0.5299528859375 0.39969316250000003 0.56635098125 0.4083918875 0.6270142421875 0.37685910625 0.6330804765625 0.38012115 0.66492878125 0.4323132625 0.648246290625 0.43122594375 0.5754503328125 0.4823308203125 0.5542182265625 0.49429150625 0.5875830296875 0.4083918875 0.6952604109375 0.40078056406250007 0.7422743578125 0.3866451546875 0.9379133984375001 0.35293773125 0.9712781453125 0.3659857390625 0.9925103109375 0.4127412515625 0.9530792140625 0.4149158921875 0.9136480015625 0.4236146203125 0.7286251015625 0.51386351875 0.6194313359375 0.5595317109375 0.749857265625 0.601937859375 0.8059707359375 0.6421692859375 0.834785809375 0.665003340625 0.8090039687499999 0.6541299734375 0.754406940625 0.6769641109375 0.749857265625 0.6737020671875 0.5633176921875 0.6051998203125 0.5481518765625 0.633470559375 0.5375357937499999 0.6215098718750001 0.5011378718749999 0.597588496875 0.5163036875 0.5867151296875 0.4950715234375 0.562793671875 0.463223334375 0.5323482921875 0.490521790625 0.5279989296875 0.4753559734375 0.5008155109375 0.4237921796875 0.5008155109375 0.3858776421875 0.5312609734375 0.3570626265625 0.523649565625 0.32673099687499996 0.481243415625 0.364645534375 0.4790687765625 0.40710980625 0.4638460453125 0.3964937234375 0.4671080890625 0.2691009109375 0.48994214375 0.1811391640625 0.5247368859375 0.079528246875 0.5617063515625 0.008248846875 0.5530077078125 0 0.5008155109375 0.085594509375 0.46058408437500004 0.1902386296875 0.43777171406250004 0.35887708749999997 0.4344879875 0.3600958015625 0.41926525468750003 0.376778175 0.39208183750000003 0.3570626265625 0.30074553593750003 0.317631471875 0.23550533125 0.3009490984375 0.12459701875 0.329764171875 0.12133497499999998 0.364645534375'\n",
            "Warning: Skipping malformed line in /content/Paddy-Field-Insects-All-Classes-2/train/labels/WHORL-MAGGOTS_original_whorl-144-jpg_6663f8f4-367b-4a5a-be75-d70464398724_jpg.rf.c9fc8497eccb031251e3a9e576413cf1.txt: '10 0.3712609375 0.5077499999999999 0.3451171875 0.5376015625 0.3314890625 0.649540625 0.4573828125 0.76396875 0.6056250000000001 0.8109375 0.6073296874999999 0.8109375 0.775725 0.74655625 0.9079828125 0.5500390625 0.9890625 0.35208125 0.9890625 0.349090625 0.9741125 0.2813828125 0.9187484375 0.1992921875 0.8726125 0.21421874999999999 0.7095953125000001 0.4779 0.5342765625 0.502775 0.3712609375 0.5077499999999999'\n",
            "Warning: Skipping malformed line in /content/Paddy-Field-Insects-All-Classes-2/train/labels/Image_26_jpg.rf.d9cf9b51bb10865740b3988583dfba9d.txt: '4 1 0.419346875 0.978515625 0.419346875 0.943359375 0.4892390625 0.880859375 0.524184375 0.890625 0.6255265624999999 0.880859375 0.6499890625 0.845703125 0.643 0.822265625 0.740846875 0.763671875 0.7198796875 0.68359375 0.7862765625 0.69140625 0.86315625 0.67578125 0.9050921875 0.724609375 0.9784765625 0.763671875 0.9854671875 0.7641 1 1 1 1 0.419346875'\n",
            "Warning: Skipping malformed line in /content/Paddy-Field-Insects-All-Classes-2/train/labels/WHORL-MAGGOTS_original_whorl-26-jpg_e37850d2-6b6e-4eb2-89ca-6ccdcf425cd0_jpg.rf.103184533160f4e97ab3c024c602046e.txt: '10 0.0821078125 0 0.0696578125 0.0022156249999999997 0.064225 0.0279875 0.042493750000000004 0.08984375 0.03525 0.14912187500000001 0.022573437499999998 0.2084 0.01351875 0.2651015625 0.0494203125 0.31875 0.0638328125 0.31875 0.0932 0.30891562499999997 0.11312031250000001 0.28314218750000003 0.12941875 0.23932812499999997 0.145715625 0.1929359375 0.14933749999999998 0.162009375 0.1583921875 0.0924203125 0.1982328125 0.0563390625 0.2328125 0.0563390625 0.2328125 0.022328124999999997 0.0865203125 0 0.0821078125 0'\n",
            "Warning: Skipping malformed line in /content/Paddy-Field-Insects-All-Classes-2/train/labels/WHORL-MAGGOTS_original_whorl-26-jpg_e37850d2-6b6e-4eb2-89ca-6ccdcf425cd0_jpg.rf.103184533160f4e97ab3c024c602046e.txt: '10 0.0242125 0.4120453125 0.007915624999999999 0.44555 0.0061046875 0.47647812500000003 0.0187796875 0.504828125 0.042321874999999995 0.528025 0.09302812499999999 0.5512203125 0.15097812500000002 0.566684375 0.1640421875 0.56875 0.209375 0.56875 0.209375 0.43059375 0.20878437500000002 0.40431249999999996 0.1799515625 0.3914265625 0.114759375 0.3914265625 0.0531875 0.39658125 0.0242125 0.4120453125'\n",
            "Warning: Skipping malformed line in /content/Paddy-Field-Insects-All-Classes-2/train/labels/WHORL-MAGGOTS_original_whorl-26-jpg_e37850d2-6b6e-4eb2-89ca-6ccdcf425cd0_jpg.rf.103184533160f4e97ab3c024c602046e.txt: '10 0.2937796875 0.6006359375 0.2792921875 0.66506875 0.2702375 0.73465625 0.259371875 0.77589375 0.2412625 0.8222859375 0.2322078125 0.8738328125000001 0.226775 0.9124921875 0.2249640625 0.9408421875 0.22134218749999998 0.96919375 0.2249640625 0.9898109375 0.2394515625 0.9898109375 0.27204843749999996 0.9898109375 0.302834375 0.9898109375 0.31118125 0.9921875 0.313303125 0.9921875 0.3299984375 0.9898109375 0.34810625 0.9537296874999999 0.3644046875 0.9202234375 0.3716484375 0.876409375 0.3716484375 0.8403265624999999 0.37345937500000004 0.806821875 0.3933796875 0.765584375 0.3953125 0.735328125 0.3953125 0.548353125 0.39156875 0.5181625000000001 0.3825140625 0.5001203125 0.37345937500000004 0.4898109375 0.357434375 0.48465625 0.310078125 0.5233171875 0.2937796875 0.6006359375'\n"
          ]
        },
        {
          "output_type": "stream",
          "name": "stderr",
          "text": [
            "\r 84%|████████▍ | 4499/5345 [00:00<00:00, 6983.50it/s]"
          ]
        },
        {
          "output_type": "stream",
          "name": "stdout",
          "text": [
            "Warning: Skipping malformed line in /content/Paddy-Field-Insects-All-Classes-2/train/labels/PB-63_jpg.rf.621269fe65438803f7de33e05cf1ad48.txt: '5 0.469427234375 0.41888043281250004 0.467796696875 0.48346120625 0.3634407046875 0.4944872078125 0.3650712421875 0.5417414515625001 0.288434878125 0.5811199859375 0.30963223281249996 0.6394003500000001 0.389529671875 0.7780126625 0.3373517359375 0.8331426125 0.37811578749999997 0.8583448515625 0.43192438437499997 0.8079403734374999 0.35039628437500003 0.661452234375 0.389529671875 0.65987705625 0.38626859687500004 0.565368571875 0.46127442500000004 0.5338657453125 0.43518545781249995 0.6267991109375 0.4531216140625 0.6866545937499999 0.49388566562499997 0.7134318890625 0.513452484375 0.6850793546875 0.5297581046875 0.606322284375 0.533019178125 0.5291404515625 0.68629203125 0.603171990625 0.6324834359375 0.8205415531250001 0.6879225703125 0.8851223265625 0.718903271875 0.8583448515625 0.6520502546875 0.8252669046875001 0.7074892640625 0.5984465765625 0.6869998093749999 0.5879562578125 0.7401005031250001 0.5826951625000001 0.738469965625 0.563793453125 0.68629203125 0.5622182765625 0.656941865625 0.4393572578125 0.6292223625 0.43620696406250004 0.621069553125 0.39682842812499997 0.5525858734375 0.41888043281250004 0.5525858734375 0.39997872343749996 0.5607386828125 0.3826521921875 0.559108146875 0.3732013078125 0.6096555421875001 0.2834182953125 0.7629283953125 0.1747335125 0.9178317874999999 0.11172785625 0.9993598875 0.09912673749999999 1 0.070774234375 0.9064179046874999 0.07392446875 0.803692446875 0.1196035625 0.7074892640625 0.168432953125 0.5851971125000001 0.261366290625 0.5411719875000001 0.3527244796875 0.5297581046875 0.33697306562499996 0.5281274421875 0.3542996578125 0.48573285625 0.2739674109375 0.413988103125 0.1983606328125 0.31289330625 0.14638095 0.2378874796875 0.11330300468750001 0.1695573625 0.10716273750000001 0.172664996875 0.13850524375 0.2297346703125 0.140080390625 0.3112627703125 0.179458925 0.38626859687500004 0.2298634640625 0.449860540625 0.28814370624999996 0.4841023171875 0.3243719484375 0.5085607484375 0.3795018953125 0.4759495078125 0.3448487734375 0.48247177968750005 0.3984036046875 0.469427234375 0.41888043281250004'\n",
            "Warning: Skipping malformed line in /content/Paddy-Field-Insects-All-Classes-2/train/labels/BA-58-_JPG_jpg.rf.4d064e6b702516d19f3e796f0f1eb53f.txt: '8 0.21189475 0.4494034796875 0.21535311875000002 0.516201575 0.2399666265625 0.57653189375 0.234998909375 0.62585790625 0.28065075781250004 0.6843826640625 0.430676828125 0.76651509375 0.5740375109375 0.8167576249999999 0.704749971875 0.9063369828125 0.7047859359374999 0.88627779375 0.6699496734375 0.8429524046875001 0.724485871875 0.8447850406249999 0.7869721171874999 0.8272232484375 0.8450656890625 0.7801610546875 0.8901069265625001 0.69545080625 0.8815911249999999 0.607066396875 0.85909758125 0.573846975 0.8277916171875 0.5572013 0.6465493015625 0.5293355281250001 0.5268140734375 0.4857494875 0.5986247390625 0.46842127343750006 0.6825085828125 0.4905826359375 0.687089975 0.47530244687499995 0.642893321875 0.4518026703125 0.5890218859374999 0.44205595468750003 0.5027933984375 0.4576234671875 0.4966759859375 0.4224816984375 0.6633299484374999 0.3622774578125 0.6605452296875 0.3430806375 0.403746153125 0.42621850156249996 0.40266838906249997 0.30163234375000003 0.3896879875 0.223865909375 0.36742801406250003 0.1813220671875 0.35493254687500003 0.195937496875 0.3708055640625 0.2327231796875 0.3705449140625 0.31762214843750003 0.34802429375 0.359977275 0.31766152812500004 0.361549259375 0.3066394390625 0.2800997703125 0.2921856515625 0.29839825468750003 0.24931852031249999 0.2590703171875 0.24093729062499997 0.2770544015625 0.283382128125 0.37048735625 0.271632240625 0.3925856796875 0.21420342812499998 0.43173379062499995 0.0829159171875 0.4209808453125 0.08268234375 0.4303052671875 0.11680899062500001 0.4460885734375 0.21189475 0.4494034796875'\n",
            "Warning: Skipping malformed line in /content/Paddy-Field-Insects-All-Classes-2/train/labels/WHORL-MAGGOTS_original_whorl-149-jpg_d36eebf2-9c47-43d5-92d0-7d02c23022a7_jpg.rf.6dde4ac0be0dc32cbf69b7519a1d0ae4.txt: '10 0.5455687499999999 0.2245265625 0.42337499999999995 0.255178125 0.3194171875 0.35479375 0.2795390625 0.45441093749999995 0.284765625 0.4901703125 0.35224687499999996 0.52593125 0.476265625 0.5591359375 0.580221875 0.5591359375 0.6495265625 0.6102218749999999 0.7848531249999999 0.70625 0.7880359375 0.70625 0.8118453125 0.6919593749999999 0.8421875 0.6394640625 0.8421875 0.6370359375 0.819140625 0.5923421875 0.7680734375 0.5565828125000001 0.7206546875 0.4901703125 0.7024171875 0.4109890625 0.6294640625000001 0.3011546875 0.5455687499999999 0.2245265625'\n"
          ]
        },
        {
          "output_type": "stream",
          "name": "stderr",
          "text": [
            "100%|██████████| 5345/5345 [00:00<00:00, 7287.18it/s]"
          ]
        },
        {
          "output_type": "stream",
          "name": "stdout",
          "text": [
            "Warning: Skipping malformed line in /content/Paddy-Field-Insects-All-Classes-2/train/labels/WHORL-MAGGOTS_original_whorl-25-jpg_2c892cfc-fe08-456a-b45f-981d42797c9a_jpg.rf.427cb49f6b5d53dfeee1c400c0302811.txt: '10 0.3337203125 0.50773125 0.3264765625 0.44072187500000004 0.319234375 0.32732031250000004 0.324665625 0.2448453125 0.3174234375 0.12371093749999999 0.29931406250000003 0.038659375 0.3065578125 0.010309374999999999 0.154440625 0.0051546874999999995 0.1598734375 0.1056703125 0.17073906249999998 0.1726796875 0.19971250000000002 0.2654640625 0.23049843750000001 0.3659796875 0.2576625 0.44072187500000004 0.2703390625 0.5051546874999999 0.2848265625 0.5438140625 0.29931406250000003 0.5567015625 0.3210453125 0.5463921875 0.3337203125 0.50773125'\n",
            "Warning: Skipping malformed line in /content/Paddy-Field-Insects-All-Classes-2/train/labels/WHORL-MAGGOTS_original_whorl-25-jpg_2c892cfc-fe08-456a-b45f-981d42797c9a_jpg.rf.427cb49f6b5d53dfeee1c400c0302811.txt: '10 0.0060859375 0.4561859375 0.013189062500000001 0.6365984375 0.043973437500000004 0.6365984375 0.07475937499999999 0.6340203125 0.110978125 0.6262890624999999 0.13633125 0.6159796875 0.13633125 0.5773203125 0.10916718750000001 0.5463921875 0.0838140625 0.5103093750000001 0.0060859375 0.4561859375'\n",
            "Warning: Skipping malformed line in /content/Paddy-Field-Insects-All-Classes-2/train/labels/WHORL-MAGGOTS_original_whorl-25-jpg_2c892cfc-fe08-456a-b45f-981d42797c9a_jpg.rf.427cb49f6b5d53dfeee1c400c0302811.txt: '10 0.0910578125 0.75 0.07113749999999999 0.7757734375 0.04940625 0.832475 0.015 0.9020625000000001 0.015 0.940721875 0 0.9768046874999999 0.025865624999999996 0.9871140625000001 0.07294843749999999 0.989690625 0.1236546875 0.9948453125000001 0.143575 0.9768046874999999 0.15081875 0.9355671875 0.143575 0.8685562499999999 0.143575 0.809278125 0.1164109375 0.74226875 0.0910578125 0.75'\n",
            "Warning: Skipping malformed line in /content/Paddy-Field-Insects-All-Classes-2/train/labels/BA-12-_jpg.rf.e96eb8fdbe1398f6a49020b55ae2c36d.txt: '8 0.88416149375 0.54078165625 0.819071584375 0.562810759375 0.7878007546875 0.5489706437499999 0.7953085515625 0.5156609859375 0.776668709375 0.46031239687500003 0.76948355625 0.42922170312499996 0.7534097984375 0.384976990625 0.7286203328124999 0.3333856421875 0.7000746375 0.29084756875 0.6609327390625 0.23788820624999998 0.6164949515625 0.18731982187500001 0.570349334375 0.13948431249999999 0.528309721875 0.1094149984375 0.503188590625 0.0918174046875 0.4625160140625 0.0626023109375 0.4165474953125 0.0357781609375 0.37161014375 0.02859859375 0.32633650625 0.0402097046875 0.311648096875 0.0576319890625 0.313882571875 0.1027295125 0.307396653125 0.125277571875 0.2674098734375 0.10409110625 0.23051609375 0.1418389390625 0.22062375312500002 0.2002593375 0.23260062499999998 0.25714465625 0.25105879375 0.2762788421875 0.2676412125 0.3075412359375 0.2852590484375 0.373651634375 0.22545149531250003 0.34768001718749997 0.174868459375 0.316072228125 0.1135347703125 0.329048190625 0.0834945015625 0.43188020156249995 0.08264961093749999 0.463653234375 0.0336109359375 0.45391101718750004 0.0096887984375 0.44656304999999996 0.011419159375 0.5198462125 0.0720896140625 0.574857821875 0.1131073234375 0.6156890078125 0.1677915671875 0.649859515625 0.20983128281250002 0.67992889375 0.2569986359375 0.7170025671875 0.29767131875 0.746217728125 0.344661659375 0.762280240625 0.39712045156250003 0.781759825 0.4528222046875 0.789965375 0.5001532015625 0.8024405640625 0.5310834390625 0.8198678968750001 0.5936477828125 0.9235642546875 0.5931346234375 0.921343428125 0.56148244375 0.774261484375 0.5831745374999999 0.751715178125 0.5993982328125 0.725751840625 0.633389759375 0.695690740625 0.677300796875 0.6984286640625 0.682773734375 0.7170490109375 0.6593783484375 0.75753150625 0.6407791484375001 0.8390120421875 0.6517205515625 0.8610493218749999 0.6776684921875 0.7860609609375 0.697984459375 0.7322539453125 0.719499490625 0.688696446875 0.73555510625 0.6721283421875001 0.7562600140625 0.665830175 0.8030250062500001 0.609785321875 0.7975520687500001 0.5911649734375 0.8655441906249999 0.5614492531249999 0.927050496875 0.5542813671875 0.97761535 0.52507616875 0.88416149375 0.54078165625'\n",
            "Warning: Skipping malformed line in /content/Paddy-Field-Insects-All-Classes-2/train/labels/WHORL-MAGGOTS_original_whorl-129-jpg_2010acb3-45d8-4d21-9b31-ee7214109e6d_jpg.rf.e7e92876b6cfb50ac2cda4f123ee502e.txt: '10 0.1291375 0.57575625 0.153484375 0.732328125 0.3067609375 0.8620984375 0.4641828125 0.9328125 0.468228125 0.9328125 0.6293078125 0.9028109375 0.7505953125 0.7399609375 0.8 0.494234375 0.8 0.48067031250000003 0.7772515624999999 0.345559375 0.7266046875 0.3302921875 0.5586671875 0.6661703125 0.321421875 0.5669328124999999 0.1628140625 0.5236765625 0.1291375 0.57575625'\n",
            "Warning: Skipping malformed line in /content/Paddy-Field-Insects-All-Classes-2/train/labels/PB-50_jpg.rf.19670d6f34e7c4f387811fa759e86fdc.txt: '5 0.49902013749999996 0.5359280390625 0.48921278749999997 0.58557278125 0.38525480624999997 0.5594439640625 0.410753978125 0.594717878125 0.369563134375 0.5790405765625 0.3636786640625 0.594717878125 0.46175217343749997 0.6299918890625 0.4225227703125 0.584266459375 0.48921278749999997 0.5999436593749999 0.4970586953125 0.6352175718749999 0.29502720781249997 0.6848623140625001 0.26756659531250004 0.704458925 0.5029430171875 0.7710873874999999 0.49902013749999996 0.7514907749999999 0.3342566125 0.6979267203124999 0.5029430171875 0.6639592296875 0.5127503671875 0.694007359375 0.5127503671875 0.7332005828125 0.5049046078125 0.7919904203125 0.5068660484375 0.8429416328125001 0.5362880999999999 0.8834412781250001 0.5637487125 0.8834412781250001 0.5912091765625 0.8612318234374999 0.587286296875 0.8233450203125001 0.5853248546875001 0.6953138796875 0.6677065437499999 0.7998291453124999 0.5990550859375 0.9435376359375001 0.6206312281249999 0.99579526875 0.6422075203125 0.9944887484375 0.6265156984375 0.951376259375 0.710858978125 0.7998291453124999 0.587286296875 0.6704914343749999 0.5853248546875001 0.6143144890625 0.6696679828125001 0.5712020515625 0.7088973875 0.6522012921875 0.8030481640625 0.6456690875 0.7932406640624999 0.6221531640625 0.72655065 0.627378896875 0.6775138953125001 0.5411538234375 0.587286296875 0.5829599390625 0.5853248546875001 0.5437667140625 0.6696679828125001 0.418348365625 0.652014871875 0.4039775375 0.569633034375 0.5215572109375 0.5637487125 0.49542839375 0.5755175046875001 0.4483964953125 0.6167083484375 0.3935260203125 0.703013065625 0.3268975078125 0.8187396859374999 0.2158500390625 0.8030481640625 0.21062432968749997 0.6990900375 0.2785591875 0.5715944734375 0.4131226328125 0.5460954515625 0.48105751406249997 0.5264807499999999 0.48105751406249997 0.49117422499999996 0.42357414843749996 0.37544745625 0.3673972046875 0.2126455203125 0.311220209375 0.09495730937499999 0.2863978625 0.0838234859375 0.3205882375 0.0812269296875 0.3255910875 0.2165684015625 0.343881228125 0.3303337296875 0.37654225 0.4264458015625 0.4287998828125 0.4970586953125 0.5019605984375 0.48725134531250003 0.5137185359374999 0.49902013749999996 0.5359280390625'\n",
            "Warning: Skipping malformed line in /content/Paddy-Field-Insects-All-Classes-2/train/labels/WHORL-MAGGOTS_original_whorl-145-jpg_b6afb5a5-b20b-4e9c-bfb6-06f381d340fd_jpg.rf.b772b7db6dafc52634acdd88b44a90f7.txt: '10 0.4142 0.49074999999999996 0.3578125 0.5918171875 0.3578125 0.5977359375 0.36345 0.652440625 0.390571875 0.7109375 0.393365625 0.7109375 0.44188124999999995 0.6847796875000001 0.5110859375000001 0.5778140625 0.5910562500000001 0.5206000000000001 0.6817921874999999 0.5081625 0.7633 0.4982125 0.826353125 0.5305500000000001 0.8640625 0.4839234375 0.8640625 0.4818875 0.8371187499999999 0.40865937499999994 0.7863687500000001 0.3390078125 0.7110109375 0.26189375 0.5941328125 0.27930625 0.504934375 0.366371875 0.4142 0.49074999999999996'\n",
            "Warning: Skipping malformed line in /content/Paddy-Field-Insects-All-Classes-2/train/labels/PB-13_jpg.rf.cfe9ff4eb85ef5326e4c8ce3d8bda94c.txt: '5 0.4551474015625 0.5859478953124999 0.464933365625 0.6102871015625 0.48450545937499995 0.636147425 0.523649565625 0.6878683031249999 0.535610253125 0.7943521203125 0.580191125 0.9921078890624999 0.5997631375 0.97993825625 0.5812784453125001 0.8841027234375 0.6149858671875 0.9069206953125001 0.6215098718750001 0.8886663640625001 0.5986758156249999 0.8567212234375001 0.606287140625 0.8095641015625 0.66609074375 0.9495142921875 0.71284625625 0.9175691515625 0.6302085984375 0.71220739375 0.6606539765624999 0.561608746875 0.5812784453125001 0.5965964109375 0.567143034375 0.55400275625 0.5258242890625 0.5585664546875 0.483418140625 0.5114092171875 0.4747194125 0.43687048281249996 0.45949668125 0.41253133281250004 0.441011990625 0.030710546875 0.40059482968750004 0.054259025 0.4497107171875 0.508366809375 0.41926525468750003 0.45968845468749997 0.3714224234375 0.4672944453125 0.29530885156250003 0.5250999671875001 0.3127062234375 0.5524815234375 0.33662767968749996 0.5266212 0.3899071984375 0.508366809375 0.4247019390625 0.52966355 0.44536135468750004 0.5646511546874999 0.4551474015625 0.5859478953124999'\n",
            "Warning: Skipping malformed line in /content/Paddy-Field-Insects-All-Classes-2/train/labels/PB-12_jpg.rf.863a3dd1fb88dc84396b802a595d9912.txt: '5 0.34896768125 0.525403153125 0.3010727890625 0.5633176921875 0.2553549859375 0.6179146609374999 0.20310599687500003 0.7180090781249999 0.169361896875 0.7862552453125 0.15194559375 0.8893827203125 0.174804496875 0.8908992796874999 0.1911322953125 0.8256863421875 0.22161088437499998 0.7240753109375 0.2607975859375 0.6558292 0.3271972828125 0.581516796875 0.40665926875 0.543602259375 0.47197046406250004 0.5633176921875 0.38815438125 0.6391467671875 0.3609413828125 0.7028432625 0.2782138875 0.8590510890624999 0.3010727890625 0.8893827203125 0.392508478125 0.6755447484375 0.491563771875 0.602748846875 0.4991834609375 0.5648343078125 0.539458665625 0.572417215625 0.5165997625000001 0.7453074749999999 0.606946865625 0.7695727578125 0.62980585 0.8620843218750001 0.6581073515625 0.8332692500000001 0.6287172640625001 0.749857265625 0.55905205625 0.7089094953124999 0.575925015625 0.5769669484375 0.6020495109375 0.5739338890625 0.6232746640625 0.6148814875 0.7691363484375 0.7695727578125 0.9171751218749999 0.7437909171875 0.9487421328125001 0.7574401734375 0.9944599359374999 0.7908049203124999 0.996637109375 0.75895673125 0.930237328125 0.7104261703125 0.781110134375 0.7362080093750001 0.6379707 0.5633176921875 0.7098129984375 0.5693840406249999 0.7903634046875 0.572417215625 0.8812539312500001 0.5769669484375 0.9052013359375 0.5618011328125 0.9160865359375 0.5238865953125 0.909555515625 0.48597205624999995 0.8866965312499999 0.46777306718749995 0.8028805328124999 0.44957407812500005 0.8235623437499999 0.4116595390625 0.7919953328125 0.3752616171875 0.7789331265625 0.40710980625 0.73430374375 0.3752616171875 0.6004157625000001 0.24028583750000002 0.5775568625 0.43895799531249996 0.528573465625 0.4207590625 0.47959007031249995 0.37829473281250003 0.449111478125 0.37829473281250003 0.48176707656250006 0.460190159375 0.4436688796875 0.46928962500000004 0.424075571875 0.46928962500000004 0.344613584375 0.4253087953125 0.2760368796875 0.34947971875 0.1835126890625 0.23118637187500002 0.08881140625 0.1690064953125 0.048536203124999996 0.13412513125 0.047878103125 0.18626707343749999 0.04962470625 0.182655721875 0.10187369531249998 0.2205702890625 0.176981503125 0.285783284375 0.2488238828125 0.36312891875000003 0.310869484375 0.446540903125 0.39359697968749996 0.5102373390625 0.34896768125 0.525403153125'\n",
            "Warning: Skipping malformed line in /content/Paddy-Field-Insects-All-Classes-2/train/labels/PB-9_jpeg_jpg.rf.ec965249a41bba770c64cf4949e7db67.txt: '5 0.31691868749999996 0.2967938765625 0.268378603125 0.26516643281249996 0.2472741765625 0.29204977187500003 0.335912703125 0.3458164515625 0.39078417656250003 0.3268399734375 0.44143483281250007 0.3774438953125 0.43721401249999997 0.41223403437500006 0.306366475 0.401164478125 0.2367219640625 0.5023722625 0.16285647187500002 0.5039536703125 0.152304259375 0.5355811140625 0.264157621875 0.5371625843750001 0.31902925781249997 0.42804775624999997 0.43721401249999997 0.44702423593749996 0.44143483281250007 0.48813995 0.2261697515625 0.61623119375 0.29370385 0.785437909375 0.2346115546875 0.8486927968750001 0.2831516375 0.8692506828125 0.350685896875 0.8028329796874999 0.2894830296875 0.6193938296875 0.439324421875 0.5371625843750001 0.4308826203125 0.6067428640625 0.42877220937500005 0.6826487171875 0.449876634375 0.760135978125 0.481533275 0.8059957953125 0.544846553125 0.7965074671875 0.5596195859375 0.73799674375 0.57439278125 0.6699977515625 0.57439278125 0.5893477328125 0.555398765625 0.5213488609375 0.7052401578125 0.5925106109375 0.6250434359375 0.7269271859375 0.6778044999999999 0.785437909375 0.72845499375 0.764880021875 0.703129746875 0.7126948109375 0.78332663125 0.5846037484375 0.6820253203125 0.524511496875 0.6989089265625 0.5213488609375 0.6883567125 0.497628278125 0.6398164703125 0.489721296875 0.6313746671875 0.421722303125 0.5638405671875 0.3964203140625 0.5406257328125 0.333165425 0.5617301578125 0.2967938765625 0.6166016328125 0.23828309375 0.690467125 0.1892605796875 0.82764589375 0.12126155624999999 0.9310574515625 0.08963414374999999 0.9964813015624999 0.061169485937500004 0.9943707296875001 0.02163518125 0.9774874468749999 0.024797878125 0.884627778125 0.056425321875000004 0.7706638453125 0.10228510937499999 0.6967983546875 0.1418194140625 0.60815983125 0.1860978234375 0.5131899140625 0.27623605 0.4920854875 0.271491946875 0.477312453125 0.2493527109375 0.42455138750000004 0.1702841015625 0.373900734375 0.10386648750000001 0.3021456546875 0.059588046875 0.2346115546875 0.0074027765625 0.158755225 0.0043512671875 0.1607460640625 0.0105655328125 0.2747098359375 0.09912235312499999 0.363348521875 0.1781909625 0.4583184390625 0.285724259375 0.449876634375 0.348979146875 0.38656335625 0.28098015468750004 0.31691868749999996 0.2967938765625'\n",
            "Warning: Skipping malformed line in /content/Paddy-Field-Insects-All-Classes-2/train/labels/WHORL-MAGGOTS_original_whorl-10-jpg_4f902d71-eecc-4649-952d-e748084ccd3f_jpg.rf.848c65ecd425d1b3758be108137d25fb.txt: '10 0.14205 0.3224125 0.11983593749999999 0.3484140625 0.11577656249999999 0.35014687499999997 0.1156703125 0.41428281250000004 0.12261249999999999 0.455884375 0.1545453125 0.5113531250000001 0.18231250000000002 0.5044203125 0.1948078125 0.4888203125 0.1948078125 0.44548437500000004 0.18786562499999998 0.4038828125 0.176759375 0.3588140625 0.157321875 0.32934687500000004 0.14205 0.3224125'\n",
            "Warning: Skipping malformed line in /content/Paddy-Field-Insects-All-Classes-2/train/labels/PB-38_png_jpg.rf.7e27a216c40351b0676a3788e2a50805.txt: '5 0.326328203125 0.5116581359375 0.292983209375 0.513238978125 0.28631414374999997 0.5448539171875 0.2918716421875 0.5448539171875 0.30409820781249997 0.527465603125 0.3396661671875 0.522723315625 0.3530041296875 0.426297778125 0.3930181890625 0.43420151249999994 0.3763456921875 0.4515897046875 0.3930181890625 0.4547512109375 0.35745014531249997 0.49743150937499997 0.33299718437500003 0.6065029484375 0.30965570625 0.7582546875 0.3107671890625 0.8372920328125 0.324105153125 0.8325497437499999 0.3196591359375 0.7440279421875 0.34966968125000003 0.595437709375 0.40302161875 0.529046446875 0.45303910937499997 0.4705586796875 0.48304965468749994 0.46581645 0.47749215468750006 0.47846241406249995 0.45415067656249997 0.5843725890625 0.5152831640625 0.611245178125 0.52528659375 0.6760557765625 0.537513159375 0.669732825 0.529732609375 0.5906954796874999 0.4708231734375 0.573307228125 0.5052796484375001 0.4705586796875 0.529732609375 0.4689779578125 0.621987125 0.5448539171875 0.7086841421875001 0.5748880109375001 0.733137103125 0.6333755984375 0.7442521 0.631794996875 0.7442521 0.6065029484375 0.7153530390625 0.5527576515625 0.6753391484375 0.541692290625 0.6053146296875 0.49426988281249995 0.55196260625 0.4515897046875 0.7175761734375 0.429459284375 0.7375830328124999 0.3899406125 0.72980256875 0.3693909140625 0.6797850796875 0.3662294078125 0.631990640625 0.298257303125 0.5808615828125 0.359906396875 0.480826603125 0.3535834453125 0.4352551296875 0.39626356406249996 0.4074676359375 0.38045609375 0.39857568906249996 0.3899406125 0.41080216875 0.41839404375000006 0.4019101359375 0.41839404375000006 0.3796801421875 0.39626356406249996 0.3274396859375 0.31722621875 0.271864696875 0.21131622343749998 0.21628970937499997 0.12911734218749998 0.170718234375 0.03269180625 0.15444441874999998 0.0320284703125 0.155157221875 0.0374340953125 0.18516768125 0.10856770625 0.2385197046875 0.19867023125 0.3185476546875 0.340937421875 0.38412615781250004 0.41681332187500003 0.3385546828125 0.41207103125 0.326328203125 0.5116581359375'\n",
            "Warning: Skipping malformed line in /content/Paddy-Field-Insects-All-Classes-2/train/labels/PB-10_jpeg_jpg.rf.b5f82ce15b01216d2a5fdf5c2dbe7d65.txt: '5 0.405919496875 0.25450577343749997 0.38527730937500004 0.27830166093750003 0.47896088593749997 0.3988674609375 0.4472037484375 0.44328643593750006 0.456730865625 0.5019829671875 0.3265266546875 0.552747659375 0.3217630359375 0.5844755078125 0.38368947656249996 0.6082713921875 0.33764160312499997 0.6368263234375 0.25030947812500004 0.7193188015625 0.2598367171875 0.7478737921875 0.4297373484375 0.7066276140625 0.4090951609375 0.8430573390625 0.42021023281250003 0.923963328125 0.4519673671875 0.9969374765625 0.499603071875 0.9763143265625001 0.5250087578125 0.8922354796875 0.553590228125 0.9334817796875001 0.5916986953125 0.8827171500000001 0.5694687968750001 0.8446437078125 0.715551575 0.7558057546875 0.723490859375 0.7161459453125001 0.5694687968750001 0.5781297921874999 0.5631173453125 0.555920334375 0.723490859375 0.5146740953125 0.728254478125 0.4861190421875 0.582171578125 0.46073678906250004 0.5678808421875 0.3988674609375 0.582171578125 0.3671396125 0.6171045000000001 0.3005111171875 0.62821945 0.24181464687499998 0.6615644203125 0.2180187609375 0.7425452140625 0.183118084375 0.8171744359374999 0.1656677921875 0.8997429406249999 0.1450446734375 0.9918386859374999 0.1466311328125 0.9981900156249999 0.099039359375 0.9727844515624999 0.099039359375 0.8679858046875 0.1101440578125 0.756835828125 0.1355263125 0.6250437859375 0.19422290312499998 0.553590228125 0.2751288625 0.5345358734375 0.2751288625 0.4869001703125 0.211673165625 0.456730865625 0.1513902359375 0.3725745265625 0.10538486250000001 0.3011209703125 0.0609658859375 0.232843078125 0.032410834375 0.12804455312500002 0 0.1035713921875 0.0222222234375 0.11534165 0.024478871875 0.251897434375 0.081588975 0.3646352421875 0.152976634375 0.46625810312500005 0.237055421875 0.5043665703125 0.3147886734375 0.5043665703125 0.3496893203125 0.405919496875 0.25450577343749997'\n",
            "Warning: Skipping malformed line in /content/Paddy-Field-Insects-All-Classes-2/train/labels/PB-14_jpg.rf.1382a785d06e60f6b687b55f58a3561c.txt: '5 0.28987216875 0.749857265625 0.2616014296875 0.8196199937499999 0.2583393859375 0.9030319765625 0.2866102078125 0.93184705 0.3290162734375 0.9257807 0.35728709531249997 0.9181977921875 0.3757717875 0.784738571875 0.4062172484375 0.678577921875 0.385557834375 0.8802832546875001 0.4464486734375 0.8833163718750001 0.452972678125 0.8651174390625 0.42035257656249997 0.824169784375 0.425789259375 0.7574401734375 0.4225272984375 0.620947778125 0.43340066562499996 0.611848428125 0.5008155109375 0.6861608296874999 0.5106015578124999 0.7574401734375 0.5475710234375 0.8181034359374999 0.562793671875 0.7817054546875 0.5279989296875 0.7286251015625 0.526911609375 0.6725116890625 0.4953788265625 0.6285306859374999 0.45949668125 0.539052409375 0.46058408437500004 0.5405689687499999 0.5551823484375 0.5420855859375 0.566055715625 0.5830332390625 0.61933523125 0.6194313359375 0.6204225515624999 0.5875830296875 0.58454040625 0.555734784375 0.57257971875 0.50265443125 0.46928272968750007 0.48597205624999995 0.5073395140625 0.40104345625000004 0.5573569875 0.45715698437499996 0.5965011765625 0.473839415625 0.5986758156249999 0.42834197031250004 0.567143034375 0.4237921796875 0.508426834375 0.3661620921875 0.5497456640625 0.31004856406250003 0.6367326015625 0.23118637187500002 0.735680228125 0.22208684843749998 0.738942271875 0.182655721875 0.6302085984375 0.199338125 0.523649565625 0.285783284375 0.6160731875 0.1053100875 0.675876709375 0.034030801562500004 0.6584793375 0.012798607812500001 0.594326453125 0.0825613640625 0.45188535781250005 0.376778175 0.457322040625 0.3752616171875 0.36489842031249997 0.5193368625 0.3659857390625 0.5511851671875 0.350763009375 0.602748846875 0.31705558749999996 0.63611359375 0.2594267890625 0.6907105625 0.28987216875 0.749857265625'\n",
            "Warning: Skipping malformed line in /content/Paddy-Field-Insects-All-Classes-2/train/labels/PB-41_jpg.rf.b31efe1be996cc3e1dd13d0cefa4cbc7.txt: '5 0.426760159375 0.305394703125 0.408182190625 0.31478270468749997 0.40961123906249997 0.3335585890625 0.4910683609375 0.42743824999999996 0.45391242343749993 0.5213179125 0.451054325 0.5651284671875 0.338157684375 0.6261502109375 0.336728634375 0.6402321859375 0.413898496875 0.6605728859375 0.268133175 0.7763576453125001 0.262416978125 0.8045215921875 0.44247992031249994 0.7622757921875001 0.4410508703125 0.7450644265624999 0.303859953125 0.774793009375 0.4710613421875 0.6574434328125001 0.46963229218749997 0.729417815625 0.449625275 0.771663734375 0.4339055140625 0.9156125015625 0.43533456406250004 0.9938455515625 0.5096462203125001 0.9938455515625 0.5339404953125 0.8498967859375 0.5339404953125 0.774793009375 0.546802046875 0.6652667375 0.67256035 0.8076508671875 0.5267951375 0.9062245593749999 0.5253659796875 0.9531643890625 0.5582346593749999 0.9969749453125001 0.5739544203125 0.9969749453125001 0.5353695421875 0.9390824171875 0.716861534375 0.8013923187499999 0.5553765609375 0.6355382140625 0.5639509656249999 0.5964216890625 0.7240068890625 0.5416585515625 0.571096321875 0.5150593031249999 0.5582346593749999 0.42274427968749995 0.6225428609375 0.2928774265625 0.6111102484375001 0.266278178125 0.67256035 0.231855621875 0.8511943515624999 0.1583166328125 0.9969595625000001 0.1504933265625 0.9969595625000001 0.11920010781249998 0.8569105484374999 0.1317173234375 0.7340103421874999 0.16770454375 0.629688215625 0.214644375 0.552518353125 0.3100886734375 0.546802046875 0.2928774265625 0.518220625 0.317911978125 0.5082171703125 0.2584548734375 0.4453380171875 0.1817865484375 0.3867461234375 0.134846715625 0.27813673906249997 0.056613665625 0.179530809375 0.019061746875 0.1295133203125 0.0002858046875 0.12178568281249999 0.0238747578125 0.12236796406249999 0.0221910828125 0.192392471875 0.0456609953125 0.335299584375 0.134846715625 0.45391242343749993 0.2287263484375 0.506788121875 0.3366879234375 0.49964276406249997 0.38675708750000004 0.426760159375 0.305394703125'\n",
            "Warning: Skipping malformed line in /content/Paddy-Field-Insects-All-Classes-2/train/labels/PB-8_jpg.rf.a7794ee661b02da1eaf0d75470098c98.txt: '5 0.45924502343749996 0.4020402578125 0.281405028125 0.3274798 0.3216307671875 0.394108296875 0.2623507140625 0.371898778125 0.24753078125 0.40997221718750004 0.387262146875 0.4417000671875 0.3512707953125 0.38617633281249997 0.4486593140625 0.44011370000000005 0.44442509062499996 0.46073678906250004 0.45924502343749996 0.5003966 0.07180789531250001 0.5511611671875001 0.2602336046875 0.7066276140625 0.1691965765625 0.7288371328125 0.2200078671875 0.757392125 0.285639409375 0.7383554640625001 0.34491930000000004 0.7098004109375 0.1818994 0.5717842578125001 0.4550108046875 0.5464019421875 0.4528935328125 0.5924074671875 0.43807359999999995 0.695522975 0.44019070937500004 0.8668532250000001 0.49100216249999995 0.939827253125 0.5608679234375 0.9318952890625001 0.6032107718749999 0.819261453125 0.6074449953125 0.5654386640625 0.7789335000000001 0.736769096875 0.6688421578125 0.9477592140625 0.7133021140625 0.998523846875 0.7662306765625 0.998523846875 0.7365906468750001 0.9493457031249999 0.8636191953125 0.7304235 0.6032107718749999 0.5257788531250001 0.6201478140625001 0.4480456609375 0.7895192093750001 0.406799421875 0.899610553125 0.5083285609375 0.9969992328125 0.49405100781250005 0.9948819625 0.4417000671875 0.8974936046875 0.449632028125 0.7874021 0.36555324218749996 0.626499309375 0.40997221718750004 0.6116792140625 0.371898778125 0.7429421421875 0.28940641718750004 0.8043393046875 0.35920765 0.9737105375 0.34810288906250003 0.9525391093750001 0.286233621875 0.833979328125 0.3036839140625 0.8022220328125 0.2878199890625 0.7344735375 0.24816017812500002 0.6180307046875 0.3100295078125 0.594742171875 0.26243773593749997 0.6476707328125 0.187877278125 0.723887828125 0.1149032828125 0.8509165328125 0.054620321875 0.7746992765625 0.0038558140625 0.7069506234375 0.045101960937500005 0.6095621046875 0.1418719078125 0.5693363671875 0.2180187609375 0.52699351875 0.2148459640625 0.5185250765625 0.20215486718750003 0.435956490625 0.1386991671875 0.34491930000000004 0.0784162078125 0.17766501875000001 0.038756396875 0.0739251671875 0.021306075 0.0481481 0.0400793671875 0.046402253125 0.043515625 0.0485193625 0.045101960937500005 0.2178907578125 0.091107396875 0.3766764375 0.157735828125 0.488885053125 0.279888028125 0.4825335578125 0.3639668140625 0.45924502343749996 0.4020402578125'\n",
            "Warning: Skipping malformed line in /content/Paddy-Field-Insects-All-Classes-2/train/labels/BA-32-_jpg.rf.4494410ffd756c55b1a03b0872f89502.txt: '8 0.5136718765625 0.4033203109375 0.552734375 0.3642578125 0.5107421875 0.384765625 0.490234375 0.3525390640625 0.5302734375 0.2851562515625 0.4736328125 0.3398437484375 0.4560546890625 0.337890625 0.4042968765625 0.2880859359375 0.4296874984375 0.4052734375 0.3945312515625 0.4814453109375 0.3710937484375 0.6748046890625 0.396484375 0.7509765625 0.443359375 0.7685546890625 0.4667968765625 0.7509765625 0.4814453109375 0.712890625 0.5107421875 0.7578125015625 0.5576171875 0.7636718765625 0.5976562515625 0.7041015625 0.599609375 0.6337890640625 0.5742187484375 0.5263671875 0.5136718765625 0.4033203109375'\n",
            "Warning: Skipping malformed line in /content/Paddy-Field-Insects-All-Classes-2/train/labels/Image_26_jpg.rf.c41438015d41b330355e59810f8f4a3f.txt: '4 0.7641 0 0.765625 0.0518625 0.791015625 0.090303125 0.837890625 0.10428124999999999 0.85546875 0.12874375 0.8515625 0.29648281249999997 0.86328125 0.359384375 0.880859375 0.41180312499999994 0.9296875 0.45723281250000003 0.955078125 0.41879218749999997 0.978515625 0.42578125 0.998046875 0.397825 1 0.3894375 1 0 0.7641 0'\n",
            "Warning: Skipping malformed line in /content/Paddy-Field-Insects-All-Classes-2/train/labels/BA-43-_jpg.rf.720e5f51220d65f68be21b4dfed34b0b.txt: '8 0.46525116874999994 0.494089578125 0.4391799328125 0.5156735828125 0.43899906250000004 0.545609421875 0.3815344953125 0.55040975 0.3794613265625 0.5796568484375 0.4276975015625 0.6561452328125 0.568569209375 0.7695646609375 0.71736489375 0.8494375812499999 0.7522888812499999 0.8535769656250001 0.778787975 0.8396491062500001 0.7871467562500001 0.7901885281250001 0.729963921875 0.7147297765625 0.5868590234375 0.5897826515625 0.470406290625 0.5152526749999999 0.46525116874999994 0.494089578125'\n",
            "Warning: Skipping malformed line in /content/Paddy-Field-Insects-All-Classes-2/train/labels/BA-43-_jpg.rf.720e5f51220d65f68be21b4dfed34b0b.txt: '8 0.7433489859375 0.248146709375 0.512962009375 0.310015109375 0.47879982187500003 0.3479410375 0.4449054671875 0.35274831406249996 0.4079013625 0.40142624062500004 0.46079173593749995 0.44746397031249996 0.6185549328125 0.4555966171875 0.7921591359375 0.420206459375 0.8560832421875 0.38882702812500003 0.8881792093750001 0.3565779859375 0.8958423046874999 0.3325799203125 0.8553353390625 0.299621290625 0.8556901343750001 0.2633198234375 0.8102750328124999 0.246790078125 0.7433489859375 0.248146709375'\n",
            "Warning: Skipping malformed line in /content/Paddy-Field-Insects-All-Classes-2/train/labels/BA-43-_jpg.rf.720e5f51220d65f68be21b4dfed34b0b.txt: '8 0.225987025 0.3212854859375 0.1757646453125 0.27086139062500003 0.20884855156249998 0.3889802828125 0.1309896390625 0.417430834375 0.061569515625 0.41680820937499996 0.1172217984375 0.43170654218750004 0.18836724062500002 0.41581332031249996 0.14204778125 0.548962775 0.14614546718750002 0.655460059375 0.1880229625 0.7082043125 0.25167923281250004 0.7099435328125 0.2824707859375 0.7254366953125 0.32257074375 0.6800285421875001 0.36520647031250003 0.4951783734375 0.354221390625 0.40760404531249994 0.3186225640625 0.3582165328125 0.3509724640625 0.3399892625 0.225987025 0.3212854859375'\n",
            "Warning: Skipping malformed line in /content/Paddy-Field-Insects-All-Classes-2/train/labels/PB-59_jpeg_jpg.rf.effdfe8ab993273cba8493cfae37ec0a.txt: '5 0.45444960468750006 0.6057640328125 0.49911860781249995 0.6467577640625 0.4062541546875 0.6533169156249999 0.40507867500000005 0.6615156609375 0.42976413906250005 0.694310646875 0.400376659375 0.713987528125 0.4121316515625 0.7303850187500001 0.46385363125 0.6959502453125 0.4438700953125 0.66971440625 0.5108736015625001 0.656596296875 0.556718084375 0.6975900328125 0.50969811875 0.8025340140624999 0.5778770171875001 0.8746830140625 0.5778770171875001 0.8550059437499999 0.5332081015625 0.8140122125 0.5755260546875001 0.71562725 0.5978605578125 0.7369440421875 0.5790524968749999 0.86320469375 0.58140355 0.9779871468750001 0.7694834187499999 0.9156767453124999 0.7965199328125 0.9763474203125 0.8153278140625 0.9763474203125 0.7800628374999999 0.8976394015625001 0.593158540625 0.9468318828125 0.61784400625 0.740223490625 0.783589371875 0.8369687265625 0.8529439296874999 0.84352775 0.8658743140625 0.79433526875 0.8470664359375 0.7599005562500001 0.7824139796875 0.718906825 0.648406965625 0.641838528125 0.763605921875 0.505739471875 0.937579834375 0.6598758109375 0.9951792234375001 0.6221615234375 0.9904772968750001 0.5992050703125 0.9387552265625001 0.6303602734375 0.7600793890624999 0.4696648484375 0.6284235171875 0.6320000609374999 0.58492999375 0.6057640328125 0.5790524968749999 0.4942610890625 0.6613374390625 0.5746088296874999 0.6871984765625 0.5221369671875 0.68249655 0.517217603125 0.6542844624999999 0.553292103125 0.574350575 0.4631058875 0.554367034375 0.46802512187499995 0.570824040625 0.57788834375 0.503820621875 0.5811677921875 0.48501256406250004 0.572969046875 0.4662045953125 0.5336150984375 0.427413175 0.4696648484375 0.40507867500000005 0.3991556375 0.400376659375 0.3007706796875 0.400376659375 0.14171498124999998 0.42623760468749994 0.0236530421875 0.4121316515625 0.018733778125 0.3980256953125 0.0384107828125 0.38391965156249996 0.18434853281250002 0.3874461859375 0.3352053921875 0.396850125 0.45654686718750004 0.45209864218750007 0.5500125890625001 0.42388664218749994 0.5434535703125001 0.41330713125 0.5582113390625 0.447396625 0.5828075796875 0.4097806890625 0.5828075796875 0.3709891796875 0.5828075796875 0.31338970312500003 0.5828075796875 0.25461474375000004 0.5877269390625 0.17350528437499999 0.604124434375 0.10650186875 0.6287206750000001 0.052428921875 0.6631552593750001 0.0042334765625 0.705788778125 0.001882421875 0.7074285046875 0.0218659625 0.7238259953124999 0.0853428453125 0.67463351875 0.1546973140625 0.627080825 0.224051784375 0.6057640328125 0.3439526625 0.602484584375 0.45444960468750006 0.6057640328125'\n",
            "Warning: Skipping malformed line in /content/Paddy-Field-Insects-All-Classes-2/train/labels/Image_25_jpg.rf.4474d47067fd250172717bd588548e58.txt: '4 0.6717234375000001 0 0.67920625 0.049384375 0.749753125 0.16696249999999999 0.7419140625 0.237509375 0.8398953125 0.349209375 0.8712500000000001 0.4609078125 0.9594343750000001 0.5873046875 1 0.6215859375 1 0 0.6717234375000001 0'\n",
            "\n",
            "--- Initial Class Distribution ---\n",
            "Armyworm (ID 0): 1193 instances\n",
            "Brown_Planthopper (ID 1): 781 instances\n",
            "Crickets (ID 2): 632 instances\n",
            "Dragonfly (ID 3): 148 instances\n",
            "Mealybug (ID 4): 882 instances\n",
            "Rice_Bug (ID 5): 42 instances\n",
            "Rice_Gall_Midge (ID 6): 657 instances\n",
            "Rice_Water_Weevil (ID 7): 938 instances\n",
            "Thrips (ID 8): 1052 instances\n",
            "Wasps (ID 9): 1696 instances\n",
            "Whorl_Maggot (ID 10): 588 instances\n",
            "\n",
            "Copying validation and test sets...\n"
          ]
        },
        {
          "output_type": "stream",
          "name": "stderr",
          "text": [
            "\n"
          ]
        },
        {
          "output_type": "stream",
          "name": "stdout",
          "text": [
            "\n",
            "--- Starting Balancing Process ---\n",
            "Step 1: Undersampling classes with > 1000 instances...\n"
          ]
        },
        {
          "output_type": "stream",
          "name": "stderr",
          "text": [
            "  6%|▌         | 294/5345 [00:00<00:01, 2939.55it/s]"
          ]
        },
        {
          "output_type": "stream",
          "name": "stdout",
          "text": [
            "Warning: Skipping malformed line in /content/Paddy-Field-Insects-All-Classes-2/train/labels/PB-55_jpg.rf.d15e1dd43534130adef809e3d83ede09.txt: '5 0.30098307343749997 0.4678548390625 0.274868628125 0.50248953125 0.236960634375 0.594271440625 0.19821025625 0.762249690625 0.19568309374999998 0.9319597203125 0.21253109218750002 0.9233010453125001 0.21168864062499998 0.8297873625 0.21927025156250002 0.76744495 0.243699859375 0.6652725921875 0.2622326296875 0.5734906796875 0.304352621875 0.5042213046875 0.3574238359375 0.47651351406250003 0.3734294453125 0.4851721859375 0.3270974546875 0.5267338390625 0.3692174453125 0.632369609375 0.37427183125 0.62024745625 0.34563022656250003 0.5336607359375 0.4340822078125 0.49036737500000005 0.44250620625000003 0.5094164937500001 0.36837505937500004 0.6531505671875 0.3717446078125 0.6670043 0.41470704999999997 0.729346778125 0.4113374375 0.8280556546875 0.429027821875 0.8280556546875 0.43323982031249997 0.7345419671875 0.387750215625 0.65488214375 0.4568270421875 0.5094164937500001 0.45598459062499996 0.47651351406250003 0.5040014187499999 0.4695866125 0.494735034375 0.609857209375 0.48968058125 0.6600774031250001 0.5090558046875 0.7033707609375 0.56633901875 0.6219792296875 0.5823445640625 0.6860534203124999 0.5983501734375001 0.679126584375 0.5713934046875 0.597734921875 0.518322190625 0.6618092421874999 0.5141101906250001 0.5042213046875 0.5191645765625 0.448805790625 0.545279021875 0.43495192656250004 0.56381179375 0.4695866125 0.6893293796875 0.4955626296875 0.7550365921875 0.54924650625 0.75756381875 0.5336607359375 0.6960686046875 0.47478180625000005 0.5848717875 0.44707401718749995 0.5730781781250001 0.42282977343750006 0.583187015625 0.42109800000000003 0.7146013765625 0.37780463750000004 0.7946293578125 0.34836520625 0.80136858125 0.31373051875 0.7996838078125 0.2964131734375 0.7643029140625 0.2790958265625 0.677535834375 0.2790958265625 0.62193739375 0.10419061249999999 0.6050893984375 0.09726374843749999 0.55959979375 0.29814488125 0.4762021984375 0.28429102031250003 0.402913440625 0.38992679375 0.3826958296875 0.3795364109375 0.38185344374999997 0.40551242812500005 0.3717446078125 0.4193662921875 0.3506846125 0.4003172390625 0.275711078125 0.320657415625 0.21084625468749998 0.2271437984375 0.14766626562500001 0.1353618515625 0.0802742796875 0.05397038750000001 0.028045484375000002 0 0.0128420859375 0.006930909375 0.0111974875 0.01760389375 0.1569326515625 0.1873138515625 0.26475985468749996 0.3500969140625 0.26475985468749996 0.351828621875 0.362478221875 0.436683634375 0.34899983749999997 0.46265965 0.30098307343749997 0.4678548390625'\n",
            "Warning: Skipping malformed line in /content/Paddy-Field-Insects-All-Classes-2/train/labels/PB-70_jpg.rf.24c5721ecdf9e618b4d1322c35fc8db4.txt: '5 0.4771160515625 0.332238965625 0.478750584375 0.36872604062500003 0.419906503125 0.2449873828125 0.3953881265625 0.257678571875 0.346351371875 0.20215486562499999 0.341447646875 0.211673165625 0.3953881265625 0.2814744578125 0.4117337109375 0.2656105328125 0.465674190625 0.38617633281249997 0.4525976734375 0.4543911953125 0.3332748546875 0.3798307390625 0.29731461718749996 0.519433321875 0.21885575937500001 0.489291840625 0.2041448328125 0.519433321875 0.31366020156249996 0.544815696875 0.341447646875 0.40838585156249996 0.4525976734375 0.4686687515625 0.4542322078125 0.49087820937500004 0.455866740625 0.557506703125 0.19924110781249998 0.6209624 0.29894915 0.8605076328125 0.231932278125 0.9160313656250001 0.2352013453125 0.9303089234374999 0.3300057875 0.8573348953125001 0.2270285515625 0.6320672796875 0.45750139843750004 0.5733706265625 0.4640395328125 0.609857640625 0.43625208750000005 0.7415282000000001 0.437886621875 0.9160313656250001 0.4738469828125 0.9667959968750001 0.5032689609375 0.9667959968750001 0.5555749078125001 0.8890627421874999 0.5653822328125 0.808156753125 0.5523057171875 0.5781297921874999 0.7876822890625 0.666967803125 0.7533564593750001 0.9033403 0.7566255281250001 0.9192042234375 0.8497953109375 0.9715551015624999 0.857968103125 0.9588640343750001 0.7680673859375 0.9112722625 0.8089313499999999 0.6574494125 0.5523057171875 0.555920334375 0.5621130421875 0.5051558859374999 0.558843975 0.4861190421875 0.694512378125 0.430595309375 0.75989459375 0.5781297921874999 0.8530646265625 0.549574740625 0.8399881109375 0.5273652828125 0.76970204375 0.552747659375 0.6961469140625 0.40362662499999996 0.5555749078125001 0.4575639921875 0.544132925 0.39093549843750003 0.6095152625 0.26719690156250003 0.6552829499999999 0.27036969843750003 0.7173961 0.20215486562499999 0.70431970625 0.1926364453125 0.6520137593750001 0.25450577343749997 0.5980734046875 0.25450577343749997 0.5392293234375 0.36872604062500003 0.53105653125 0.354448484375 0.5392293234375 0.3274798015625 0.5261528046875 0.3116158765625 0.5392293234375 0.2560921421875 0.573555025 0.191050046875 0.6765321359375001 0.13235354531250001 0.8334497265625 0.0609658859375 0.9347925515625001 0.032410834375 0.9233504437500001 0.0165469109375 0.8497953109375 0.0276517 0.7288380828125 0.0736570125 0.593169678125 0.152976634375 0.537594665625 0.22436429218749998 0.5179800125 0.2862336234375 0.4967307015625 0.25926493906250003 0.483654309375 0.2814744578125 0.4346175546875 0.21484596250000002 0.3790425421875 0.1751861234375 0.2907763578125 0.1513902359375 0.2204904171875 0.1307672078125 0.145300628125 0.1149032828125 0.03251619375 0.099039359375 0.0249182625 0.095634921875 0.0178051421875 0.1371127109375 0.091360271875 0.1386991703125 0.1747227296875 0.1498038671875 0.25154692968750003 0.1577358296875 0.3888498671875 0.2085003703125 0.44932860625000004 0.26243773593749997 0.4771160515625 0.3084430796875 0.4771160515625 0.332238965625'\n",
            "Warning: Skipping malformed line in /content/Paddy-Field-Insects-All-Classes-2/train/labels/WHORL-MAGGOTS_original_whorl-26-jpg_56232ddc-0e42-4b6b-9296-ec7ebd5e3cbc_jpg.rf.6523c03ee2aa2478f210f4cc3f060f5c.txt: '10 0.275771875 0.2654640625 0.2812046875 0.198453125 0.25222968749999997 0.11082499999999999 0.22144375 0.0463921875 0.20152343749999999 0.025773437500000003 0.16530625000000002 0.0025765625 0.071303125 0.00773125 0.051217187500000004 0.0670109375 0.051217187500000004 0.108246875 0.07838125 0.12113437499999999 0.118221875 0.1262890625 0.13633125 0.19072187499999999 0.1453859375 0.2474234375 0.181603125 0.301546875 0.1906578125 0.322165625 0.2449859375 0.337628125 0.275771875 0.2654640625'\n",
            "Warning: Skipping malformed line in /content/Paddy-Field-Insects-All-Classes-2/train/labels/WHORL-MAGGOTS_original_whorl-26-jpg_56232ddc-0e42-4b6b-9296-ec7ebd5e3cbc_jpg.rf.6523c03ee2aa2478f210f4cc3f060f5c.txt: '10 0.22868750000000002 0.4974234375 0.2377421875 0.47938125 0.2377421875 0.45360781250000004 0.22325468750000002 0.42010312499999997 0.20695625 0.4020625 0.176171875 0.39175312500000004 0.10916718750000001 0.4046390625 0.053028125 0.4046390625 0.0024625000000000003 0.40979374999999996 0.009567187500000001 0.5618562500000001 0.015 0.5618562500000001 0.024054687499999998 0.5618562500000001 0.042162500000000006 0.5670109375 0.051217187500000004 0.5670109375 0.0983015625 0.5618562500000001 0.1453859375 0.54896875 0.19609062500000002 0.5231953125000001 0.22868750000000002 0.4974234375'\n",
            "Warning: Skipping malformed line in /content/Paddy-Field-Insects-All-Classes-2/train/labels/WHORL-MAGGOTS_original_whorl-26-jpg_56232ddc-0e42-4b6b-9296-ec7ebd5e3cbc_jpg.rf.6523c03ee2aa2478f210f4cc3f060f5c.txt: '10 0.2775828125 0.9639171875000001 0.30836874999999997 0.969071875 0.3373421875 0.9587625 0.37174999999999997 0.9149484375 0.397103125 0.8402062499999999 0.404346875 0.7731953125000001 0.411590625 0.7087625 0.4134015625 0.6752578125 0.40615781249999994 0.621134375 0.400725 0.5670109375 0.397103125 0.5360828125 0.3880484375 0.5154640625 0.382615625 0.5 0.36812812500000003 0.489690625 0.34666562500000003 0.489690625 0.319234375 0.538659375 0.3029359375 0.6237109375000001 0.2866375 0.6855671875 0.2739609375 0.7268046874999999 0.254040625 0.77835 0.24679687499999997 0.8170109374999999 0.2449859375 0.8762890625 0.24860781250000002 0.917525 0.2630953125 0.95103125 0.2775828125 0.9639171875000001'\n",
            "Warning: Skipping malformed line in /content/Paddy-Field-Insects-All-Classes-2/train/labels/WHORL-MAGGOTS_original_whorl-136-jpg_e680ff20-ba24-4cfd-a253-c4578af35f6a_jpg.rf.a04efc49b9b9953bb9dbb0ae1196a561.txt: '10 0.881671875 0.1834625 0.807625 0.2971578125 0.6132531250000001 0.46769999999999995 0.45220312500000004 0.506459375 0.2504265625 0.5193796875000001 0.2059984375 0.5581390625 0.23191406250000002 0.6666671875 0.328175 0.7700265625 0.424434375 0.8423765624999999 0.5965921875 0.8242890624999999 0.7243234375000001 0.7622734375 0.813178125 0.6537468750000001 0.9298015625 0.5012921875 0.9982953125 0.351421875 0.9649734375 0.22480625 0.881671875 0.1834625'\n",
            "Warning: Skipping malformed line in /content/Paddy-Field-Insects-All-Classes-2/train/labels/Image_25_jpg.rf.84bd07a3cb726afae1048dd3bf208e91.txt: '4 0 0 0 0.6215859375 0.040565625 0.5873046875 0.12875 0.4609078125 0.1601046875 0.349209375 0.25808593750000003 0.237509375 0.250246875 0.16696249999999999 0.32079375 0.049384375 0.32827656250000004 0 0 0'\n",
            "Warning: Skipping malformed line in /content/Paddy-Field-Insects-All-Classes-2/train/labels/WHORL-MAGGOTS_original_whorl-137-jpg_c29ba212-f574-4818-ab6a-6f1d6585385c_jpg.rf.21b9febdb4b33f0fc39469a33e30f36e.txt: '10 0.4873578125 0.6952390625 0.5706609375 0.7236640624999999 0.65155625 0.7359375 0.6580515625000001 0.7359375 0.7631812499999999 0.705575 0.8388187500000001 0.6022171875 0.8421875 0.5450999999999999 0.8421875 0.5342875 0.8057578124999999 0.488521875 0.6595171875 0.47043437499999996 0.54289375 0.4497625 0.3707890625 0.2921875 0.3706640625 0.2921875 0.3059453125 0.3360671875 0.3046875 0.383453125 0.3046875 0.40668906250000003 0.36333125 0.4911046875 0.39295 0.5867125 0.4873578125 0.6952390625'\n",
            "Warning: Skipping malformed line in /content/Paddy-Field-Insects-All-Classes-2/train/labels/BA-43-_jpg.rf.bcf64a4ca9c0b75183c7ab02bcb898e7.txt: '8 0.347317096875 0.8840048203125 0.49087289375000004 0.7709290906249999 0.6196810187499999 0.62359345625 0.65671151875 0.533019878125 0.64900663125 0.5022422578125 0.586867509375 0.5079245453125 0.581049734375 0.4760573984375 0.549211221875 0.4579552609375 0.5476942734375 0.48147638125 0.4376007921875 0.5827810671875 0.30857895625 0.7428208171875 0.261820975 0.8339782687499999 0.2800222984375 0.8851153015625 0.3108781453125 0.8949782734375 0.347317096875 0.8840048203125'\n",
            "Warning: Skipping malformed line in /content/Paddy-Field-Insects-All-Classes-2/train/labels/BA-43-_jpg.rf.bcf64a4ca9c0b75183c7ab02bcb898e7.txt: '8 0.1869588359375 0.4406486515625 0.3786100984375 0.44574144843749997 0.54520233125 0.40743073281250003 0.59291434375 0.348432365625 0.544334190625 0.30351190156249996 0.507311365625 0.3047578734375 0.4637800328125 0.2707612734375 0.2066428578125 0.248121578125 0.135068190625 0.25925148125 0.089777565625 0.285400034375 0.096976803125 0.324018034375 0.060003571874999995 0.366751778125 0.072679053125 0.39088540312500003 0.11294181406249999 0.419220678125 0.1869588359375 0.4406486515625'\n",
            "Warning: Skipping malformed line in /content/Paddy-Field-Insects-All-Classes-2/train/labels/BA-43-_jpg.rf.bcf64a4ca9c0b75183c7ab02bcb898e7.txt: '8 0.6560284609375 0.44031684843749996 0.736197109375 0.6292910875 0.7874619593750001 0.6701453984375 0.8173637734374999 0.647849284375 0.884872284375 0.6340346859375 0.919588246875 0.5699588640625 0.9039438015625001 0.4557000453125 0.8295642937500001 0.322512865625 0.9083668312500001 0.326081046875 0.962399875 0.300900078125 0.9620381625000001 0.300273571875 0.8910126828125 0.31345515156250003 0.802696378125 0.29776673124999997 0.8157573671874999 0.1656767515625 0.7717127140625 0.22884812812500002 0.6420364515625 0.2722649328125 0.6799350859375 0.2856101875 0.65127924375 0.344929121875 0.6560284609375 0.44031684843749996'\n",
            "Warning: Skipping malformed line in /content/Paddy-Field-Insects-All-Classes-2/train/labels/PB-58_jpg.rf.c2fba14712c2080e0f611f7972c74307.txt: '5 0.4626781515625 0.595925684375 0.5049961046875 0.613962778125 0.450923159375 0.73858376875 0.5191020578125001 0.8058134671875001 0.5073470671875 0.9107574484375001 0.5320325296874999 0.8796021843749999 0.5379100265625001 0.8008942921875001 0.45915161875 0.728745296875 0.5273306046874999 0.613962778125 0.559069046875 0.6074038203125001 0.5132245609375 0.7500619625 0.534383584375 0.7861365234375 0.601387 0.833689278125 0.609615546875 0.9123971750000001 0.6248969828125001 0.9156767453124999 0.6190194859375 0.815651934375 0.5355590640625 0.7500619625 0.5884565265624999 0.620521925 0.61549304375 0.6123231796875 0.7013044296875 0.833689278125 0.7953443609375 0.73858376875 0.8623477796874999 0.6844720515625 0.9399307968749999 0.7107081421875 0.9411063687500001 0.691031009375 0.8635233515625 0.6582360234375 0.84471529375 0.6533169156249999 0.71423499375 0.804173740625 0.6354764937499999 0.6106833296875 0.7941689734375 0.602484584375 0.887033334375 0.564770296875 0.8811558375 0.5319753109375001 0.882331409375 0.5319753109375001 0.8658743140625 0.505739471875 0.6542844624999999 0.5139382171875 0.7318674796875 0.3417644109375 0.9222983109375 0.4729443578125 0.992828259375 0.412273621875 0.9787223046875001 0.3925966171875 0.9199473484375 0.4335903484375 0.721287878125 0.3007706796875 0.631949959375 0.5073791328125 0.56729750625 0.5090188578125 0.5390855984375 0.4417890984375 0.607264496875 0.45162763281249996 0.6366519765625 0.474584084375 0.662513009375 0.3991556375 0.6507580203125001 0.40571466093749997 0.6366519765625 0.4581865890625 0.6143174734375 0.4303109015625 0.5108736015625001 0.4204723671875 0.546138575 0.505739471875 0.48853909843750004 0.5385344578125 0.4744331421875 0.527056075 0.453274121875 0.5368946078125 0.3721646625 0.44670839687499997 0.346303715625 0.307329703125 0.34865467968749997 0.08924301875 0.3251446953125 0.0925225 0.3169162359375 0.235180703125 0.3192672 0.32044768437500004 0.327495746875 0.3925966171875 0.339250740625 0.43850964687499994 0.346303715625 0.474584084375 0.44504566562500003 0.5631306984375 0.44034364843749996 0.572969046875 0.3521812125 0.591006325 0.276949246875 0.6320000609374999 0.21582332499999998 0.6533169156249999 0.14294232499999998 0.7123477406250001 0.086518415625 0.7615402828125 0.038322878125 0.8402481749999999 0.0206903921875 0.902558703125 0.0218659625 0.904198425 0.019388925 0.9048400328125 0.0312699015625 0.9222356421875 0.060657381249999996 0.848446925 0.134713865625 0.7566209859375 0.21582332499999998 0.6844720515625 0.30163471249999996 0.6483975515625 0.3745157125 0.6221615234375 0.4180091484375 0.595925684375 0.4626781515625 0.595925684375'\n",
            "Warning: Skipping malformed line in /content/Paddy-Field-Insects-All-Classes-2/train/labels/WHORL-MAGGOTS_original_whorl-52-jpg_cf5722a0-c016-4940-aa4f-73b35ea7a158_jpg.rf.2cb56d1cda92f45d4808974e959d210b.txt: '10 0.42522031250000003 0.4908625 0.404015625 0.6011562500000001 0.3797828125 0.6893921875 0.4459234375 0.7203125 0.44901093750000004 0.7203125 0.5009484375000001 0.6746859374999999 0.5706203125 0.584 0.626659375 0.530078125 0.700875 0.5202734375 0.803865625 0.5349796875 0.8477890625000001 0.5202734375 0.86875 0.483728125 0.86875 0.4721 0.8568765624999999 0.40262656249999995 0.7978078125 0.326646875 0.71450625 0.294784375 0.572134375 0.31439218750000003 0.5054921875 0.3560578125 0.42522031250000003 0.4908625'\n",
            "Warning: Skipping malformed line in /content/Paddy-Field-Insects-All-Classes-2/train/labels/BA-12-_jpg.rf.ba412115ad8d85ff9cadb8733a3688ef.txt: '8 0.3641775859375 0.23974457500000002 0.4098123671875 0.2413188765625 0.4224013140625 0.25548780625 0.40194430781249996 0.29327157812500004 0.35945681875 0.30586615 0.329558159375 0.30586615 0.2996594984375 0.31216340468750003 0.194227515625 0.20983241718749998 0.19265380625 0.20825811718749998 0.2461566515625 0.313737765625 0.24458306406250002 0.34837287968749997 0.23042052812499997 0.39402820781250003 0.20838992968749998 0.4444065515625 0.19737469218749998 0.49793355625 0.1863594515625 0.545163240625 0.18950662812500002 0.5939673484375 0.19580110312500001 0.652217184375 0.19894828125 0.702595528125 0.19894828125 0.7655683843750001 0.211537228125 0.8206696859375 0.22569976249999998 0.899385828125 0.28549696406249997 0.938743903125 0.29179143750000003 0.915129059375 0.30910115 0.8694737921875 0.3358526328125 0.8852170203125 0.43656373281249994 0.9135547624999999 0.47905133749999995 0.8694737921875 0.47905133749999995 0.811223771875 0.488492990625 0.74825085625 0.5341277718749999 0.79705484375 0.551437484375 0.8269670031249999 0.5577319593750001 0.85215614375 0.598645859375 0.8915142171875001 0.65214870625 0.9135547624999999 0.7025042546875 0.9025345484375 0.70565143125 0.8584534578125 0.7276821499999999 0.8647507750000001 0.763875284375 0.8899399171875 0.7859057625 0.8867913218749999 0.81895171875 0.8553048640625001 0.8362613109374999 0.8143724906250001 0.8378350203125 0.7624197859375 0.8346878437499999 0.7136158015625 0.8331141328125 0.6837036421875 0.82996695625 0.6333254171875 0.8142308328125001 0.570352384375 0.7953475328125 0.5073794671875 0.7717433437500001 0.4475552109375 0.751286334375 0.401899821875 0.7213875562500001 0.35467013281250004 0.693062725 0.318460721875 0.67103200625 0.296420178125 0.6348389937500001 0.252339146875 0.6033667453125 0.2413188765625 0.608087509375 0.20825811718749998 0.660016765625 0.1657513875 0.7213875562500001 0.0964812484375 0.67103200625 0.1232446890625 0.633265284375 0.170474375 0.5734680828125 0.211406775 0.5608791359375 0.19723784687499998 0.49026162187500005 0.206964390625 0.47433045468749996 0.2208526890625 0.45229985624999997 0.22557564531250002 0.40509148125000005 0.2208526890625 0.35001504687499996 0.20983241718749998 0.274481725 0.192514890625 0.2870705515625 0.21298107656249998 0.3641775859375 0.23974457500000002'\n",
            "Warning: Skipping malformed line in /content/Paddy-Field-Insects-All-Classes-2/train/labels/WHORL-MAGGOTS_original_whorl-26-jpg_e37850d2-6b6e-4eb2-89ca-6ccdcf425cd0_jpg.rf.103184533160f4e97ab3c024c602046e.txt: '10 0.0821078125 0 0.0696578125 0.0022156249999999997 0.064225 0.0279875 0.042493750000000004 0.08984375 0.03525 0.14912187500000001 0.022573437499999998 0.2084 0.01351875 0.2651015625 0.0494203125 0.31875 0.0638328125 0.31875 0.0932 0.30891562499999997 0.11312031250000001 0.28314218750000003 0.12941875 0.23932812499999997 0.145715625 0.1929359375 0.14933749999999998 0.162009375 0.1583921875 0.0924203125 0.1982328125 0.0563390625 0.2328125 0.0563390625 0.2328125 0.022328124999999997 0.0865203125 0 0.0821078125 0'\n",
            "Warning: Skipping malformed line in /content/Paddy-Field-Insects-All-Classes-2/train/labels/WHORL-MAGGOTS_original_whorl-26-jpg_e37850d2-6b6e-4eb2-89ca-6ccdcf425cd0_jpg.rf.103184533160f4e97ab3c024c602046e.txt: '10 0.0242125 0.4120453125 0.007915624999999999 0.44555 0.0061046875 0.47647812500000003 0.0187796875 0.504828125 0.042321874999999995 0.528025 0.09302812499999999 0.5512203125 0.15097812500000002 0.566684375 0.1640421875 0.56875 0.209375 0.56875 0.209375 0.43059375 0.20878437500000002 0.40431249999999996 0.1799515625 0.3914265625 0.114759375 0.3914265625 0.0531875 0.39658125 0.0242125 0.4120453125'\n",
            "Warning: Skipping malformed line in /content/Paddy-Field-Insects-All-Classes-2/train/labels/WHORL-MAGGOTS_original_whorl-26-jpg_e37850d2-6b6e-4eb2-89ca-6ccdcf425cd0_jpg.rf.103184533160f4e97ab3c024c602046e.txt: '10 0.2937796875 0.6006359375 0.2792921875 0.66506875 0.2702375 0.73465625 0.259371875 0.77589375 0.2412625 0.8222859375 0.2322078125 0.8738328125000001 0.226775 0.9124921875 0.2249640625 0.9408421875 0.22134218749999998 0.96919375 0.2249640625 0.9898109375 0.2394515625 0.9898109375 0.27204843749999996 0.9898109375 0.302834375 0.9898109375 0.31118125 0.9921875 0.313303125 0.9921875 0.3299984375 0.9898109375 0.34810625 0.9537296874999999 0.3644046875 0.9202234375 0.3716484375 0.876409375 0.3716484375 0.8403265624999999 0.37345937500000004 0.806821875 0.3933796875 0.765584375 0.3953125 0.735328125 0.3953125 0.548353125 0.39156875 0.5181625000000001 0.3825140625 0.5001203125 0.37345937500000004 0.4898109375 0.357434375 0.48465625 0.310078125 0.5233171875 0.2937796875 0.6006359375'\n"
          ]
        },
        {
          "output_type": "stream",
          "name": "stderr",
          "text": [
            " 23%|██▎       | 1235/5345 [00:00<00:01, 3070.71it/s]"
          ]
        },
        {
          "output_type": "stream",
          "name": "stdout",
          "text": [
            "Warning: Skipping malformed line in /content/Paddy-Field-Insects-All-Classes-2/train/labels/WHORL-MAGGOTS_original_whorl-26-jpg_70051b04-71e5-4832-9eae-49468ba1f90a_jpg.rf.8e8931dc8950101c992e139204d9d852.txt: '10 0.2841515625 0.12086875 0.296828125 0.0641671875 0.2749328125 0.0048890625 0.17911875 0.0023109375 0.168253125 0.0048890625 0.161009375 0.0126203125 0.15014375 0.020353125 0.12841249999999998 0.048703125 0.09400625 0.09767187499999999 0.072275 0.1517953125 0.046921875 0.19818750000000002 0.0523546875 0.2626203125 0.09299375 0.2953125 0.104865625 0.2953125 0.12841249999999998 0.29354843750000004 0.168253125 0.267775 0.197228125 0.2162296875 0.21352656250000002 0.1724140625 0.2587984375 0.1466421875 0.2841515625 0.12086875'\n",
            "Warning: Skipping malformed line in /content/Paddy-Field-Insects-All-Classes-2/train/labels/WHORL-MAGGOTS_original_whorl-26-jpg_70051b04-71e5-4832-9eae-49468ba1f90a_jpg.rf.8e8931dc8950101c992e139204d9d852.txt: '10 0.0035671875 0.556475 0.006385937499999999 0.5578125 0.0359609375 0.5578125 0.063328125 0.5513203125 0.1086 0.5410109375000001 0.1502515625 0.5332796875 0.2100125 0.49462031250000005 0.2534734375 0.46369218749999996 0.265625 0.43651718749999996 0.265625 0.43373906250000005 0.2534734375 0.39668125 0.2190671875 0.3837953125 0.137575 0.39668125 0.0578953125 0.39668125 0.001896875 0.406990625 0.0035671875 0.556475'\n",
            "Warning: Skipping malformed line in /content/Paddy-Field-Insects-All-Classes-2/train/labels/WHORL-MAGGOTS_original_whorl-26-jpg_70051b04-71e5-4832-9eae-49468ba1f90a_jpg.rf.8e8931dc8950101c992e139204d9d852.txt: '10 0.3026015625 0.5647953125 0.29173593750000004 0.6163421875 0.26819375 0.680775 0.24103124999999997 0.7838671875000001 0.237409375 0.8173734375 0.23559843749999998 0.8560328125 0.23559843749999998 0.902425 0.237409375 0.9436609375 0.25913906249999996 0.9720125 0.28471875 0.9765625 0.2953296875 0.9765625 0.3189 0.9745890625 0.3388203125 0.9565484375000001 0.373228125 0.8611875 0.3750390625 0.8122187500000001 0.3913375 0.7452078125 0.3985796875 0.6962390625 0.4040125 0.629228125 0.41125625 0.5570640625000001 0.4125 0.5393703125 0.4125 0.497078125 0.3985796875 0.47974375 0.3859046875 0.47458906250000005 0.36960625 0.46685781249999997 0.358740625 0.4539703125 0.3351984375 0.48232187499999996 0.3026015625 0.5647953125'\n",
            "Warning: Skipping malformed line in /content/Paddy-Field-Insects-All-Classes-2/train/labels/PB-33_jpg.rf.07562ad4a6594dea9832d06af26f4d1d.txt: '5 0.39296260156249996 0.2622196203125 0.3956301625 0.28553955000000003 0.42230615625 0.31052522968749996 0.4916638015625 0.42212795 0.4849948046875 0.4554421921875 0.41830481875 0.4254593875 0.4316428140625 0.482093559375 0.39429638125 0.46377075312500005 0.4049668203125 0.5037478671875 0.44364693125 0.510410678125 0.43697793125000006 0.4671021875 0.47965958437499995 0.480427871875 0.4849948046875 0.5353963578125 0.34494583125 0.6086877125 0.4103019375 0.7469418625 0.368954165625 0.7919160375 0.37295560625 0.8185674046875 0.43697793125000006 0.751938921875 0.3702879453125 0.6170162718750001 0.4916638015625 0.5653791625 0.49833280156250004 0.6336733921875 0.49699892031250004 0.7635989828125 0.5343453546875 0.8502159593749999 0.54768335 0.8518816453125 0.5703579046875 0.7302847421875 0.5796945640625 0.6536619499999999 0.5570199078125 0.5653791625 0.671726765625 0.6786476296874999 0.6663915453125 0.806907471875 0.6863985421875001 0.848550271875 0.6863985421875001 0.8718702671875 0.7090730953125 0.880198828125 0.699736540625 0.8335588375 0.6823971015625 0.801910284375 0.6903998796875 0.658659075 0.5583537875 0.5353963578125 0.5623551265625 0.507079303125 0.643716890625 0.51707355 0.693067540625 0.5770391578125 0.73975053125 0.5787049078125001 0.73841665 0.5537192281250001 0.6944013203125 0.5370621078125 0.6517197703125001 0.4904221203125 0.5610213484375 0.47709643437500004 0.5543523484375 0.43711938437500003 0.5997015593749999 0.3588309046875 0.5997015593749999 0.3988079578125 0.6303788921875 0.36049659218749996 0.627711334375 0.345505221875 0.60903811875 0.375488025 0.6077043375 0.3205195421875 0.5490171296875 0.420462265625 0.5450157921875001 0.3521680328125 0.5943663406249999 0.20391969687499997 0.6637238859375 0.110639784375 0.759757528125 0.037348525 0.721077415625 0.024022778124999998 0.5703579046875 0.143954028125 0.5250087953125 0.3205195421875 0.5076693578125 0.3155223546875 0.45698492812499997 0.26388530781249997 0.3582838296875 0.198922509375 0.2689191875 0.143954028125 0.183555984375 0.1256311875 0.16621665000000002 0.138956903125 0.162215209375 0.143954028125 0.1619999703125 0.146250003125 0.16621665000000002 0.1689397078125 0.200895421875 0.160611146875 0.3329416140625 0.2189110671875 0.43564415468749995 0.2822081125 0.5050018 0.36049659218749996 0.5050018 0.39381083281249996 0.43697793125000006 0.295533859375 0.39296260156249996 0.2622196203125'\n",
            "Warning: Skipping malformed line in /content/Paddy-Field-Insects-All-Classes-2/train/labels/WHORL-MAGGOTS_original_whorl-25-jpg_fe0e1611-69e3-4d68-94cb-225dad44ad8e_jpg.rf.aeee5c19affc6cfc6dd09db39882b972.txt: '10 0.208425 1 0.2995359375 0.9925906250000001 0.34662031249999997 0.868878125 0.355675 0.77351875 0.365625 0.683828125 0.365625 0.6560453125000001 0.36291875 0.5982609375 0.34662031249999997 0.5080546874999999 0.316090625 0.4384671875 0.250640625 0.48485781250000004 0.22891093749999997 0.62145625 0.21985625 0.7657859375 0.1836375 0.8663015625 0.1546875 0.96158125 0.1546875 0.96171875 0.1714984375 1 0.208425 1'\n",
            "Warning: Skipping malformed line in /content/Paddy-Field-Insects-All-Classes-2/train/labels/Image_26_jpg.rf.c41438015d41b330355e59810f8f4a3f.txt: '4 0.7641 0 0.765625 0.0518625 0.791015625 0.090303125 0.837890625 0.10428124999999999 0.85546875 0.12874375 0.8515625 0.29648281249999997 0.86328125 0.359384375 0.880859375 0.41180312499999994 0.9296875 0.45723281250000003 0.955078125 0.41879218749999997 0.978515625 0.42578125 0.998046875 0.397825 1 0.3894375 1 0 0.7641 0'\n",
            "Warning: Skipping malformed line in /content/Paddy-Field-Insects-All-Classes-2/train/labels/WHORL-MAGGOTS_original_whorl-25-jpg_2c892cfc-fe08-456a-b45f-981d42797c9a_jpg.rf.427cb49f6b5d53dfeee1c400c0302811.txt: '10 0.3337203125 0.50773125 0.3264765625 0.44072187500000004 0.319234375 0.32732031250000004 0.324665625 0.2448453125 0.3174234375 0.12371093749999999 0.29931406250000003 0.038659375 0.3065578125 0.010309374999999999 0.154440625 0.0051546874999999995 0.1598734375 0.1056703125 0.17073906249999998 0.1726796875 0.19971250000000002 0.2654640625 0.23049843750000001 0.3659796875 0.2576625 0.44072187500000004 0.2703390625 0.5051546874999999 0.2848265625 0.5438140625 0.29931406250000003 0.5567015625 0.3210453125 0.5463921875 0.3337203125 0.50773125'\n",
            "Warning: Skipping malformed line in /content/Paddy-Field-Insects-All-Classes-2/train/labels/WHORL-MAGGOTS_original_whorl-25-jpg_2c892cfc-fe08-456a-b45f-981d42797c9a_jpg.rf.427cb49f6b5d53dfeee1c400c0302811.txt: '10 0.0060859375 0.4561859375 0.013189062500000001 0.6365984375 0.043973437500000004 0.6365984375 0.07475937499999999 0.6340203125 0.110978125 0.6262890624999999 0.13633125 0.6159796875 0.13633125 0.5773203125 0.10916718750000001 0.5463921875 0.0838140625 0.5103093750000001 0.0060859375 0.4561859375'\n",
            "Warning: Skipping malformed line in /content/Paddy-Field-Insects-All-Classes-2/train/labels/WHORL-MAGGOTS_original_whorl-25-jpg_2c892cfc-fe08-456a-b45f-981d42797c9a_jpg.rf.427cb49f6b5d53dfeee1c400c0302811.txt: '10 0.0910578125 0.75 0.07113749999999999 0.7757734375 0.04940625 0.832475 0.015 0.9020625000000001 0.015 0.940721875 0 0.9768046874999999 0.025865624999999996 0.9871140625000001 0.07294843749999999 0.989690625 0.1236546875 0.9948453125000001 0.143575 0.9768046874999999 0.15081875 0.9355671875 0.143575 0.8685562499999999 0.143575 0.809278125 0.1164109375 0.74226875 0.0910578125 0.75'\n",
            "Warning: Skipping malformed line in /content/Paddy-Field-Insects-All-Classes-2/train/labels/BA-7-_jpg.rf.298c2f622934146de5d942f4f5f847f7.txt: '8 0.5136718765625 0.7216796890625 0.4179687484375 0.5087890640625 0.431640625 0.5146484375 0.5039062515625 0.6455078125 0.5361328125 0.6855468765625 0.5517578125 0.6875 0.447265625 0.4873046890625 0.6474609359375 0.5546874984375 0.7119140640625 0.5585937484375 0.7548828125 0.546875 0.802734375 0.5009765625 0.828125 0.4501953109375 0.8261718765625 0.3037109359375 0.8144531234375 0.2783203109375 0.7373046890625 0.2265625015625 0.5869140640625 0.208984375 0.3056640640625 0.234375 0.2177734375 0.3457031234375 0.1552734375 0.2851562515625 0.1523437484375 0.3017578125 0.2011718765625 0.3720703109375 0.208984375 0.4306640640625 0.1738281234375 0.5244140640625 0.2353515625 0.46875 0.2792968765625 0.4970703109375 0.2675781234375 0.7763671875 0.2851562515625 0.7216796890625 0.296875 0.5478515625 0.3291015625 0.4765625015625 0.3466796890625 0.4765625015625 0.390625 0.5166015625 0.4394531234375 0.6298828125 0.5087890640625 0.740234375 0.5136718765625 0.7216796890625'\n",
            "Warning: Skipping malformed line in /content/Paddy-Field-Insects-All-Classes-2/train/labels/WHORL-MAGGOTS_original_whorl-10-jpg_bfd3ccc2-a7dd-4eaa-ad8e-998528149478_jpg.rf.6d26b636c9ad454c63ab2f175100fedb.txt: '10 0.2581421875 0.5720078125 0.263821875 0.5947 0.2734390625 0.609375 0.2761453125 0.609375 0.2933578125 0.601790625 0.296653125 0.5975359375 0.296875 0.595571875 0.296875 0.5256062499999999 0.2910859375 0.513859375 0.2740453125 0.49116875000000004 0.25587031250000003 0.4925859375 0.24791875000000002 0.513859375 0.2490546875 0.5393875 0.2581421875 0.5720078125'\n",
            "Warning: Skipping malformed line in /content/Paddy-Field-Insects-All-Classes-2/train/labels/PB-50_jpg.rf.19670d6f34e7c4f387811fa759e86fdc.txt: '5 0.49902013749999996 0.5359280390625 0.48921278749999997 0.58557278125 0.38525480624999997 0.5594439640625 0.410753978125 0.594717878125 0.369563134375 0.5790405765625 0.3636786640625 0.594717878125 0.46175217343749997 0.6299918890625 0.4225227703125 0.584266459375 0.48921278749999997 0.5999436593749999 0.4970586953125 0.6352175718749999 0.29502720781249997 0.6848623140625001 0.26756659531250004 0.704458925 0.5029430171875 0.7710873874999999 0.49902013749999996 0.7514907749999999 0.3342566125 0.6979267203124999 0.5029430171875 0.6639592296875 0.5127503671875 0.694007359375 0.5127503671875 0.7332005828125 0.5049046078125 0.7919904203125 0.5068660484375 0.8429416328125001 0.5362880999999999 0.8834412781250001 0.5637487125 0.8834412781250001 0.5912091765625 0.8612318234374999 0.587286296875 0.8233450203125001 0.5853248546875001 0.6953138796875 0.6677065437499999 0.7998291453124999 0.5990550859375 0.9435376359375001 0.6206312281249999 0.99579526875 0.6422075203125 0.9944887484375 0.6265156984375 0.951376259375 0.710858978125 0.7998291453124999 0.587286296875 0.6704914343749999 0.5853248546875001 0.6143144890625 0.6696679828125001 0.5712020515625 0.7088973875 0.6522012921875 0.8030481640625 0.6456690875 0.7932406640624999 0.6221531640625 0.72655065 0.627378896875 0.6775138953125001 0.5411538234375 0.587286296875 0.5829599390625 0.5853248546875001 0.5437667140625 0.6696679828125001 0.418348365625 0.652014871875 0.4039775375 0.569633034375 0.5215572109375 0.5637487125 0.49542839375 0.5755175046875001 0.4483964953125 0.6167083484375 0.3935260203125 0.703013065625 0.3268975078125 0.8187396859374999 0.2158500390625 0.8030481640625 0.21062432968749997 0.6990900375 0.2785591875 0.5715944734375 0.4131226328125 0.5460954515625 0.48105751406249997 0.5264807499999999 0.48105751406249997 0.49117422499999996 0.42357414843749996 0.37544745625 0.3673972046875 0.2126455203125 0.311220209375 0.09495730937499999 0.2863978625 0.0838234859375 0.3205882375 0.0812269296875 0.3255910875 0.2165684015625 0.343881228125 0.3303337296875 0.37654225 0.4264458015625 0.4287998828125 0.4970586953125 0.5019605984375 0.48725134531250003 0.5137185359374999 0.49902013749999996 0.5359280390625'\n",
            "Warning: Skipping malformed line in /content/Paddy-Field-Insects-All-Classes-2/train/labels/Image_25_jpg.rf.1bee6e713fbbb70967e561302e351fce.txt: '4 0.79155625 0 0.74858125 0.18460000000000001 0.6878328125000001 0.26984375 0.5075453125 0.38154374999999996 0.47423125 0.44327187500000004 0.4820703125 0.49030312499999995 0.378209375 0.5579109375 0.27630937499999997 0.7342765625000001 0.1724484375 0.8371578124999999 0.14109375 0.9312203125 0.14109375 0.9782515625 0.182246875 0.9929500000000001 0.6741140624999999 0.990009375 0.7622984374999999 0.8224609375 1 0.6215859375 1 0 0.79155625 0'\n",
            "Warning: Skipping malformed line in /content/Paddy-Field-Insects-All-Classes-2/train/labels/whorl-128-_jpg.rf.71a8f2304b317198616192628dc59014.txt: '10 0.525853125 0.6287281250000001 0.3779078125 0.6618078125 0.30193593750000003 0.5803828125 0.2566203125 0.46333437499999997 0.227296875 0.381909375 0.20197343750000002 0.343740625 0.1966421875 0.3361078125 0.1753171875 0.3386515625 0.1553234375 0.351375 0.137996875 0.364096875 0.1313328125 0.3793640625 0.1180046875 0.4709671875 0.137996875 0.6032828125 0.195309375 0.76104375 0.26994843749999997 0.8806375 0.3759828125 0.915625 0.38308749999999997 0.915625 0.5231874999999999 0.8984484374999999 0.6338125 0.8322906250000001 0.7257781249999999 0.748321875 0.7884203125 0.6847078125 0.803125 0.6192078125 0.803125 0.6097671874999999 0.7804234375 0.544759375 0.7723187499999999 0.5294921875 0.7457703125 0.5498484375 0.6751296875 0.5727484375 0.61781875 0.59565 0.525853125 0.6287281250000001'\n",
            "Warning: Skipping malformed line in /content/Paddy-Field-Insects-All-Classes-2/train/labels/BA-2-_jpg.rf.c21fd67ce5da367ec3934f6b516c0c88.txt: '8 0.53108366875 0.22996535625 0.42490701093750005 0.3190060546875 0.3764895515625 0.432976996875 0.332667025 0.6785295437500001 0.3426875640625 0.8368689203124999 0.371253875 0.840362571875 0.4436712328125 0.8992135250000001 0.494666225 0.9019239484374999 0.5493115140625 0.8805537984375 0.5988777046875 0.7994782546875 0.6185674437500001 0.5487801671875 0.6513251921875 0.5865600328125 0.654856828125 0.64482239375 0.6723298375 0.6307386 0.669144715625 0.5395286265625 0.6193269124999999 0.39904675625 0.649336253125 0.40099294218750003 0.693358175 0.3755025640625 0.826781540625 0.3379078015625 0.8323447984375001 0.325736978125 0.7249482015625001 0.33697269375 0.6683187375 0.3015235140625 0.6367619343750001 0.298134296875 0.470922571875 0.13625381718750001 0.53108366875 0.22996535625'\n",
            "Warning: Skipping malformed line in /content/Paddy-Field-Insects-All-Classes-2/train/labels/PB-16_jpeg_jpg.rf.31b9cee31ae8a20e51925ae06af8efe7.txt: '5 0.5538695203125 0.4099548015625 0.61080905625 0.4916529328125 0.602993771875 0.5246463796875 0.578431646875 0.53250196875 0.5672670281250001 0.6220558078125 0.578431646875 0.6330535234375 0.5996444390625 0.5843488390625 0.5828975109375001 0.6676181234375 0.5538695203125 0.6927561015625 0.5706164484375 0.7100383124999999 0.6197407 0.6676181234375 0.6342547374999999 0.5670666875 0.6621662828125 0.57649325 0.6643991734375 0.5890622390625 0.6688650375 0.6377669828125 0.691194275 0.6676181234375 0.7235717703125 0.7775963 0.6878448546875 0.864007771875 0.674447346875 0.9598460453125 0.7023588921874999 0.9645593281249999 0.7057083109375 0.9472770562499999 0.71240715 0.8922879375000001 0.739202165625 0.8200165484375 0.76599718125 0.925281384375 0.8117721843749999 0.9519904578125 0.837450840625 0.9331369734375 0.7838606390625 0.7194649937500001 0.82740258125 0.6361957703125001 0.735852746875 0.5969178281249999 0.721338709375 0.479084003125 0.6465358 0.353394590625 0.6643991734375 0.18842726406250002 0.625323009375 0.1334381453125 0.5873633765624999 0.080020090625 0.5159098015625 0.0611666671875 0.5125603812499999 0.11144244375000001 0.5739657828125 0.1255825578125 0.6141583921875 0.20885175312499998 0.6127231890625 0.3285517796875 0.6096926125000001 0.32511442343749997 0.5940621296875 0.3109744 0.5103274921875001 0.4083837078125 0.48241594687499995 0.3738191078125 0.47125132968749994 0.39738587187499996 0.5047451828125 0.44766165 0.5538695203125 0.4099548015625'\n",
            "Warning: Skipping malformed line in /content/Paddy-Field-Insects-All-Classes-2/train/labels/WHORL-MAGGOTS_original_whorl-129-jpg_2010acb3-45d8-4d21-9b31-ee7214109e6d_jpg.rf.e7e92876b6cfb50ac2cda4f123ee502e.txt: '10 0.1291375 0.57575625 0.153484375 0.732328125 0.3067609375 0.8620984375 0.4641828125 0.9328125 0.468228125 0.9328125 0.6293078125 0.9028109375 0.7505953125 0.7399609375 0.8 0.494234375 0.8 0.48067031250000003 0.7772515624999999 0.345559375 0.7266046875 0.3302921875 0.5586671875 0.6661703125 0.321421875 0.5669328124999999 0.1628140625 0.5236765625 0.1291375 0.57575625'\n",
            "Warning: Skipping malformed line in /content/Paddy-Field-Insects-All-Classes-2/train/labels/BA-32-_jpg.rf.c818a5297109076906b52d7c7a3d0dad.txt: '8 0.473983584375 0.26136521562500004 0.4503206484375 0.3337547609375 0.43483666249999997 0.3443331421875 0.3545891671875 0.321330253125 0.4256140828125 0.3644819875 0.42245669531249996 0.4048599234375 0.37293642656250003 0.40656360156250004 0.4289500171875 0.423688675 0.43351696874999995 0.5690206765625 0.4632186171875 0.6822251125000001 0.5000467484375 0.7470776984375 0.5671828125 0.7829155671875 0.6081493734375 0.75409705625 0.613215475 0.6974591265625001 0.645887125 0.7258226296875 0.67657864375 0.730612275 0.7117119265625 0.6908229625 0.6975656890625 0.6068739953125 0.5793750015625 0.43752234999999995 0.5085463 0.383711984375 0.473983584375 0.26136521562500004'\n",
            "Warning: Skipping malformed line in /content/Paddy-Field-Insects-All-Classes-2/train/labels/WHORL-MAGGOTS_original_whorl-129-jpg_d6a0829a-5068-4e52-860b-e13dd119bbd2_jpg.rf.3dd5e00e8802ae86703b7c5bd24c182f.txt: '10 0.1575109375 0.350984375 0.13125 0.51391875 0.13125 0.517571875 0.250809375 0.8777015625000001 0.41428750000000003 0.940625 0.4175140625 0.940625 0.7546203125 0.778465625 0.7879421875 0.658871875 0.796875 0.5784703125 0.796875 0.5763078125 0.7958359374999999 0.5799921875 0.7839437499999999 0.5316453125 0.5960125 0.5647249999999999 0.38409218749999996 0.658871875 0.204159375 0.32045 0.1575109375 0.350984375'\n",
            "Warning: Skipping malformed line in /content/Paddy-Field-Insects-All-Classes-2/train/labels/WHORL-MAGGOTS_original_whorl-145-jpg_e1e27977-dfd2-4878-a2cd-00695e872784_jpg.rf.f31f2d0ca8c3316c360c16a8ea7774f8.txt: '10 0.53419375 0.3279875 0.4296171875 0.218534375 0.375790625 0.2657984375 0.334375 0.3402328125 0.334375 0.3408203125 0.36041249999999997 0.43743906250000003 0.4388453125 0.57176875 0.5326562499999999 0.725996875 0.6249296875 0.7807234375000001 0.7213984375 0.8359375 0.7339953125 0.8359375 0.8494609375 0.8105734375000001 0.9601890624999999 0.748384375 0.990625 0.6070890624999999 0.990625 0.6046046875 0.9863328125 0.5245046875 0.9278921875 0.489678125 0.78333125 0.489678125 0.6925953125000001 0.489678125 0.594171875 0.4299765625 0.53419375 0.3279875'\n",
            "Warning: Skipping malformed line in /content/Paddy-Field-Insects-All-Classes-2/train/labels/PB-59_jpeg_jpg.rf.effdfe8ab993273cba8493cfae37ec0a.txt: '5 0.45444960468750006 0.6057640328125 0.49911860781249995 0.6467577640625 0.4062541546875 0.6533169156249999 0.40507867500000005 0.6615156609375 0.42976413906250005 0.694310646875 0.400376659375 0.713987528125 0.4121316515625 0.7303850187500001 0.46385363125 0.6959502453125 0.4438700953125 0.66971440625 0.5108736015625001 0.656596296875 0.556718084375 0.6975900328125 0.50969811875 0.8025340140624999 0.5778770171875001 0.8746830140625 0.5778770171875001 0.8550059437499999 0.5332081015625 0.8140122125 0.5755260546875001 0.71562725 0.5978605578125 0.7369440421875 0.5790524968749999 0.86320469375 0.58140355 0.9779871468750001 0.7694834187499999 0.9156767453124999 0.7965199328125 0.9763474203125 0.8153278140625 0.9763474203125 0.7800628374999999 0.8976394015625001 0.593158540625 0.9468318828125 0.61784400625 0.740223490625 0.783589371875 0.8369687265625 0.8529439296874999 0.84352775 0.8658743140625 0.79433526875 0.8470664359375 0.7599005562500001 0.7824139796875 0.718906825 0.648406965625 0.641838528125 0.763605921875 0.505739471875 0.937579834375 0.6598758109375 0.9951792234375001 0.6221615234375 0.9904772968750001 0.5992050703125 0.9387552265625001 0.6303602734375 0.7600793890624999 0.4696648484375 0.6284235171875 0.6320000609374999 0.58492999375 0.6057640328125 0.5790524968749999 0.4942610890625 0.6613374390625 0.5746088296874999 0.6871984765625 0.5221369671875 0.68249655 0.517217603125 0.6542844624999999 0.553292103125 0.574350575 0.4631058875 0.554367034375 0.46802512187499995 0.570824040625 0.57788834375 0.503820621875 0.5811677921875 0.48501256406250004 0.572969046875 0.4662045953125 0.5336150984375 0.427413175 0.4696648484375 0.40507867500000005 0.3991556375 0.400376659375 0.3007706796875 0.400376659375 0.14171498124999998 0.42623760468749994 0.0236530421875 0.4121316515625 0.018733778125 0.3980256953125 0.0384107828125 0.38391965156249996 0.18434853281250002 0.3874461859375 0.3352053921875 0.396850125 0.45654686718750004 0.45209864218750007 0.5500125890625001 0.42388664218749994 0.5434535703125001 0.41330713125 0.5582113390625 0.447396625 0.5828075796875 0.4097806890625 0.5828075796875 0.3709891796875 0.5828075796875 0.31338970312500003 0.5828075796875 0.25461474375000004 0.5877269390625 0.17350528437499999 0.604124434375 0.10650186875 0.6287206750000001 0.052428921875 0.6631552593750001 0.0042334765625 0.705788778125 0.001882421875 0.7074285046875 0.0218659625 0.7238259953124999 0.0853428453125 0.67463351875 0.1546973140625 0.627080825 0.224051784375 0.6057640328125 0.3439526625 0.602484584375 0.45444960468750006 0.6057640328125'\n",
            "Warning: Skipping malformed line in /content/Paddy-Field-Insects-All-Classes-2/train/labels/WHORL-MAGGOTS_original_whorl-24-jpg_f72355e4-450c-4bf4-b382-34ea1a4b5a9d_jpg.rf.51e9dde253c9a5742727876a8a7d940e.txt: '10 0 0.5749765625000001 0.02216875 0.5749765625000001 0.0873609375 0.5723984375 0.161609375 0.5723984375 0.2159359375 0.5723984375 0.2431 0.5646671875 0.25625 0.5436124999999999 0.25625 0.509078125 0.2340453125 0.48477031249999997 0.172475 0.45126406250000006 0.07830625 0.4306453125 0.0060109375 0.4409546875 0 0.528559375 0 0.5749765625000001'\n",
            "Warning: Skipping malformed line in /content/Paddy-Field-Insects-All-Classes-2/train/labels/WHORL-MAGGOTS_original_whorl-24-jpg_f72355e4-450c-4bf4-b382-34ea1a4b5a9d_jpg.rf.51e9dde253c9a5742727876a8a7d940e.txt: '10 0.136478125 0.6826187499999999 0.114746875 0.6465375 0.100259375 0.6284953125 0.08215 0.6310734375 0.0694734375 0.6568453125 0.0658515625 0.6800421875 0.0658515625 0.7212796875 0.0694734375 0.7676703125000001 0.08939375000000001 0.844990625 0.08939375000000001 0.901690625 0.1256125 0.9506609375 0.149153125 0.976434375 0.1700125 0.99375 0.176284375 0.99375 0.2668640625 0.9815875000000001 0.2671875 0.9723671875000001 0.2671875 0.9222828125 0.2632421875 0.901690625 0.2234015625 0.8991140625 0.20167031249999998 0.86303125 0.18537187500000002 0.79344375 0.1545859375 0.7393203125000001 0.136478125 0.6826187499999999'\n",
            "Warning: Skipping malformed line in /content/Paddy-Field-Insects-All-Classes-2/train/labels/WHORL-MAGGOTS_original_whorl-24-jpg_f72355e4-450c-4bf4-b382-34ea1a4b5a9d_jpg.rf.51e9dde253c9a5742727876a8a7d940e.txt: '10 0.3497484375 0.304634375 0.3678578125 0.24535625 0.38415468750000004 0.2015421875 0.39683125 0.15257343750000002 0.39139843750000003 0.0804078125 0.3678578125 0.031439062499999997 0.3352609375 0.028862500000000003 0.3135296875 0.039171875 0.2899875 0.0700984375 0.27006718749999997 0.11906874999999999 0.2555796875 0.1706140625 0.2410921875 0.24020156250000002 0.23384999999999997 0.3226765625 0.22660624999999998 0.3896859375 0.2392828125 0.4644296875 0.2410921875 0.485046875 0.24286249999999998 0.5203125 0.246925 0.5203125 0.2555796875 0.5185531250000001 0.26463437500000003 0.49535625000000005 0.27885468750000003 0.4618515625 0.3026640625 0.40515 0.3243953125 0.358759375 0.3497484375 0.304634375'\n",
            "Warning: Skipping malformed line in /content/Paddy-Field-Insects-All-Classes-2/train/labels/PB-6_jpg.rf.1e368323835cde4d50e324c93d0ca536.txt: '5 0.4532495609375 0.6768336734375 0.4543760640625 0.72262098125 0.42959257031250003 0.812616871875 0.4791594703125 0.8252477921875 0.4960572703125 0.7257788015625 0.4769064625 0.6389407921875 0.5366119734375 0.5678914640625 0.547877175 0.5315772562500001 0.582799365625 0.518946275 0.559142375 0.646835165625 0.5816727765625 0.72262098125 0.6379987765624999 0.7573562796875 0.6515170703125001 0.8710351609375 0.6864392593749999 0.85840411875 0.6717944625000001 0.71788443125 0.60082366875 0.64525619375 0.6165949656249999 0.5284196156250001 0.6515170703125001 0.5110519046875 0.7866994734375 0.6342040609375 0.813735884375 0.5899956015625001 0.877947665625 0.6010476734375 0.877947665625 0.5110519046875 0.804723865625 0.5347350140625 0.7821934625 0.5631547343750001 0.6729208812499999 0.4889476453125 0.9590570749999999 0.42263492343750003 0.9410326859374999 0.3484278390625 0.908363671875 0.3373757671875 0.9455388687499999 0.296325009375 0.936526671875 0.26474753125 0.8734414828125001 0.30264052656249996 0.7202348609375 0.18422494843749998 0.644757965625 0.3594799671875 0.5625219703125001 0.35474335468749996 0.544497665625 0.3847419859375 0.5107020640625 0.35474335468749996 0.5095755609375 0.3531645078125 0.474653371875 0.3926363546875 0.5107020640625 0.43210820781250003 0.4836655671875 0.440002578125 0.3969235578125 0.4163194640625 0.2335781515625 0.32000811875 0.169366459375 0.2615897671875 0.0403228953125 0.20390142187500002 0.0353105578125 0.2426433265625 0.10177525624999999 0.3042193796875 0.1749990578125 0.3373757671875 0.3158140640625 0.4305292984375 0.402556159375 0.4794744265625 0.37101356406249997 0.5094729953125 0.4205804625 0.5947322125000001 0.3856583578125 0.619994175 0.4104417640625 0.681570284375 0.4532495609375 0.6768336734375'\n",
            "Warning: Skipping malformed line in /content/Paddy-Field-Insects-All-Classes-2/train/labels/BA-43-_jpg.rf.802abe293594e6dcd1ca06f4badc68b3.txt: '8 0.5361328125 0.4414062515625 0.5078125015625 0.4580078125 0.525390625 0.4697265625 0.5546874984375 0.6005859359375 0.6210937484375 0.7724609359375 0.6708984375 0.849609375 0.71875 0.8583984375 0.740234375 0.8388671875 0.7480468765625 0.8056640640625 0.724609375 0.6435546890625 0.6679687484375 0.4775390640625 0.6142578125 0.4082031234375 0.5869140640625 0.400390625 0.5634765625 0.4511718765625 0.5361328125 0.4414062515625'\n",
            "Warning: Skipping malformed line in /content/Paddy-Field-Insects-All-Classes-2/train/labels/BA-43-_jpg.rf.802abe293594e6dcd1ca06f4badc68b3.txt: '8 0.3242187484375 0.4404296890625 0.1914062515625 0.6298828125 0.1679687484375 0.6904296890625 0.1679687484375 0.7373046890625 0.2011718765625 0.7490234375 0.2177734375 0.796875 0.2421874984375 0.7978515625 0.2822265625 0.7792968765625 0.3320312515625 0.7314453109375 0.421875 0.5849609359375 0.4667968765625 0.4384765625 0.4423828125 0.375 0.3857421875 0.3925781234375 0.3701171875 0.421875 0.3242187484375 0.4404296890625'\n",
            "Warning: Skipping malformed line in /content/Paddy-Field-Insects-All-Classes-2/train/labels/BA-43-_jpg.rf.802abe293594e6dcd1ca06f4badc68b3.txt: '8 0.5712890640625 0.06445312343750001 0.5488281234375 0.1279296890625 0.4970703109375 0.1894531234375 0.400390625 0.1201171875 0.4296874984375 0.1826171875 0.4052734375 0.302734375 0.4326171875 0.2792968765625 0.4658203109375 0.328125 0.5419921875 0.3671874984375 0.724609375 0.3896484375 0.7792968765625 0.3681640640625 0.775390625 0.3349609359375 0.7949218765625 0.2763671875 0.7607421875 0.2207031234375 0.6650390640625 0.181640625 0.5283203109375 0.1796874984375 0.5664062515625 0.1201171875 0.5712890640625 0.06445312343750001'\n",
            "Warning: Skipping malformed line in /content/Paddy-Field-Insects-All-Classes-2/train/labels/Image_25_jpg.rf.d8a94929522754fa62936d45a7a29498.txt: '4 0 0 0 0.6215859375 0.2377015625 0.8224609375 0.3258859375 0.990009375 0.817753125 0.9929500000000001 0.8589062500000001 0.9782515625 0.8589062500000001 0.9312203125 0.8275515625000001 0.8371578124999999 0.7236921875 0.7342765625000001 0.621790625 0.5579109375 0.5179296875 0.49030312499999995 0.52576875 0.44327187500000004 0.4924546875 0.38154374999999996 0.3121671875 0.26984375 0.25141874999999997 0.18460000000000001 0.20844374999999998 0 0 0'\n",
            "Warning: Skipping malformed line in /content/Paddy-Field-Insects-All-Classes-2/train/labels/PB-10_jpeg_jpg.rf.b5f82ce15b01216d2a5fdf5c2dbe7d65.txt: '5 0.405919496875 0.25450577343749997 0.38527730937500004 0.27830166093750003 0.47896088593749997 0.3988674609375 0.4472037484375 0.44328643593750006 0.456730865625 0.5019829671875 0.3265266546875 0.552747659375 0.3217630359375 0.5844755078125 0.38368947656249996 0.6082713921875 0.33764160312499997 0.6368263234375 0.25030947812500004 0.7193188015625 0.2598367171875 0.7478737921875 0.4297373484375 0.7066276140625 0.4090951609375 0.8430573390625 0.42021023281250003 0.923963328125 0.4519673671875 0.9969374765625 0.499603071875 0.9763143265625001 0.5250087578125 0.8922354796875 0.553590228125 0.9334817796875001 0.5916986953125 0.8827171500000001 0.5694687968750001 0.8446437078125 0.715551575 0.7558057546875 0.723490859375 0.7161459453125001 0.5694687968750001 0.5781297921874999 0.5631173453125 0.555920334375 0.723490859375 0.5146740953125 0.728254478125 0.4861190421875 0.582171578125 0.46073678906250004 0.5678808421875 0.3988674609375 0.582171578125 0.3671396125 0.6171045000000001 0.3005111171875 0.62821945 0.24181464687499998 0.6615644203125 0.2180187609375 0.7425452140625 0.183118084375 0.8171744359374999 0.1656677921875 0.8997429406249999 0.1450446734375 0.9918386859374999 0.1466311328125 0.9981900156249999 0.099039359375 0.9727844515624999 0.099039359375 0.8679858046875 0.1101440578125 0.756835828125 0.1355263125 0.6250437859375 0.19422290312499998 0.553590228125 0.2751288625 0.5345358734375 0.2751288625 0.4869001703125 0.211673165625 0.456730865625 0.1513902359375 0.3725745265625 0.10538486250000001 0.3011209703125 0.0609658859375 0.232843078125 0.032410834375 0.12804455312500002 0 0.1035713921875 0.0222222234375 0.11534165 0.024478871875 0.251897434375 0.081588975 0.3646352421875 0.152976634375 0.46625810312500005 0.237055421875 0.5043665703125 0.3147886734375 0.5043665703125 0.3496893203125 0.405919496875 0.25450577343749997'\n"
          ]
        },
        {
          "output_type": "stream",
          "name": "stderr",
          "text": [
            "\r 29%|██▉       | 1543/5345 [00:00<00:01, 3052.13it/s]"
          ]
        },
        {
          "output_type": "stream",
          "name": "stdout",
          "text": [
            "Warning: Skipping malformed line in /content/Paddy-Field-Insects-All-Classes-2/train/labels/PB-52_jpeg_jpg.rf.25fce88c21fba220ecd2eeb7faa09ad7.txt: '5 0.8458710249999999 1 0.85187303125 0.9807140593750001 0.744835634375 0.8825524203124999 0.60078525 0.78439090625 0.596783834375 0.6688135890625 0.6277946625 0.6323987671875 0.6107887468750001 0.6070668953125 0.59778416875 0.6039002625000001 0.59878458125 0.5152382281250001 0.60778766875 0.502572228125 0.589781415625 0.45190818281249995 0.54676634375 0.35691311875 0.5317610968750001 0.33949732187500004 0.5407642625 0.2888333359375 0.51675585 0.252418515625 0.592782421875 0.0798441875 0.6327964125000001 0.114675753125 0.6708098125 0.19383830156249998 0.6938177343749999 0.3284146140625 0.705822053125 0.3236648125 0.689816396875 0.20333775781250002 0.650802740625 0.0925101828125 0.601785584375 0.045012648437500004 0.5867803375 0.0370963953125 0.51075376875 0.228669746875 0.49074677187500004 0.1954215 0.46773869687499997 0.0022648609375 0.439728946875 0.000681634375 0.46173661250000003 0.1954215 0.465738028125 0.23183626249999997 0.45473419374999996 0.26350128281249996 0.45073278125 0.303082559375 0.460736278125 0.3284146140625 0.46273694687500005 0.37432885625 0.45373385937500005 0.42340967812499997 0.433726865625 0.409160390625 0.287675734375 0.1400077125 0.144625759375 0.341080609375 0.056594946874999996 0.29358307968749997 0.056499978125 0.299405940625 0.059596025 0.3236648125 0.081603690625 0.33316435625 0.156629925 0.3806618859375 0.285675065625 0.206504271875 0.342694971875 0.304665846875 0.40871811874999997 0.42657612812499995 0.432726453125 0.4629909546875 0.45273345000000004 0.4534914109375 0.375706546875 0.559569365625 0.24366040312499998 0.5184047374999999 0.255664571875 0.5912343859375 0.271670153125 0.785974134375 0.27967298125 0.876219515625 0.23865865312499998 0.9189672421875 0.19164216875 0.934799753125 0.19064183437499999 0.9822972875 0.247661740625 0.9632983218750001 0.278672646875 0.9205504703124999 0.271670153125 0.9949633421874999 0.28667539999999997 0.9949633421874999 0.32568905625 0.6418983125 0.44973244687499997 0.73214356875 0.487745690625 0.7147278359375 0.487745690625 0.74639285625 0.409718453125 0.7986401875 0.39971495625000003 0.8603870046875001 0.405717040625 0.890468678125 0.42272295625 0.820805728125 0.4847446875 0.7780578765625 0.49574852187499996 0.9949633421874999 0.615790496875 1 0.59078175 0.8097228953125001 0.825864028125 1 0.8458710249999999 1'\n",
            "Warning: Skipping malformed line in /content/Paddy-Field-Insects-All-Classes-2/train/labels/PB-51_jpeg_jpg.rf.5438d41e98d0c546907e0c8830b320e1.txt: '5 0.3302739546875 0.423711809375 0.328940175 0.44578984843749997 0.3742893859375 0.4631369453125 0.41963859687499994 0.4174037609375 0.4009653796875 0.4773299578125 0.41563715625000003 0.489945990625 0.447648371875 0.3969027015625 0.5450157921875001 0.4599829234375 0.5410143515625 0.5025620828124999 0.513004578125 0.50571610625 0.447648371875 0.739112846875 0.31693595625 0.7469978734375 0.31293461875 0.7674989921875001 0.41830481875 0.7627679265625 0.2809234046875 0.8558112765624999 0.21956863906250002 0.964624678125 0.222236196875 0.9709327234374999 0.29426140312500004 0.8668503859375001 0.476991925 0.7454208921875 0.43964559375 0.824271165625 0.44097937187499997 0.8778893765625 0.47832580468749997 0.9031214390625 0.5290101328125 0.7596139640625 0.5796945640625 0.6208374953125 0.621042334375 0.5041391828124999 0.6503858890624999 0.4662909078125 0.6530535484375 0.436327840625 0.6517197703125001 0.40163370781249996 0.6317127734375 0.3622085703125 0.6357141109375 0.2738962859375 0.7157420953125 0.21081606718749998 0.7450856484374999 0.1556209046875 0.7557560859375 0.10673366875000001 0.7610914078125 0.0641545390625 0.751754646875 0 0.7037379796875001 0.005805384375 0.7330815328125 0.0404994578125 0.7330815328125 0.07834758124999999 0.7264125328125 0.1288117390625 0.70507165625 0.1698138890625 0.62370989375 0.2533951671875 0.6570548859375 0.16508288437500002 0.6650577671875 0.1225037234375 0.64104933125 0.051538476562500005 0.6290451140625 0.0073823359375 0.545333303125 0.0043392531249999994 0.5436819093749999 0.0121133390625 0.5970339 0.027883393750000002 0.6223761156250001 0.0673085328125 0.6343803328125001 0.127234759375 0.62370989375 0.21239305000000003 0.610371896875 0.19662299375 0.47432436562499997 0.19820000625 0.44898214999999997 0.16035185000000002 0.4463145921875 0.1729679109375 0.47032292499999995 0.2202780765625 0.6063705578125 0.2139700296875 0.5610213484375 0.348015496875 0.5594294578125 0.2717870703125 0.49299758125000004 0.2597032125 0.444730040625 0.255423075 0.43972945625 0.25636040625 0.44097937187499997 0.27705025 0.5530185703125 0.27862729218750004 0.5503509078125 0.3543235421875 0.5623551265625 0.3716705796875 0.546349571875 0.43317381718750003 0.518339796875 0.3212064515625 0.5050018 0.31489840625 0.38896116406250003 0.43475079843750003 0.3302739546875 0.423711809375'\n",
            "Warning: Skipping malformed line in /content/Paddy-Field-Insects-All-Classes-2/train/labels/PB-4_jpg.rf.fb793fd63086fe132e73732408e4d1ea.txt: '5 0.7288611453125 0.5849356203125 0.699471140625 0.6047413328125 0.704913740625 0.629117640625 0.6777007421875 0.6626350296875 0.699471140625 0.702246509375 0.73539233125 0.6717762234375 0.7234185453124999 0.6215000546875 0.7386577578125 0.6230235484375 0.75063154375 0.6656820171875 0.781110134375 0.651970396875 0.7615167421875 0.6123589171875 0.790906746875 0.5971237453125 0.827916521875 0.6778702 0.8671031390625 0.6961523578125 0.8986703171875 0.7190051734375 0.8975817296875 0.6839642328125 0.9008473234375 0.6809171875 0.914998115625 0.7159580703125 0.9367685140625 0.7205286671875 0.940033940625 0.697675909375 0.9650699312500001 0.6824407390625 0.9280603203125001 0.6611114765624999 0.9269717343749999 0.636735225 0.9944599359374999 0.6473998562500001 0.9955485218750001 0.607788378125 0.9269717343749999 0.586459171875 0.9073783421874999 0.5224714421875001 0.8420671484375 0.55598883125 0.762605328125 0.53923010625 0.7408349296875001 0.5239949359375 0.7201529515625 0.45696021875000004 0.7364807515625 0.386878396875 0.707090746875 0.3914489359375 0.7027367328125 0.40363711875 0.694028540625 0.4737188828125 0.7201529515625 0.540753659375 0.696205546875 0.53923010625 0.6679039640625 0.55903581875 0.6058583625 0.65501744375 0.5756256546875 0.770198171875 0.5786453640625 0.7753752609375 0.5917076531250001 0.8104162 0.6058583625 0.7951810296875 0.6134780515625 0.7372873328125 0.6526647515625 0.642829259375 0.691851534375 0.581888575 0.7288611453125 0.5849356203125'\n",
            "Warning: Skipping malformed line in /content/Paddy-Field-Insects-All-Classes-2/train/labels/Image_25_jpg.rf.575c4eb68da1f1a226548408ce80f3d8.txt: '4 0.6717234375000001 0 0.67920625 0.049384375 0.749753125 0.16696249999999999 0.7419140625 0.237509375 0.8398953125 0.349209375 0.8712500000000001 0.4609078125 0.9594343750000001 0.5873046875 1 0.6215859375 1 0 0.6717234375000001 0'\n",
            "Warning: Skipping malformed line in /content/Paddy-Field-Insects-All-Classes-2/train/labels/PB-15_jpg.rf.8551cf6cb3cdc7a17590300587d44364.txt: '5 0.12133497499999998 0.364645534375 0.31705558749999996 0.347963103125 0.42143989531250003 0.40862636406249997 0.4497107171875 0.46928962500000004 0.4247019390625 0.43592487812499997 0.3812084703125 0.43592487812499997 0.32575431250000003 0.41772588749999995 0.3203176296875 0.4374414375 0.37250974375 0.463223334375 0.40404252500000004 0.4556404265625 0.45188535781250005 0.4950715234375 0.45405999843749995 0.5299528859375 0.39969316250000003 0.56635098125 0.4083918875 0.6270142421875 0.37685910625 0.6330804765625 0.38012115 0.66492878125 0.4323132625 0.648246290625 0.43122594375 0.5754503328125 0.4823308203125 0.5542182265625 0.49429150625 0.5875830296875 0.4083918875 0.6952604109375 0.40078056406250007 0.7422743578125 0.3866451546875 0.9379133984375001 0.35293773125 0.9712781453125 0.3659857390625 0.9925103109375 0.4127412515625 0.9530792140625 0.4149158921875 0.9136480015625 0.4236146203125 0.7286251015625 0.51386351875 0.6194313359375 0.5595317109375 0.749857265625 0.601937859375 0.8059707359375 0.6421692859375 0.834785809375 0.665003340625 0.8090039687499999 0.6541299734375 0.754406940625 0.6769641109375 0.749857265625 0.6737020671875 0.5633176921875 0.6051998203125 0.5481518765625 0.633470559375 0.5375357937499999 0.6215098718750001 0.5011378718749999 0.597588496875 0.5163036875 0.5867151296875 0.4950715234375 0.562793671875 0.463223334375 0.5323482921875 0.490521790625 0.5279989296875 0.4753559734375 0.5008155109375 0.4237921796875 0.5008155109375 0.3858776421875 0.5312609734375 0.3570626265625 0.523649565625 0.32673099687499996 0.481243415625 0.364645534375 0.4790687765625 0.40710980625 0.4638460453125 0.3964937234375 0.4671080890625 0.2691009109375 0.48994214375 0.1811391640625 0.5247368859375 0.079528246875 0.5617063515625 0.008248846875 0.5530077078125 0 0.5008155109375 0.085594509375 0.46058408437500004 0.1902386296875 0.43777171406250004 0.35887708749999997 0.4344879875 0.3600958015625 0.41926525468750003 0.376778175 0.39208183750000003 0.3570626265625 0.30074553593750003 0.317631471875 0.23550533125 0.3009490984375 0.12459701875 0.329764171875 0.12133497499999998 0.364645534375'\n",
            "Warning: Skipping malformed line in /content/Paddy-Field-Insects-All-Classes-2/train/labels/WHORL-MAGGOTS_original_whorl-26-jpg_fec77fbd-18d4-4fe5-8c77-e79b0304d433_jpg.rf.b4ec422722c8b6169b9c0939a3fc6c9a.txt: '10 0.3285546875 0.0541875 0.31406718749999996 0.067075 0.2760390625 0.13408437499999998 0.259740625 0.15728124999999998 0.252496875 0.20625 0.2434421875 0.2500640625 0.245253125 0.288725 0.248875 0.348003125 0.25611875 0.3892390625 0.266984375 0.4279 0.2724171875 0.48975468749999995 0.286209375 0.5265625 0.30887031249999997 0.5265625 0.32674375 0.5103734375 0.33942031250000004 0.48460000000000003 0.34666406250000004 0.4588265625 0.359340625 0.4150125 0.36296249999999997 0.355734375 0.3647734375 0.314496875 0.37020624999999996 0.2732609375 0.3828828125 0.22171406249999998 0.3937484375 0.18820937499999998 0.41004687500000003 0.1598578125 0.4140625 0.12127812499999999 0.4140625 0.048928125 0.41366875 0.043878125000000004 0.3844515625 0.018106249999999997 0.37020624999999996 0.028415625 0.36296249999999997 0.028415625 0.3430421875 0.038724999999999996 0.3285546875 0.0541875'\n",
            "Warning: Skipping malformed line in /content/Paddy-Field-Insects-All-Classes-2/train/labels/WHORL-MAGGOTS_original_whorl-26-jpg_fec77fbd-18d4-4fe5-8c77-e79b0304d433_jpg.rf.b4ec422722c8b6169b9c0939a3fc6c9a.txt: '10 0.0352484375 0.49163125 0.022571874999999998 0.5277140625000001 0.0098953125 0.5663734375 0.0098953125 0.584415625 0.0435859375 0.5953125 0.1520359375 0.5953125 0.1565796875 0.5947250000000001 0.18917656249999998 0.5895703125 0.205475 0.5895703125 0.2217734375 0.5869921875 0.23125 0.5847453125000001 0.23125 0.46716875 0.230684375 0.4194671875 0.21090781249999999 0.4194671875 0.1602015625 0.4194671875 0.11492968750000002 0.4297765625 0.0750890625 0.4503953125 0.0352484375 0.49163125'\n",
            "Warning: Skipping malformed line in /content/Paddy-Field-Insects-All-Classes-2/train/labels/WHORL-MAGGOTS_original_whorl-26-jpg_fec77fbd-18d4-4fe5-8c77-e79b0304d433_jpg.rf.b4ec422722c8b6169b9c0939a3fc6c9a.txt: '10 0.11453437500000001 0.6573125 0.0819375 0.6753546874999999 0.063828125 0.7191687499999999 0.0529625 0.757828125 0.051151562500000004 0.7939109375 0.06745 0.8531890625 0.092803125 0.8944265625 0.11996718749999999 0.9330859374999999 0.143509375 0.9640140625000001 0.170671875 0.9846328124999999 0.1776890625 0.990625 0.23951250000000002 0.990625 0.26829843750000004 0.9897875 0.2796875 0.925675 0.2796875 0.9045249999999999 0.24310937500000002 0.9021578124999999 0.2014578125 0.8738078125 0.1905921875 0.8274156250000001 0.15256406250000001 0.7346328125 0.1308328125 0.67793125 0.11453437500000001 0.6573125'\n",
            "Warning: Skipping malformed line in /content/Paddy-Field-Insects-All-Classes-2/train/labels/WHORL-MAGGOTS_original_whorl-144-jpg_c5b55875-d69d-461f-8555-a5fdb7202ba3_jpg.rf.949ab6039d050ece4e3dcb18faf0447a.txt: '10 0.4419953125 0.47231249999999997 0.3734375 0.5955265625 0.3734375 0.687028125 0.4150421875 0.7375 0.41703906249999995 0.7375 0.48813125 0.6787796875 0.5465718749999999 0.5469390625 0.6188515625 0.48226250000000004 0.7311171875 0.48475 0.8295421875000001 0.5071375 0.8625 0.45346562500000004 0.8625 0.44923124999999997 0.844921875 0.362859375 0.7772546874999999 0.3106203125 0.6895953125000001 0.2708203125 0.5850187499999999 0.2757953125 0.48351875 0.357884375 0.4419953125 0.47231249999999997'\n",
            "Warning: Skipping malformed line in /content/Paddy-Field-Insects-All-Classes-2/train/labels/PB-71_jpg.rf.1a64b05524bdca09356bcfecf75e3594.txt: '5 0.40467036875 0.0641386828125 0.48093380625000004 0.1371127109375 0.5068959453125 0.211673165625 0.495537478125 0.24974660937499998 0.519876890625 0.302097546875 0.519876890625 0.3338253953125 0.5133863562500001 0.354448484375 0.50527321875 0.430595309375 0.495537478125 0.3306525984375 0.3819535609375 0.3163750421875 0.35761414999999996 0.2767152328125 0.3381426703125 0.279888028125 0.3673498890625 0.3465165234375 0.48093380625000004 0.3512756875 0.4939148765625 0.4353544734375 0.5020280125000001 0.4369409015625 0.4987828078125 0.4797735109375 0.44685865625 0.414731384375 0.351123615625 0.4988102328125 0.32029379375 0.47660071249999997 0.307312725 0.49722392343750005 0.364104684375 0.5305380203125 0.44523605312500003 0.4496320296875 0.503650615625 0.5130878484375 0.50527321875 0.5210198109374999 0.47768860156250004 0.528951771875 0.437122915625 0.560679621875 0.347878409375 0.6542766765625 0.25214336875 0.7780152734375 0.22293615 0.8494029328125 0.24565283437500002 0.8494029328125 0.3738404234375 0.6701406015625 0.43063238281249994 0.6130304375 0.5004054109375 0.5543339046875 0.516631684375 0.571784259375 0.5068959453125 0.7922928296875 0.5247448218749999 0.825607046875 0.5020280125000001 0.8747851875 0.52312221875 0.9636231390625 0.5409710953125 0.9556911765624999 0.5312353562500001 0.8811307828125001 0.5312353562500001 0.8462301968749999 0.5474616296875 0.8430573390625 0.5636879031250001 0.817675084375 0.5685557109375 0.7684969421875001 0.5685557109375 0.6717270906249999 0.5701783140625001 0.6050984749999999 0.5864045875 0.5321244484375 0.601008259375 0.49405100468749996 0.592895121875 0.4686687515625 0.5620651765625 0.38300353593750003 0.5523294375 0.3369981921875 0.57342364375 0.283060825 0.6091213953125 0.2085003703125 0.6529324109375 0.1196623875 0.6756490953125 0.06889784843749999 0.6422922625 0.0621423375 0.617234534375 0.1386991703125 0.57829145 0.211673165625 0.5442163015625 0.31002950937499996 0.5442163015625 0.2925791546875 0.5442163015625 0.237055421875 0.52312221875 0.191050046875 0.51014115 0.1402855078125 0.4858017390625 0.0942801328125 0.4160287109375 0.048274759375 0.40467036875 0.0641386828125'\n",
            "Warning: Skipping malformed line in /content/Paddy-Field-Insects-All-Classes-2/train/labels/Image_25_jpg.rf.3e730006411c82247c09473b9b2b2d86.txt: '4 1 0.681078125 0.9770703125000001 0.6084671875 0.8555734375 0.4967671875 0.8555734375 0.29100625 0.8046218749999999 0.26161093750000003 0.7438734375 0.117578125 0.591021875 0.12345625 0.536153125 0.011757812500000001 0.449928125 0.011757812500000001 0.38330000000000003 0.21751874999999998 0.2970765625 0.21751874999999998 0.1363875 0.011757812500000001 0.1618625 0.10875937499999999 0.1540234375 0.296884375 0.261803125 0.42328124999999994 0.308834375 0.37625000000000003 0.334309375 0.4321 0.30295625 0.6437406250000001 0.402896875 0.6643171875 0.5126375000000001 0.564375 0.5106765625 0.6025875 0.5283140625 0.5702546875000001 0.583184375 0.68783125 0.6262953125 0.6349218750000001 0.7046812499999999 0.68783125 0.82421875 0.9259281250000001 0.7987437500000001 0.9935359375000001 0.7595500000000001 0.9994140625 0.6596093749999999 0.9200484375 0.6717234375000001 1 1 1 1 0.681078125'\n",
            "Warning: Skipping malformed line in /content/Paddy-Field-Insects-All-Classes-2/train/labels/Image_25_jpg.rf.f8fc4f7571bfdea8c894a91707cd28d4.txt: '4 0.20844374999999998 1 0.1651953125 0.814228125 0.10444687500000001 0.7525000000000001 0.0299796875 0.776015625 0 0.681078125 0 1 0.20844374999999998 1'\n",
            "Warning: Skipping malformed line in /content/Paddy-Field-Insects-All-Classes-2/train/labels/Image_26_jpg.rf.1ce495750f2a551faa9e0f02bc7c24cc.txt: '4 0 0 0 0.3894375 0.017578125 0.3139546875 0.080078125 0.334921875 0.10546875 0.3104609375 0.12109375 0.1776671875 0.1015625 0.1077765625 0.09765625 0.037884375 0.140625 0.0029390625 0.140775 0 0 0'\n",
            "Warning: Skipping malformed line in /content/Paddy-Field-Insects-All-Classes-2/train/labels/Image_26_jpg.rf.1ce495750f2a551faa9e0f02bc7c24cc.txt: '4 0.220703125 0.25804218749999996 0.201171875 0.26503125 0.16015625 0.3943296875 0.17578125 0.5131453125000001 0.23046875 0.6179828125 0.2265625 0.6529281250000001 0.28515625 0.8066890624999999 0.296875 0.88356875 0.3125 0.88356875 0.375 0.8206671875 0.3671875 0.750775 0.3828125 0.6529281250000001 0.3828125 0.44325468749999997 0.35546875 0.3663734375 0.3515625 0.2545484375 0.3671875 0.20562343749999998 0.357421875 0.1112703125 0.263671875 0.1881515625 0.220703125 0.25804218749999996'\n",
            "Warning: Skipping malformed line in /content/Paddy-Field-Insects-All-Classes-2/train/labels/PB-62_jpeg_jpg.rf.391ca7c46f73037d48cbeac851c29c01.txt: '5 0.22962767187500002 0.477924275 0.2240701734375 0.5276949859375 0.2563036828125 0.5501720265625 0.357450146875 0.5501720265625 0.4441471609375 0.5758601515625 0.300763675 0.6866400031250001 0.188502215625 0.709117103125 0.136261675 0.7620988390625001 0.1495997234375 0.770126365625 0.1973941609375 0.7315942078125001 0.3063211734375 0.7219611968749999 0.41969411718750005 0.6288418234375001 0.4585966078125 0.579071115625 0.49083011875000004 0.5967317125 0.49083011875000004 0.7508602234375 0.4452586453125 0.8359520703125 0.43970114687499995 0.8760897078125 0.42858614843750004 0.91622735 0.4308091140625 0.9403099328125 0.45415067656249997 0.8760897078125 0.5108371484374999 0.755676790625 0.509725665625 0.5951261703124999 0.54640510625 0.6095758671875 0.6164296265625 0.739621734375 0.67867368125 0.9194383109375 0.6920116453125 0.9114107828125 0.627544625 0.7203555953125 0.5753040828125 0.622419778125 0.5641890859375 0.5822821375 0.605314628125 0.5806766578125 0.6575550828125001 0.622419778125 0.6820080453124999 0.6705849453125 0.7642591296875 0.9981081078124999 0.7775970937500001 0.9948971468750001 0.74536366875 0.8407685125000001 0.6842311796875 0.6432913375 0.664224065625 0.58709864375 0.6731161828125 0.5276949859375 0.6264331421875 0.5341169703124999 0.967663621875 0.2515480125 0.9565486249999999 0.24191494218749998 0.604203146875 0.5293005875000001 0.5953111140625 0.516456434375 0.569746584375 0.52287841875 0.549739640625 0.5020068578125 0.5786386171875 0.46186921875 0.563077603125 0.452236209375 0.5308440937500001 0.4891628265625 0.51194863125 0.47471325000000003 0.4141366171875 0.46508024375 0.33188570156249997 0.3751719546875 0.188502215625 0.43618115468749996 0.1596032359375 0.3944379734375 0.1391666421875 0.402008034375 0.1418191734375 0.40888754687500006 0.1862791640625 0.46026373749999994 0.326328203125 0.40407104374999997 0.40413318593750003 0.47471325000000003 0.3207707046875 0.46508024375 0.265195715625 0.47471325000000003 0.22962767187500002 0.477924275'\n"
          ]
        },
        {
          "output_type": "stream",
          "name": "stderr",
          "text": [
            " 40%|███▉      | 2116/5345 [00:00<00:01, 2507.14it/s]"
          ]
        },
        {
          "output_type": "stream",
          "name": "stdout",
          "text": [
            "Warning: Skipping malformed line in /content/Paddy-Field-Insects-All-Classes-2/train/labels/WHORL-MAGGOTS_original_whorl-137-jpg_30edd445-64d2-462a-a1bd-7f4cf8aee886_jpg.rf.a3c6f860e2dcdb5c4b5d57cbff0e054c.txt: '10 0.6795015624999999 0.49132499999999996 0.5240046875 0.47323750000000003 0.4110828125 0.315615625 0.316675 0.186415625 0.283353125 0.21225624999999998 0.22055937499999997 0.29043125000000003 0.22055937499999997 0.3171515625 0.24262812500000003 0.393134375 0.30186562499999997 0.5740125 0.4092328125 0.71613125 0.522153125 0.7884828125000001 0.6461812499999999 0.8169062500000001 0.7551281249999999 0.8265625 0.764084375 0.8265625 0.9331109375000001 0.736803125 0.97545 0.6231078125 0.999753125 0.5300859375 0.99605 0.4680703125 0.88498125 0.45515 0.6795015624999999 0.49132499999999996'\n",
            "Warning: Skipping malformed line in /content/Paddy-Field-Insects-All-Classes-2/train/labels/WHORL-MAGGOTS_original_whorl-26-jpg_7ad50575-ee1f-4dac-9ea2-e03e16ed9830_jpg.rf.502a0a99bb7abd23d05d294192ee5258.txt: '10 0.22325468750000002 0.3427828125 0.24679687499999997 0.3350515625 0.261284375 0.27835 0.2576625 0.20360781249999998 0.25222968749999997 0.15463906249999998 0.2377421875 0.1030921875 0.2142 0.04896875 0.20152343749999999 0.0360828125 0.1906578125 0.023195312500000002 0.176171875 0.0154640625 0.1580625 0.00773125 0.154440625 0.0051546874999999995 0.0495640625 0.0025765625 0.042162500000000006 0.0644328125 0.0584609375 0.108246875 0.082003125 0.1443296875 0.103734375 0.1804125 0.12184375 0.211340625 0.132709375 0.24226874999999998 0.1526296875 0.2938140625 0.168928125 0.32732031250000004 0.1979015625 0.3479375 0.22325468750000002 0.3427828125'\n",
            "Warning: Skipping malformed line in /content/Paddy-Field-Insects-All-Classes-2/train/labels/WHORL-MAGGOTS_original_whorl-26-jpg_7ad50575-ee1f-4dac-9ea2-e03e16ed9830_jpg.rf.502a0a99bb7abd23d05d294192ee5258.txt: '10 0.1942796875 0.49226875000000003 0.2123890625 0.47165 0.23049843750000001 0.43556718749999995 0.23049843750000001 0.412371875 0.210578125 0.389175 0.168928125 0.39175312500000004 0.1417640625 0.389175 0.103734375 0.389175 0.0403515625 0.4020625 0.0024625000000000003 0.41752500000000003 0.007756250000000001 0.5695875 0.015 0.5670109375 0.0294875 0.5670109375 0.043973437500000004 0.5644328125 0.0693265625 0.5618562500000001 0.10011250000000001 0.5541234375 0.13452031250000002 0.530928125 0.161684375 0.5128859375 0.1942796875 0.49226875000000003'\n",
            "Warning: Skipping malformed line in /content/Paddy-Field-Insects-All-Classes-2/train/labels/WHORL-MAGGOTS_original_whorl-26-jpg_7ad50575-ee1f-4dac-9ea2-e03e16ed9830_jpg.rf.502a0a99bb7abd23d05d294192ee5258.txt: '10 0.404346875 0.5644328125 0.397103125 0.47680468749999994 0.37174999999999997 0.44329843750000003 0.35391249999999996 0.44072187500000004 0.3228546875 0.44587656249999996 0.283015625 0.5128859375 0.283015625 0.6520625 0.2558515625 0.81185625 0.23412031249999998 0.912371875 0.2449859375 0.9587625 0.3300984375 0.97938125 0.397103125 0.889175 0.404346875 0.7396906249999999 0.404346875 0.5644328125'\n",
            "Warning: Skipping malformed line in /content/Paddy-Field-Insects-All-Classes-2/train/labels/PB-8_jpg.rf.a7794ee661b02da1eaf0d75470098c98.txt: '5 0.45924502343749996 0.4020402578125 0.281405028125 0.3274798 0.3216307671875 0.394108296875 0.2623507140625 0.371898778125 0.24753078125 0.40997221718750004 0.387262146875 0.4417000671875 0.3512707953125 0.38617633281249997 0.4486593140625 0.44011370000000005 0.44442509062499996 0.46073678906250004 0.45924502343749996 0.5003966 0.07180789531250001 0.5511611671875001 0.2602336046875 0.7066276140625 0.1691965765625 0.7288371328125 0.2200078671875 0.757392125 0.285639409375 0.7383554640625001 0.34491930000000004 0.7098004109375 0.1818994 0.5717842578125001 0.4550108046875 0.5464019421875 0.4528935328125 0.5924074671875 0.43807359999999995 0.695522975 0.44019070937500004 0.8668532250000001 0.49100216249999995 0.939827253125 0.5608679234375 0.9318952890625001 0.6032107718749999 0.819261453125 0.6074449953125 0.5654386640625 0.7789335000000001 0.736769096875 0.6688421578125 0.9477592140625 0.7133021140625 0.998523846875 0.7662306765625 0.998523846875 0.7365906468750001 0.9493457031249999 0.8636191953125 0.7304235 0.6032107718749999 0.5257788531250001 0.6201478140625001 0.4480456609375 0.7895192093750001 0.406799421875 0.899610553125 0.5083285609375 0.9969992328125 0.49405100781250005 0.9948819625 0.4417000671875 0.8974936046875 0.449632028125 0.7874021 0.36555324218749996 0.626499309375 0.40997221718750004 0.6116792140625 0.371898778125 0.7429421421875 0.28940641718750004 0.8043393046875 0.35920765 0.9737105375 0.34810288906250003 0.9525391093750001 0.286233621875 0.833979328125 0.3036839140625 0.8022220328125 0.2878199890625 0.7344735375 0.24816017812500002 0.6180307046875 0.3100295078125 0.594742171875 0.26243773593749997 0.6476707328125 0.187877278125 0.723887828125 0.1149032828125 0.8509165328125 0.054620321875 0.7746992765625 0.0038558140625 0.7069506234375 0.045101960937500005 0.6095621046875 0.1418719078125 0.5693363671875 0.2180187609375 0.52699351875 0.2148459640625 0.5185250765625 0.20215486718750003 0.435956490625 0.1386991671875 0.34491930000000004 0.0784162078125 0.17766501875000001 0.038756396875 0.0739251671875 0.021306075 0.0481481 0.0400793671875 0.046402253125 0.043515625 0.0485193625 0.045101960937500005 0.2178907578125 0.091107396875 0.3766764375 0.157735828125 0.488885053125 0.279888028125 0.4825335578125 0.3639668140625 0.45924502343749996 0.4020402578125'\n",
            "Warning: Skipping malformed line in /content/Paddy-Field-Insects-All-Classes-2/train/labels/BA-32-_jpg.rf.2b0ba3aca9743b2baaefa828a9f29988.txt: '8 0.6976173671875 0.6412768453125001 0.6636443375 0.57430740625 0.667064609375 0.5561362765625 0.7390525515624999 0.5162243515625 0.65944663125 0.5356580140625 0.6334958234375 0.5053044390625 0.666834371875 0.46959022343749995 0.615840840625 0.49670396562499997 0.5113287140625 0.39856015624999996 0.4116921390625 0.34034057500000003 0.34079859687499997 0.3208014453125 0.2690034015625 0.342623084375 0.26053357187500004 0.3912784359375 0.2964903359375 0.434299546875 0.253935578125 0.43730326093749994 0.2291975015625 0.45536249218749997 0.23244376562500002 0.5075998125 0.30083742812500003 0.5562674734375 0.5013168796875 0.591937771875 0.5882173796875 0.580072296875 0.6976173671875 0.6412768453125001'\n",
            "Warning: Skipping malformed line in /content/Paddy-Field-Insects-All-Classes-2/train/labels/BA-7-_jpg.rf.4fa2dc2d1583fa55dff92655d0c4a116.txt: '8 0.71343809375 0.4340671796875 0.7430021421874999 0.3997502140625 0.7572449781249999 0.333838225 0.7497733015625 0.27658295625 0.6648204484375 0.154187328125 0.6405002125 0.139444046875 0.5460187015625 0.139679675 0.409222090625 0.21038650625000002 0.1865295765625 0.39174199375 0.17573838749999998 0.5355904984375 0.0886091484375 0.5200851359375 0.0955803765625 0.535748646875 0.1767360984375 0.567263003125 0.21664554531250002 0.6122225640625001 0.24031991874999997 0.7112601093750001 0.260536278125 0.629339121875 0.3136940359375 0.6282251890625 0.4626504921875 0.8703751671875001 0.44637031718750003 0.8142693875000001 0.35739425156250004 0.6610440015625 0.3440233515625 0.582610225 0.3588441171875 0.5726134921875 0.41866636250000006 0.5813800703124999 0.5242585375 0.6491229671875 0.6454754859375 0.7027328796875 0.6390402609375 0.6843118703125 0.43727789375 0.5592425921874999 0.45213739999999997 0.556407609375 0.587487328125 0.62564229375 0.637429065625 0.6410733640624999 0.6517138265625 0.633834128125 0.44976094062499994 0.524467103125 0.656873790625 0.4674283625 0.71343809375 0.4340671796875'\n",
            "Warning: Skipping malformed line in /content/Paddy-Field-Insects-All-Classes-2/train/labels/PB-38_png_jpg.rf.7e27a216c40351b0676a3788e2a50805.txt: '5 0.326328203125 0.5116581359375 0.292983209375 0.513238978125 0.28631414374999997 0.5448539171875 0.2918716421875 0.5448539171875 0.30409820781249997 0.527465603125 0.3396661671875 0.522723315625 0.3530041296875 0.426297778125 0.3930181890625 0.43420151249999994 0.3763456921875 0.4515897046875 0.3930181890625 0.4547512109375 0.35745014531249997 0.49743150937499997 0.33299718437500003 0.6065029484375 0.30965570625 0.7582546875 0.3107671890625 0.8372920328125 0.324105153125 0.8325497437499999 0.3196591359375 0.7440279421875 0.34966968125000003 0.595437709375 0.40302161875 0.529046446875 0.45303910937499997 0.4705586796875 0.48304965468749994 0.46581645 0.47749215468750006 0.47846241406249995 0.45415067656249997 0.5843725890625 0.5152831640625 0.611245178125 0.52528659375 0.6760557765625 0.537513159375 0.669732825 0.529732609375 0.5906954796874999 0.4708231734375 0.573307228125 0.5052796484375001 0.4705586796875 0.529732609375 0.4689779578125 0.621987125 0.5448539171875 0.7086841421875001 0.5748880109375001 0.733137103125 0.6333755984375 0.7442521 0.631794996875 0.7442521 0.6065029484375 0.7153530390625 0.5527576515625 0.6753391484375 0.541692290625 0.6053146296875 0.49426988281249995 0.55196260625 0.4515897046875 0.7175761734375 0.429459284375 0.7375830328124999 0.3899406125 0.72980256875 0.3693909140625 0.6797850796875 0.3662294078125 0.631990640625 0.298257303125 0.5808615828125 0.359906396875 0.480826603125 0.3535834453125 0.4352551296875 0.39626356406249996 0.4074676359375 0.38045609375 0.39857568906249996 0.3899406125 0.41080216875 0.41839404375000006 0.4019101359375 0.41839404375000006 0.3796801421875 0.39626356406249996 0.3274396859375 0.31722621875 0.271864696875 0.21131622343749998 0.21628970937499997 0.12911734218749998 0.170718234375 0.03269180625 0.15444441874999998 0.0320284703125 0.155157221875 0.0374340953125 0.18516768125 0.10856770625 0.2385197046875 0.19867023125 0.3185476546875 0.340937421875 0.38412615781250004 0.41681332187500003 0.3385546828125 0.41207103125 0.326328203125 0.5116581359375'\n",
            "Warning: Skipping malformed line in /content/Paddy-Field-Insects-All-Classes-2/train/labels/PB-54_jpeg_jpg.rf.230a523814e8f30950aad703b0b38e05.txt: '5 0.33017870625 0.49941269374999997 0.2491980078125 0.5197533937500001 0.18536619375000002 0.5291412171875 0.1062908953125 0.5479171609375 0.10914906718749999 0.5698224390625 0.13010874687500001 0.555740465625 0.2501507078125 0.5307059125 0.3768617109375 0.5213179125 0.412112103125 0.5400938546875 0.42068654531250005 0.56512846875 0.44259899843749995 0.56512846875 0.4587951078125 0.58546905 0.3168406953125 0.6011156609375 0.2720631609375 0.6981246546875 0.2149003171875 0.7200298734375 0.2187111859375 0.7466291828125 0.279684903125 0.7169006 0.32255703593749996 0.624585575 0.46832225000000005 0.60424499375 0.5283432671875 0.6449262765625 0.4378354265625 0.8186035640625 0.48737653124999997 0.987586884375 0.5035727156250001 0.989151640625 0.45688970937500006 0.8279915062500001 0.548350246875 0.6543140984375 0.59026968125 0.669960709375 0.6483852999999999 0.8045215921875 0.7503256781250001 0.99384555 0.7808125 0.9969749453125001 0.75985281875 0.97506966875 0.7322240234375 0.9250004437499999 0.6779193484375 0.826426871875 0.6064657921875 0.67309004375 0.620756503125 0.659008128125 0.68173029375 0.6949953203125 0.8055831250000001 0.7747930078125 0.8684621671875 0.78887498125 0.8913273921875 0.7622757921875001 0.8846582765625 0.740370515625 0.8065357515624999 0.6527495812499999 0.7284132249999999 0.6058097499999999 0.6607704671875 0.5541758296875 0.7703325859375 0.44464955625 0.8427389156249999 0.6668314359374999 0.8875164484375 0.6871720171875 0.8875164484375 0.67309004375 0.886563821875 0.6668314359374999 0.8541714546874999 0.6496201265625 0.8236846328125 0.5494818578125 0.777954328125 0.4321322828125 0.764616390625 0.40709766875 0.6474325265624999 0.541658553125 0.6283782453125 0.5181886390625 0.6064657921875 0.4368262515625 0.5931277796875001 0.42900294843750003 0.5664518296875001 0.48220138593749995 0.5550192171874999 0.469684109375 0.4607005796875 0.4962834796875 0.44736256875 0.47124880625000004 0.398774165625 0.361722534375 0.3892470234375 0.361722534375 0.373050840625 0.4321322828125 0.326367834375 0.3679811421875 0.29111744375000004 0.3116533703125 0.228238328125 0.20995040625 0.18727159375 0.1379759921875 0.1596428703125 0.07538955 0.1101017671875 0.0268850515625 0.11873950312499999 0.056577796874999996 0.2177584859375 0.21307973750000003 0.3311314046875 0.40866236718750004 0.40639583281249997 0.4947187234375 0.38162528125 0.4947187234375 0.385436153125 0.507235996875 0.3568547296875 0.49941269374999997 0.33017870625 0.49941269374999997'\n",
            "Warning: Skipping malformed line in /content/Paddy-Field-Insects-All-Classes-2/train/labels/BA-12-_jpg.rf.6ad76e77088306acf1d05594f4b9146f.txt: '8 0.544375371875 0.8989551406249999 0.504156540625 0.8408673015625 0.5089730640625 0.8060387921875 0.5440220390625 0.804019028125 0.5934426703125 0.769910646875 0.6221345453125 0.7539981171875 0.661308009375 0.72557275625 0.7052724 0.6864512703125001 0.73922455625 0.646183065625 0.7804735015625 0.5924888015625001 0.8178584843750001 0.5342380125 0.85205845625 0.47507380625 0.86986304375 0.42500270156250003 0.8801360671875 0.39518730468749996 0.8974838187499999 0.34670938125 0.9109676234374999 0.2936748671875 0.9053281500000001 0.24722680625 0.8810218000000001 0.2057716921875 0.859639946875 0.19619206250000001 0.8157015375000001 0.2111812015625 0.791578278125 0.2111610734375 0.801185375 0.16563627812499998 0.7534219375 0.1398705 0.69287924375 0.14664995625 0.640051503125 0.17460857031250002 0.6263715109375 0.19827417187500002 0.6001731390625 0.2235230484375 0.539826546875 0.25967125625 0.54854575625 0.1932006875 0.565449659375 0.134249771875 0.535242925 0.07730867500000001 0.425096521875 0.07676146874999999 0.3934545359375 0.0849309625 0.389185503125 0.0337031421875 0.38966821406249996 0.0079775234375 0.317729959375 0.0304562859375 0.280553928125 0.1060096796875 0.2518233453125 0.1581207328125 0.2335488953125 0.22185131406249997 0.215744271875 0.2719225421875 0.19247020937499998 0.32904664375000003 0.175122421875 0.3775246921875 0.17256435625 0.428519246875 0.1681788296875 0.48588689062499996 0.17585493593749998 0.5432646 0.1769389046875 0.593579184375 0.1684804671875 0.629087696875 0.0837241078125 0.720310240625 0.08577360625 0.71917368125 0.22217021718750002 0.6462072937500001 0.2506012 0.661256784375 0.280859615625 0.6699332453125 0.3202034484375 0.695009046875 0.3299419171875 0.7391839906250001 0.3130897328125 0.7498701515625 0.266448990625 0.7382203781250001 0.1806475109375 0.7429297828125 0.161968009375 0.75998900625 0.24343566249999998 0.7643825484375 0.30237284375 0.7692126171875 0.35151983593749997 0.778132496875 0.37244493749999996 0.7893054671875 0.384537475 0.8079840328125 0.4531820984375 0.838320509375 0.4700342828125 0.8276343484375 0.518672590625 0.8864121609375 0.54318789375 0.9451698796875 0.5863827140625 0.986868315625 0.544375371875 0.8989551406249999'\n",
            "Warning: Skipping malformed line in /content/Paddy-Field-Insects-All-Classes-2/train/labels/WHORL-MAGGOTS_original_whorl-25-jpg_70b5ae17-0e2a-417e-8bc2-f779fedfbc51_jpg.rf.a36baac5299c210812c1559bc2a8322b.txt: '10 0.11259843750000001 0.2371859375 0.150628125 0.26038125 0.190625 0.19355781249999998 0.190625 0.17101875 0.183225 0.08254687499999999 0.1687375 0.025845312500000002 0.002271875 0.025845312500000002 0.043784375 0.0851234375 0.0528390625 0.172753125 0.11259843750000001 0.2371859375'\n",
            "Warning: Skipping malformed line in /content/Paddy-Field-Insects-All-Classes-2/train/labels/WHORL-MAGGOTS_original_whorl-25-jpg_70b5ae17-0e2a-417e-8bc2-f779fedfbc51_jpg.rf.a36baac5299c210812c1559bc2a8322b.txt: '10 0.2427734375 0.49201875 0.22672656249999998 0.4945953125 0.20680625 0.510059375 0.1796421875 0.6079984375 0.165625 0.710240625 0.165625 0.7170124999999999 0.17783125 0.8038734375000001 0.20318437500000003 0.919853125 0.2224625 0.9921875 0.3765625 0.9921875 0.3765625 0.991028125 0.37160000000000004 0.9533578125 0.34986875 0.8915031250000001 0.317271875 0.8038734375000001 0.288296875 0.6543890625000001 0.27018906249999997 0.5409875000000001 0.2427734375 0.49201875'\n",
            "Warning: Skipping malformed line in /content/Paddy-Field-Insects-All-Classes-2/train/labels/Image_26_jpg.rf.d9cf9b51bb10865740b3988583dfba9d.txt: '4 1 0.419346875 0.978515625 0.419346875 0.943359375 0.4892390625 0.880859375 0.524184375 0.890625 0.6255265624999999 0.880859375 0.6499890625 0.845703125 0.643 0.822265625 0.740846875 0.763671875 0.7198796875 0.68359375 0.7862765625 0.69140625 0.86315625 0.67578125 0.9050921875 0.724609375 0.9784765625 0.763671875 0.9854671875 0.7641 1 1 1 1 0.419346875'\n",
            "Warning: Skipping malformed line in /content/Paddy-Field-Insects-All-Classes-2/train/labels/WHORL-MAGGOTS_original_whorl-24-jpg_f6c13afe-151b-4701-b907-b4afcd10b246_jpg.rf.77febd7f16e588f5ee02bf83fcbae30a.txt: '10 0.022215625 0.010365625 0.0004859375 0.072221875 0.0004859375 0.141809375 0.0095390625 0.2165515625 0.041678124999999996 0.240625 0.051110937499999995 0.240625 0.087409375 0.232015625 0.1109515625 0.1830453125 0.1399265625 0.1340765625 0.1399265625 0.072221875 0.1651390625 0.018096875000000002 0.022215625 0.010365625'\n",
            "Warning: Skipping malformed line in /content/Paddy-Field-Insects-All-Classes-2/train/labels/WHORL-MAGGOTS_original_whorl-24-jpg_f6c13afe-151b-4701-b907-b4afcd10b246_jpg.rf.77febd7f16e588f5ee02bf83fcbae30a.txt: '10 0.038246875 0.5205140625 0.11249374999999999 0.49474062500000004 0.14146875 0.45608125 0.14375 0.420371875 0.14375 0.398771875 0.10525 0.3813390625 0.058167187499999995 0.365875 0.0021687499999999997 0.3529875 0.0092296875 0.565625 0.010071875 0.565625 0.038246875 0.5205140625'\n",
            "Warning: Skipping malformed line in /content/Paddy-Field-Insects-All-Classes-2/train/labels/WHORL-MAGGOTS_original_whorl-24-jpg_f6c13afe-151b-4701-b907-b4afcd10b246_jpg.rf.77febd7f16e588f5ee02bf83fcbae30a.txt: '10 0.23800156249999999 0.71423125 0.20359375000000002 0.814746875 0.1800515625 0.9255718749999999 0.1583203125 0.9874281249999999 0.297721875 0.996875 0.31056875 0.996875 0.31949218749999997 0.9384578125 0.34665625 0.8611390625 0.343034375 0.7425828125 0.343034375 0.6601078125 0.3515625 0.5945640625 0.3515625 0.5789125 0.3484671875 0.5106234374999999 0.335790625 0.49258281249999997 0.3179390625 0.5028921875 0.2941390625 0.5260875 0.2651640625 0.6111390625 0.23800156249999999 0.71423125'\n",
            "Warning: Skipping malformed line in /content/Paddy-Field-Insects-All-Classes-2/train/labels/BA-59-_JPG_jpg.rf.e431d89e3e28de030e7f9954b6c10f79.txt: '8 0.19846952812500002 0.66582170625 0.2124183328125 0.6783812640625 0.2522343125 0.6773169484375 0.257906828125 0.74653965625 0.3160574140625 0.82221328125 0.374755328125 0.8498076359375 0.437860721875 0.8444557171874999 0.49990180000000006 0.7992878171875 0.5658463734375 0.5750036046875 0.6165164109375 0.5079398734375 0.625532084375 0.5044003218750001 0.648701625 0.5563484046875 0.6809806984375 0.66507083125 0.694395178125 0.66743486875 0.6531177734375 0.4845522671875 0.7780505093750001 0.42995423749999995 0.8576824734375 0.42782560781249995 0.8612263562500001 0.417416353125 0.7812738015625 0.4134276671875 0.7238625984375 0.39087764062499997 0.7472632109374999 0.3692042125 0.708952009375 0.3599661328125 0.6768736609375 0.313596709375 0.7161553171875 0.30233686875 0.7976256609375 0.237748375 0.771869684375 0.23398642343749998 0.7209902515625 0.277547015625 0.6682941140625 0.2864428203125 0.6593087875 0.154007853125 0.6466163484375 0.2824671390625 0.5696603484375 0.3161484609375 0.4483826921875 0.342951409375 0.32580531874999996 0.42298481875 0.235199428125 0.5473485515625 0.1983713328125 0.6249327375 0.19846952812500002 0.66582170625'\n",
            "Warning: Skipping malformed line in /content/Paddy-Field-Insects-All-Classes-2/train/labels/PB-30_jpg.rf.e25d9b979ecabc4360d9d6ebbd35b6c4.txt: '5 0.23935774375 0.8542031140624999 0.3358601546875 0.8756467859375 0.36802745 0.8143792171875001 0.41857638281250004 0.6137278937499999 0.4438507625 0.56011876875 0.5587344578125 0.8312277765625 0.35424144218750003 0.9032172390625 0.35883689375 0.9644848093749999 0.40019492031250004 0.9124073515625 0.59319956875 0.8358228890625 0.4645298609375 0.5585872203125 0.480613509375 0.51263654375 0.7310600046875 0.529484984375 0.7586320203125 0.630576509375 0.8689206171875 0.6841856328125 0.8895995421875 0.6688687390625 0.779311121875 0.6198547890625 0.760929834375 0.5218265375 0.4852089609375 0.48966108750000004 0.4852089609375 0.452900521875 0.6529390546875 0.377847784375 0.99299486875 0.29360487812499997 0.9998879609375001 0.27062953749999996 0.8643249875000001 0.30585837968749996 0.7747158453125 0.28594643125 0.6276646765625 0.2905414859375 0.53575771875 0.3043267140625 0.48750660156250003 0.3273020515625 0.450743853125 0.34261894531250003 0.37492054218750004 0.23080558281250002 0.471422778125 0.187918296875 0.4277671140625 0.10980216875 0.38411127343749996 0.12818247968750002 0.43466003124999997 0.1787281546875 0.370325265625 0.21702041562500002 0.200297359375 0 0.163534609375 0.0056473406249999995 0.349646165625 0.22621052812500003 0.3151810546875 0.2461224765625 0.404790375 0.38550623125 0.30369268437499997 0.4743441953125 0.2990972328125 0.5509287734375 0.0003996203125 0.6213863374999999 0.163534609375 0.80212565625 0.11828877812500001 0.8337164765624999 0.11987877031250001 0.8342912234375 0.13596241874999998 0.8572665625000001 0.202594996875 0.8036574390625001 0.025674173437499996 0.6367032312500001 0.301395046875 0.5739041125 0.248548475 0.7423898703125 0.23935774375 0.8542031140624999'\n",
            "Warning: Skipping malformed line in /content/Paddy-Field-Insects-All-Classes-2/train/labels/BA-8-_jpg.rf.8aceea28a74bc4dd61681d03c21b790b.txt: '8 0.698745925 0.6387536593750001 0.64489710625 0.626874775 0.613950940625 0.638378940625 0.6605556046875 0.6665561984374999 0.7015417375 0.6615237328125 0.698745925 0.6387536593750001'\n",
            "Warning: Skipping malformed line in /content/Paddy-Field-Insects-All-Classes-2/train/labels/BA-8-_jpg.rf.8aceea28a74bc4dd61681d03c21b790b.txt: '8 0.48300866875 0.400209709375 0.43776252656250003 0.35799763281249997 0.4128883796875 0.3687562484375 0.450757790625 0.40108784062499997 0.48300866875 0.400209709375'\n",
            "Warning: Skipping malformed line in /content/Paddy-Field-Insects-All-Classes-2/train/labels/PB-13_jpg.rf.cfe9ff4eb85ef5326e4c8ce3d8bda94c.txt: '5 0.4551474015625 0.5859478953124999 0.464933365625 0.6102871015625 0.48450545937499995 0.636147425 0.523649565625 0.6878683031249999 0.535610253125 0.7943521203125 0.580191125 0.9921078890624999 0.5997631375 0.97993825625 0.5812784453125001 0.8841027234375 0.6149858671875 0.9069206953125001 0.6215098718750001 0.8886663640625001 0.5986758156249999 0.8567212234375001 0.606287140625 0.8095641015625 0.66609074375 0.9495142921875 0.71284625625 0.9175691515625 0.6302085984375 0.71220739375 0.6606539765624999 0.561608746875 0.5812784453125001 0.5965964109375 0.567143034375 0.55400275625 0.5258242890625 0.5585664546875 0.483418140625 0.5114092171875 0.4747194125 0.43687048281249996 0.45949668125 0.41253133281250004 0.441011990625 0.030710546875 0.40059482968750004 0.054259025 0.4497107171875 0.508366809375 0.41926525468750003 0.45968845468749997 0.3714224234375 0.4672944453125 0.29530885156250003 0.5250999671875001 0.3127062234375 0.5524815234375 0.33662767968749996 0.5266212 0.3899071984375 0.508366809375 0.4247019390625 0.52966355 0.44536135468750004 0.5646511546874999 0.4551474015625 0.5859478953124999'\n"
          ]
        },
        {
          "output_type": "stream",
          "name": "stderr",
          "text": [
            " 50%|████▉     | 2661/5345 [00:00<00:01, 2609.33it/s]"
          ]
        },
        {
          "output_type": "stream",
          "name": "stdout",
          "text": [
            "Warning: Skipping malformed line in /content/Paddy-Field-Insects-All-Classes-2/train/labels/PB-12_jpg.rf.863a3dd1fb88dc84396b802a595d9912.txt: '5 0.34896768125 0.525403153125 0.3010727890625 0.5633176921875 0.2553549859375 0.6179146609374999 0.20310599687500003 0.7180090781249999 0.169361896875 0.7862552453125 0.15194559375 0.8893827203125 0.174804496875 0.8908992796874999 0.1911322953125 0.8256863421875 0.22161088437499998 0.7240753109375 0.2607975859375 0.6558292 0.3271972828125 0.581516796875 0.40665926875 0.543602259375 0.47197046406250004 0.5633176921875 0.38815438125 0.6391467671875 0.3609413828125 0.7028432625 0.2782138875 0.8590510890624999 0.3010727890625 0.8893827203125 0.392508478125 0.6755447484375 0.491563771875 0.602748846875 0.4991834609375 0.5648343078125 0.539458665625 0.572417215625 0.5165997625000001 0.7453074749999999 0.606946865625 0.7695727578125 0.62980585 0.8620843218750001 0.6581073515625 0.8332692500000001 0.6287172640625001 0.749857265625 0.55905205625 0.7089094953124999 0.575925015625 0.5769669484375 0.6020495109375 0.5739338890625 0.6232746640625 0.6148814875 0.7691363484375 0.7695727578125 0.9171751218749999 0.7437909171875 0.9487421328125001 0.7574401734375 0.9944599359374999 0.7908049203124999 0.996637109375 0.75895673125 0.930237328125 0.7104261703125 0.781110134375 0.7362080093750001 0.6379707 0.5633176921875 0.7098129984375 0.5693840406249999 0.7903634046875 0.572417215625 0.8812539312500001 0.5769669484375 0.9052013359375 0.5618011328125 0.9160865359375 0.5238865953125 0.909555515625 0.48597205624999995 0.8866965312499999 0.46777306718749995 0.8028805328124999 0.44957407812500005 0.8235623437499999 0.4116595390625 0.7919953328125 0.3752616171875 0.7789331265625 0.40710980625 0.73430374375 0.3752616171875 0.6004157625000001 0.24028583750000002 0.5775568625 0.43895799531249996 0.528573465625 0.4207590625 0.47959007031249995 0.37829473281250003 0.449111478125 0.37829473281250003 0.48176707656250006 0.460190159375 0.4436688796875 0.46928962500000004 0.424075571875 0.46928962500000004 0.344613584375 0.4253087953125 0.2760368796875 0.34947971875 0.1835126890625 0.23118637187500002 0.08881140625 0.1690064953125 0.048536203124999996 0.13412513125 0.047878103125 0.18626707343749999 0.04962470625 0.182655721875 0.10187369531249998 0.2205702890625 0.176981503125 0.285783284375 0.2488238828125 0.36312891875000003 0.310869484375 0.446540903125 0.39359697968749996 0.5102373390625 0.34896768125 0.525403153125'\n",
            "Warning: Skipping malformed line in /content/Paddy-Field-Insects-All-Classes-2/train/labels/PB-49_jpeg_jpg.rf.bc2db7977e20f18922b73fa122a5268b.txt: '5 0.034961290625 0.37998158437499996 0.034961290625 0.3910907546875 0.1887341234375 0.31808769375 0.4020318734375 0.30380453281249997 0.49958666875 0.37839452812499996 0.5161213765625 0.41013496875 0.5144678046875 0.46091969375 0.4053387640625 0.446636528125 0.40864578125 0.5291616375 0.38384371875 0.53074869375 0.3888040546875 0.5593152015625 0.44502208593750003 0.5482059125000001 0.4152595640625 0.4704418640625 0.5144678046875 0.48789908281249994 0.5045470046875 0.5466189171875 0.4599033453125 0.5799463578124999 0.31109098125 0.5751854234375 0.3044770734375 0.66564558125 0.2664471953125 0.725952471875 0.26810076875 0.746583690625 0.23833824531249997 0.7624539125 0.239991690625 0.7910203578125 0.31605131875 0.733887584375 0.31605131875 0.6846898609375 0.3805367 0.611686803125 0.4384081765625 0.5926425234375 0.512814359375 0.610099803125 0.5111609140625 0.7402355765624999 0.5458837765625 0.8703714671875 0.5954878953125 0.9481355812500001 0.6235969765625 0.8735454624999999 0.6302107593749999 0.822760803125 0.6318643265625 0.7656280265625 0.6252504234375 0.6942120921875 0.61367605 0.6354921359375 0.7393399265625 0.7180173625 0.7128842953125 0.9275042453125 0.7872906046875 0.981463021875 0.80051841875 0.9751149078125 0.8087856453125 0.9592446859375 0.8071323265625001 0.9576576906250001 0.802171740625 0.9576576906250001 0.74264681875 0.9163951359375 0.7724092140625001 0.7132562484375 0.620289959375 0.5974036375 0.6087157140625 0.5228135843749999 0.7145378640625 0.4863120828125 0.8087857734374999 0.5561410265625 0.8831919546875 0.54503185625 0.8749246046874999 0.52440058125 0.7922510640625 0.514878471875 0.7211516453125 0.451397584375 0.60706226875 0.4958341921875 0.5772997453125 0.42441819687500004 0.5739928546875 0.36887241875 0.6318643265625 0.2958694234375 0.6765079859375 0.218105309375 0.755874509375 0.14192822656249998 0.850122540625 0.0625771484375 0.9410634312499999 0.0181405671875 0.939409859375 0.0063481140625 0.9096473359375 0.0063481140625 0.7707558953125 0.0752733140625 0.6583198359375 0.1847779 0.549190790625 0.34348008750000003 0.5359629765625 0.335544978125 0.5185955546875001 0.358074990625 0.52438873125 0.36728541875 0.4830519640625 0.3307838609375 0.3921110734375 0.2657159734375 0.2432987046875 0.28317319687500003 0.13913 0.3133266421875 0.034961290625 0.36728541875 0.034961290625 0.37998158437499996'\n",
            "Warning: Skipping malformed line in /content/Paddy-Field-Insects-All-Classes-2/train/labels/BA-12-_jpg.rf.e96eb8fdbe1398f6a49020b55ae2c36d.txt: '8 0.88416149375 0.54078165625 0.819071584375 0.562810759375 0.7878007546875 0.5489706437499999 0.7953085515625 0.5156609859375 0.776668709375 0.46031239687500003 0.76948355625 0.42922170312499996 0.7534097984375 0.384976990625 0.7286203328124999 0.3333856421875 0.7000746375 0.29084756875 0.6609327390625 0.23788820624999998 0.6164949515625 0.18731982187500001 0.570349334375 0.13948431249999999 0.528309721875 0.1094149984375 0.503188590625 0.0918174046875 0.4625160140625 0.0626023109375 0.4165474953125 0.0357781609375 0.37161014375 0.02859859375 0.32633650625 0.0402097046875 0.311648096875 0.0576319890625 0.313882571875 0.1027295125 0.307396653125 0.125277571875 0.2674098734375 0.10409110625 0.23051609375 0.1418389390625 0.22062375312500002 0.2002593375 0.23260062499999998 0.25714465625 0.25105879375 0.2762788421875 0.2676412125 0.3075412359375 0.2852590484375 0.373651634375 0.22545149531250003 0.34768001718749997 0.174868459375 0.316072228125 0.1135347703125 0.329048190625 0.0834945015625 0.43188020156249995 0.08264961093749999 0.463653234375 0.0336109359375 0.45391101718750004 0.0096887984375 0.44656304999999996 0.011419159375 0.5198462125 0.0720896140625 0.574857821875 0.1131073234375 0.6156890078125 0.1677915671875 0.649859515625 0.20983128281250002 0.67992889375 0.2569986359375 0.7170025671875 0.29767131875 0.746217728125 0.344661659375 0.762280240625 0.39712045156250003 0.781759825 0.4528222046875 0.789965375 0.5001532015625 0.8024405640625 0.5310834390625 0.8198678968750001 0.5936477828125 0.9235642546875 0.5931346234375 0.921343428125 0.56148244375 0.774261484375 0.5831745374999999 0.751715178125 0.5993982328125 0.725751840625 0.633389759375 0.695690740625 0.677300796875 0.6984286640625 0.682773734375 0.7170490109375 0.6593783484375 0.75753150625 0.6407791484375001 0.8390120421875 0.6517205515625 0.8610493218749999 0.6776684921875 0.7860609609375 0.697984459375 0.7322539453125 0.719499490625 0.688696446875 0.73555510625 0.6721283421875001 0.7562600140625 0.665830175 0.8030250062500001 0.609785321875 0.7975520687500001 0.5911649734375 0.8655441906249999 0.5614492531249999 0.927050496875 0.5542813671875 0.97761535 0.52507616875 0.88416149375 0.54078165625'\n",
            "Warning: Skipping malformed line in /content/Paddy-Field-Insects-All-Classes-2/train/labels/PB-63_jpg.rf.621269fe65438803f7de33e05cf1ad48.txt: '5 0.469427234375 0.41888043281250004 0.467796696875 0.48346120625 0.3634407046875 0.4944872078125 0.3650712421875 0.5417414515625001 0.288434878125 0.5811199859375 0.30963223281249996 0.6394003500000001 0.389529671875 0.7780126625 0.3373517359375 0.8331426125 0.37811578749999997 0.8583448515625 0.43192438437499997 0.8079403734374999 0.35039628437500003 0.661452234375 0.389529671875 0.65987705625 0.38626859687500004 0.565368571875 0.46127442500000004 0.5338657453125 0.43518545781249995 0.6267991109375 0.4531216140625 0.6866545937499999 0.49388566562499997 0.7134318890625 0.513452484375 0.6850793546875 0.5297581046875 0.606322284375 0.533019178125 0.5291404515625 0.68629203125 0.603171990625 0.6324834359375 0.8205415531250001 0.6879225703125 0.8851223265625 0.718903271875 0.8583448515625 0.6520502546875 0.8252669046875001 0.7074892640625 0.5984465765625 0.6869998093749999 0.5879562578125 0.7401005031250001 0.5826951625000001 0.738469965625 0.563793453125 0.68629203125 0.5622182765625 0.656941865625 0.4393572578125 0.6292223625 0.43620696406250004 0.621069553125 0.39682842812499997 0.5525858734375 0.41888043281250004 0.5525858734375 0.39997872343749996 0.5607386828125 0.3826521921875 0.559108146875 0.3732013078125 0.6096555421875001 0.2834182953125 0.7629283953125 0.1747335125 0.9178317874999999 0.11172785625 0.9993598875 0.09912673749999999 1 0.070774234375 0.9064179046874999 0.07392446875 0.803692446875 0.1196035625 0.7074892640625 0.168432953125 0.5851971125000001 0.261366290625 0.5411719875000001 0.3527244796875 0.5297581046875 0.33697306562499996 0.5281274421875 0.3542996578125 0.48573285625 0.2739674109375 0.413988103125 0.1983606328125 0.31289330625 0.14638095 0.2378874796875 0.11330300468750001 0.1695573625 0.10716273750000001 0.172664996875 0.13850524375 0.2297346703125 0.140080390625 0.3112627703125 0.179458925 0.38626859687500004 0.2298634640625 0.449860540625 0.28814370624999996 0.4841023171875 0.3243719484375 0.5085607484375 0.3795018953125 0.4759495078125 0.3448487734375 0.48247177968750005 0.3984036046875 0.469427234375 0.41888043281250004'\n",
            "Warning: Skipping malformed line in /content/Paddy-Field-Insects-All-Classes-2/train/labels/WHORL-MAGGOTS_original_whorl-148-jpg_e129936e-91f9-4a93-b224-e794c70c70f4_jpg.rf.95076e0b723103d0fe6b094202ff8460.txt: '10 0.5130015625000001 0.21947812500000002 0.43640156250000006 0.2629015625 0.357978125 0.3139859375 0.31603125 0.39316874999999996 0.288921875 0.46213437500000004 0.339740625 0.4800140625 0.4509921875 0.48767812499999996 0.5294156250000001 0.4646890625 0.5841296875 0.49023125 0.642490625 0.5745234375 0.700853125 0.689465625 0.7517484375000001 0.73125 0.7549125 0.73125 0.782925 0.6920203125 0.825 0.6429125 0.825 0.598190625 0.824871875 0.5949578125 0.7756296875 0.5183296875 0.744625 0.4519171875 0.706325 0.3267578125 0.6370203125 0.2348046875 0.5130015625000001 0.21947812500000002'\n",
            "Warning: Skipping malformed line in /content/Paddy-Field-Insects-All-Classes-2/train/labels/PB-28_jpg.rf.f659efd2fd07d9df7c762748e1d3a7c0.txt: '5 0.14550078125000002 0.4688869875 0.2149973609375 0.35683909062499997 0.36361305625 0.4752896875 0.39782680625 0.48009178906249994 0.401034290625 0.5041020546875 0.18399117812500002 0.620951990625 0.11663292343750001 0.6337575765625 0.117702084375 0.664170478125 0.2053747421875 0.6481636359375 0.38285829531250004 0.5521225828125 0.42990215000000004 0.512105475 0.44380141718750005 0.5361157390625 0.4170719640625 0.6865800203125 0.3486446265625 0.8386450234374999 0.3112233921875 0.9090751562499999 0.34222949375 0.9218806781250001 0.444870659375 0.6913820625 0.46732338437500004 0.5537233640625 0.49298367499999995 0.5489212015625 0.5197131296874999 0.5841362671875 0.542165853125 0.61134785 0.4993987296875 0.7009862046875 0.457700765625 0.72499646875 0.457700765625 0.7650135734375 0.50474461875 0.7554094921875001 0.5517884734375 0.6481636359375 0.5913480328125 0.6545663359375 0.5731720359375 0.79222515625 0.5999014890625001 0.841846465625 0.6522911515625001 0.841846465625 0.6448069375000001 0.79862791875 0.6234233765625 0.8050306812500001 0.5956247609374999 0.79222515625 0.619146646875 0.641760996875 0.5785179281249999 0.59534100625 0.588140465625 0.512105475 0.7025425750000001 0.38885277500000004 0.8340515171874999 0.2768048765625 0.9644912187499999 0.1887672125 0.960214571875 0.1663576390625 0.8500891906250001 0.2095761296875 0.7282027828125 0.30881856406249997 0.543235015625 0.5041020546875 0.5271973453125 0.48009178906249994 0.523989778125 0.45768218593750004 0.6138007578125 0.2960131015625 0.60631654375 0.2800062578125 0.48549938125000003 0.3808493546875 0.46304665468749995 0.372845934375 0.3935500765625 0.320023365625 0.3016007734375 0.262398696875 0.2534877578125 0.2255829703125 0.22568914218749997 0.2191802109375 0.2032363359375 0.22718363125000002 0.210020015625 0.294694696875 0.20751306406249997 0.29441238125 0.149777428125 0.41446370000000005 0.10594114218749999 0.3808493546875 0.087765146875 0.38885277500000004 0.087765146875 0.41446370000000005 0.1016644125 0.4096616578125 0.14550078125000002 0.4688869875'\n",
            "Warning: Skipping malformed line in /content/Paddy-Field-Insects-All-Classes-2/train/labels/Image_26_jpg.rf.6e945f350d131496272c3f54f07120f3.txt: '4 0 0 0 0.3894375 0.017578125 0.3139546875 0.080078125 0.334921875 0.10546875 0.3104609375 0.12109375 0.1776671875 0.1015625 0.1077765625 0.09765625 0.037884375 0.140625 0.0029390625 0.140775 0 0 0'\n",
            "Warning: Skipping malformed line in /content/Paddy-Field-Insects-All-Classes-2/train/labels/Image_26_jpg.rf.6e945f350d131496272c3f54f07120f3.txt: '4 0.28515625 0.8066890624999999 0.296875 0.88356875 0.3125 0.88356875 0.375 0.8206671875 0.3671875 0.750775 0.3828125 0.6529281250000001 0.3828125 0.44325468749999997 0.35546875 0.3663734375 0.3515625 0.2545484375 0.3671875 0.20562343749999998 0.357421875 0.1112703125 0.263671875 0.1881515625 0.220703125 0.25804218749999996 0.201171875 0.26503125 0.16015625 0.3943296875 0.17578125 0.5131453125000001 0.23046875 0.6179828125 0.2265625 0.6529281250000001 0.28515625 0.8066890624999999'\n",
            "Warning: Skipping malformed line in /content/Paddy-Field-Insects-All-Classes-2/train/labels/WHORL-MAGGOTS_original_whorl-24-jpg_f7449026-caa0-4ea0-b8a1-4c6e2591b9d1_jpg.rf.903f0c4a8219f6eb3f67b78805737c5a.txt: '10 0.037859375 0.0070999999999999995 0.030615625 0.0792640625 0.0016421875 0.16431562500000002 0.003453125 0.21328593749999997 0.0244671875 0.265625 0.033957812500000004 0.265625 0.0632125 0.25967656250000004 0.103053125 0.2210171875 0.14108281250000002 0.12823437499999998 0.173678125 0.0818421875 0.1827328125 0.01483125 0.037859375 0.0070999999999999995'\n",
            "Warning: Skipping malformed line in /content/Paddy-Field-Insects-All-Classes-2/train/labels/WHORL-MAGGOTS_original_whorl-24-jpg_f7449026-caa0-4ea0-b8a1-4c6e2591b9d1_jpg.rf.903f0c4a8219f6eb3f67b78805737c5a.txt: '10 0.004065625 0.565625 0.0111671875 0.565625 0.0203859375 0.5641671875000001 0.063846875 0.5435484374999999 0.118175 0.5151984374999999 0.1489609375 0.49973437499999995 0.15 0.48494374999999995 0.15 0.45858437500000004 0.1489609375 0.437878125 0.1326625 0.409528125 0.1036875 0.3837546875 0.058415625000000006 0.3837546875 0.0006046875 0.3837546875 0.004065625 0.565625'\n",
            "Warning: Skipping malformed line in /content/Paddy-Field-Insects-All-Classes-2/train/labels/WHORL-MAGGOTS_original_whorl-24-jpg_f7449026-caa0-4ea0-b8a1-4c6e2591b9d1_jpg.rf.903f0c4a8219f6eb3f67b78805737c5a.txt: '10 0.2663703125 0.592703125 0.242828125 0.5360015625 0.2229078125 0.5024968750000001 0.20660937499999998 0.481878125 0.199365625 0.4664140625 0.1903109375 0.4561046875 0.175825 0.474146875 0.17220312499999998 0.5024968750000001 0.17220312499999998 0.5591984375 0.1740140625 0.6081671875 0.18306875 0.6957953125 0.179446875 0.801465625 0.1975546875 0.8968265625 0.20479843749999999 0.9664140625 0.21549999999999997 0.996875 0.289453125 0.996875 0.34946875 0.9921875 0.34967187499999997 0.9226000000000001 0.34242812499999997 0.8478578125 0.335184375 0.76280625 0.3098328125 0.6854859375 0.2663703125 0.592703125'\n",
            "Warning: Skipping malformed line in /content/Paddy-Field-Insects-All-Classes-2/train/labels/PB-35_png_jpg.rf.1a1fba5c2663086a93ca2c1160fa4217.txt: '5 0.1800564546875 0.834180459375 0.1921615484375 0.8702499875 0.2647920078125 0.834180459375 0.3844977515625 0.7328421625 0.4450231171875 0.700207778125 0.4598181859375 0.906319515625 0.27286203593749997 0.8874259656250001 0.2365468578125 0.9698707125 0.2580669671875 0.9853289890625 0.27824208906250003 0.9166250765624999 0.4773033328125 0.9286483406249999 0.46519824062500004 0.6761614484375 0.5297585687499999 0.64352719375 0.5929740125 0.6830318 0.5593488078125 0.8032636468750001 0.6198741734375 0.85479158125 0.6292891890625001 0.8410508765625 0.587593959375 0.782652525 0.617184096875 0.67787915 0.5418636609374999 0.6229158765625 0.5647288609375 0.578258359375 0.657534340625 0.5834112703125001 0.6817445265625001 0.6263512171875 0.7463048546875 0.636656646875 0.7449599703125 0.616045525 0.6992296734375001 0.610892678125 0.6723295125 0.5696703703125 0.5835588921875 0.5542119640625 0.6077690796875 0.5404713265625001 0.6185291859375 0.5250127875 0.8027953609375 0.5301656343750001 0.99647645 0.60058725 1 0.5490593140625 0.868700678125 0.5181424359375 0.7543749875 0.5009664593750001 0.6333242546875 0.49753137968749994 0.6373592171875 0.4786377 0.6212191609375 0.470049709375 0.6413942828125 0.4374153265625 0.6642593812500001 0.342947446875 0.693849621875 0.200386840625 0.6992296734375001 0.0990485421875 0.696539596875 0.006298334375000001 0.6777094625 0.0011454874999999999 0.6723295125 0.1316828953125 0.6669494593749999 0.269090753125 0.630634178125 0.4030633703125 0.6198741734375 0.40993378593749996 0.6333242546875 0.3669938421875 0.6212191609375 0.3635586328125 0.5983540640625 0.42195691875 0.6212191609375 0.4339801171875 0.5324486453125 0.509554446875 0.48537336093750005 0.5507767546875 0.4826832828125 0.4030633703125 0.3966028453125 0.4460033140625 0.385842740625 0.4013457984375 0.3737376453125 0.404780940625 0.385842740625 0.48207284218749996 0.4746132546875 0.42195691875 0.4773033328125 0.5627999531250001 0.43829807656249997 0.60058725 0.2352018703125 0.4837904796875 0.1437412765625 0.602304690625 0.0832159109375 0.55936474375 0.0709243390625 0.5911922671875 0.0738008953125 0.5937167 0.1343262609375 0.636656646875 0.2298218171875 0.5147073578125 0.42081293124999997 0.6177632265625 0.3212823078125 0.69849020625 0.2204066984375 0.7774996796875 0.1800564546875 0.834180459375'\n",
            "Warning: Skipping malformed line in /content/Paddy-Field-Insects-All-Classes-2/train/labels/PB-45_jpg.rf.84f036e8243b9aa9b6bb6cb614aace09.txt: '5 0.5662775359375 0.30466476249999996 0.5583242109375 0.2811303703125 0.5530220171875 0.293682034375 0.5751145484375 0.4505779890625 0.5653938468749999 0.4725434453125 0.5256272921875 0.386250671875 0.48055847500000004 0.44587112187500005 0.4575822578125 0.4050781375 0.451396375 0.4270435953125 0.47967478750000003 0.47411238125 0.5273946671874999 0.4176298625 0.5539057046875 0.4882330421875 0.5441850046875001 0.58393966875 0.4310712203125 0.6561116640625 0.44432673906250003 0.8679212625 0.4027928078125 0.9134211125 0.41516463750000004 0.9432312484375001 0.4575822578125 0.8867487281249999 0.4452104265625 0.67337025625 0.54683606875 0.599629265625 0.5220924734375 0.72430803125 0.5220924734375 0.8529627859375 0.5273946671874999 0.8984626375 0.5547893921875 0.8984626375 0.5777656109375 0.7729458734375 0.591904884375 0.631739515625 0.6696705515625 0.7839285421875 0.6078114671875 0.9471003578125 0.634322503125 1 0.6528802828125 0.9991204343750001 0.622834428125 0.9410690390625 0.6899957078125001 0.784172965625 0.5945559484375 0.5896219578124999 0.608695153125 0.5237257343749999 0.653763903125 0.46881215000000004 0.621950671875 0.548829034375 0.6405083859375 0.566087565625 0.6440432703125001 0.5409842375 0.638741009375 0.5394153312500001 0.6723216828125 0.44057083124999996 0.6502291515625 0.44684666406250007 0.613113659375 0.486070653125 0.613113659375 0.4562604265625 0.6564150328125 0.34486429375 0.64721695 0.32727747812499997 0.66878693125 0.2962265421875 0.7050186015625 0.2742610984375 0.7872028421875 0.2570025546875 0.9003166281249999 0.26641630156249996 0.9524549468749999 0.2946575765625 0.9533387015624999 0.27739903125 0.8994328734374999 0.242881909375 0.7209252515625 0.242881909375 0.6696705515625 0.26327838593749997 0.6104625968749999 0.369967653125 0.599858140625 0.3636918203125 0.5821841171875 0.2930886109375 0.5539057046875 0.21777856562500003 0.40721131406250005 0.023115217187500002 0.348003290625 0 0.342535315625 0.0023547890625000003 0.3444685390625 0.0363726765625 0.37186326406250003 0.041079603125 0.44255936250000005 0.1007000234375 0.5035347609375 0.16816527187500002 0.5371153671875 0.2262167859375 0.5653938468749999 0.27328557343750004 0.583067871875 0.37526794375 0.579533053125 0.40978506406250004 0.5662775359375 0.30466476249999996'\n",
            "Warning: Skipping malformed line in /content/Paddy-Field-Insects-All-Classes-2/train/labels/WHORL-MAGGOTS_original_whorl-145-jpg_b6afb5a5-b20b-4e9c-bfb6-06f381d340fd_jpg.rf.b772b7db6dafc52634acdd88b44a90f7.txt: '10 0.4142 0.49074999999999996 0.3578125 0.5918171875 0.3578125 0.5977359375 0.36345 0.652440625 0.390571875 0.7109375 0.393365625 0.7109375 0.44188124999999995 0.6847796875000001 0.5110859375000001 0.5778140625 0.5910562500000001 0.5206000000000001 0.6817921874999999 0.5081625 0.7633 0.4982125 0.826353125 0.5305500000000001 0.8640625 0.4839234375 0.8640625 0.4818875 0.8371187499999999 0.40865937499999994 0.7863687500000001 0.3390078125 0.7110109375 0.26189375 0.5941328125 0.27930625 0.504934375 0.366371875 0.4142 0.49074999999999996'\n",
            "Warning: Skipping malformed line in /content/Paddy-Field-Insects-All-Classes-2/train/labels/WHORL-MAGGOTS_original_whorl-128-jpg_ccb523b0-ce81-4363-a11a-6f331536c0e1_jpg.rf.7a20e816fc63d30e5843c3ee4c20b177.txt: '10 0.1829265625 0.33011406249999997 0.14027499999999998 0.358103125 0.1256140625 0.5158640625 0.2122484375 0.8110296874999999 0.3082125 0.907721875 0.421521875 0.9359375 0.43492031249999996 0.9359375 0.762709375 0.7499609375 0.7946984375 0.6329125 0.789265625 0.5845671875 0.76004375 0.5336765625 0.3748546875 0.663446875 0.1829265625 0.33011406249999997'\n",
            "Warning: Skipping malformed line in /content/Paddy-Field-Insects-All-Classes-2/train/labels/WHORL-MAGGOTS_original_whorl-144-jpg_6663f8f4-367b-4a5a-be75-d70464398724_jpg.rf.c9fc8497eccb031251e3a9e576413cf1.txt: '10 0.3712609375 0.5077499999999999 0.3451171875 0.5376015625 0.3314890625 0.649540625 0.4573828125 0.76396875 0.6056250000000001 0.8109375 0.6073296874999999 0.8109375 0.775725 0.74655625 0.9079828125 0.5500390625 0.9890625 0.35208125 0.9890625 0.349090625 0.9741125 0.2813828125 0.9187484375 0.1992921875 0.8726125 0.21421874999999999 0.7095953125000001 0.4779 0.5342765625 0.502775 0.3712609375 0.5077499999999999'\n",
            "Warning: Skipping malformed line in /content/Paddy-Field-Insects-All-Classes-2/train/labels/PB-57_jpeg_jpg.rf.9a1904be0af86051899f0e94f7a92cc4.txt: '5 0.4084507859375 0.41259907343749996 0.39834879375 0.426708659375 0.37814480625 0.5050952296875 0.25085964375 0.514501459375 0.1942885796875 0.552127096875 0.33975720625 0.7041967031249999 0.3458184640625 0.679113003125 0.25085964375 0.555262446875 0.37814480625 0.5270433406249999 0.368042815625 0.6054297859375 0.349859196875 0.7057644062499999 0.343797940625 0.776312209375 0.368042815625 0.78258315 0.396328425 0.75593180625 0.460981115625 0.6069976140625 0.46704236874999994 0.5286111640625 0.5579603 0.6540294828125 0.5155318109375 0.8374536671874999 0.5539194125 0.8797822999999999 0.5721030296875 0.868808246875 0.5417970515625 0.8311827265625 0.5902866484375 0.6477584234375 0.47512384062499996 0.49882422968749995 0.48724635625 0.4831468796875 0.6347353515624999 0.44238595 0.72161255 0.5427206265625 0.7983875968749999 0.5333142203125 0.79636723125 0.5160692234375001 0.7418165328125 0.5270433406249999 0.675143321875 0.46746959062500004 0.6347353515624999 0.426708659375 0.4993687171875 0.45022459374999996 0.5013890812499999 0.4220054828125 0.5983682703125 0.34832220937499997 0.642816978125 0.41259907343749996 0.7135309234375 0.3937863734375 0.699388196875 0.371838146875 0.656959703125 0.392218609375 0.63069461875 0.3514576796875 0.6024090078125 0.3263739796875 0.5155318109375 0.389083140625 0.5094707078125 0.36556720625 0.5155318109375 0.2981548703125 0.52159306875 0.2182007171875 0.5539194125 0.15078841406250001 0.5882662796875 0.07710510625 0.656959703125 0.0034218328125 0.5963477515625 0.0034218328125 0.547858309375 0.08651145625 0.5155318109375 0.166465703125 0.49532782812500004 0.232310240625 0.48724635625 0.3153999265625 0.4791647296875 0.3310772171875 0.4448178625 0.27307122968750003 0.396328425 0.226039359375 0.3579408234375 0.185278403125 0.3033899703125 0.1413819734375 0.218533296875 0.09278239687499999 0.14781935156249998 0.08024060625 0.1368340859375 0.10235294375 0.1437786140625 0.10062104375 0.2650025234375 0.14451744375 0.366022446875 0.232310240625 0.4549198578125 0.337348096875 0.4448178625 0.36713497031250003 0.35996118906249996 0.31696762968750003 0.4084507859375 0.41259907343749996'\n",
            "Warning: Skipping malformed line in /content/Paddy-Field-Insects-All-Classes-2/train/labels/PB-25_jpeg_jpg.rf.acbd579c3888b92bc709fb74c69ca7fa.txt: '5 0.264463103125 0.5030553921875 0.3796548984375 0.5144633984375 0.4378571046875 0.524241771875 0.40633085468749996 0.5649848296875 0.3020519859375 0.6415817921875 0.1868601921875 0.6611384109375 0.1310831296875 0.70188146875 0.1468462546875 0.7263273671875 0.19049786562499998 0.685584246875 0.317815109375 0.6611384109375 0.42088145312499997 0.5796522937499999 0.4536201359375 0.5389092359375 0.4839337671875 0.5437984499999999 0.49363416562499995 0.708400509375 0.447557409375 0.7866270421875 0.4257316515625 0.8567051546875 0.441494684375 0.8599645499999999 0.46332053437500004 0.7784784328125001 0.5106098171875 0.711659840625 0.5057596171875 0.547057846875 0.5421359734375 0.5552064578125 0.613676159375 0.685584246875 0.681578671875 0.8518159375 0.6876413984374999 0.84040793125 0.613676159375 0.626914390625 0.5603241515625 0.5535768859375 0.603975759375 0.5421686921875 0.64156464375 0.5715036812500001 0.6294391921875 0.623654809375 0.6767284734375 0.6252845687499999 0.7240177546875 0.7703298203125 0.7700945078125 1 0.7870700687500001 0.9838234218749999 0.7458436046875 0.7735893390624999 0.6900664515625 0.5959495171875 0.6633904937499999 0.5486876046875 0.6803661453125 0.4949067828125 0.6294391921875 0.4949067828125 0.8379969296875001 0.3449723140625 0.9713769015624999 0.24229981875 0.9580390171875001 0.21948367968750002 0.6015507062500001 0.49653660312500003 0.5785123296875 0.473720340625 0.5566864781249999 0.4688311859375 0.5785123296875 0.4215692765625 0.56881193125 0.4085314484375 0.540923446875 0.4525339640625 0.5093971984375 0.42645843125000005 0.41966892656250004 0.4297178875 0.3275154171875 0.3531209265625 0.1868601921875 0.3987531390625 0.14078352968750002 0.34986146875 0.1456336359375 0.375937 0.138181790625 0.3693436609375 0.1577590890625 0.402012596875 0.18564766562499999 0.42645843125000005 0.3141774390625 0.3791964578125 0.39056782343749996 0.43623674062499995 0.26567562968749997 0.43623674062499995 0.22566169375 0.44927450625 0.22566169375 0.490017565625 0.264463103125 0.5030553921875'\n",
            "Warning: Skipping malformed line in /content/Paddy-Field-Insects-All-Classes-2/train/labels/WHORL-MAGGOTS_original_whorl-24-jpg_2c82f525-6b3c-4569-ad66-9f8a87c8d009_jpg.rf.524d0dd2ab8544577a5cbc95c86f73c9.txt: '10 0.2609375 0.3917921875 0.2789453125 0.4814953125 0.3066484375 0.5046875 0.31089218750000003 0.5046875 0.33870625 0.44283593750000005 0.349571875 0.3526296875 0.35681562499999997 0.22891875 0.3803578125 0.156753125 0.3875 0.07796875 0.3875 0.076696875 0.3583796875 0.0304640625 0.3024875 0.07170156250000001 0.28075625 0.17221718749999998 0.262646875 0.25726875 0.2609375 0.38382499999999997 0.2609375 0.3917921875'\n",
            "Warning: Skipping malformed line in /content/Paddy-Field-Insects-All-Classes-2/train/labels/WHORL-MAGGOTS_original_whorl-24-jpg_2c82f525-6b3c-4569-ad66-9f8a87c8d009_jpg.rf.524d0dd2ab8544577a5cbc95c86f73c9.txt: '10 0 0.5444421875 0.01429375 0.5775015625 0.0812984375 0.572346875 0.1555453125 0.572346875 0.1920890625 0.578125 0.20459999999999998 0.578125 0.215625 0.443265625 0.215625 0.44089375000000003 0.1627890625 0.438325 0.0704328125 0.4460578125 0.017915624999999998 0.49245 0 0.5434453125 0 0.5444421875'\n",
            "Warning: Skipping malformed line in /content/Paddy-Field-Insects-All-Classes-2/train/labels/WHORL-MAGGOTS_original_whorl-24-jpg_2c82f525-6b3c-4569-ad66-9f8a87c8d009_jpg.rf.524d0dd2ab8544577a5cbc95c86f73c9.txt: '10 0.1756140625 1 0.2244984375 0.930428125 0.2607171875 0.8092937499999999 0.265625 0.7254640625000001 0.265625 0.7154499999999999 0.2317421875 0.6469234375 0.2063890625 0.67011875 0.16654843749999998 0.73970625 0.1448171875 0.8531093750000001 0.09954531250000001 0.8995 0.061515625 0.9149640625 0.0597046875 0.9536250000000001 0.07435312499999999 1 0.1756140625 1'\n"
          ]
        },
        {
          "output_type": "stream",
          "name": "stderr",
          "text": [
            " 66%|██████▋   | 3547/5345 [00:01<00:00, 2867.54it/s]"
          ]
        },
        {
          "output_type": "stream",
          "name": "stdout",
          "text": [
            "Warning: Skipping malformed line in /content/Paddy-Field-Insects-All-Classes-2/train/labels/Image_25_jpg.rf.4474d47067fd250172717bd588548e58.txt: '4 0.6717234375000001 0 0.67920625 0.049384375 0.749753125 0.16696249999999999 0.7419140625 0.237509375 0.8398953125 0.349209375 0.8712500000000001 0.4609078125 0.9594343750000001 0.5873046875 1 0.6215859375 1 0 0.6717234375000001 0'\n",
            "Warning: Skipping malformed line in /content/Paddy-Field-Insects-All-Classes-2/train/labels/PB-56_png_jpg.rf.b0935134521ab29da196f49fdcc36d54.txt: '5 0.265912103125 0.5631010921875 0.20124298437500002 0.6054297875 0.2066319921875 0.633648896875 0.27669011875 0.5866170281249999 0.43836281250000003 0.6132684328125 0.5084211453124999 0.5489915078125 0.5650065453125 0.581913853125 0.551533821875 0.6618681265624999 0.486864703125 0.69322270625 0.486864703125 0.7449576312499999 0.5272828765625001 0.7433899265624999 0.5272828765625001 0.7057644078124999 0.5919519953125 0.6634357125 0.6000355078124999 0.583481678125 0.6027302156250001 0.600726553125 0.6323701703125 0.608565196875 0.64045368125 0.643055246875 0.6512319015625 0.71517075625 0.6350646734375001 0.8013958499999999 0.6135082296875 0.87037595 0.583868278125 0.93935605 0.5730900578125 0.9926588593749999 0.6000355078124999 0.9973619734374999 0.6431483906250001 0.8625373046875 0.6700938390625 0.7904217953125 0.67817735 0.730848046875 0.675482846875 0.6634357125 0.6566211125 0.622674903125 0.707817303125 0.643055246875 0.7051227984375 0.6164038421875 0.8129045937500001 0.6555970671875 0.9961337296874999 0.6885194125 0.9961337296874999 0.6618681265624999 0.864100990625 0.647758421875 0.691650075 0.5944556734375 0.6889555703125 0.5678043875000001 0.6620101218750001 0.564668796875 0.61889744375 0.5019596390625 0.5973410015625 0.4815791734375 0.7967373656250001 0.49098552343749996 0.7320682484375001 0.3906509046875 0.78865365 0.389083140625 0.7859591453125 0.37027044062500003 0.6997337921875 0.38751543593750004 0.7536246890625 0.475308234375 0.5811737734375 0.46903735468749996 0.5407556015625 0.42200548437499996 0.6889555703125 0.22917483125000002 0.5407556015625 0.1304078875 0.5757847671875 0.0786728125 0.5488393171875 0.0802406078125 0.5084211453124999 0.1445174421875 0.6620101218750001 0.23387800625000002 0.5111156484375 0.414166840625 0.470697475 0.38281225937499996 0.4114173640625 0.3122644546875 0.298246559375 0.24014888750000002 0.23357744062500002 0.1915493125 0.19046476406249999 0.1946847515625 0.182381046875 0.224471596875 0.3683046875 0.378109084375 0.40602835625000006 0.4439536546875 0.1338793609375 0.44552141875 0.1527410953125 0.2668002921875 0.0234030625 0.232310240625 0.017508356250000003 0.2592156875 0.012624842187499999 0.2668002921875 0.10423940937500001 0.2762067015625 0.0988501953125 0.4737405296875 0.42489008906250003 0.45492776875 0.47608648281250004 0.53331421875 0.41950108124999996 0.5944556734375 0.265912103125 0.5631010921875'\n",
            "Warning: Skipping malformed line in /content/Paddy-Field-Insects-All-Classes-2/train/labels/WHORL-MAGGOTS_original_whorl-25-jpg_793bbf4d-489c-4eb7-9e81-ae48644df867_jpg.rf.dd6753e92767b945e0ca58503f4d492e.txt: '10 0.21502500000000002 0 0.12404843750000001 0.0127171875 0.07153125 0.09261406250000001 0.0624765625 0.1828203125 0.05523281249999999 0.2627171875 0.08376875 0.33125 0.0968109375 0.33125 0.11499375 0.32972812500000004 0.1548328125 0.2317890625 0.1765640625 0.159625 0.1946734375 0.0900375 0.2218375 0.0900375 0.2421875 0.07555625 0.2421875 0.0681859375 0.23632499999999998 0.04106875 0.2163171875 0 0.21502500000000002 0'\n",
            "Warning: Skipping malformed line in /content/Paddy-Field-Insects-All-Classes-2/train/labels/WHORL-MAGGOTS_original_whorl-25-jpg_793bbf4d-489c-4eb7-9e81-ae48644df867_jpg.rf.dd6753e92767b945e0ca58503f4d492e.txt: '10 0.0062265624999999995 0.5571359375 0.02976875 0.5571359375 0.0784359375 0.5640625 0.0856796875 0.5640625 0.1348015625 0.5390953125 0.18550781249999998 0.49012500000000003 0.22353593749999998 0.4746625 0.228125 0.4441859375 0.228125 0.4365765625 0.218103125 0.41280625000000004 0.18550781249999998 0.40249687500000003 0.12393593750000001 0.40249687500000003 0.0370125 0.4076515625 0.00028125 0.4256921875 0.0062265624999999995 0.5571359375'\n",
            "Warning: Skipping malformed line in /content/Paddy-Field-Insects-All-Classes-2/train/labels/WHORL-MAGGOTS_original_whorl-25-jpg_793bbf4d-489c-4eb7-9e81-ae48644df867_jpg.rf.dd6753e92767b945e0ca58503f4d492e.txt: '10 0.3461984375 0.5842859375 0.33171093749999997 0.5069671875 0.3079046875 0.47346093749999996 0.2918703125 0.48634843749999995 0.28100468749999996 0.5378953125 0.2628953125 0.630678125 0.2502203125 0.75954375 0.25746250000000004 0.852328125 0.2954921875 0.9219156249999999 0.32264375 0.9734375 0.32318281249999997 0.9734375 0.3787953125 0.970884375 0.3950921875 0.88325625 0.3643078125 0.8342859375 0.34438749999999996 0.75954375 0.34438749999999996 0.6744921875000001 0.3461984375 0.5842859375'\n",
            "Warning: Skipping malformed line in /content/Paddy-Field-Insects-All-Classes-2/train/labels/Image_26_jpg.rf.14ca6bbcbd3c17359517b4248b676114.txt: '4 1 0.419346875 0.978515625 0.419346875 0.943359375 0.4892390625 0.880859375 0.524184375 0.890625 0.6255265624999999 0.880859375 0.6499890625 0.845703125 0.643 0.822265625 0.740846875 0.763671875 0.7198796875 0.68359375 0.7862765625 0.69140625 0.86315625 0.67578125 0.9050921875 0.724609375 0.9784765625 0.763671875 0.9854671875 0.7641 1 1 1 1 0.419346875'\n",
            "Warning: Skipping malformed line in /content/Paddy-Field-Insects-All-Classes-2/train/labels/WHORL-MAGGOTS_original_whorl-24-jpg_078889f3-1d3e-4be9-8f08-939b036d7a6b_jpg.rf.ebcf96dffcbb0582000c6ea7f21fcdcb.txt: '10 0.2990140625 0.96875 0.2996546875 0.96875 0.3482109375 0.9098828125 0.3952953125 0.7861703125 0.4061609375 0.6366859375 0.3808078125 0.502665625 0.362725 0.4640625 0.36264375000000004 0.4640625 0.3301015625 0.4975109375 0.3192359375 0.6160687499999999 0.3065609375 0.7346250000000001 0.2703421875 0.8557593750000001 0.2594765625 0.9150375000000001 0.2990140625 0.96875'\n",
            "Warning: Skipping malformed line in /content/Paddy-Field-Insects-All-Classes-2/train/labels/WHORL-MAGGOTS_original_whorl-24-jpg_078889f3-1d3e-4be9-8f08-939b036d7a6b_jpg.rf.ebcf96dffcbb0582000c6ea7f21fcdcb.txt: '10 0 0.55390625 0.0329359375 0.5578125 0.045828125 0.5578125 0.1235265625 0.5356953125 0.1995859375 0.502190625 0.2321828125 0.4583765625 0.2328125 0.4458203125 0.2328125 0.42217031250000003 0.1597453125 0.4145625 0.065578125 0.4171390625 0.0023359375000000003 0.4171390625 0 0.50195 0 0.55390625'\n",
            "Warning: Skipping malformed line in /content/Paddy-Field-Insects-All-Classes-2/train/labels/WHORL-MAGGOTS_original_whorl-24-jpg_078889f3-1d3e-4be9-8f08-939b036d7a6b_jpg.rf.ebcf96dffcbb0582000c6ea7f21fcdcb.txt: '10 0.068846875 0.05157031250000001 0.061603125 0.0928078125 0.119553125 0.1005390625 0.1358515625 0.149509375 0.17931406249999998 0.26806562500000003 0.20104375000000002 0.34022968750000004 0.24568125 0.3453125 0.2463609375 0.3453125 0.2765625 0.29474374999999997 0.2765625 0.22047656249999997 0.24450625 0.149509375 0.1956109375 0.046415625 0.1613 0.0000234375 0.11593125 0.0000234375 0.07766406249999999 0.0022937499999999998 0.068846875 0.05157031250000001'\n",
            "Warning: Skipping malformed line in /content/Paddy-Field-Insects-All-Classes-2/train/labels/PB-44_jpg.rf.168cc2533d70a63d782e8f630060ccf0.txt: '5 1 0.4248462328125 0.75629663125 0.4956717828125 0.7631955968749999 0.2957863265625 0.7383592828125 0.27217781093750004 0.6569514859375001 0.3776292015625 0.607278859375 0.302081896875 0.5327701312500001 0.28791682343749997 0.5244912890625 0.21236957812499999 0.487236928125 0.27532562656250004 0.4072089 0.25014316875 0.36719499375 0.21236957812499999 0.2402539890625 0.07544016875000001 0.2195571 0.089605271875 0.000344796875 0.370472440625 0.001549896875 0.37133357031249997 0 0.43271574062499996 0.227835834375 0.11793553906250001 0.3451182234375 0.215517334375 0.27198926874999996 0.1840393390625 0.2609508828125 0.27375168906249997 0.27888823125 0.2816211921875 0.285787196875 0.20135222812500003 0.30234466875 0.21236957812499999 0.3616758 0.2564387984375 0.4003099375 0.2926385125 0.40996855156249995 0.3367077328125 0.44722291406250003 0.35402068125 0.47481876874999995 0.4122549765625 0.378233271875 0.3980899015625 0.23197525468750002 0.380776953125 0.233355028125 0.5869580390625 0.1574664203125 0.673522603125 0.165745159375 0.71129625625 0.26371053125 0.6058448656250001 0.2554316890625 0.41697672812500003 0.4996550828125 0.4374374296875 0.5217317484375 0.4594720125 0.2761285828125 0.4878022796875 0.33407994531249996 0.6121404328125 0.3589161515625 0.6011231140625 0.30924363125 0.5035412906250001 0.5451881828125 0.483080528125 0.576923459375 0.5208542984375 0.2554316890625 0.6514879640625 0.218177328125 0.6908354921875001 0.4334249859375 0.8797036296874999 0.3809929203125 0.9788594484375001 0.40306958593750003 0.9914505859375 0.46929957968749997 0.8734080000000001 0.27198926874999996 0.693983425 0.6031395453124999 0.54131488125 0.6804079203125 0.62945338125 0.8542617968749999 0.8419299765625 0.89013649375 0.8261909640624999 0.9342898203125 0.8010085703125001 0.9177323484375 0.742774275 0.7769935234374999 0.5507583265625 0.760435840625 0.5224280546875 1 0.467341515625 1 0.4248462328125'\n",
            "Warning: Skipping malformed line in /content/Paddy-Field-Insects-All-Classes-2/train/labels/PB-17_jpeg_jpg.rf.aafac97fbce7b7c942f9e7ea7e799f04.txt: '5 0.459929196875 0.25764823593749997 0.30532970000000004 0.39853664375000003 0.2632694859375 0.347304478125 0.245081325 0.382526596875 0.30646644375 0.42895575937499997 0.4406042046875 0.320087446875 0.4326469125 0.46737983749999995 0.4190058125 0.46577885625000004 0.2962355765625 0.4513697890625 0.24394458125 0.4513697890625 0.20302119843750002 0.4801879234375 0.2098417484375 0.52021304375 0.2382607765625 0.5554350984374999 0.42355278749999997 0.5650411656250001 0.35762069531249996 0.6611014515625 0.336022215625 0.5826521921875 0.28145764687499997 0.605066284375 0.28259447656250003 0.6338844796875 0.309876675 0.6258794562500001 0.343979509375 0.7379497296875 0.459929196875 0.5794501703125 0.513356934375 0.5826521921875 0.604297825 0.5842532328125001 0.632716853125 0.6210763296875 0.6804607859375 0.68831854375 0.7043328390625 0.7779748484375 0.7031960078124999 0.86442900625 0.6884182531249999 0.9893074265624999 0.7145636203125 0.992509390625 0.7361621859375 0.8916461609375 0.739572503125 0.8003888171875 0.7270680609375 0.7299447046875 0.697512203125 0.6546974078125001 0.632716853125 0.5650411656250001 0.634990428125 0.5602381624999999 0.6224859859375 0.5282180656250001 0.6702300046875 0.46097585468749996 0.677050640625 0.395334621875 0.6531785875 0.28166330781250004 0.6224859859375 0.185603021875 0.6065714 0.1039518328125 0.580091515625 0.1061519984375 0.604297825 0.2208251390625 0.6190757546875 0.2976733546875 0.633853596875 0.39853664375000003 0.6202124984374999 0.46257683437499997 0.5611009546875 0.49299594999999996 0.539502475 0.476985903125 0.572468565625 0.40173866562500005 0.5565538921875001 0.3841276359375 0.4678864890625 0.44496580625000004 0.459929196875 0.25764823593749997'\n",
            "Warning: Skipping malformed line in /content/Paddy-Field-Insects-All-Classes-2/train/labels/BA-2-_jpg.rf.35773bab88393c8bc595e7b5ac2e9db1.txt: '8 0.7697382078125 0.43755521093749994 0.670341903125 0.33810164062500003 0.5508530734375 0.299238409375 0.2987620484375 0.276656684375 0.13959173281249998 0.300789021875 0.13858652656249998 0.32997409375000003 0.0855017640625 0.40838141875 0.0872718140625 0.4601691359375 0.113706403125 0.5135171093750001 0.2000446890625 0.5564507140625 0.45520281249999994 0.55418288125 0.4199102484375 0.59063703125 0.3613283859375 0.599359540625 0.37711017812500003 0.615776503125 0.46902760624999995 0.6044904625 0.606627190625 0.54170854375 0.607313846875 0.57221544375 0.6369738453125 0.6144604640625 0.6867759296875 0.7460059671875 0.6995707437500001 0.7505532015624999 0.6787152984375 0.6429855859375 0.709540746875 0.5826069640625 0.7101759171875 0.5504082046875001 0.8591455171875 0.36845408125 0.7697382078125 0.43755521093749994'\n",
            "Warning: Skipping malformed line in /content/Paddy-Field-Insects-All-Classes-2/train/labels/WHORL-MAGGOTS_original_whorl-10-jpg_2708a4b3-73e9-46e8-89b6-b1a15dd9d713_jpg.rf.ca6204ac52d2a7c540d9847365ce6c7a.txt: '10 0.2587453125 0.575590625 0.2676296875 0.6005515625 0.278484375 0.60625 0.2835671875 0.60625 0.29373125 0.5865109375 0.2987296875 0.5646687499999999 0.3078125 0.5377375 0.3078125 0.5110718750000001 0.3074765625 0.5022671875 0.288734375 0.48510625 0.2749890625 0.5022671875 0.26249375 0.5225484375 0.25999374999999997 0.5537484375 0.2587453125 0.575590625'\n",
            "Warning: Skipping malformed line in /content/Paddy-Field-Insects-All-Classes-2/train/labels/WHORL-MAGGOTS_original_whorl-145-jpg_b6afb5a5-b20b-4e9c-bfb6-06f381d340fd_jpg.rf.3bd419c24cc485e6f8152f4cb8892af3.txt: '10 0.4142 0.49074999999999996 0.3578125 0.5918171875 0.3578125 0.5977359375 0.36345 0.652440625 0.390571875 0.7109375 0.393365625 0.7109375 0.44188124999999995 0.6847796875000001 0.5110859375000001 0.5778140625 0.5910562500000001 0.5206000000000001 0.6817921874999999 0.5081625 0.7633 0.4982125 0.826353125 0.5305500000000001 0.8640625 0.4839234375 0.8640625 0.4818875 0.8371187499999999 0.40865937499999994 0.7863687500000001 0.3390078125 0.7110109375 0.26189375 0.5941328125 0.27930625 0.504934375 0.366371875 0.4142 0.49074999999999996'\n",
            "Warning: Skipping malformed line in /content/Paddy-Field-Insects-All-Classes-2/train/labels/BA-43-_jpg.rf.720e5f51220d65f68be21b4dfed34b0b.txt: '8 0.46525116874999994 0.494089578125 0.4391799328125 0.5156735828125 0.43899906250000004 0.545609421875 0.3815344953125 0.55040975 0.3794613265625 0.5796568484375 0.4276975015625 0.6561452328125 0.568569209375 0.7695646609375 0.71736489375 0.8494375812499999 0.7522888812499999 0.8535769656250001 0.778787975 0.8396491062500001 0.7871467562500001 0.7901885281250001 0.729963921875 0.7147297765625 0.5868590234375 0.5897826515625 0.470406290625 0.5152526749999999 0.46525116874999994 0.494089578125'\n",
            "Warning: Skipping malformed line in /content/Paddy-Field-Insects-All-Classes-2/train/labels/BA-43-_jpg.rf.720e5f51220d65f68be21b4dfed34b0b.txt: '8 0.7433489859375 0.248146709375 0.512962009375 0.310015109375 0.47879982187500003 0.3479410375 0.4449054671875 0.35274831406249996 0.4079013625 0.40142624062500004 0.46079173593749995 0.44746397031249996 0.6185549328125 0.4555966171875 0.7921591359375 0.420206459375 0.8560832421875 0.38882702812500003 0.8881792093750001 0.3565779859375 0.8958423046874999 0.3325799203125 0.8553353390625 0.299621290625 0.8556901343750001 0.2633198234375 0.8102750328124999 0.246790078125 0.7433489859375 0.248146709375'\n",
            "Warning: Skipping malformed line in /content/Paddy-Field-Insects-All-Classes-2/train/labels/BA-43-_jpg.rf.720e5f51220d65f68be21b4dfed34b0b.txt: '8 0.225987025 0.3212854859375 0.1757646453125 0.27086139062500003 0.20884855156249998 0.3889802828125 0.1309896390625 0.417430834375 0.061569515625 0.41680820937499996 0.1172217984375 0.43170654218750004 0.18836724062500002 0.41581332031249996 0.14204778125 0.548962775 0.14614546718750002 0.655460059375 0.1880229625 0.7082043125 0.25167923281250004 0.7099435328125 0.2824707859375 0.7254366953125 0.32257074375 0.6800285421875001 0.36520647031250003 0.4951783734375 0.354221390625 0.40760404531249994 0.3186225640625 0.3582165328125 0.3509724640625 0.3399892625 0.225987025 0.3212854859375'\n",
            "Warning: Skipping malformed line in /content/Paddy-Field-Insects-All-Classes-2/train/labels/WHORL-MAGGOTS_original_whorl-128-jpg_73f213c5-ea12-40f7-9460-20940788ab61_jpg.rf.b35ddf8d71f4215142fea8e7e1b89b7b.txt: '10 0.12061718749999999 0.389028125 0.1367140625 0.4551859375 0.13794375 0.46027500000000005 0.20192031250000003 0.4755421875 0.5511234375 0.3432265625 0.7334015625 0.6734375 0.7351156249999999 0.6734375 0.7643765625000001 0.66129375 0.7890625 0.554634375 0.7890625 0.5432328125 0.7763718749999999 0.3712171875 0.6590828125 0.0964078125 0.471153125 0.060784375 0.224578125 0.18292187499999998 0.14860625 0.3025140625 0.12061718749999999 0.389028125'\n",
            "Warning: Skipping malformed line in /content/Paddy-Field-Insects-All-Classes-2/train/labels/PB-21_jpeg_jpg.rf.04c26e68a47eac76c3a519d135ebf635.txt: '5 0.12714236406249999 0.2029701921875 0.0030347328125 0.1997721046875 0.0030347328125 0.22855556875 0.1506799734375 0.23974916406250002 0.3004649734375 0.2669335359375 0.39889507968750004 0.35008589218749997 0.46094889375000003 0.43323825156250007 0.45880914375000004 0.48760711562500003 0.313303653125 0.43323825156250007 0.1977553578125 0.540376859375 0.10788426250000001 0.553169640625 0.1014650046875 0.5851513125000001 0.2170133 0.5851513125000001 0.3282822515625 0.482809815625 0.46950806875 0.5131925515625 0.47592749218749997 0.5675612953125 0.23627140156249998 0.6954879796875 0.2897660421875 0.8761844078125 0.2384111546875 0.9417468124999999 0.261948925 0.97532754375 0.343260684375 0.8889771281250001 0.27692736406249996 0.7162760515625 0.50160485625 0.59794384375 0.5058843640624999 0.6443172921875 0.5294221343750001 0.7674466796875 0.54226081875 0.87778346875 0.6449704281249999 0.924156915625 0.674927459375 0.879382528125 0.6834866359375 0.8298109640625 0.6299919953125 0.6699026046875 0.6192930640625 0.5915475484375 0.8311318765625 0.6491146515625 0.754099625 0.84740085625 0.8311318765625 0.9113642000000001 0.854669653125 0.9001706640625 0.7947554218749999 0.8505990953125 0.9210028124999999 0.6443172921875 0.6257124859375 0.553169640625 0.61073389375 0.4652199203125 0.6792071281250001 0.4204455953125 0.7198629249999999 0.50519713125 0.8311318765625 0.5131925515625 0.835411384375 0.48121075625 0.7562393796875 0.4636208640625 0.6920458125 0.37087396875 0.576497353125 0.447630028125 0.555099496875 0.406053815625 0.606454384375 0.3165051640625 0.5850565296875 0.24774457968750002 0.6428306734375 0.159795015625 0.715583421875 0.0734444484375 0.7947554218749999 0.0014856875 0.7241425984375 0.006282928124999999 0.6449704281249999 0.08943528437500001 0.5615189203125001 0.1949748046875 0.5032085078125 0.2964 0.490905925 0.2973161484375 0.46736831562500003 0.3245005796875 0.41815318125 0.29411796875 0.321862828125 0.24454640468750002 0.261948925 0.2029701921875 0.2255724765625 0.2205601484375 0.12714236406249999 0.2029701921875'\n",
            "Warning: Skipping malformed line in /content/Paddy-Field-Insects-All-Classes-2/train/labels/PB-2_jpg.rf.feea0f209338f11a83fb9dd1f8100e8b.txt: '5 0.3241051515625 0.39192240625 0.3385546828125 0.48644185625 0.38412615781250004 0.5313773671875001 0.399687171875 0.5561693375 0.399687171875 0.5670159640625 0.345223665625 0.585609853125 0.1773872171875 0.6692827953125 0.094024734375 0.7250648156249999 0.06512575625 0.7870447984375 0.030669196875 0.84902478125 0.0195541984375 0.9110047640625 0.037338262500000004 0.9388958046875 0.055122242187500003 0.8660692531249999 0.12403519375000001 0.7576042828125 0.235185171875 0.673931340625 0.33188570156249997 0.6475898359375 0.4030216203125 0.6135009515625 0.42191716718750005 0.6073028125000001 0.3985756875 0.6475898359375 0.41747115 0.673931340625 0.44081262812500005 0.67238180625 0.459708175 0.633644315625 0.4686001234375 0.6073028125000001 0.4963876171875 0.615050309375 0.42747466562499997 0.735911265625 0.4708231734375 0.788594275 0.514171596875 0.8118367671875 0.5041681671875 0.8924108171875 0.539736125 0.9001583140625 0.547516590625 0.8273317625000001 0.5953111140625 0.8366287375000001 0.6075375937499999 0.9218512140625 0.6464400859375 0.9218512140625 0.63421360625 0.8226833359375 0.5408476078125 0.7529558546875 0.5841961171875 0.6305453046875 0.611983609375 0.6227978078125 0.69201164375 0.85987123125 0.8565136437499999 0.697173834375 0.9387645593749999 0.7266142921875 0.946545025 0.6863273249999999 0.8531791109375 0.6367434453125 0.712018675 0.7746487546874999 0.644217121875 0.6227978078125 0.8898586375 0.587159328125 0.88096660625 0.4988379 0.7342486703125 0.47559534687499994 0.6664471171875 0.5034863875 0.7320255343750001 0.3593828796875 0.9243150281249999 0.474045871875 0.9943395484374999 0.4198133859375 0.976555484375 0.3764274109375 0.9198690984375 0.429110359375 0.7097955390624999 0.2850069109375 0.6653356328125 0.4012193796875 0.636436571875 0.37952642187499996 0.629767590625 0.44460535625000003 0.5175061296875 0.3934718828125 0.5008336328125 0.40276891406250004 0.5263981625 0.49418935468749997 0.46971160625 0.522080334375 0.46694441875 0.5120155046875 0.38079162499999997 0.42756088437499995 0.35633866406250003 0.2834574359375 0.34744663125 0.1254084671875 0.3530041296875 0.09441847656249999 0.32966265156249996 0.07892347968749999 0.311878671875 0.1610469453125 0.3141016375 0.24626942187499998 0.3241051515625 0.39192240625'\n",
            "Warning: Skipping malformed line in /content/Paddy-Field-Insects-All-Classes-2/train/labels/Image_26_jpg.rf.5818cc935f42aee8fc2ebee8c78cf148.txt: '4 0.2359 1 0.236328125 0.9854671875 0.275390625 0.9784765625 0.32421875 0.9050921875 0.30859375 0.86315625 0.31640625 0.7862765625 0.236328125 0.7198796875 0.177734375 0.740846875 0.154296875 0.643 0.119140625 0.6499890625 0.109375 0.6255265624999999 0.119140625 0.524184375 0.056640625 0.4892390625 0.021484375 0.419346875 0 0.419346875 0 1 0.2359 1'\n"
          ]
        },
        {
          "output_type": "stream",
          "name": "stderr",
          "text": [
            " 78%|███████▊  | 4193/5345 [00:01<00:00, 3052.99it/s]"
          ]
        },
        {
          "output_type": "stream",
          "name": "stdout",
          "text": [
            "Warning: Skipping malformed line in /content/Paddy-Field-Insects-All-Classes-2/train/labels/Image_25_jpg.rf.2cc5f99bf1e67c1d8127189db3d93c76.txt: '4 0.20844374999999998 1 0.1651953125 0.814228125 0.10444687500000001 0.7525000000000001 0.0299796875 0.776015625 0 0.681078125 0 1 0.20844374999999998 1'\n",
            "Warning: Skipping malformed line in /content/Paddy-Field-Insects-All-Classes-2/train/labels/BA-59-_JPG_jpg.rf.0dc9a4ef624e3ea6a32311a0352d9b82.txt: '8 0.71875 0.7646484375 0.6796874984375 0.7138671875 0.6738281234375 0.6630859359375 0.8007812515625 0.6611328125 0.6787109359375 0.6425781234375 0.650390625 0.5673828125 0.630859375 0.4501953109375 0.5605468765625 0.3291015625 0.4462890640625 0.2363281234375 0.3740234375 0.197265625 0.3349609359375 0.1953125015625 0.322265625 0.2080078125 0.3212890640625 0.2460937484375 0.2548828125 0.2480468765625 0.1796874984375 0.2998046890625 0.150390625 0.3544921875 0.1523437484375 0.4150390640625 0.1923828125 0.4765625015625 0.4033203109375 0.5507812515625 0.4648437484375 0.6025390640625 0.4677734375 0.6113281234375 0.4169921875 0.630859375 0.3115234375 0.65625 0.3085937484375 0.6689453109375 0.4853515625 0.6386718765625 0.53125 0.7607421875 0.5292968765625 0.8369140640625 0.5390625015625 0.8408203109375 0.546875 0.7646484375 0.5712890640625 0.7109374984375 0.5908203109375 0.734375 0.6015625015625 0.6982421875 0.6474609359375 0.6699218765625 0.65625 0.7080078125 0.7138671875 0.7890625015625 0.71875 0.7646484375'\n",
            "Warning: Skipping malformed line in /content/Paddy-Field-Insects-All-Classes-2/train/labels/WHORL-MAGGOTS_original_whorl-53-jpg_04b319ad-3f00-47fd-9866-d7d4e96f950f_jpg.rf.debd30ddca516e84b43f7c7ba81dd083.txt: '10 0.7682828125000001 0.51541875 0.6501453125000001 0.5031640625 0.56684375 0.45904531249999997 0.47899843750000004 0.36100625000000003 0.435075 0.272771875 0.383578125 0.28747656250000003 0.34571406250000003 0.385515625 0.37600625 0.48110468749999996 0.46385156250000004 0.6208109375 0.5335234375 0.711496875 0.6243984375 0.758065625 0.6886359375 0.7640625 0.7055234375 0.7640625 0.8016046875 0.7090453125 0.8743046874999999 0.6624765625 0.9074109375000001 0.6306140625000001 0.88490625 0.525221875 0.86673125 0.4835546875 0.7682828125000001 0.51541875'\n",
            "Warning: Skipping malformed line in /content/Paddy-Field-Insects-All-Classes-2/train/labels/PB-48_jpg.rf.664545a25aac133930bb75bb537a9440.txt: '5 1 0.45606149531250006 0.880954309375 0.3976085171875 0.6993596359375001 0.416566246875 0.7072550546875 0.40550756562499995 0.697780575 0.39128925312499996 0.6740943140625 0.3897094671875 0.6946224546875001 0.3454748015625 0.7325203765625 0.3707517375 0.7830511421875 0.30597955625 0.7719976015625 0.287021825 0.727783196875 0.337575753125 0.6993596359375001 0.324937225 0.7909465625000001 0.1527379546875 0.8383190859375 0.0042358312500000005 0.8133385593750001 0.002371075 0.814632825 0.0026560453125 0.7656811203125 0.1322005 0.7340995578125 0.2001322515625 0.697780575 0.2949208734375 0.6772524343749999 0.3138786046875 0.6567244109375 0.340735325 0.620405428125 0.39128925312499996 0.5982982265625 0.40550756562499995 0.579349265625 0.43710376406250007 0.5130277796875 0.4513220171875 0.46881337656250005 0.470279746875 0.4388107546875 0.3470545890625 0.41512449218749997 0.3470545890625 0.34880300625 0.5066154234375 0.37248926875 0.516094259375 0.41670355312499996 0.3928691 0.42617815312499996 0.4529018625 0.44354805468749997 0.4844980609375 0.43249439375 0.500296159375 0.3803846890625 0.5413711921875 0.1403638296875 0.3644324734375 0.11194038749999999 0.3723315234375 0.156154671875 0.685133928125 0.1166775671875 0.6930329765625001 0.0393025421875 0.685133928125 0.0393025421875 0.7183099703125 0.11194038749999999 0.71357049375 0.1719455125 0.694612884375 0.137205709375 0.41340661562500003 0.187736353125 0.42604508281250003 0.35511936718750003 0.5603290421875 0.3630147890625 0.5666481875 0.170366453125 0.6993521796875 0.026669821875 0.8336360203125001 0.06456786406250001 0.8905091515624999 0.1403638296875 0.8604928609375 0.329853925 0.7025119328125 0.43565263437499996 0.6503780984375 0.5035531796875 0.91578620625 0.25879513906249996 0.9489621906249999 0.254057959375 0.9947767015625001 0.2761651609375 0.9947767015625001 0.2698488015625 0.963180503125 0.5382931015625 0.92210535 0.45618065625000004 0.6298405828125 0.5114486 0.5982443843749999 0.6551453515625 0.704091596875 0.5067114203124999 0.76570426875 0.5114486 0.797300465625 0.5240813203125 0.797300465625 0.5209232015625 0.7767628890625 0.693043275 0.7025119328125 0.5382931015625 0.5871857031250001 0.560400303125 0.557169290625 0.5967191671875 0.5239933078125001 0.802000103125 0.48133842812500005 0.79252574375 0.45606149531250006 0.6377753296875001 0.4844980609375 0.67093619375 0.47343937968749994 0.6788316125 0.4465825984375 0.8477936875 0.4307845 1 0.470279746875 1 0.45606149531250006'\n",
            "Warning: Skipping malformed line in /content/Paddy-Field-Insects-All-Classes-2/train/labels/WHORL-MAGGOTS_original_whorl-10-jpg_68cdf9a6-8432-46aa-9fe1-7c49b6761f72_jpg.rf.da02114e22e3d1e7979bad0bbc9c3741.txt: '10 0.2590734375 0.58608125 0.2732296875 0.609375 0.27456718750000003 0.609375 0.28395000000000004 0.6002640625 0.2930375 0.58608125 0.3009890625 0.5633890625 0.31007656250000004 0.5321875 0.3125 0.512015625 0.3125 0.5025953125 0.30212500000000003 0.489640625 0.28395000000000004 0.492478125 0.2714546875 0.5151687500000001 0.2600953125 0.53360625 0.2566875 0.5633890625 0.2590734375 0.58608125'\n",
            "Warning: Skipping malformed line in /content/Paddy-Field-Insects-All-Classes-2/train/labels/WHORL-MAGGOTS_original_whorl-149-jpg_d36eebf2-9c47-43d5-92d0-7d02c23022a7_jpg.rf.6dde4ac0be0dc32cbf69b7519a1d0ae4.txt: '10 0.5455687499999999 0.2245265625 0.42337499999999995 0.255178125 0.3194171875 0.35479375 0.2795390625 0.45441093749999995 0.284765625 0.4901703125 0.35224687499999996 0.52593125 0.476265625 0.5591359375 0.580221875 0.5591359375 0.6495265625 0.6102218749999999 0.7848531249999999 0.70625 0.7880359375 0.70625 0.8118453125 0.6919593749999999 0.8421875 0.6394640625 0.8421875 0.6370359375 0.819140625 0.5923421875 0.7680734375 0.5565828125000001 0.7206546875 0.4901703125 0.7024171875 0.4109890625 0.6294640625000001 0.3011546875 0.5455687499999999 0.2245265625'\n",
            "Warning: Skipping malformed line in /content/Paddy-Field-Insects-All-Classes-2/train/labels/WHORL-MAGGOTS_original_whorl-148-jpg_4487306e-d918-46bc-9d75-94c4d115c779_jpg.rf.5bf6fb6346e7025159213acd0e4369f4.txt: '10 0.43406874999999995 0.4754953125 0.344703125 0.506146875 0.288165625 0.539353125 0.286340625 0.582775 0.3665890625 0.6951640625 0.457896875 0.7453125 0.4749890625 0.7453125 0.5854453125 0.7385859375 0.6729875 0.692609375 0.75870625 0.6032093749999999 0.81706875 0.49082187499999996 0.8546875 0.4130453125 0.8546875 0.40954218750000004 0.8371296875 0.3554453125 0.7988296874999999 0.30691406250000003 0.7495875 0.373325 0.6182734375 0.4729421875 0.5289078125 0.4729421875 0.43406874999999995 0.4754953125'\n",
            "Warning: Skipping malformed line in /content/Paddy-Field-Insects-All-Classes-2/train/labels/PB-9_jpeg_jpg.rf.ec965249a41bba770c64cf4949e7db67.txt: '5 0.31691868749999996 0.2967938765625 0.268378603125 0.26516643281249996 0.2472741765625 0.29204977187500003 0.335912703125 0.3458164515625 0.39078417656250003 0.3268399734375 0.44143483281250007 0.3774438953125 0.43721401249999997 0.41223403437500006 0.306366475 0.401164478125 0.2367219640625 0.5023722625 0.16285647187500002 0.5039536703125 0.152304259375 0.5355811140625 0.264157621875 0.5371625843750001 0.31902925781249997 0.42804775624999997 0.43721401249999997 0.44702423593749996 0.44143483281250007 0.48813995 0.2261697515625 0.61623119375 0.29370385 0.785437909375 0.2346115546875 0.8486927968750001 0.2831516375 0.8692506828125 0.350685896875 0.8028329796874999 0.2894830296875 0.6193938296875 0.439324421875 0.5371625843750001 0.4308826203125 0.6067428640625 0.42877220937500005 0.6826487171875 0.449876634375 0.760135978125 0.481533275 0.8059957953125 0.544846553125 0.7965074671875 0.5596195859375 0.73799674375 0.57439278125 0.6699977515625 0.57439278125 0.5893477328125 0.555398765625 0.5213488609375 0.7052401578125 0.5925106109375 0.6250434359375 0.7269271859375 0.6778044999999999 0.785437909375 0.72845499375 0.764880021875 0.703129746875 0.7126948109375 0.78332663125 0.5846037484375 0.6820253203125 0.524511496875 0.6989089265625 0.5213488609375 0.6883567125 0.497628278125 0.6398164703125 0.489721296875 0.6313746671875 0.421722303125 0.5638405671875 0.3964203140625 0.5406257328125 0.333165425 0.5617301578125 0.2967938765625 0.6166016328125 0.23828309375 0.690467125 0.1892605796875 0.82764589375 0.12126155624999999 0.9310574515625 0.08963414374999999 0.9964813015624999 0.061169485937500004 0.9943707296875001 0.02163518125 0.9774874468749999 0.024797878125 0.884627778125 0.056425321875000004 0.7706638453125 0.10228510937499999 0.6967983546875 0.1418194140625 0.60815983125 0.1860978234375 0.5131899140625 0.27623605 0.4920854875 0.271491946875 0.477312453125 0.2493527109375 0.42455138750000004 0.1702841015625 0.373900734375 0.10386648750000001 0.3021456546875 0.059588046875 0.2346115546875 0.0074027765625 0.158755225 0.0043512671875 0.1607460640625 0.0105655328125 0.2747098359375 0.09912235312499999 0.363348521875 0.1781909625 0.4583184390625 0.285724259375 0.449876634375 0.348979146875 0.38656335625 0.28098015468750004 0.31691868749999996 0.2967938765625'\n",
            "Warning: Skipping malformed line in /content/Paddy-Field-Insects-All-Classes-2/train/labels/PB-66_jpeg_jpg.rf.ea4e64c07dec5fdad6bc720b22416449.txt: '5 1 0.1918336765625 0.8897860874999999 0.3334594515625 0.7991162671875001 0.4107098546875 0.7000954109374999 0.45738200312500005 0.6786209609375 0.45094444375 0.6654977265625 0.4670382796875 0.63567215 0.449335084375 0.7227628671875 0.364037765625 0.6953233 0.2900060828125 0.723955871875 0.2513809421875 0.7144116515625 0.23850582656250002 0.6702698359375 0.291615503125 0.7036745171875001 0.359209565625 0.611811690625 0.4557725828125 0.5807931109375 0.43806938906250004 0.5605117546875 0.43806938906250004 0.592723340625 0.2771310265625 0.4758070484375 0.2047087640625 0.4877372796875 0.1274583625 0.488930375 0.1274583625 0.46149080781249996 0.12102080156249999 0.4591048 0.21758381875000002 0.567669875 0.2819591640625 0.542616409375 0.44128816718749997 0.49966750937500004 0.45738200312500005 0.41257688437500006 0.2932248625 0.351732728125 0.20953690156250002 0.17993739687500002 0.283568584375 0.097618790625 0.21114635312500002 0.086881565625 0.2256307359375 0.165621065625 0.30609991718749996 0.349346628125 0.23689643437500002 0.4770001453125 0.46060078281249994 0.40183965781250003 0.449335084375 0.26702802187499997 0.444506946875 0.20618386718749998 0.46221014218749995 0.1612999125 0.48953301250000003 0.1620420515625 0.4960071734375 0.1751652859375 0.5458981015625 0.27060712656249997 0.5732576359375 0.3755931890625 0.563601296875 0.46864892812500003 0.5668202 0.38752341874999996 0.7615554703125 0.23243042812499998 0.6698206546875001 0.17993739687500002 0.7374147171875001 0.1870955171875 0.758336753125 0.23243042812499998 0.7020083265625 0.39826055312499997 0.7824774437500001 0.4549242234375 0.6382123703125 0.467455925 0.6987895453124999 0.47819314999999996 0.6891332078125 0.4710350296875 0.652117396875 0.5593186593749999 0.6328047796875 0.567669875 0.58130455625 0.58795123125 0.5941796109374999 0.6654977265625 0.5330230453125 0.6929372921875 0.5426793234375 0.7132186453125 0.5410699640625001 0.7979233531250001 0.6328047796875 0.8850140703125 0.8130557578125 0.9685256796875 1 0.993579053125 0.9981348750000001 0.9398930171875 0.8388058718750001 0.8921720984375 0.734195996875 0.8325209484375 0.6408516984375 0.7740628015625 0.5684294375000001 0.720376765625 0.5137104296875 0.745430321875 0.4927884546875 0.731113990625 0.4750851984375 0.8551884937500001 0.4042723546875 0.926769875 0.3334594515625 1 0.22884951718750002 1 0.1918336765625'\n",
            "Warning: Skipping malformed line in /content/Paddy-Field-Insects-All-Classes-2/train/labels/whorl-88-_jpg.rf.5782a157372eb632057ef8f697402502.txt: '10 0.0811984375 0.617378125 0.1356078125 0.6453249999999999 0.2650640625 0.673271875 0.396396875 0.683434375 0.5089671874999999 0.7240859375 0.6703187500000001 0.7621953125 0.786640625 0.7799796875 0.8785734375 0.8155484375000001 0.9348593749999999 0.8231703125 0.9423640625 0.8104671874999999 0.9273546874999999 0.7367890625 0.8635640625000001 0.698678125 0.76975625 0.685975 0.5277296875 0.6046750000000001 0.39076875 0.576728125 0.32322656250000004 0.551321875 0.2538078125 0.5309953125 0.122475 0.5055890625 0.08870312500000001 0.5284546875 0.0811984375 0.617378125'\n",
            "Warning: Skipping malformed line in /content/Paddy-Field-Insects-All-Classes-2/train/labels/PB-24_jpg.rf.88327ba3ce1066c1fbfef57dc267172f.txt: '5 0.7226242890625 1 0.7067036015625 0.9081347046875001 0.667432609375 0.7380871078125 0.6366525984375 0.6443224937500001 0.58570636875 0.5124163875 0.5888905390625 0.4869886671875 0.609056678125 0.504470234375 0.6217932765625 0.49811341093749995 0.6589415437499999 0.5092379140625 0.6822918515625 0.548968675 0.690782915625 0.609359534375 0.7035194328125 0.6967672046875 0.689721471875 0.795299375 0.70139670625 0.8461546984374999 0.713071940625 0.776228659375 0.7173173937499999 0.684053253125 0.70245815 0.5442009953125 0.6738007859375 0.49016713906250003 0.6684938890625001 0.45202558593750003 0.7735705171875 0.37892101562499997 0.8149642375000001 0.4599717390625 0.8616650140625 0.4154733015625 0.8807697093750001 0.4329548703125 0.883953878125 0.41229482968750003 0.8690946359374999 0.3932241140625 0.8149642375000001 0.4218302453125 0.7863070343749999 0.3709748625 0.99115323125 0.1977487625 0.99115323125 0.170731896875 0.7746318 0.3550825609375 0.7544656625 0.3169410078125 0.6334684296875001 0.39958099687500004 0.6037497828125 0.3948133171875 0.52733051875 0.2978702921875 0.4530339828125 0.2962810265625 0.3851057046875 0.0070411234375000005 0.3744919140625 0.0054518859375 0.1929961046875 0.172321071875 0.1567639015625 0.11767044374999999 0.15478647343750002 0.1198764515625 0.142049878125 0.13417954999999998 0.19405746875000002 0.20887335624999998 0.36706229375 0.0420041734375 0.43180640156249994 0.29945949843749997 0.2948884828125 0.2517825890625 0.1526636671875 0.237479490625 0.1208222953125 0.3010487046875 0.13355889375000002 0.348725615625 0.3734305515625 0.418651771875 0.4211926109375 0.44566870312500007 0.164338903125 0.5664501828125 0.103840246875 0.35985024062500004 0.043341670312500004 0.3519040875 0.043341670312500004 0.3709748625 0.0826126640625 0.3836886953125 0.148418215625 0.596645584375 0.168584353125 0.601413384375 0.43392912812500006 0.464739478125 0.49230497812499996 0.49334561250000003 0.46683194375000003 0.7349085734374999 0.3681236546875 0.757157825 0.3235457671875 0.8731716875 0.339466453125 0.898599346875 0.375553278125 0.7809962796875001 0.477445734375 0.7555686171875 0.5039802124999999 0.4869886671875 0.5570491671875 0.49016713906250003 0.6377139625 0.7126594468749999 0.667432609375 0.8096024734375 0.708826328125 1 0.7226242890625 1'\n",
            "Warning: Skipping malformed line in /content/Paddy-Field-Insects-All-Classes-2/train/labels/Image_26_jpg.rf.dc926047599685df9bbce75c6415d9dd.txt: '4 0.859225 0 0.859375 0.0029390625 0.90234375 0.037884375 0.8984375 0.1077765625 0.87890625 0.1776671875 0.89453125 0.3104609375 0.919921875 0.334921875 0.982421875 0.3139546875 1 0.3894375 1 0 0.859225 0'\n",
            "Warning: Skipping malformed line in /content/Paddy-Field-Insects-All-Classes-2/train/labels/Image_26_jpg.rf.dc926047599685df9bbce75c6415d9dd.txt: '4 0.82421875 0.5131453125000001 0.83984375 0.3943296875 0.798828125 0.26503125 0.779296875 0.25804218749999996 0.736328125 0.1881515625 0.642578125 0.1112703125 0.6328125 0.20562343749999998 0.6484375 0.2545484375 0.64453125 0.3663734375 0.6171875 0.44325468749999997 0.6171875 0.6529281250000001 0.6328125 0.750775 0.625 0.8206671875 0.6875 0.88356875 0.703125 0.88356875 0.71484375 0.8066890624999999 0.7734375 0.6529281250000001 0.76953125 0.6179828125 0.82421875 0.5131453125000001'\n",
            "Warning: Skipping malformed line in /content/Paddy-Field-Insects-All-Classes-2/train/labels/PB-14_jpg.rf.1382a785d06e60f6b687b55f58a3561c.txt: '5 0.28987216875 0.749857265625 0.2616014296875 0.8196199937499999 0.2583393859375 0.9030319765625 0.2866102078125 0.93184705 0.3290162734375 0.9257807 0.35728709531249997 0.9181977921875 0.3757717875 0.784738571875 0.4062172484375 0.678577921875 0.385557834375 0.8802832546875001 0.4464486734375 0.8833163718750001 0.452972678125 0.8651174390625 0.42035257656249997 0.824169784375 0.425789259375 0.7574401734375 0.4225272984375 0.620947778125 0.43340066562499996 0.611848428125 0.5008155109375 0.6861608296874999 0.5106015578124999 0.7574401734375 0.5475710234375 0.8181034359374999 0.562793671875 0.7817054546875 0.5279989296875 0.7286251015625 0.526911609375 0.6725116890625 0.4953788265625 0.6285306859374999 0.45949668125 0.539052409375 0.46058408437500004 0.5405689687499999 0.5551823484375 0.5420855859375 0.566055715625 0.5830332390625 0.61933523125 0.6194313359375 0.6204225515624999 0.5875830296875 0.58454040625 0.555734784375 0.57257971875 0.50265443125 0.46928272968750007 0.48597205624999995 0.5073395140625 0.40104345625000004 0.5573569875 0.45715698437499996 0.5965011765625 0.473839415625 0.5986758156249999 0.42834197031250004 0.567143034375 0.4237921796875 0.508426834375 0.3661620921875 0.5497456640625 0.31004856406250003 0.6367326015625 0.23118637187500002 0.735680228125 0.22208684843749998 0.738942271875 0.182655721875 0.6302085984375 0.199338125 0.523649565625 0.285783284375 0.6160731875 0.1053100875 0.675876709375 0.034030801562500004 0.6584793375 0.012798607812500001 0.594326453125 0.0825613640625 0.45188535781250005 0.376778175 0.457322040625 0.3752616171875 0.36489842031249997 0.5193368625 0.3659857390625 0.5511851671875 0.350763009375 0.602748846875 0.31705558749999996 0.63611359375 0.2594267890625 0.6907105625 0.28987216875 0.749857265625'\n",
            "Warning: Skipping malformed line in /content/Paddy-Field-Insects-All-Classes-2/train/labels/BA-58-_JPG_jpg.rf.fa99c59f4d94a9644eac347d8ad8ec40.txt: '8 0.8115234375 0.583984375 0.8105468765625 0.5654296890625 0.734375 0.5068359359375 0.734375 0.4833984375 0.7646484375 0.4257812515625 0.8779296890625 0.3769531234375 0.8740234375 0.369140625 0.8388671875 0.3710937484375 0.7587890640625 0.4101562515625 0.7265625015625 0.3564453109375 0.6796874984375 0.3173828125 0.662109375 0.2744140640625 0.5986328125 0.2460937484375 0.4384765625 0.244140625 0.2978515625 0.265625 0.150390625 0.2490234375 0.1591796890625 0.265625 0.2070312515625 0.2861328125 0.1611328125 0.3085937484375 0.11718749843750001 0.3505859359375 0.08984374843750001 0.4150390640625 0.08984374843750001 0.5048828125 0.1357421875 0.5742187484375 0.1689453109375 0.5917968765625 0.2021484375 0.5917968765625 0.3642578125 0.5351562515625 0.4824218765625 0.5185546890625 0.4306640640625 0.5644531234375 0.3515625015625 0.5830078125 0.3544921875 0.5976562515625 0.4013671875 0.5976562515625 0.4501953109375 0.5820312515625 0.5146484375 0.53125 0.5351562515625 0.5576171875 0.4238281234375 0.6806640640625 0.4345703109375 0.6953125015625 0.6103515625 0.5136718765625 0.666015625 0.6162109359375 0.7109374984375 0.6748046890625 0.7480468765625 0.7001953109375 0.7519531234375 0.6826171875 0.7226562515625 0.6591796890625 0.6855468765625 0.5888671875 0.6855468765625 0.5439453109375 0.7099609359375 0.5292968765625 0.7548828125 0.5917968765625 0.7587890640625 0.5703125015625 0.8115234375 0.583984375'\n",
            "Warning: Skipping malformed line in /content/Paddy-Field-Insects-All-Classes-2/train/labels/WHORL-MAGGOTS_original_whorl-144-jpg_abc8b04a-a266-428b-aa8c-84385678e873_jpg.rf.dd9aa690834d98435a627722d3bffcfa.txt: '10 0.4572109375 0.3056453125 0.4095359375 0.2932078125 0.377240625 0.367834375 0.38339218750000004 0.46485000000000004 0.4587484375 0.594203125 0.5387187499999999 0.6762921875 0.6586734375 0.6937046875 0.7327890625 0.6984375 0.777471875 0.6984375 0.852446875 0.591715625 0.8447578124999999 0.5170890625 0.7940078125000001 0.4748 0.664825 0.48226250000000004 0.5679375 0.459875 0.4572109375 0.3056453125'\n",
            "Warning: Skipping malformed line in /content/Paddy-Field-Insects-All-Classes-2/train/labels/WHORL-MAGGOTS_original_whorl-148-jpg_84e11602-b763-4ca2-8f09-d36a45913fb2_jpg.rf.1e5ccc4b02002a6dad8305e344ae624a.txt: '10 0.4548671875 0.388328125 0.38920937499999997 0.2963734375 0.36002968750000003 0.291265625 0.2834296875 0.3117 0.2546875 0.37208125000000003 0.2546875 0.37365624999999997 0.3126109375 0.4598484375 0.35638125 0.595225 0.4366296875 0.7025046875000001 0.5314671875 0.753590625 0.6828421875 0.7995671875 0.817803125 0.7663609375 0.896228125 0.6973953125000001 0.9375 0.61651875 0.9375 0.6105765625 0.9308796875 0.533921875 0.8688703125 0.505825 0.7667375 0.5237046875 0.6554859375000001 0.526259375 0.5241718750000001 0.48539062499999996 0.4548671875 0.388328125'\n",
            "Warning: Skipping malformed line in /content/Paddy-Field-Insects-All-Classes-2/train/labels/PB-11_jpg.rf.e1cbe5d8eed67049170c69e548a1b3ba.txt: '5 0.6269465546874999 1 0.5986758156249999 0.9045485359375001 0.65521729375 0.648246290625 0.5345229328125 0.50265443125 0.5312609734375 0.44805751875000005 0.5954137734375 0.381327909375 0.60085045625 0.463223334375 0.6030251796874999 0.52843644375 0.6476059703125 0.5966826125 0.656304696875 0.52691976875 0.625859234375 0.4541238109375 0.6204225515624999 0.33583046250000004 0.597588496875 0.329764171875 0.543221659375 0.37829473281250003 0.5377849765625 0.3570626265625 0.5638810750000001 0.28729984218750004 0.606287140625 0.30853200625 0.6356452828125 0.27213402656249996 0.6280338750000001 0.2418023953125 0.5954137734375 0.2615180015625 0.5682303546874999 0.2251200234375 0.5334356125 0.2979159234375 0.526911609375 0.28729984218750004 0.5453963 0.2054044453125 0.5812784453125001 0.15232409062500002 0.65521729375 0.143224625 0.7084968093749999 0.17203966875 0.7335055875000001 0.199338125 0.7476409984375 0.17203966875 0.686750075 0.115926140625 0.64325660625 0.0992437671875 0.5769290828125 0.115926140625 0.5377849765625 0.1401915078125 0.5203876046875 0.1932718625 0.5095142375 0.255451653125 0.5008155109375 0.25090192031249997 0.50190283125 0.178106046875 0.4790687765625 0.11744278593749999 0.45405999843749995 0.0977271796875 0.41926525468750003 0.079528246875 0.3888197953125 0.1144095828125 0.37685910625 0.1356417171875 0.401867884375 0.1659733484375 0.40108693124999995 0.15971168593750001 0.43557530624999996 0.1265422234375 0.4671080890625 0.159907 0.483418140625 0.228153196875 0.48450545937499995 0.285783284375 0.4486233140625 0.2054044453125 0.43013862343750003 0.20237129843749999 0.417090615625 0.2342194890625 0.44536135468750004 0.2615180015625 0.4671080890625 0.3024656578125 0.4714574515625 0.33583046250000004 0.456234721875 0.36161235937499997 0.457322040625 0.3873942578125 0.3877324734375 0.347963103125 0.3931691578125 0.41772588749999995 0.4127412515625 0.49658813906250004 0.39425647812500003 0.522369978125 0.3877324734375 0.555734784375 0.32575431250000003 0.6133648703125 0.35185041250000004 0.7180090781249999 0.40078056406250007 0.828719459375 0.40404252500000004 0.8484350656249999 0.3681604625 0.90606509375 0.3953438796875 0.93184705 0.4464486734375 0.86966723125 0.3931691578125 0.7392411265625001 0.36272377968749997 0.6330804765625 0.4616714046875 0.5451187015625 0.44753599531250005 0.6436965 0.44318662968750006 0.730141659375 0.46602076875 0.8211365515625 0.47689413593749996 0.85753453125 0.5073395140625 0.85753453125 0.5312609734375 0.7619898484375 0.5377849765625 0.6163980453125 0.5345229328125 0.5769669484375 0.6149858671875 0.6725116890625 0.5780164015625 0.8802832546875001 0.574754440625 0.9272972578124999 0.601937859375 1 0.6269465546874999 1'\n",
            "Warning: Skipping malformed line in /content/Paddy-Field-Insects-All-Classes-2/train/labels/PB-5_jpg.rf.6df69a0fcb52aebafdaf9425cd00daed.txt: '5 0.287697528125 0.572257146875 0.2191952796875 0.628541434375 0.23333069062499998 0.6802623125 0.22245732343750002 0.7502373484375 0.1974485453125 0.8430304171874999 0.198535865625 0.8917087140625 0.23985469531249998 0.9053995203125 0.23550533125 0.8095641015625 0.2583393859375 0.7076437515625 0.2909594875 0.6224566765625 0.3301036765625 0.5859478953124999 0.4149158921875 0.54487553125 0.44318662968750006 0.5250999671875001 0.4736320921875 0.5250999671875001 0.425789259375 0.6772197890625 0.50190283125 0.7669705062500001 0.5040775546875 0.8719332062499999 0.5345229328125 0.82325479375 0.535610253125 0.7289405515625 0.4725447734375 0.6528806390625 0.5051648734375 0.534227190625 0.5508329843750001 0.5327059578125 0.6345579625 0.7852248390625001 0.8052698796875 0.7608856890625 0.8400646203125 0.8004368203125001 0.8585493124999999 0.7837036640624999 0.7965711515625 0.7091649265625 0.649780609375 0.71372856875 0.580191125 0.5250999671875001 0.860723953125 0.5327059578125 0.8542000312500001 0.42622208281249996 0.7008854859375 0.401882934375 0.5965011765625 0.3988405265625 0.6595666578125 0.25280552031250003 0.8183178874999999 0.3592893953125 0.8770340031250001 0.2847506609375 0.860723953125 0.2512842875 0.812881203125 0.3151746234375 0.6476059703125 0.1782667859375 0.5595317109375 0.39427694375 0.481243415625 0.388192128125 0.4551474015625 0.32734420000000003 0.5290862484375001 0.3060474578125 0.54865834375 0.2223815578125 0.5247368859375 0.19804234999999998 0.4986408703125 0.24824187968750003 0.41165393124999994 0.3227806171875 0.4638460453125 0.41101010000000004 0.41926525468750003 0.42470090781250003 0.34641372812500004 0.3699377359375 0.2822608453125 0.3562469875 0.20832191249999998 0.2786658453125 0.13112102187500002 0.17674563906250002 0.0887148734375 0.0885160953125 0.06370617656250001 0.07482531875000001 0.0668478015625 0.08789954531250001 0.0908895953125 0.17066079375 0.1419943890625 0.257369103125 0.2104966375 0.33799259843749996 0.26595079374999997 0.3927557109375 0.32466699375 0.4459976484375 0.34641372812500004 0.4612096296875 0.3496756875 0.49011242031249996 0.287697528125 0.572257146875'\n",
            "Warning: Skipping malformed line in /content/Paddy-Field-Insects-All-Classes-2/train/labels/WHORL-MAGGOTS_original_whorl-145-jpg_3f83f1a1-f79c-4e04-84e5-70e5cb6b142b_jpg.rf.22b2f3d227aee5de957ae72de7a1c9aa.txt: '10 0.399109375 0.552425 0.3821921875 0.659390625 0.44063281249999997 0.6967046875 0.495996875 0.641978125 0.5652015625 0.5549125 0.63440625 0.52755 0.7266796875 0.5300374999999999 0.8297171875 0.5399875 0.8494781250000001 0.5026734375 0.85 0.4667078125 0.85 0.3795578125 0.8081875000000001 0.3384953125 0.720528125 0.27879375 0.6128750000000001 0.29620625 0.5159890625 0.3683453125 0.44217031249999994 0.4628734375 0.399109375 0.552425'\n",
            "Warning: Skipping malformed line in /content/Paddy-Field-Insects-All-Classes-2/train/labels/WHORL-MAGGOTS_original_whorl-26-jpg_5d3be34a-655c-4a29-b013-b60e14b7cb1b_jpg.rf.4a2e811fdbf873ff7792d2089c4ce797.txt: '10 0.3284875 0.0443453125 0.3194328125 0.0340375 0.3049453125 0.0263046875 0.28889375 0.02115 0.252428125 0.0469234375 0.234375 0.11372968750000001 0.234375 0.11427499999999999 0.2451859375 0.18094375000000001 0.2542390625 0.2453765625 0.25605 0.3458921875 0.26872656250000004 0.4257890625 0.29226874999999997 0.4850671875 0.310378125 0.5288828125 0.33210937500000004 0.559809375 0.3539703125 0.5765625 0.3575921875 0.5765625 0.382815625 0.559809375 0.4081671875 0.4953765625 0.4109375 0.44807499999999995 0.4109375 0.423515625 0.4045453125 0.3484703125 0.3973015625 0.28145937499999996 0.3864375 0.21960312499999998 0.375571875 0.1474390625 0.33573125 0.052078124999999996 0.3284875 0.0443453125'\n",
            "Warning: Skipping malformed line in /content/Paddy-Field-Insects-All-Classes-2/train/labels/WHORL-MAGGOTS_original_whorl-26-jpg_5d3be34a-655c-4a29-b013-b60e14b7cb1b_jpg.rf.4a2e811fdbf873ff7792d2089c4ce797.txt: '10 0.0062203125 0.577178125 0.004409375 0.6106843750000001 0.00803125 0.631303125 0.033384375 0.6441890625 0.047593750000000004 0.6453125 0.0715984375 0.6453125 0.10582031249999999 0.63645625 0.125740625 0.618415625 0.16558124999999999 0.597796875 0.1873125 0.590065625 0.20179999999999998 0.590065625 0.2162859375 0.590065625 0.2203125 0.590065625 0.2203125 0.42494062499999996 0.1782578125 0.4225390625 0.1311734375 0.44315781249999997 0.055115625 0.4818171875 0.026140625 0.5127453125 0.011653125 0.5359421875 0.0062203125 0.577178125'\n",
            "Warning: Skipping malformed line in /content/Paddy-Field-Insects-All-Classes-2/train/labels/WHORL-MAGGOTS_original_whorl-26-jpg_5d3be34a-655c-4a29-b013-b60e14b7cb1b_jpg.rf.4a2e811fdbf873ff7792d2089c4ce797.txt: '10 0.12050625 0.70805 0.0858859375 0.677121875 0.073421875 0.6822765625 0.0679890625 0.6848546875 0.0553125 0.710628125 0.0390140625 0.7518640624999999 0.031770312499999995 0.7905249999999999 0.03358125 0.82660625 0.0426359375 0.9322765625 0.0716109375 0.968359375 0.1042078125 0.9864 0.139446875 0.9921875 0.1569859375 0.9921875 0.1965640625 0.97866875 0.21467343749999998 0.9657828125 0.24908125 0.9451640625 0.253125 0.9163875000000001 0.253125 0.906009375 0.2182953125 0.8936171875 0.1929421875 0.88073125 0.17664375000000002 0.8549578125 0.160346875 0.8137203124999999 0.14585937499999999 0.7518640624999999 0.12050625 0.70805'\n"
          ]
        },
        {
          "output_type": "stream",
          "name": "stderr",
          "text": [
            " 92%|█████████▏| 4899/5345 [00:01<00:00, 3315.94it/s]"
          ]
        },
        {
          "output_type": "stream",
          "name": "stdout",
          "text": [
            "Warning: Skipping malformed line in /content/Paddy-Field-Insects-All-Classes-2/train/labels/BA-32-_jpg.rf.4494410ffd756c55b1a03b0872f89502.txt: '8 0.5136718765625 0.4033203109375 0.552734375 0.3642578125 0.5107421875 0.384765625 0.490234375 0.3525390640625 0.5302734375 0.2851562515625 0.4736328125 0.3398437484375 0.4560546890625 0.337890625 0.4042968765625 0.2880859359375 0.4296874984375 0.4052734375 0.3945312515625 0.4814453109375 0.3710937484375 0.6748046890625 0.396484375 0.7509765625 0.443359375 0.7685546890625 0.4667968765625 0.7509765625 0.4814453109375 0.712890625 0.5107421875 0.7578125015625 0.5576171875 0.7636718765625 0.5976562515625 0.7041015625 0.599609375 0.6337890640625 0.5742187484375 0.5263671875 0.5136718765625 0.4033203109375'\n",
            "Warning: Skipping malformed line in /content/Paddy-Field-Insects-All-Classes-2/train/labels/Image_26_jpg.rf.793835c03a7de81eec8267d2244f6d66.txt: '4 0.7641 0 0.765625 0.0518625 0.791015625 0.090303125 0.837890625 0.10428124999999999 0.85546875 0.12874375 0.8515625 0.29648281249999997 0.86328125 0.359384375 0.880859375 0.41180312499999994 0.9296875 0.45723281250000003 0.955078125 0.41879218749999997 0.978515625 0.42578125 0.998046875 0.397825 1 0.3894375 1 0 0.7641 0'\n",
            "Warning: Skipping malformed line in /content/Paddy-Field-Insects-All-Classes-2/train/labels/PB-41_jpg.rf.b31efe1be996cc3e1dd13d0cefa4cbc7.txt: '5 0.426760159375 0.305394703125 0.408182190625 0.31478270468749997 0.40961123906249997 0.3335585890625 0.4910683609375 0.42743824999999996 0.45391242343749993 0.5213179125 0.451054325 0.5651284671875 0.338157684375 0.6261502109375 0.336728634375 0.6402321859375 0.413898496875 0.6605728859375 0.268133175 0.7763576453125001 0.262416978125 0.8045215921875 0.44247992031249994 0.7622757921875001 0.4410508703125 0.7450644265624999 0.303859953125 0.774793009375 0.4710613421875 0.6574434328125001 0.46963229218749997 0.729417815625 0.449625275 0.771663734375 0.4339055140625 0.9156125015625 0.43533456406250004 0.9938455515625 0.5096462203125001 0.9938455515625 0.5339404953125 0.8498967859375 0.5339404953125 0.774793009375 0.546802046875 0.6652667375 0.67256035 0.8076508671875 0.5267951375 0.9062245593749999 0.5253659796875 0.9531643890625 0.5582346593749999 0.9969749453125001 0.5739544203125 0.9969749453125001 0.5353695421875 0.9390824171875 0.716861534375 0.8013923187499999 0.5553765609375 0.6355382140625 0.5639509656249999 0.5964216890625 0.7240068890625 0.5416585515625 0.571096321875 0.5150593031249999 0.5582346593749999 0.42274427968749995 0.6225428609375 0.2928774265625 0.6111102484375001 0.266278178125 0.67256035 0.231855621875 0.8511943515624999 0.1583166328125 0.9969595625000001 0.1504933265625 0.9969595625000001 0.11920010781249998 0.8569105484374999 0.1317173234375 0.7340103421874999 0.16770454375 0.629688215625 0.214644375 0.552518353125 0.3100886734375 0.546802046875 0.2928774265625 0.518220625 0.317911978125 0.5082171703125 0.2584548734375 0.4453380171875 0.1817865484375 0.3867461234375 0.134846715625 0.27813673906249997 0.056613665625 0.179530809375 0.019061746875 0.1295133203125 0.0002858046875 0.12178568281249999 0.0238747578125 0.12236796406249999 0.0221910828125 0.192392471875 0.0456609953125 0.335299584375 0.134846715625 0.45391242343749993 0.2287263484375 0.506788121875 0.3366879234375 0.49964276406249997 0.38675708750000004 0.426760159375 0.305394703125'\n",
            "Warning: Skipping malformed line in /content/Paddy-Field-Insects-All-Classes-2/train/labels/PB-19_jpg.rf.44dfaafafa74c6f20b598a8792f90b36.txt: '5 0.3530041296875 0.553070325 0.28742571093749997 0.588708865625 0.1573801859375 0.6708323296875001 0.1840561984375 0.697173834375 0.3085441390625 0.6026543249999999 0.44748160937500003 0.5515209703124999 0.49527613437499995 0.5515209703124999 0.529732609375 0.57786235625 0.49083011875000004 0.6475898375 0.5608546390625 0.7033717984375001 0.5641890859375 0.7653517812499999 0.604203146875 0.7622528281250001 0.59419963125 0.7018223203125 0.5308440937500001 0.6351938515625 0.5619661203125 0.57786235625 0.5808615828125 0.580961365625 0.664224065625 0.735911265625 0.7664820953125 0.712668771875 0.8142766203124999 0.7374608578124999 0.8131650515625 0.7111192953125001 0.786489125 0.6723818046875001 0.6764505468750001 0.7018223203125 0.6097606453125 0.5685653234375 0.6419940703125 0.57786235625 0.7197991390625 0.5933573515624999 0.79093505625 0.58406031875 0.8064961546875 0.5546198609374999 0.7898236578125 0.5174318484375 0.7197991390625 0.497288484375 0.6331021234375 0.3593828796875 0.5841961171875 0.4724963953125 0.5541856562499999 0.477144884375 0.539736125 0.42601140937500004 0.5664121359375 0.38727391875 0.5641890859375 0.30669992968750004 0.523063628125 0.3097989390625 0.521952146875 0.376427409375 0.49972215000000003 0.4213628625 0.5197290953125 0.48799139062499997 0.4730461390625 0.494189353125 0.44748160937500003 0.49263987968749995 0.394129671875 0.45700139999999995 0.2474116515625 0.3500859046875 0.1762757328125 0.2850069109375 0.147499975 0.32403100937499996 0.148488240625 0.32839288906249997 0.148488240625 0.3299424234375 0.2829796953125 0.424461875 0.359673196875 0.4817933703125 0.448593178125 0.525179346875 0.42414013125 0.528278475 0.3530041296875 0.553070325'\n",
            "Warning: Skipping malformed line in /content/Paddy-Field-Insects-All-Classes-2/train/labels/Image_26_jpg.rf.eaf79aad4ea737619a4cf43e924d031f.txt: '4 0.140775 1 0.14453125 0.926059375 0.154296875 0.9085859375 0.169921875 0.9085859375 0.1875 0.9400375000000001 0.16015625 0.7862765625 0.171875 0.737353125 0.146484375 0.712890625 0.134765625 0.6709562499999999 0.07421875 0.632515625 0.0703125 0.5626249999999999 0.05859375 0.548646875 0.029296875 0.419346875 0 0.419346875 0 1 0.140775 1'\n",
            "Warning: Skipping malformed line in /content/Paddy-Field-Insects-All-Classes-2/train/labels/Image_26_jpg.rf.eaf79aad4ea737619a4cf43e924d031f.txt: '4 1 0.080375 0.970703125 0.02795625 0.857421875 0.013978125 0.80078125 0.080375 0.771484375 0.18171718750000002 0.75390625 0.12230937500000001 0.724609375 0.09085937499999999 0.705078125 0.0978484375 0.67578125 0.150265625 0.671875 0.2620921875 0.693359375 0.34945624999999997 0.732421875 0.34945624999999997 0.794921875 0.39837968749999997 0.861328125 0.419346875 0.923828125 0.496228125 0.97265625 0.5136999999999999 0.98046875 0.499721875 0.95703125 0.4088640625 0.98828125 0.3040265625 0.984375 0.26908125 1 0.24112499999999998 1 0.080375'\n",
            "Warning: Skipping malformed line in /content/Paddy-Field-Insects-All-Classes-2/train/labels/WHORL-MAGGOTS_original_whorl-25-jpg_ecd8fafe-0f37-48db-be46-d381468af709_jpg.rf.c95f8c6176daa71529e3f757704db020.txt: '10 0.26831875 0.247253125 0.3099703125 0.350346875 0.3407546875 0.47921250000000004 0.357053125 0.546221875 0.376453125 0.553125 0.3793671875 0.553125 0.39689375 0.52818125 0.40594843750000004 0.489521875 0.40625 0.4723453125 0.40625 0.24295624999999998 0.40413750000000004 0.2008625 0.36791874999999996 0.12611875 0.2848625 0.02818125 0.2592640625 0.046221875 0.242965625 0.13385156250000002 0.26831875 0.247253125'\n",
            "Warning: Skipping malformed line in /content/Paddy-Field-Insects-All-Classes-2/train/labels/WHORL-MAGGOTS_original_whorl-25-jpg_ecd8fafe-0f37-48db-be46-d381468af709_jpg.rf.c95f8c6176daa71529e3f757704db020.txt: '10 0.045787499999999995 0.4333359375 0.0046875 0.44354375 0.0046875 0.478478125 0.005946875 0.5853984375 0.0726375 0.6 0.103821875 0.6 0.1580640625 0.598284375 0.2268796875 0.5957078124999999 0.24317812499999997 0.5853984375 0.25 0.56840625 0.25 0.5625578124999999 0.2486109375 0.5467375 0.22325781249999999 0.5158109375000001 0.217825 0.5055015625 0.18160625 0.459109375 0.10735937499999999 0.446221875 0.045787499999999995 0.4333359375'\n",
            "Warning: Skipping malformed line in /content/Paddy-Field-Insects-All-Classes-2/train/labels/WHORL-MAGGOTS_original_whorl-25-jpg_ecd8fafe-0f37-48db-be46-d381468af709_jpg.rf.c95f8c6176daa71529e3f757704db020.txt: '10 0.1467 0.7989453125 0.123159375 0.8788421874999999 0.094184375 0.9071921875 0.065209375 0.8968828125 0.05072187500000001 0.9097703125000001 0.052532812500000005 0.95100625 0.068478125 0.9984375 0.08464374999999999 0.9984375 0.1738640625 0.9896671874999999 0.193784375 0.9613156249999999 0.21913749999999999 0.9123468750000001 0.237246875 0.863378125 0.24086875000000002 0.8041 0.253125 0.7467843750000001 0.253125 0.741684375 0.24630156250000002 0.690696875 0.2426796875 0.6700796875 0.2173265625 0.654615625 0.193784375 0.6675015625 0.16118749999999998 0.7293578125 0.1467 0.7989453125'\n",
            "Warning: Skipping malformed line in /content/Paddy-Field-Insects-All-Classes-2/train/labels/Image_25_jpg.rf.ea482db46653f0f448767bba792d1f2a.txt: '4 1 0.681078125 0.9700203125 0.776015625 0.895553125 0.7525000000000001 0.8348046874999999 0.814228125 0.79155625 1 1 1 1 0.681078125'\n",
            "Warning: Skipping malformed line in /content/Paddy-Field-Insects-All-Classes-2/train/labels/PB-20_jpg.rf.8991683c144c05e15890690d5ec867c7.txt: '5 0.47289073281249994 0.55894058125 0.45628339375 0.6116576 0.466052434375 0.6394805046875 0.477775253125 0.6599815421875 0.5002440781249999 0.6350874296875 0.515874528125 0.5296533375 0.5188052703125 0.5530831093749999 0.546158540625 0.589692165625 0.5627659546875 0.5618693171875 0.5608121015624999 0.5164740546875 0.5598352125 0.48132939375 0.5275973484375001 0.4696144515625 0.5373663890625 0.43154105625000005 0.5930499671875 0.4227549046875 0.657525696875 0.47107884687499996 0.659479475 0.4212905078125 0.605749675 0.39932507500000003 0.5510430609375 0.384681453125 0.543227871875 0.3773596421875 0.5246666796875 0.4037181515625 0.5227128265625 0.3963963390625 0.49829022500000003 0.3348931703125 0.46019102500000003 0.29681971875 0.4269762703125 0.2733899453125 0.41406247812499997 0.29706959843749997 0.41818411875 0.30414152968749997 0.45726028281250003 0.333428775 0.4914519265625 0.3876101875 0.47582147499999994 0.43593413124999997 0.48461362656249996 0.48132939375 0.4416298328125 0.507687903125 0.47289073281249994 0.55894058125'\n",
            "Warning: Skipping malformed line in /content/Paddy-Field-Insects-All-Classes-2/train/labels/WHORL-MAGGOTS_original_whorl-10-jpg_4f902d71-eecc-4649-952d-e748084ccd3f_jpg.rf.848c65ecd425d1b3758be108137d25fb.txt: '10 0.14205 0.3224125 0.11983593749999999 0.3484140625 0.11577656249999999 0.35014687499999997 0.1156703125 0.41428281250000004 0.12261249999999999 0.455884375 0.1545453125 0.5113531250000001 0.18231250000000002 0.5044203125 0.1948078125 0.4888203125 0.1948078125 0.44548437500000004 0.18786562499999998 0.4038828125 0.176759375 0.3588140625 0.157321875 0.32934687500000004 0.14205 0.3224125'\n",
            "Warning: Skipping malformed line in /content/Paddy-Field-Insects-All-Classes-2/train/labels/WHORL-MAGGOTS_original_whorl-53-jpg_7fd5d906-d893-4f2d-9ff0-9a26cee52d28_jpg.rf.ee8741336d34154269d47ade4d8b6640.txt: '10 0.49634375000000003 0.333103125 0.4387890625 0.27182968750000003 0.40546875 0.3183984375 0.372146875 0.3919265625 0.400925 0.49977031250000004 0.4796828125 0.614965625 0.5478390625 0.705653125 0.63288125 0.715625 0.7256890625 0.715625 0.7311046875 0.71545625 0.8356109375 0.661534375 0.8659015625 0.6321234375 0.86875 0.6030375 0.86875 0.560446875 0.8659015625 0.5071234375 0.8462125 0.47771093750000004 0.7583671875 0.487515625 0.62356875 0.49241718749999996 0.5554125 0.4213390625 0.49634375000000003 0.333103125'\n",
            "Warning: Skipping malformed line in /content/Paddy-Field-Insects-All-Classes-2/train/labels/PB-40_jpg.rf.00b031f3f7a198b14581bf32f8b12a88.txt: '5 0.4102095125 0.36287855 0.3499474765625 0.35008589375 0.32343221718750004 0.30371250625 0.2752225875 0.3165051625 0.318611328125 0.3644776703125 0.37646291875000004 0.3740721453125 0.4511878078125 0.4492290859375 0.439135396875 0.47961169843749996 0.33789506875 0.43483730937500004 0.255938846875 0.4508281453125 0.1739824421875 0.4220446546875 0.147467184375 0.43163919218749996 0.2270129609375 0.4844089359375 0.33789506875 0.45562544374999997 0.42708299062500005 0.50679613125 0.42708299062500005 0.52118796875 0.434314325 0.5659621734375 0.1812137734375 0.6091375640625001 0.20290814531249998 0.7162760546875 0.1354147734375 0.7386632484375 0.140235665625 0.7626495015625 0.2583492921875 0.7354650078125 0.2390653671875 0.6235292203125 0.4439562890625 0.58834936875 0.4198514734375 0.7562531421875 0.46324021406250004 0.8426036796874999 0.5138602859375 0.8442027375000001 0.542785990625 0.8154191859375001 0.5476070625 0.68429438125 0.542785990625 0.594745665625 0.7476769125 0.6858934421875 0.8007076140624999 0.8458017984374999 0.8537381328125001 0.9017697218749999 0.882663834375 0.8825807687499999 0.8199913546875001 0.8330092015625 0.7766027984375 0.6810963234375 0.5524279515625 0.5691604765625 0.5572490265625001 0.5355796234375 0.7259827265625 0.5147914874999999 0.7838341328125 0.6091375640625001 0.9043583890625 0.6107365015624999 0.89230598125 0.581953009375 0.8199913546875001 0.5851513125000001 0.7308036140625 0.48760711562500003 0.5572490265625001 0.5035979515625 0.5572490265625001 0.50199883125 0.5451966171875 0.46841810156249997 0.6319739125 0.3932611625 0.6970568375 0.40605381874999996 0.7428560234375 0.37087396875 0.7428560234375 0.348486834375 0.6825939875 0.38686480156249997 0.6247423953125 0.3644776703125 0.5548383968749999 0.42364377343750004 0.5548383968749999 0.3948602203125 0.5958166921875 0.32929781875 0.6729520234375 0.2605372375 0.8368648343749999 0.23175374531249998 0.8344543921875 0.20776749218749999 0.6657206890625 0.241348221875 0.5909956171874999 0.28292437187499997 0.518681175 0.378869384375 0.49698699062499996 0.3676758484375 0.49216591562499995 0.378869384375 0.4584191421875 0.33409505781250004 0.39333621406249997 0.2765280734375 0.2704016984375 0.2045693140625 0.166750925 0.154997715625 0.09443648125000001 0.140605940625 0.0909638015625 0.1544000015625 0.09443648125000001 0.16299313437500002 0.1619300328125 0.1901775359375 0.2752225875 0.236550984375 0.3981571046875 0.31490604218749996 0.46565065624999996 0.38206756406250003 0.44636673125000004 0.42524283125 0.4102095125 0.36287855'\n",
            "Warning: Skipping malformed line in /content/Paddy-Field-Insects-All-Classes-2/train/labels/BA-58-_JPG_jpg.rf.4d064e6b702516d19f3e796f0f1eb53f.txt: '8 0.21189475 0.4494034796875 0.21535311875000002 0.516201575 0.2399666265625 0.57653189375 0.234998909375 0.62585790625 0.28065075781250004 0.6843826640625 0.430676828125 0.76651509375 0.5740375109375 0.8167576249999999 0.704749971875 0.9063369828125 0.7047859359374999 0.88627779375 0.6699496734375 0.8429524046875001 0.724485871875 0.8447850406249999 0.7869721171874999 0.8272232484375 0.8450656890625 0.7801610546875 0.8901069265625001 0.69545080625 0.8815911249999999 0.607066396875 0.85909758125 0.573846975 0.8277916171875 0.5572013 0.6465493015625 0.5293355281250001 0.5268140734375 0.4857494875 0.5986247390625 0.46842127343750006 0.6825085828125 0.4905826359375 0.687089975 0.47530244687499995 0.642893321875 0.4518026703125 0.5890218859374999 0.44205595468750003 0.5027933984375 0.4576234671875 0.4966759859375 0.4224816984375 0.6633299484374999 0.3622774578125 0.6605452296875 0.3430806375 0.403746153125 0.42621850156249996 0.40266838906249997 0.30163234375000003 0.3896879875 0.223865909375 0.36742801406250003 0.1813220671875 0.35493254687500003 0.195937496875 0.3708055640625 0.2327231796875 0.3705449140625 0.31762214843750003 0.34802429375 0.359977275 0.31766152812500004 0.361549259375 0.3066394390625 0.2800997703125 0.2921856515625 0.29839825468750003 0.24931852031249999 0.2590703171875 0.24093729062499997 0.2770544015625 0.283382128125 0.37048735625 0.271632240625 0.3925856796875 0.21420342812499998 0.43173379062499995 0.0829159171875 0.4209808453125 0.08268234375 0.4303052671875 0.11680899062500001 0.4460885734375 0.21189475 0.4494034796875'\n"
          ]
        },
        {
          "output_type": "stream",
          "name": "stderr",
          "text": [
            "100%|██████████| 5345/5345 [00:01<00:00, 2870.94it/s]\n"
          ]
        },
        {
          "output_type": "stream",
          "name": "stdout",
          "text": [
            "Warning: Skipping malformed line in /content/Paddy-Field-Insects-All-Classes-2/train/labels/WHORL-MAGGOTS_original_whorl-43-jpg_5e7b2ee2-7537-425a-9d11-09b93c0f9209_jpg.rf.f494bf3ddc502468a666e8531d23022c.txt: '10 0.5181046874999999 0.09044218750000001 0.5094265625000001 0.09304375000000001 0.4906453125 0.09044218750000001 0.42091874999999995 0.126871875 0.391415625 0.158096875 0.40009375 0.2049359375 0.42943125000000004 0.24375 0.49422812499999996 0.24375 0.5840515625 0.19712968749999998 0.6812375 0.1763125 0.7558625 0.1659046875 0.8270171875000001 0.12427031250000001 0.8582546875 0.1060546875 0.8625 0.06786875 0.8625 0.058692187500000007 0.844371875 0.0488078125 0.8079265625 0.0410015625 0.7333015625 0.04620625 0.646528125 0.06181875 0.5528140625 0.069625 0.5181046874999999 0.09044218750000001'\n",
            "Warning: Skipping malformed line in /content/Paddy-Field-Insects-All-Classes-2/train/labels/WHORL-MAGGOTS_original_whorl-43-jpg_5e7b2ee2-7537-425a-9d11-09b93c0f9209_jpg.rf.f494bf3ddc502468a666e8531d23022c.txt: '10 0.375221875 0.0468796875 0.4324921875 0.07289999999999999 0.6077734375 0.130146875 0.6619609375 0.146875 0.671409375 0.146875 0.715371875 0.13274999999999998 0.7328125 0.0869875 0.7328125 0.0603390625 0.725784375 0.023459374999999998 0.6977765625 0.007846875 0.27109375 0.0026421875 0.28150624999999996 0.015653125 0.3179515625 0.0442765625 0.375221875 0.0468796875'\n",
            "Warning: Skipping malformed line in /content/Paddy-Field-Insects-All-Classes-2/train/labels/WHORL-MAGGOTS_original_whorl-43-jpg_5e7b2ee2-7537-425a-9d11-09b93c0f9209_jpg.rf.f494bf3ddc502468a666e8531d23022c.txt: '10 0.2735296875 0.11756875 0.26658750000000003 0.07853750000000001 0.2422921875 0.068128125 0.24250625 0.052515624999999996 0.2249375 0.060321875000000004 0.19196249999999998 0.135784375 0.18849218750000002 0.20604218749999997 0.200640625 0.2476765625 0.2093171875 0.3101265625 0.23535 0.3986 0.25270468749999997 0.44283593750000005 0.26658750000000003 0.49748125 0.2735296875 0.5651359375 0.2735296875 0.6145765625 0.2735296875 0.6484046875 0.2735296875 0.69524375 0.2926203125 0.734275 0.30814375 0.7359375 0.319046875 0.7359375 0.34641875 0.7238671875 0.37939375000000003 0.6692218750000001 0.39375 0.6046421875 0.39375 0.5715234375 0.39154062500000003 0.5235015625 0.36724531250000003 0.4454375 0.33600625 0.35176093750000004 0.309975 0.2554828125 0.277 0.167009375 0.2735296875 0.11756875'\n",
            "Warning: Skipping malformed line in /content/Paddy-Field-Insects-All-Classes-2/train/labels/WHORL-MAGGOTS_original_whorl-43-jpg_5e7b2ee2-7537-425a-9d11-09b93c0f9209_jpg.rf.f494bf3ddc502468a666e8531d23022c.txt: '10 0.1203859375 0.1584109375 0.1151796875 0.2650984375 0.0995609375 0.32755 0.073528125 0.42643125 0.07179375 0.46025937499999997 0.077 0.514903125 0.10933124999999999 0.528125 0.12443125 0.528125 0.1655078125 0.5175062500000001 0.1984828125 0.4472484375 0.22625 0.3795921875 0.2421875 0.2970390625 0.2421875 0.1342046875 0.20715937499999998 0.0387140625 0.170534375 0.007487499999999999 0.097825 0.01529375 0.1047671875 0.049121874999999995 0.127328125 0.11937968750000001 0.1203859375 0.1584109375'\n",
            "Warning: Skipping malformed line in /content/Paddy-Field-Insects-All-Classes-2/train/labels/WHORL-MAGGOTS_original_whorl-43-jpg_5e7b2ee2-7537-425a-9d11-09b93c0f9209_jpg.rf.f494bf3ddc502468a666e8531d23022c.txt: '10 0.11835625000000001 0.6848 0.083646875 0.7212296874999999 0.057615625000000004 0.7602625 0.0315828125 0.8149078125000001 0.0177 0.8383265625 0.007285937500000001 0.8643468750000001 0.0003453125 0.89036875 0.0003453125 0.924196875 0.0177 0.9658312499999999 0.0350546875 0.9658312499999999 0.0529875 0.9703125 0.0738609375 0.9703125 0.0957953125 0.9450140625 0.137446875 0.89036875 0.16521406249999998 0.8539390625 0.19298125 0.825315625 0.20859999999999998 0.8044984375 0.2207484375 0.7732734375 0.23116093750000002 0.75245625 0.240625 0.738265625 0.240625 0.47335781250000003 0.22595468749999997 0.44020000000000004 0.2051296875 0.4349953125 0.1895109375 0.4870375 0.179096875 0.5677046875 0.16521406249999998 0.627553125 0.11835625000000001 0.6848'\n",
            "Warning: Skipping malformed line in /content/Paddy-Field-Insects-All-Classes-2/train/labels/WHORL-MAGGOTS_original_whorl-43-jpg_5e7b2ee2-7537-425a-9d11-09b93c0f9209_jpg.rf.f494bf3ddc502468a666e8531d23022c.txt: '10 0.6202796875 0.22865625 0.5664796875 0.270290625 0.5404484375 0.3223328125 0.5213578125 0.3977953125 0.5213578125 0.4472359375 0.5552546875 0.4828125 0.567446875 0.4828125 0.5907765625 0.48106406249999994 0.61854375 0.4472359375 0.642840625 0.40039687500000004 0.6671359375 0.361365625 0.7296125 0.3249359375 0.7920906249999999 0.31973124999999997 0.8771281249999999 0.31973124999999997 0.9465453125 0.31973124999999997 0.9864609375000001 0.2963125 0.9953125 0.2565 0.9953125 0.23853125 0.973984375 0.2182484375 0.8181218749999999 0.18181875 0.7764703125 0.18181875 0.7278781249999999 0.187021875 0.679284375 0.2000328125 0.6202796875 0.22865625'\n",
            "Warning: Skipping malformed line in /content/Paddy-Field-Insects-All-Classes-2/train/labels/WHORL-MAGGOTS_original_whorl-43-jpg_5e7b2ee2-7537-425a-9d11-09b93c0f9209_jpg.rf.f494bf3ddc502468a666e8531d23022c.txt: '10 0.8421218749999999 0.4059375 0.790478125 0.33828125 0.7640265625 0.379915625 0.7327874999999999 0.43195937500000003 0.7536140625 0.48920624999999995 0.783115625 0.554259375 0.8126187500000001 0.6323234375 0.8403859375 0.692171875 0.8560062500000001 0.7468171875 0.86641875 0.8014609374999999 0.86641875 0.8561062500000001 0.8560062500000001 0.9107515625 0.847328125 0.928965625 0.847328125 0.9679984375 0.8646828125000001 0.9836109375 0.895921875 0.9784062499999999 0.9184828125 0.9419765625000001 0.93063125 0.897740625 0.942778125 0.8483 0.942778125 0.7936546875 0.9479859375 0.7103875000000001 0.9484375 0.6914015625000001 0.9484375 0.62873125 0.937571875 0.554259375 0.93063125 0.5100234375 0.9150109375 0.48400156250000004 0.89765625 0.455378125 0.8542703125 0.4189484375 0.8421218749999999 0.4059375'\n",
            "Warning: Skipping malformed line in /content/Paddy-Field-Insects-All-Classes-2/train/labels/WHORL-MAGGOTS_original_whorl-43-jpg_5e7b2ee2-7537-425a-9d11-09b93c0f9209_jpg.rf.f494bf3ddc502468a666e8531d23022c.txt: '10 0.6720843750000001 0.6190703125 0.6234921875 0.6086609375 0.5957250000000001 0.64769375 0.5887828125000001 0.720553125 0.6096078125 0.7673921874999999 0.6651421875 0.8142296874999999 0.7033234375 0.8636703125 0.741503125 0.926121875 0.7588578125 0.95214375 0.786625 0.9859703124999999 0.8032546875 0.9984375 0.8878812500000001 0.9984375 0.8890625 0.9922390625 0.8890625 0.9552531249999999 0.8495437499999999 0.84545625 0.80224375 0.7804015625 0.7796828125 0.7075421875 0.7345609375000001 0.6607046875 0.70679375 0.6398875 0.6720843750000001 0.6190703125'\n",
            "Warning: Skipping malformed line in /content/Paddy-Field-Insects-All-Classes-2/train/labels/PB-69_jpg.rf.011f709f0a20ead7f349405cc1de8580.txt: '5 0.5027787375 0.352862115625 0.515481640625 0.430595309375 0.3900409265625 0.421076978125 0.2852424015625 0.45915036093749995 0.21696451093750002 0.44011370000000005 0.20902522656250003 0.45915036093749995 0.2995331375 0.4781870828125 0.377338025 0.4417000671875 0.5138938078125 0.4464592328125 0.553590228125 0.5241924859375 0.3344659390625 0.6971092234375 0.33764160312499997 0.7034549390625 0.4297373484375 0.7748425375 0.3646352421875 0.8446437078125 0.3725745265625 0.8509893015625 0.45831882031250004 0.7700833125 0.369398740625 0.6955229765625 0.571056628125 0.5416427781250001 0.7139637421875 0.8906491125 0.7647751125 0.9350681484375001 0.7949445374999999 0.923963328125 0.791768628125 0.8525756703124999 0.7361937625 0.6891772625 0.6885580578125 0.5686115828125 0.842580240625 0.674899765625 0.8854523265625 0.9144449984374999 0.977548071875 0.9905918828125 0.9902507328124999 0.952518440625 0.920385128125 0.9033403 0.858458809375 0.6352399546874999 0.6679158703125 0.511501359375 0.6329830703125 0.40521305312499994 0.706024459375 0.3005111171875 0.752072209375 0.3274798015625 0.8044715328125 0.23864185 0.7854172984375001 0.219605128125 0.7361937625 0.2909927875 0.7012608390625 0.279888028125 0.61075305 0.37507157343749997 0.5901108625 0.343343725 0.6631522515625 0.20532757343750002 0.7314301421875 0.160908596875 0.7584237828125 0.0974529 0.7298423109375001 0.078416209375 0.7123759093750001 0.1402855078125 0.6171045000000001 0.2085003703125 0.5678808421875 0.3227206359375 0.558353725 0.3116158765625 0.553590228125 0.2767152328125 0.5250087578125 0.2529193453125 0.5011909046875 0.1545630921875 0.5027787375 0.0879345703125 0.5202451375 0.0054421515625 0.5043665703125 0.00702855 0.47896088593749997 0.12283524531250001 0.4805487171875 0.183118084375 0.42814951562500003 0.19739564062499998 0.4043316625 0.1624950546875 0.29000590000000004 0.10538486250000001 0.016894575000000002 0.0197197375 0.0103174234375 0.06587301718750001 0.012130957812499999 0.0657250515625 0.14233528906249998 0.086348171875 0.2995331375 0.1386991703125 0.4043316625 0.20374120312500002 0.47578522031250003 0.28781999062499997 0.47896088593749997 0.3163750421875 0.5027787375 0.352862115625'\n",
            "Warning: Skipping malformed line in /content/Paddy-Field-Insects-All-Classes-2/train/labels/WHORL-MAGGOTS_original_whorl-129-jpg_a9551bc1-ff20-46c1-93cc-c2aa0a57faaa_jpg.rf.0737b008ff1cde0f2f2574b0a074c1fd.txt: '10 0.12268593750000001 0.5877578125 0.1626703125 0.7480640625 0.294621875 0.8498453125 0.4161671875 0.9296875 0.455596875 0.9296875 0.597175 0.9236359375 0.686475 0.8676562499999999 0.8015625 0.5090421875 0.8015625 0.5024609375 0.77044375 0.36384062500000003 0.7211296875000001 0.31549375 0.5638546875 0.66155 0.1546734375 0.511421875 0.1254515625 0.5903031249999999 0.12268593750000001 0.5877578125'\n",
            "Warning: Skipping malformed line in /content/Paddy-Field-Insects-All-Classes-2/train/labels/WHORL-MAGGOTS_original_whorl-26-jpg_26178c15-d608-4415-b412-da7d3d0c3acc_jpg.rf.13622b062da66723f610803e3282d949.txt: '10 0.25738125 0.061846875 0.2591921875 0.1700953125 0.2809234375 0.25772343750000004 0.30084374999999997 0.3273109375 0.317140625 0.39947656249999997 0.331628125 0.45102343749999996 0.360603125 0.51545625 0.3801484375 0.521875 0.385190625 0.521875 0.4140625 0.48561875 0.4140625 0.4751359375 0.40587656250000004 0.386590625 0.404065625 0.2809203125 0.360603125 0.15463125 0.3406828125 0.0695796875 0.290225 0.028342187499999998 0.25738125 0.061846875'\n",
            "Warning: Skipping malformed line in /content/Paddy-Field-Insects-All-Classes-2/train/labels/WHORL-MAGGOTS_original_whorl-26-jpg_26178c15-d608-4415-b412-da7d3d0c3acc_jpg.rf.13622b062da66723f610803e3282d949.txt: '10 0.0244828125 0.57525 0.0886015625 0.584375 0.1973875 0.584375 0.259375 0.5753265625 0.259375 0.565109375 0.25628125 0.5056625 0.1892765625 0.45153906250000003 0.07156718749999999 0.4283421875 0.002753125 0.4180328125 0.0118078125 0.5778265625000001 0.0244828125 0.57525'\n",
            "Warning: Skipping malformed line in /content/Paddy-Field-Insects-All-Classes-2/train/labels/WHORL-MAGGOTS_original_whorl-26-jpg_26178c15-d608-4415-b412-da7d3d0c3acc_jpg.rf.13622b062da66723f610803e3282d949.txt: '10 0.103896875 0.6336984375 0.08216562499999999 0.646584375 0.062245312500000004 0.6775125 0.074921875 0.7445234375 0.0731109375 0.8141109375 0.0731109375 0.8914296875 0.09303125 0.9455546874999999 0.1248015625 0.98125 0.23816406250000002 0.98125 0.24375 0.9422109375 0.24375 0.911296875 0.2342828125 0.886275 0.20168593750000002 0.881121875 0.18357812499999998 0.8089562499999999 0.16546875 0.72648125 0.125628125 0.6543171875 0.103896875 0.6336984375'\n",
            "Warning: Skipping malformed line in /content/Paddy-Field-Insects-All-Classes-2/train/labels/PB-32_jpg.rf.8c567ecc9a32df12b4f4014d02e9f277.txt: '5 0.316086896875 0.4067994234375 0.481093096875 0.511501359375 0.4933155875 0.571784259375 0.273307478125 0.5590931328125001 0.1541363234375 0.601925678125 0.0105199484375 0.593993715625 0 0.609857640625 0.1571919453125 0.6288943625 0.23969516093749998 0.593993715625 0.48414871875000004 0.6130304375 0.49942706562500006 0.6495174515625 0.1877486390625 0.817675084375 0.288585825 0.9318952906250001 0.148025075 0.9604504031250001 0.1571919453125 0.9810735515625 0.3405321140625 0.9461728468749999 0.24580640625 0.8351253765625 0.52387228125 0.6606222109375001 0.52387228125 0.7700833125 0.5330393812499999 0.9192042234375 0.6247094671875 0.9810735515625 0.661377409375 0.9763143265625001 0.719435175 0.9112722625 0.704156828125 0.787533603125 0.6705445078125 0.6780725624999999 0.8386063296874999 0.7605649828125001 0.8049940140625 0.9207905921874999 0.9547218624999999 0.9588640343750001 0.9547218624999999 0.9414137421875 0.8477734328125001 0.9128586296875 0.8997197187499999 0.7494601624999999 0.6644332640624999 0.6511038796874999 0.688878478125 0.5892345515625 0.67665575625 0.5670250921875 0.7988825328125 0.533710815625 0.704156828125 0.606684903125 0.701101203125 0.6352399546874999 0.8141608796875 0.6130304375 0.8141608796875 0.5844755078125 0.746936246875 0.606684903125 0.8447175765624999 0.5241924859375 0.8355507078125 0.495637434375 0.6460990578125 0.5416427781250001 0.6185982203125 0.5003966 0.786660040625 0.421076978125 0.691934103125 0.40838585156249996 0.731657896875 0.37189877656250003 0.725546653125 0.3227206359375 0.6430434359375 0.414731384375 0.70721245 0.4321817375 0.6063754984374999 0.481359878125 0.5666517015625 0.43852727187499996 0.572763178125 0.3576212828125 0.5849856703125 0.3147886734375 0.6430434359375 0.1926364453125 0.6980455812499999 0.0800026078125 0.7224907968750001 0.002269353125 0.694989959375 0.0006829859375 0.67360013125 0.0609658859375 0.5910971484374999 0.211673165625 0.5330393812499999 0.3465165234375 0.520816659375 0.41949055 0.5024826874999999 0.41155858749999996 0.4933155875 0.3814171671875 0.3802559109375 0.27354249531249997 0.23052805781250002 0.1751861234375 0.120524003125 0.1291807484375 0.08476510625 0.1412698421875 0.358866315625 0.3036839140625 0.45970326874999995 0.39728109218749996 0.4933155875 0.4861190421875 0.30080855 0.360794078125 0.09302293125 0.2560921421875 0.09302293125 0.2925791546875 0.316086896875 0.4067994234375'\n",
            "Warning: Skipping malformed line in /content/Paddy-Field-Insects-All-Classes-2/train/labels/Image_25_jpg.rf.e73debfcd9b64c09c339b92e5644fe20.txt: '4 1 0.681078125 0.9770703125000001 0.6084671875 0.8555734375 0.4967671875 0.8555734375 0.29100625 0.8046218749999999 0.26161093750000003 0.7438734375 0.117578125 0.591021875 0.12345625 0.536153125 0.011757812500000001 0.449928125 0.011757812500000001 0.38330000000000003 0.21751874999999998 0.2970765625 0.21751874999999998 0.1363875 0.011757812500000001 0.1618625 0.10875937499999999 0.1540234375 0.296884375 0.261803125 0.42328124999999994 0.308834375 0.37625000000000003 0.334309375 0.4321 0.30295625 0.6437406250000001 0.402896875 0.6643171875 0.5126375000000001 0.564375 0.5106765625 0.6025875 0.5283140625 0.5702546875000001 0.583184375 0.68783125 0.6262953125 0.6349218750000001 0.7046812499999999 0.68783125 0.82421875 0.9259281250000001 0.7987437500000001 0.9935359375000001 0.7595500000000001 0.9994140625 0.6596093749999999 0.9200484375 0.6717234375000001 1 1 1 1 0.681078125'\n",
            "\n",
            "Step 2: Oversampling classes with < 1000 instances...\n",
            "Augmenting class 'Brown_Planthopper'. Need 219 more instances.\n"
          ]
        },
        {
          "output_type": "stream",
          "name": "stderr",
          "text": [
            "Augmenting Brown_Planthopper: 100%|██████████| 219/219 [00:00<00:00, 468.88it/s]\n"
          ]
        },
        {
          "output_type": "stream",
          "name": "stdout",
          "text": [
            "Augmenting class 'Crickets'. Need 368 more instances.\n"
          ]
        },
        {
          "output_type": "stream",
          "name": "stderr",
          "text": [
            "Augmenting Crickets: 100%|██████████| 368/368 [00:04<00:00, 89.25it/s]\n"
          ]
        },
        {
          "output_type": "stream",
          "name": "stdout",
          "text": [
            "Augmenting class 'Dragonfly'. Need 852 more instances.\n"
          ]
        },
        {
          "output_type": "stream",
          "name": "stderr",
          "text": [
            "Augmenting Dragonfly: 100%|██████████| 852/852 [00:10<00:00, 77.76it/s] \n"
          ]
        },
        {
          "output_type": "stream",
          "name": "stdout",
          "text": [
            "Augmenting class 'Mealybug'. Need 118 more instances.\n"
          ]
        },
        {
          "output_type": "stream",
          "name": "stderr",
          "text": [
            "Augmenting Mealybug: 120it [00:00, 139.85it/s]                         \n"
          ]
        },
        {
          "output_type": "stream",
          "name": "stdout",
          "text": [
            "Augmenting class 'Rice_Bug'. Need 958 more instances.\n"
          ]
        },
        {
          "output_type": "stream",
          "name": "stderr",
          "text": [
            "Augmenting Rice_Bug: 100%|██████████| 958/958 [00:09<00:00, 104.68it/s]\n"
          ]
        },
        {
          "output_type": "stream",
          "name": "stdout",
          "text": [
            "Augmenting class 'Rice_Gall_Midge'. Need 343 more instances.\n"
          ]
        },
        {
          "output_type": "stream",
          "name": "stderr",
          "text": [
            "Augmenting Rice_Gall_Midge: 347it [00:03, 115.31it/s]                         \n"
          ]
        },
        {
          "output_type": "stream",
          "name": "stdout",
          "text": [
            "Augmenting class 'Rice_Water_Weevil'. Need 62 more instances.\n"
          ]
        },
        {
          "output_type": "stream",
          "name": "stderr",
          "text": [
            "Augmenting Rice_Water_Weevil: 100%|██████████| 62/62 [00:00<00:00, 128.46it/s]\n"
          ]
        },
        {
          "output_type": "stream",
          "name": "stdout",
          "text": [
            "Augmenting class 'Whorl_Maggot'. Need 412 more instances.\n"
          ]
        },
        {
          "output_type": "stream",
          "name": "stderr",
          "text": [
            "Augmenting Whorl_Maggot:  38%|███▊      | 157/412 [00:00<00:01, 233.67it/s]"
          ]
        },
        {
          "output_type": "stream",
          "name": "stdout",
          "text": [
            "Warning: Skipping malformed line in /content/Paddy-Field-Insects-All-Classes-2/train/labels/WHORL-MAGGOTS_original_whorl-10-jpg_2708a4b3-73e9-46e8-89b6-b1a15dd9d713_jpg.rf.ca6204ac52d2a7c540d9847365ce6c7a.txt: '10 0.2587453125 0.575590625 0.2676296875 0.6005515625 0.278484375 0.60625 0.2835671875 0.60625 0.29373125 0.5865109375 0.2987296875 0.5646687499999999 0.3078125 0.5377375 0.3078125 0.5110718750000001 0.3074765625 0.5022671875 0.288734375 0.48510625 0.2749890625 0.5022671875 0.26249375 0.5225484375 0.25999374999999997 0.5537484375 0.2587453125 0.575590625'\n"
          ]
        },
        {
          "output_type": "stream",
          "name": "stderr",
          "text": [
            "Augmenting Whorl_Maggot:  90%|█████████ | 372/412 [00:01<00:00, 178.57it/s]"
          ]
        },
        {
          "output_type": "stream",
          "name": "stdout",
          "text": [
            "Warning: Skipping malformed line in /content/Paddy-Field-Insects-All-Classes-2/train/labels/WHORL-MAGGOTS_original_whorl-10-jpg_68cdf9a6-8432-46aa-9fe1-7c49b6761f72_jpg.rf.da02114e22e3d1e7979bad0bbc9c3741.txt: '10 0.2590734375 0.58608125 0.2732296875 0.609375 0.27456718750000003 0.609375 0.28395000000000004 0.6002640625 0.2930375 0.58608125 0.3009890625 0.5633890625 0.31007656250000004 0.5321875 0.3125 0.512015625 0.3125 0.5025953125 0.30212500000000003 0.489640625 0.28395000000000004 0.492478125 0.2714546875 0.5151687500000001 0.2600953125 0.53360625 0.2566875 0.5633890625 0.2590734375 0.58608125'\n"
          ]
        },
        {
          "output_type": "stream",
          "name": "stderr",
          "text": [
            "Augmenting Whorl_Maggot: 100%|██████████| 412/412 [00:02<00:00, 203.79it/s]"
          ]
        },
        {
          "output_type": "stream",
          "name": "stdout",
          "text": [
            "\n",
            "--- Final Class Distribution ---\n",
            "Armyworm (ID 0): 1012 instances\n",
            "Brown_Planthopper (ID 1): 1000 instances\n",
            "Crickets (ID 2): 1000 instances\n",
            "Dragonfly (ID 3): 1000 instances\n",
            "Mealybug (ID 4): 1002 instances\n",
            "Rice_Bug (ID 5): 1000 instances\n",
            "Rice_Gall_Midge (ID 6): 1004 instances\n",
            "Rice_Water_Weevil (ID 7): 1000 instances\n",
            "Thrips (ID 8): 1000 instances\n",
            "Wasps (ID 9): 1009 instances\n",
            "Whorl_Maggot (ID 10): 1000 instances\n",
            "\n",
            "✅ Successfully created balanced dataset at: /content/Paddy_Insects_Class_Balanced\n",
            "You can now train your YOLO model using the new config file: /content/Paddy_Insects_Class_Balanced/data.yaml\n"
          ]
        },
        {
          "output_type": "stream",
          "name": "stderr",
          "text": [
            "\n"
          ]
        }
      ]
    },
    {
      "cell_type": "markdown",
      "source": [
        "### Organize and Save the BALANCED Dataset"
      ],
      "metadata": {
        "id": "cAMCOsUe6ITH"
      }
    },
    {
      "cell_type": "code",
      "source": [
        "# ==============================================================================\n",
        "# This script takes the BALANCED dataset and saves it to Google Drive,\n",
        "# organized by class. RUN THIS AFTER CELL 1 IS FINISHED.\n",
        "# ==============================================================================\n",
        "\n",
        "\n",
        "# --- Configuration ---\n",
        "# This MUST point to the output folder from the script in previous cell\n",
        "BALANCED_DATASET_DIR = '/content/Paddy_Insects_Class_Balanced'\n",
        "\n",
        "# This is the final destination in your Google Drive\n",
        "DRIVE_OUTPUT_DIR = '/content/drive/MyDrive/Organized_Paddy_Insects_Classification/Dataset_After_Class_Balance'\n",
        "\n",
        "\n",
        "# --- Main Organization Logic ---\n",
        "print(\"\\n--- Starting to organize BALANCED dataset ---\")\n",
        "yaml_path = os.path.join(BALANCED_DATASET_DIR, 'data.yaml')\n",
        "\n",
        "if not os.path.exists(yaml_path):\n",
        "    print(f\"❌ ERROR: Cannot find data.yaml in the balanced dataset folder.\")\n",
        "    print(f\"Please make sure the script in previous cell has finished and the path '{BALANCED_DATASET_DIR}' is correct.\")\n",
        "else:\n",
        "    with open(yaml_path, 'r') as file:\n",
        "        data_config = yaml.safe_load(file)\n",
        "        class_names = data_config['names']\n",
        "\n",
        "    train_images_path = os.path.join(BALANCED_DATASET_DIR, 'train/images')\n",
        "    train_labels_path = os.path.join(BALANCED_DATASET_DIR, 'train/labels')\n",
        "\n",
        "    print(f\"Reading balanced data from: {BALANCED_DATASET_DIR}\")\n",
        "    print(f\"Saving organized data to: {DRIVE_OUTPUT_DIR}\")\n",
        "\n",
        "    os.makedirs(DRIVE_OUTPUT_DIR, exist_ok=True)\n",
        "    for name in class_names:\n",
        "        os.makedirs(os.path.join(DRIVE_OUTPUT_DIR, name), exist_ok=True)\n",
        "    print(\"Created class folders in Google Drive.\")\n",
        "\n",
        "    label_files = [f for f in os.listdir(train_labels_path) if f.endswith('.txt')]\n",
        "\n",
        "    print(\"\\nCopying balanced and augmented images to their class folders...\")\n",
        "    for label_file in tqdm(label_files):\n",
        "        present_class_ids = set()\n",
        "        with open(os.path.join(train_labels_path, label_file), 'r') as f:\n",
        "            for line in f:\n",
        "                try:\n",
        "                    present_class_ids.add(int(line.split()[0]))\n",
        "                except (ValueError, IndexError):\n",
        "                    continue\n",
        "\n",
        "        base_name = os.path.splitext(label_file)[0]\n",
        "        source_image_path = None\n",
        "        for ext in ['.jpg', '.jpeg', '.png']:\n",
        "            potential_path = os.path.join(train_images_path, base_name + ext)\n",
        "            if os.path.exists(potential_path):\n",
        "                source_image_path = potential_path\n",
        "                break\n",
        "\n",
        "        if source_image_path is None:\n",
        "            continue\n",
        "\n",
        "        for class_id in present_class_ids:\n",
        "            class_name = class_names[class_id]\n",
        "            destination_folder = os.path.join(DRIVE_OUTPUT_DIR, class_name)\n",
        "            shutil.copy(source_image_path, destination_folder)\n",
        "\n",
        "    print(f\"\\n✅ Successfully organized and copied the BALANCED dataset to Google Drive!\")"
      ],
      "metadata": {
        "colab": {
          "base_uri": "https://localhost:8080/"
        },
        "id": "rXHtwP725TjS",
        "outputId": "1492ac28-ca9a-4fb3-f645-2ecf3ba6ceb8"
      },
      "execution_count": 11,
      "outputs": [
        {
          "output_type": "stream",
          "name": "stdout",
          "text": [
            "\n",
            "--- Starting to organize BALANCED dataset ---\n",
            "Reading balanced data from: /content/Paddy_Insects_Class_Balanced\n",
            "Saving organized data to: /content/drive/MyDrive/Organized_Paddy_Insects_Classification/Dataset_After_Class_Balance\n",
            "Created class folders in Google Drive.\n",
            "\n",
            "Copying balanced and augmented images to their class folders...\n"
          ]
        },
        {
          "output_type": "stream",
          "name": "stderr",
          "text": [
            "100%|██████████| 7517/7517 [01:05<00:00, 113.93it/s]"
          ]
        },
        {
          "output_type": "stream",
          "name": "stdout",
          "text": [
            "\n",
            "✅ Successfully organized and copied the BALANCED dataset to Google Drive!\n"
          ]
        },
        {
          "output_type": "stream",
          "name": "stderr",
          "text": [
            "\n"
          ]
        }
      ]
    },
    {
      "cell_type": "markdown",
      "source": [
        "### Checking number of images per class after class balancing"
      ],
      "metadata": {
        "id": "HaPA3UYQ7X_h"
      }
    },
    {
      "cell_type": "code",
      "source": [
        "# --- 1. CONFIGURATION ---\n",
        "\n",
        "yaml_file_path = '/content/Paddy_Insects_Class_Balanced/data.yaml'\n",
        "\n",
        "# --- 2. LOAD DATA FROM YAML ---\n",
        "try:\n",
        "    with open(yaml_file_path, 'r') as file:\n",
        "        data = yaml.safe_load(file)\n",
        "        class_names = data['names']\n",
        "        train_labels_path = os.path.join(os.path.dirname(yaml_file_path), data['train'].replace('../', '')) + '/../labels'\n",
        "\n",
        "        print(f\"Successfully loaded {len(class_names)} classes from {yaml_file_path}\")\n",
        "        print(f\"Searching for labels in: {train_labels_path}\")\n",
        "\n",
        "except Exception as e:\n",
        "    print(f\"Error loading or parsing YAML file: {e}\")\n",
        "    # You can stop the script here if the YAML file is not found\n",
        "    class_names = []\n",
        "    train_labels_path = ''\n",
        "\n",
        "# --- 3. COUNT CLASS INSTANCES ---\n",
        "if class_names and os.path.exists(train_labels_path):\n",
        "    class_counts = Counter()\n",
        "\n",
        "    # Loop through all the .txt files in the training labels directory\n",
        "    for filename in os.listdir(train_labels_path):\n",
        "        if filename.endswith('.txt'):\n",
        "            with open(os.path.join(train_labels_path, filename), 'r') as f:\n",
        "                for line in f:\n",
        "                    # The class_id is the first number on each line\n",
        "                    class_id = int(line.split()[0])\n",
        "                    class_counts[class_id] += 1\n",
        "\n",
        "    # --- 4. DISPLAY THE RESULTS ---\n",
        "    print(\"\\n--- Instance Counts per Class ---\")\n",
        "\n",
        "    # Sort the counts by class ID for consistent ordering\n",
        "    sorted_counts = sorted(class_counts.items())\n",
        "\n",
        "    for class_id, count in sorted_counts:\n",
        "        class_name = class_names[class_id]\n",
        "        print(f\"{class_name} (ID: {class_id}): {count} instances\")\n",
        "\n",
        "    # --- 5. VISUALIZE THE RESULTS ---\n",
        "    class_ids = [item[0] for item in sorted_counts]\n",
        "    counts = [item[1] for item in sorted_counts]\n",
        "    names_for_plot = [class_names[id] for id in class_ids]\n",
        "\n",
        "    plt.figure(figsize=(12, 8))\n",
        "    plt.bar(names_for_plot, counts, color='skyblue')\n",
        "    plt.xlabel('Insect Class')\n",
        "    plt.ylabel('Number of Instances')\n",
        "    plt.title('Class Distribution in Training Set')\n",
        "    plt.xticks(rotation=45, ha='right') # Rotate labels to prevent overlap\n",
        "    plt.tight_layout() # Adjust layout to make room for rotated labels\n",
        "    plt.show()\n",
        "\n",
        "else:\n",
        "    print(\"\\nCould not proceed. Check the path to your data.yaml file or the 'train' directory.\")"
      ],
      "metadata": {
        "colab": {
          "base_uri": "https://localhost:8080/",
          "height": 845
        },
        "id": "UEiv46D260sh",
        "outputId": "69dce153-668d-4b31-e701-4aa7e927d6e3"
      },
      "execution_count": 10,
      "outputs": [
        {
          "output_type": "stream",
          "name": "stdout",
          "text": [
            "Successfully loaded 11 classes from /content/Paddy_Insects_Class_Balanced/data.yaml\n",
            "Searching for labels in: /content/Paddy_Insects_Class_Balanced/train/images/../labels\n",
            "\n",
            "--- Instance Counts per Class ---\n",
            "Armyworm (ID: 0): 1012 instances\n",
            "Brown_Planthopper (ID: 1): 1000 instances\n",
            "Crickets (ID: 2): 1000 instances\n",
            "Dragonfly (ID: 3): 1000 instances\n",
            "Mealybug (ID: 4): 1025 instances\n",
            "Rice_Bug (ID: 5): 1046 instances\n",
            "Rice_Gall_Midge (ID: 6): 1004 instances\n",
            "Rice_Water_Weevil (ID: 7): 1000 instances\n",
            "Thrips (ID: 8): 1025 instances\n",
            "Wasps (ID: 9): 1009 instances\n",
            "Whorl_Maggot (ID: 10): 1084 instances\n"
          ]
        },
        {
          "output_type": "display_data",
          "data": {
            "text/plain": [
              "<Figure size 1200x800 with 1 Axes>"
            ],
            "image/png": "[encoded data removed]"
          },
          "metadata": {}
        }
      ]
    },
    {
      "cell_type": "code",
      "source": [
        "# Define the path to  balanced dataset's configuration file\n",
        "data_config_path = '/content/Paddy_Insects_Class_Balanced/data.yaml'\n",
        "\n",
        "# Load a pre-trained YOLOv8 model. 'yolov8n.pt' is the smallest and fastest.\n",
        "# 'yolov8s.pt', 'yolov8m.pt' are larger and more accurate but slower.\n",
        "model = YOLO('yolov8n.pt')\n",
        "\n",
        "# Train the model on  custom dataset\n",
        "# The results object will contain information about the training run\n",
        "results = model.train(\n",
        "    data='/content/Paddy_Insects_Class_Balanced/data.yaml',\n",
        "    epochs=75,\n",
        "    imgsz=640,\n",
        "    project='/content/drive/MyDrive/Organized_Paddy_Insects_Classification/YOLO_Training_Runs/detect',\n",
        "    name='yolo_paddy_insect_v1',\n",
        "    exist_ok=True # Good to add this so you can re-run without errors\n",
        ")"
      ],
      "metadata": {
        "colab": {
          "base_uri": "https://localhost:8080/"
        },
        "id": "_yLfpUfT7WEP",
        "outputId": "06655f5b-16aa-4b94-d119-603ed48ba035"
      },
      "execution_count": 14,
      "outputs": [
        {
          "metadata": {
            "tags": null
          },
          "name": "stderr",
          "output_type": "stream",
          "text": [
            "Downloading https://github.com/ultralytics/assets/releases/download/v8.3.0/yolov8n.pt to 'yolov8n.pt': 100%|██████████| 6.25M/6.25M [00:00<00:00, 87.7MB/s]\n"
          ]
        },
        {
          "metadata": {
            "tags": null
          },
          "name": "stdout",
          "output_type": "stream",
          "text": [
            "Ultralytics 8.3.184 🚀 Python-3.12.11 torch-2.8.0+cu126 CUDA:0 (Tesla T4, 15095MiB)\n",
            "\u001b[34m\u001b[1mengine/trainer: \u001b[0magnostic_nms=False, amp=True, augment=False, auto_augment=randaugment, batch=16, bgr=0.0, box=7.5, cache=False, cfg=None, classes=None, close_mosaic=10, cls=0.5, conf=None, copy_paste=0.0, copy_paste_mode=flip, cos_lr=False, cutmix=0.0, data=/content/Paddy_Insects_Class_Balanced/data.yaml, degrees=0.0, deterministic=True, device=None, dfl=1.5, dnn=False, dropout=0.0, dynamic=False, embed=None, epochs=75, erasing=0.4, exist_ok=True, fliplr=0.5, flipud=0.0, format=torchscript, fraction=1.0, freeze=None, half=False, hsv_h=0.015, hsv_s=0.7, hsv_v=0.4, imgsz=640, int8=False, iou=0.7, keras=False, kobj=1.0, line_width=None, lr0=0.01, lrf=0.01, mask_ratio=4, max_det=300, mixup=0.0, mode=train, model=yolov8n.pt, momentum=0.937, mosaic=1.0, multi_scale=False, name=yolo_paddy_insect_v1, nbs=64, nms=False, opset=None, optimize=False, optimizer=auto, overlap_mask=True, patience=100, perspective=0.0, plots=True, pose=12.0, pretrained=True, profile=False, project=/content/drive/MyDrive/Organized_Paddy_Insects_Classification/YOLO_Training_Runs/detect, rect=False, resume=False, retina_masks=False, save=True, save_conf=False, save_crop=False, save_dir=/content/drive/MyDrive/Organized_Paddy_Insects_Classification/YOLO_Training_Runs/detect/yolo_paddy_insect_v1, save_frames=False, save_json=False, save_period=-1, save_txt=False, scale=0.5, seed=0, shear=0.0, show=False, show_boxes=True, show_conf=True, show_labels=True, simplify=True, single_cls=False, source=None, split=val, stream_buffer=False, task=detect, time=None, tracker=botsort.yaml, translate=0.1, val=True, verbose=True, vid_stride=1, visualize=False, warmup_bias_lr=0.1, warmup_epochs=3.0, warmup_momentum=0.8, weight_decay=0.0005, workers=8, workspace=None\n"
          ]
        },
        {
          "metadata": {
            "tags": null
          },
          "name": "stderr",
          "output_type": "stream",
          "text": [
            "Downloading https://ultralytics.com/assets/Arial.ttf to '/root/.config/Ultralytics/Arial.ttf': 100%|██████████| 755k/755k [00:00<00:00, 24.3MB/s]"
          ]
        },
        {
          "metadata": {
            "tags": null
          },
          "name": "stdout",
          "output_type": "stream",
          "text": [
            "Overriding model.yaml nc=80 with nc=11\n",
            "\n",
            "                   from  n    params  module                                       arguments                     \n",
            "  0                  -1  1       464  ultralytics.nn.modules.conv.Conv             [3, 16, 3, 2]                 \n",
            "  1                  -1  1      4672  ultralytics.nn.modules.conv.Conv             [16, 32, 3, 2]                \n",
            "  2                  -1  1      7360  ultralytics.nn.modules.block.C2f             [32, 32, 1, True]             \n",
            "  3                  -1  1     18560  ultralytics.nn.modules.conv.Conv             [32, 64, 3, 2]                \n",
            "  4                  -1  2     49664  ultralytics.nn.modules.block.C2f             [64, 64, 2, True]             \n",
            "  5                  -1  1     73984  ultralytics.nn.modules.conv.Conv             [64, 128, 3, 2]               \n",
            "  6                  -1  2    197632  ultralytics.nn.modules.block.C2f             [128, 128, 2, True]           \n",
            "  7                  -1  1    295424  ultralytics.nn.modules.conv.Conv             [128, 256, 3, 2]              \n",
            "  8                  -1  1    460288  ultralytics.nn.modules.block.C2f             [256, 256, 1, True]           \n",
            "  9                  -1  1    164608  ultralytics.nn.modules.block.SPPF            [256, 256, 5]                 \n",
            " 10                  -1  1         0  torch.nn.modules.upsampling.Upsample         [None, 2, 'nearest']          \n",
            " 11             [-1, 6]  1         0  ultralytics.nn.modules.conv.Concat           [1]                           \n",
            " 12                  -1  1    148224  ultralytics.nn.modules.block.C2f             [384, 128, 1]                 \n",
            " 13                  -1  1         0  torch.nn.modules.upsampling.Upsample         [None, 2, 'nearest']          \n",
            " 14             [-1, 4]  1         0  ultralytics.nn.modules.conv.Concat           [1]                           \n",
            " 15                  -1  1     37248  ultralytics.nn.modules.block.C2f             [192, 64, 1]                  \n",
            " 16                  -1  1     36992  ultralytics.nn.modules.conv.Conv             [64, 64, 3, 2]                \n",
            " 17            [-1, 12]  1         0  ultralytics.nn.modules.conv.Concat           [1]                           \n",
            " 18                  -1  1    123648  ultralytics.nn.modules.block.C2f             [192, 128, 1]                 \n",
            " 19                  -1  1    147712  ultralytics.nn.modules.conv.Conv             [128, 128, 3, 2]              \n",
            " 20             [-1, 9]  1         0  ultralytics.nn.modules.conv.Concat           [1]                           \n",
            " 21                  -1  1    493056  ultralytics.nn.modules.block.C2f             [384, 256, 1]                 \n",
            " 22        [15, 18, 21]  1    753457  ultralytics.nn.modules.head.Detect           [11, [64, 128, 256]]          \n"
          ]
        },
        {
          "metadata": {
            "tags": null
          },
          "name": "stderr",
          "output_type": "stream",
          "text": [
            "\n"
          ]
        },
        {
          "metadata": {
            "tags": null
          },
          "name": "stdout",
          "output_type": "stream",
          "text": [
            "Model summary: 129 layers, 3,012,993 parameters, 3,012,977 gradients, 8.2 GFLOPs\n",
            "\n",
            "Transferred 319/355 items from pretrained weights\n",
            "Freezing layer 'model.22.dfl.conv.weight'\n",
            "\u001b[34m\u001b[1mAMP: \u001b[0mrunning Automatic Mixed Precision (AMP) checks...\n"
          ]
        },
        {
          "metadata": {
            "tags": null
          },
          "name": "stderr",
          "output_type": "stream",
          "text": [
            "Downloading https://github.com/ultralytics/assets/releases/download/v8.3.0/yolo11n.pt to 'yolo11n.pt': 100%|██████████| 5.35M/5.35M [00:00<00:00, 78.6MB/s]\n"
          ]
        },
        {
          "metadata": {
            "tags": null
          },
          "name": "stdout",
          "output_type": "stream",
          "text": [
            "\u001b[34m\u001b[1mAMP: \u001b[0mchecks passed ✅\n",
            "\u001b[34m\u001b[1mtrain: \u001b[0mFast image access ✅ (ping: 0.0±0.0 ms, read: 1396.8±567.5 MB/s, size: 35.2 KB)\n"
          ]
        },
        {
          "metadata": {
            "tags": null
          },
          "name": "stderr",
          "output_type": "stream",
          "text": [
            "\u001b[34m\u001b[1mtrain: \u001b[0mScanning /content/Paddy_Insects_Class_Balanced/train/labels... 7517 images, 175 backgrounds, 0 corrupt: 100%|██████████| 7517/7517 [00:02<00:00, 2515.54it/s]\n"
          ]
        },
        {
          "metadata": {
            "tags": null
          },
          "name": "stdout",
          "output_type": "stream",
          "text": [
            "\u001b[34m\u001b[1mtrain: \u001b[0mNew cache created: /content/Paddy_Insects_Class_Balanced/train/labels.cache\n",
            "WARNING ⚠️ Box and segment counts should be equal, but got len(segments) = 203, len(boxes) = 11205. To resolve this only boxes will be used and all segments will be removed. To avoid this please supply either a detect or segment dataset, not a detect-segment mixed dataset.\n",
            "\u001b[34m\u001b[1malbumentations: \u001b[0mBlur(p=0.01, blur_limit=(3, 7)), MedianBlur(p=0.01, blur_limit=(3, 7)), ToGray(p=0.01, method='weighted_average', num_output_channels=3), CLAHE(p=0.01, clip_limit=(1.0, 4.0), tile_grid_size=(8, 8))\n",
            "\u001b[34m\u001b[1mval: \u001b[0mFast image access ✅ (ping: 0.0±0.0 ms, read: 752.8±240.2 MB/s, size: 30.6 KB)\n"
          ]
        },
        {
          "metadata": {
            "tags": null
          },
          "name": "stderr",
          "output_type": "stream",
          "text": [
            "\u001b[34m\u001b[1mval: \u001b[0mScanning /content/Paddy_Insects_Class_Balanced/valid/labels... 1146 images, 40 backgrounds, 0 corrupt: 100%|██████████| 1146/1146 [00:01<00:00, 1079.90it/s]\n"
          ]
        },
        {
          "metadata": {
            "tags": null
          },
          "name": "stdout",
          "output_type": "stream",
          "text": [
            "\u001b[34m\u001b[1mval: \u001b[0mNew cache created: /content/Paddy_Insects_Class_Balanced/valid/labels.cache\n",
            "WARNING ⚠️ Box and segment counts should be equal, but got len(segments) = 57, len(boxes) = 1821. To resolve this only boxes will be used and all segments will be removed. To avoid this please supply either a detect or segment dataset, not a detect-segment mixed dataset.\n",
            "Plotting labels to /content/drive/MyDrive/Organized_Paddy_Insects_Classification/YOLO_Training_Runs/detect/yolo_paddy_insect_v1/labels.jpg... \n",
            "\u001b[34m\u001b[1moptimizer:\u001b[0m 'optimizer=auto' found, ignoring 'lr0=0.01' and 'momentum=0.937' and determining best 'optimizer', 'lr0' and 'momentum' automatically... \n",
            "\u001b[34m\u001b[1moptimizer:\u001b[0m AdamW(lr=0.000667, momentum=0.9) with parameter groups 57 weight(decay=0.0), 64 weight(decay=0.0005), 63 bias(decay=0.0)\n",
            "Image sizes 640 train, 640 val\n",
            "Using 2 dataloader workers\n",
            "Logging results to \u001b[1m/content/drive/MyDrive/Organized_Paddy_Insects_Classification/YOLO_Training_Runs/detect/yolo_paddy_insect_v1\u001b[0m\n",
            "Starting training for 75 epochs...\n",
            "\n",
            "      Epoch    GPU_mem   box_loss   cls_loss   dfl_loss  Instances       Size\n"
          ]
        },
        {
          "metadata": {
            "tags": null
          },
          "name": "stderr",
          "output_type": "stream",
          "text": [
            "       1/75      2.12G      1.474      3.111      1.736         33        640: 100%|██████████| 470/470 [02:18<00:00,  3.40it/s]\n",
            "                 Class     Images  Instances      Box(P          R      mAP50  mAP50-95): 100%|██████████| 36/36 [00:10<00:00,  3.40it/s]"
          ]
        },
        {
          "metadata": {
            "tags": null
          },
          "name": "stdout",
          "output_type": "stream",
          "text": [
            "                   all       1146       1821      0.517      0.436      0.436      0.227\n"
          ]
        },
        {
          "metadata": {
            "tags": null
          },
          "name": "stderr",
          "output_type": "stream",
          "text": [
            "\n"
          ]
        },
        {
          "metadata": {
            "tags": null
          },
          "name": "stdout",
          "output_type": "stream",
          "text": [
            "\n",
            "      Epoch    GPU_mem   box_loss   cls_loss   dfl_loss  Instances       Size\n"
          ]
        },
        {
          "metadata": {
            "tags": null
          },
          "name": "stderr",
          "output_type": "stream",
          "text": [
            "       2/75      3.08G       1.45      2.308      1.697         38        640: 100%|██████████| 470/470 [02:08<00:00,  3.67it/s]\n",
            "                 Class     Images  Instances      Box(P          R      mAP50  mAP50-95): 100%|██████████| 36/36 [00:08<00:00,  4.13it/s]\n"
          ]
        },
        {
          "metadata": {
            "tags": null
          },
          "name": "stdout",
          "output_type": "stream",
          "text": [
            "                   all       1146       1821      0.641      0.515      0.563      0.304\n",
            "\n",
            "      Epoch    GPU_mem   box_loss   cls_loss   dfl_loss  Instances       Size\n"
          ]
        },
        {
          "metadata": {
            "tags": null
          },
          "name": "stderr",
          "output_type": "stream",
          "text": [
            "       3/75       3.1G       1.44      2.001       1.67         38        640: 100%|██████████| 470/470 [02:07<00:00,  3.69it/s]\n",
            "                 Class     Images  Instances      Box(P          R      mAP50  mAP50-95): 100%|██████████| 36/36 [00:09<00:00,  3.74it/s]\n"
          ]
        },
        {
          "metadata": {
            "tags": null
          },
          "name": "stdout",
          "output_type": "stream",
          "text": [
            "                   all       1146       1821      0.573      0.522      0.537       0.29\n",
            "\n",
            "      Epoch    GPU_mem   box_loss   cls_loss   dfl_loss  Instances       Size\n"
          ]
        },
        {
          "metadata": {
            "tags": null
          },
          "name": "stderr",
          "output_type": "stream",
          "text": [
            "       4/75      3.12G      1.424      1.807      1.652         40        640: 100%|██████████| 470/470 [02:07<00:00,  3.68it/s]\n",
            "                 Class     Images  Instances      Box(P          R      mAP50  mAP50-95): 100%|██████████| 36/36 [00:08<00:00,  4.37it/s]"
          ]
        },
        {
          "metadata": {
            "tags": null
          },
          "name": "stdout",
          "output_type": "stream",
          "text": [
            "                   all       1146       1821      0.737      0.596      0.651      0.379\n"
          ]
        },
        {
          "metadata": {
            "tags": null
          },
          "name": "stderr",
          "output_type": "stream",
          "text": [
            "\n"
          ]
        },
        {
          "metadata": {
            "tags": null
          },
          "name": "stdout",
          "output_type": "stream",
          "text": [
            "\n",
            "      Epoch    GPU_mem   box_loss   cls_loss   dfl_loss  Instances       Size\n"
          ]
        },
        {
          "metadata": {
            "tags": null
          },
          "name": "stderr",
          "output_type": "stream",
          "text": [
            "       5/75      3.13G      1.391      1.665      1.625         47        640: 100%|██████████| 470/470 [02:05<00:00,  3.74it/s]\n",
            "                 Class     Images  Instances      Box(P          R      mAP50  mAP50-95): 100%|██████████| 36/36 [00:09<00:00,  3.82it/s]\n"
          ]
        },
        {
          "metadata": {
            "tags": null
          },
          "name": "stdout",
          "output_type": "stream",
          "text": [
            "                   all       1146       1821      0.697      0.604      0.653      0.386\n",
            "\n",
            "      Epoch    GPU_mem   box_loss   cls_loss   dfl_loss  Instances       Size\n"
          ]
        },
        {
          "metadata": {
            "tags": null
          },
          "name": "stderr",
          "output_type": "stream",
          "text": [
            "       6/75      3.15G      1.352      1.564      1.593         50        640: 100%|██████████| 470/470 [02:07<00:00,  3.69it/s]\n",
            "                 Class     Images  Instances      Box(P          R      mAP50  mAP50-95): 100%|██████████| 36/36 [00:09<00:00,  3.92it/s]"
          ]
        },
        {
          "metadata": {
            "tags": null
          },
          "name": "stdout",
          "output_type": "stream",
          "text": [
            "                   all       1146       1821      0.746      0.703      0.721      0.419\n"
          ]
        },
        {
          "metadata": {
            "tags": null
          },
          "name": "stderr",
          "output_type": "stream",
          "text": [
            "\n"
          ]
        },
        {
          "metadata": {
            "tags": null
          },
          "name": "stdout",
          "output_type": "stream",
          "text": [
            "\n",
            "      Epoch    GPU_mem   box_loss   cls_loss   dfl_loss  Instances       Size\n"
          ]
        },
        {
          "metadata": {
            "tags": null
          },
          "name": "stderr",
          "output_type": "stream",
          "text": [
            "       7/75      3.17G      1.319       1.44      1.565         38        640: 100%|██████████| 470/470 [02:07<00:00,  3.68it/s]\n",
            "                 Class     Images  Instances      Box(P          R      mAP50  mAP50-95): 100%|██████████| 36/36 [00:08<00:00,  4.34it/s]\n"
          ]
        },
        {
          "metadata": {
            "tags": null
          },
          "name": "stdout",
          "output_type": "stream",
          "text": [
            "                   all       1146       1821      0.762      0.697      0.737      0.432\n",
            "\n",
            "      Epoch    GPU_mem   box_loss   cls_loss   dfl_loss  Instances       Size\n"
          ]
        },
        {
          "metadata": {
            "tags": null
          },
          "name": "stderr",
          "output_type": "stream",
          "text": [
            "       8/75      3.19G      1.302      1.421      1.553         24        640: 100%|██████████| 470/470 [02:06<00:00,  3.70it/s]\n",
            "                 Class     Images  Instances      Box(P          R      mAP50  mAP50-95): 100%|██████████| 36/36 [00:09<00:00,  3.79it/s]\n"
          ]
        },
        {
          "metadata": {
            "tags": null
          },
          "name": "stdout",
          "output_type": "stream",
          "text": [
            "                   all       1146       1821      0.783      0.718      0.737      0.456\n",
            "\n",
            "      Epoch    GPU_mem   box_loss   cls_loss   dfl_loss  Instances       Size\n"
          ]
        },
        {
          "metadata": {
            "tags": null
          },
          "name": "stderr",
          "output_type": "stream",
          "text": [
            "       9/75       3.2G      1.271      1.325      1.534         39        640: 100%|██████████| 470/470 [02:08<00:00,  3.65it/s]\n",
            "                 Class     Images  Instances      Box(P          R      mAP50  mAP50-95): 100%|██████████| 36/36 [00:08<00:00,  4.38it/s]"
          ]
        },
        {
          "metadata": {
            "tags": null
          },
          "name": "stdout",
          "output_type": "stream",
          "text": [
            "                   all       1146       1821      0.764      0.724      0.764      0.479\n"
          ]
        },
        {
          "metadata": {
            "tags": null
          },
          "name": "stderr",
          "output_type": "stream",
          "text": [
            "\n"
          ]
        },
        {
          "metadata": {
            "tags": null
          },
          "name": "stdout",
          "output_type": "stream",
          "text": [
            "\n",
            "      Epoch    GPU_mem   box_loss   cls_loss   dfl_loss  Instances       Size\n"
          ]
        },
        {
          "metadata": {
            "tags": null
          },
          "name": "stderr",
          "output_type": "stream",
          "text": [
            "      10/75      3.22G       1.26      1.283      1.518         40        640: 100%|██████████| 470/470 [02:06<00:00,  3.73it/s]\n",
            "                 Class     Images  Instances      Box(P          R      mAP50  mAP50-95): 100%|██████████| 36/36 [00:09<00:00,  3.83it/s]\n"
          ]
        },
        {
          "metadata": {
            "tags": null
          },
          "name": "stdout",
          "output_type": "stream",
          "text": [
            "                   all       1146       1821      0.796      0.739      0.773      0.488\n",
            "\n",
            "      Epoch    GPU_mem   box_loss   cls_loss   dfl_loss  Instances       Size\n"
          ]
        },
        {
          "metadata": {
            "tags": null
          },
          "name": "stderr",
          "output_type": "stream",
          "text": [
            "      11/75      3.24G      1.232      1.258      1.496         35        640: 100%|██████████| 470/470 [02:08<00:00,  3.67it/s]\n",
            "                 Class     Images  Instances      Box(P          R      mAP50  mAP50-95): 100%|██████████| 36/36 [00:09<00:00,  3.84it/s]"
          ]
        },
        {
          "metadata": {
            "tags": null
          },
          "name": "stdout",
          "output_type": "stream",
          "text": [
            "                   all       1146       1821      0.813      0.735      0.776      0.487\n"
          ]
        },
        {
          "metadata": {
            "tags": null
          },
          "name": "stderr",
          "output_type": "stream",
          "text": [
            "\n"
          ]
        },
        {
          "metadata": {
            "tags": null
          },
          "name": "stdout",
          "output_type": "stream",
          "text": [
            "\n",
            "      Epoch    GPU_mem   box_loss   cls_loss   dfl_loss  Instances       Size\n"
          ]
        },
        {
          "metadata": {
            "tags": null
          },
          "name": "stderr",
          "output_type": "stream",
          "text": [
            "      12/75      3.26G      1.213      1.199      1.482         26        640: 100%|██████████| 470/470 [02:06<00:00,  3.73it/s]\n",
            "                 Class     Images  Instances      Box(P          R      mAP50  mAP50-95): 100%|██████████| 36/36 [00:09<00:00,  3.85it/s]\n"
          ]
        },
        {
          "metadata": {
            "tags": null
          },
          "name": "stdout",
          "output_type": "stream",
          "text": [
            "                   all       1146       1821      0.806      0.743      0.786      0.492\n",
            "\n",
            "      Epoch    GPU_mem   box_loss   cls_loss   dfl_loss  Instances       Size\n"
          ]
        },
        {
          "metadata": {
            "tags": null
          },
          "name": "stderr",
          "output_type": "stream",
          "text": [
            "      13/75      3.27G      1.198      1.186      1.474         32        640: 100%|██████████| 470/470 [02:05<00:00,  3.74it/s]\n",
            "                 Class     Images  Instances      Box(P          R      mAP50  mAP50-95): 100%|██████████| 36/36 [00:08<00:00,  4.34it/s]"
          ]
        },
        {
          "metadata": {
            "tags": null
          },
          "name": "stdout",
          "output_type": "stream",
          "text": [
            "                   all       1146       1821      0.801      0.761      0.789      0.517\n"
          ]
        },
        {
          "metadata": {
            "tags": null
          },
          "name": "stderr",
          "output_type": "stream",
          "text": [
            "\n"
          ]
        },
        {
          "metadata": {
            "tags": null
          },
          "name": "stdout",
          "output_type": "stream",
          "text": [
            "\n",
            "      Epoch    GPU_mem   box_loss   cls_loss   dfl_loss  Instances       Size\n"
          ]
        },
        {
          "metadata": {
            "tags": null
          },
          "name": "stderr",
          "output_type": "stream",
          "text": [
            "      14/75      3.29G      1.194      1.143      1.465         39        640: 100%|██████████| 470/470 [02:05<00:00,  3.74it/s]\n",
            "                 Class     Images  Instances      Box(P          R      mAP50  mAP50-95): 100%|██████████| 36/36 [00:09<00:00,  3.92it/s]"
          ]
        },
        {
          "metadata": {
            "tags": null
          },
          "name": "stdout",
          "output_type": "stream",
          "text": [
            "                   all       1146       1821      0.826      0.769      0.798      0.507\n"
          ]
        },
        {
          "metadata": {
            "tags": null
          },
          "name": "stderr",
          "output_type": "stream",
          "text": [
            "\n"
          ]
        },
        {
          "metadata": {
            "tags": null
          },
          "name": "stdout",
          "output_type": "stream",
          "text": [
            "\n",
            "      Epoch    GPU_mem   box_loss   cls_loss   dfl_loss  Instances       Size\n"
          ]
        },
        {
          "metadata": {
            "tags": null
          },
          "name": "stderr",
          "output_type": "stream",
          "text": [
            "      15/75      3.31G       1.17      1.099      1.447         38        640: 100%|██████████| 470/470 [02:05<00:00,  3.74it/s]\n",
            "                 Class     Images  Instances      Box(P          R      mAP50  mAP50-95): 100%|██████████| 36/36 [00:08<00:00,  4.30it/s]"
          ]
        },
        {
          "metadata": {
            "tags": null
          },
          "name": "stdout",
          "output_type": "stream",
          "text": [
            "                   all       1146       1821      0.812      0.761      0.792      0.501\n"
          ]
        },
        {
          "metadata": {
            "tags": null
          },
          "name": "stderr",
          "output_type": "stream",
          "text": [
            "\n"
          ]
        },
        {
          "metadata": {
            "tags": null
          },
          "name": "stdout",
          "output_type": "stream",
          "text": [
            "\n",
            "      Epoch    GPU_mem   box_loss   cls_loss   dfl_loss  Instances       Size\n"
          ]
        },
        {
          "metadata": {
            "tags": null
          },
          "name": "stderr",
          "output_type": "stream",
          "text": [
            "      16/75      3.32G      1.166      1.105      1.439         54        640: 100%|██████████| 470/470 [02:05<00:00,  3.75it/s]\n",
            "                 Class     Images  Instances      Box(P          R      mAP50  mAP50-95): 100%|██████████| 36/36 [00:08<00:00,  4.10it/s]\n"
          ]
        },
        {
          "metadata": {
            "tags": null
          },
          "name": "stdout",
          "output_type": "stream",
          "text": [
            "                   all       1146       1821      0.866      0.757      0.803      0.515\n",
            "\n",
            "      Epoch    GPU_mem   box_loss   cls_loss   dfl_loss  Instances       Size\n"
          ]
        },
        {
          "metadata": {
            "tags": null
          },
          "name": "stderr",
          "output_type": "stream",
          "text": [
            "      17/75      3.34G      1.148      1.075       1.43         31        640: 100%|██████████| 470/470 [02:05<00:00,  3.75it/s]\n",
            "                 Class     Images  Instances      Box(P          R      mAP50  mAP50-95): 100%|██████████| 36/36 [00:09<00:00,  3.93it/s]\n"
          ]
        },
        {
          "metadata": {
            "tags": null
          },
          "name": "stdout",
          "output_type": "stream",
          "text": [
            "                   all       1146       1821      0.775      0.798      0.809      0.531\n",
            "\n",
            "      Epoch    GPU_mem   box_loss   cls_loss   dfl_loss  Instances       Size\n"
          ]
        },
        {
          "metadata": {
            "tags": null
          },
          "name": "stderr",
          "output_type": "stream",
          "text": [
            "      18/75      3.36G      1.135      1.048      1.422         25        640: 100%|██████████| 470/470 [02:06<00:00,  3.73it/s]\n",
            "                 Class     Images  Instances      Box(P          R      mAP50  mAP50-95): 100%|██████████| 36/36 [00:08<00:00,  4.44it/s]"
          ]
        },
        {
          "metadata": {
            "tags": null
          },
          "name": "stdout",
          "output_type": "stream",
          "text": [
            "                   all       1146       1821      0.825      0.796      0.823       0.53\n"
          ]
        },
        {
          "metadata": {
            "tags": null
          },
          "name": "stderr",
          "output_type": "stream",
          "text": [
            "\n"
          ]
        },
        {
          "metadata": {
            "tags": null
          },
          "name": "stdout",
          "output_type": "stream",
          "text": [
            "\n",
            "      Epoch    GPU_mem   box_loss   cls_loss   dfl_loss  Instances       Size\n"
          ]
        },
        {
          "metadata": {
            "tags": null
          },
          "name": "stderr",
          "output_type": "stream",
          "text": [
            "      19/75      3.38G      1.134      1.029      1.411         69        640: 100%|██████████| 470/470 [02:04<00:00,  3.78it/s]\n",
            "                 Class     Images  Instances      Box(P          R      mAP50  mAP50-95): 100%|██████████| 36/36 [00:09<00:00,  3.90it/s]\n"
          ]
        },
        {
          "metadata": {
            "tags": null
          },
          "name": "stdout",
          "output_type": "stream",
          "text": [
            "                   all       1146       1821      0.807      0.808      0.827      0.547\n",
            "\n",
            "      Epoch    GPU_mem   box_loss   cls_loss   dfl_loss  Instances       Size\n"
          ]
        },
        {
          "metadata": {
            "tags": null
          },
          "name": "stderr",
          "output_type": "stream",
          "text": [
            "      20/75      3.39G      1.119      1.013      1.408         21        640: 100%|██████████| 470/470 [02:06<00:00,  3.72it/s]\n",
            "                 Class     Images  Instances      Box(P          R      mAP50  mAP50-95): 100%|██████████| 36/36 [00:09<00:00,  3.93it/s]\n"
          ]
        },
        {
          "metadata": {
            "tags": null
          },
          "name": "stdout",
          "output_type": "stream",
          "text": [
            "                   all       1146       1821      0.847      0.808      0.834      0.544\n",
            "\n",
            "      Epoch    GPU_mem   box_loss   cls_loss   dfl_loss  Instances       Size\n"
          ]
        },
        {
          "metadata": {
            "tags": null
          },
          "name": "stderr",
          "output_type": "stream",
          "text": [
            "      21/75      3.41G      1.107     0.9849      1.401         36        640: 100%|██████████| 470/470 [02:05<00:00,  3.74it/s]\n",
            "                 Class     Images  Instances      Box(P          R      mAP50  mAP50-95): 100%|██████████| 36/36 [00:07<00:00,  4.57it/s]\n"
          ]
        },
        {
          "metadata": {
            "tags": null
          },
          "name": "stdout",
          "output_type": "stream",
          "text": [
            "                   all       1146       1821      0.823      0.791      0.819      0.541\n",
            "\n",
            "      Epoch    GPU_mem   box_loss   cls_loss   dfl_loss  Instances       Size\n"
          ]
        },
        {
          "metadata": {
            "tags": null
          },
          "name": "stderr",
          "output_type": "stream",
          "text": [
            "      22/75      3.43G      1.093     0.9707      1.396         54        640: 100%|██████████| 470/470 [02:03<00:00,  3.79it/s]\n",
            "                 Class     Images  Instances      Box(P          R      mAP50  mAP50-95): 100%|██████████| 36/36 [00:09<00:00,  3.94it/s]\n"
          ]
        },
        {
          "metadata": {
            "tags": null
          },
          "name": "stdout",
          "output_type": "stream",
          "text": [
            "                   all       1146       1821      0.828      0.783      0.814      0.544\n",
            "\n",
            "      Epoch    GPU_mem   box_loss   cls_loss   dfl_loss  Instances       Size\n"
          ]
        },
        {
          "metadata": {
            "tags": null
          },
          "name": "stderr",
          "output_type": "stream",
          "text": [
            "      23/75      3.44G      1.086     0.9624      1.385         60        640: 100%|██████████| 470/470 [02:05<00:00,  3.76it/s]\n",
            "                 Class     Images  Instances      Box(P          R      mAP50  mAP50-95): 100%|██████████| 36/36 [00:08<00:00,  4.16it/s]"
          ]
        },
        {
          "metadata": {
            "tags": null
          },
          "name": "stdout",
          "output_type": "stream",
          "text": [
            "                   all       1146       1821      0.865      0.801      0.831      0.555\n"
          ]
        },
        {
          "metadata": {
            "tags": null
          },
          "name": "stderr",
          "output_type": "stream",
          "text": [
            "\n"
          ]
        },
        {
          "metadata": {
            "tags": null
          },
          "name": "stdout",
          "output_type": "stream",
          "text": [
            "\n",
            "      Epoch    GPU_mem   box_loss   cls_loss   dfl_loss  Instances       Size\n"
          ]
        },
        {
          "metadata": {
            "tags": null
          },
          "name": "stderr",
          "output_type": "stream",
          "text": [
            "      24/75      3.46G      1.079     0.9387      1.371         34        640: 100%|██████████| 470/470 [02:04<00:00,  3.76it/s]\n",
            "                 Class     Images  Instances      Box(P          R      mAP50  mAP50-95): 100%|██████████| 36/36 [00:10<00:00,  3.56it/s]"
          ]
        },
        {
          "metadata": {
            "tags": null
          },
          "name": "stdout",
          "output_type": "stream",
          "text": [
            "                   all       1146       1821      0.852      0.792      0.812       0.54\n"
          ]
        },
        {
          "metadata": {
            "tags": null
          },
          "name": "stderr",
          "output_type": "stream",
          "text": [
            "\n"
          ]
        },
        {
          "metadata": {
            "tags": null
          },
          "name": "stdout",
          "output_type": "stream",
          "text": [
            "\n",
            "      Epoch    GPU_mem   box_loss   cls_loss   dfl_loss  Instances       Size\n"
          ]
        },
        {
          "metadata": {
            "tags": null
          },
          "name": "stderr",
          "output_type": "stream",
          "text": [
            "      25/75      3.48G      1.066     0.9246      1.373         30        640: 100%|██████████| 470/470 [02:03<00:00,  3.80it/s]\n",
            "                 Class     Images  Instances      Box(P          R      mAP50  mAP50-95): 100%|██████████| 36/36 [00:09<00:00,  3.92it/s]\n"
          ]
        },
        {
          "metadata": {
            "tags": null
          },
          "name": "stdout",
          "output_type": "stream",
          "text": [
            "                   all       1146       1821      0.855      0.807      0.842      0.563\n",
            "\n",
            "      Epoch    GPU_mem   box_loss   cls_loss   dfl_loss  Instances       Size\n"
          ]
        },
        {
          "metadata": {
            "tags": null
          },
          "name": "stderr",
          "output_type": "stream",
          "text": [
            "      26/75      3.49G       1.06     0.9174      1.366         55        640: 100%|██████████| 470/470 [02:07<00:00,  3.69it/s]\n",
            "                 Class     Images  Instances      Box(P          R      mAP50  mAP50-95): 100%|██████████| 36/36 [00:09<00:00,  3.93it/s]\n"
          ]
        },
        {
          "metadata": {
            "tags": null
          },
          "name": "stdout",
          "output_type": "stream",
          "text": [
            "                   all       1146       1821      0.851      0.803      0.839      0.556\n",
            "\n",
            "      Epoch    GPU_mem   box_loss   cls_loss   dfl_loss  Instances       Size\n"
          ]
        },
        {
          "metadata": {
            "tags": null
          },
          "name": "stderr",
          "output_type": "stream",
          "text": [
            "      27/75      3.51G      1.042     0.8888      1.352         36        640: 100%|██████████| 470/470 [02:06<00:00,  3.71it/s]\n",
            "                 Class     Images  Instances      Box(P          R      mAP50  mAP50-95): 100%|██████████| 36/36 [00:07<00:00,  4.56it/s]"
          ]
        },
        {
          "metadata": {
            "tags": null
          },
          "name": "stdout",
          "output_type": "stream",
          "text": [
            "                   all       1146       1821      0.858      0.801      0.841      0.562\n"
          ]
        },
        {
          "metadata": {
            "tags": null
          },
          "name": "stderr",
          "output_type": "stream",
          "text": [
            "\n"
          ]
        },
        {
          "metadata": {
            "tags": null
          },
          "name": "stdout",
          "output_type": "stream",
          "text": [
            "\n",
            "      Epoch    GPU_mem   box_loss   cls_loss   dfl_loss  Instances       Size\n"
          ]
        },
        {
          "metadata": {
            "tags": null
          },
          "name": "stderr",
          "output_type": "stream",
          "text": [
            "      28/75      3.53G      1.048     0.8848      1.356         40        640: 100%|██████████| 470/470 [02:08<00:00,  3.67it/s]\n",
            "                 Class     Images  Instances      Box(P          R      mAP50  mAP50-95): 100%|██████████| 36/36 [00:08<00:00,  4.36it/s]\n"
          ]
        },
        {
          "metadata": {
            "tags": null
          },
          "name": "stdout",
          "output_type": "stream",
          "text": [
            "                   all       1146       1821      0.863      0.805      0.838      0.565\n",
            "\n",
            "      Epoch    GPU_mem   box_loss   cls_loss   dfl_loss  Instances       Size\n"
          ]
        },
        {
          "metadata": {
            "tags": null
          },
          "name": "stderr",
          "output_type": "stream",
          "text": [
            "      29/75      3.54G      1.032     0.8695      1.347         32        640: 100%|██████████| 470/470 [02:06<00:00,  3.70it/s]\n",
            "                 Class     Images  Instances      Box(P          R      mAP50  mAP50-95): 100%|██████████| 36/36 [00:09<00:00,  3.95it/s]"
          ]
        },
        {
          "metadata": {
            "tags": null
          },
          "name": "stdout",
          "output_type": "stream",
          "text": [
            "                   all       1146       1821      0.831      0.824      0.831      0.565\n"
          ]
        },
        {
          "metadata": {
            "tags": null
          },
          "name": "stderr",
          "output_type": "stream",
          "text": [
            "\n"
          ]
        },
        {
          "metadata": {
            "tags": null
          },
          "name": "stdout",
          "output_type": "stream",
          "text": [
            "\n",
            "      Epoch    GPU_mem   box_loss   cls_loss   dfl_loss  Instances       Size\n"
          ]
        },
        {
          "metadata": {
            "tags": null
          },
          "name": "stderr",
          "output_type": "stream",
          "text": [
            "      30/75      3.56G      1.023     0.8618       1.34         25        640: 100%|██████████| 470/470 [02:04<00:00,  3.77it/s]\n",
            "                 Class     Images  Instances      Box(P          R      mAP50  mAP50-95): 100%|██████████| 36/36 [00:09<00:00,  3.89it/s]"
          ]
        },
        {
          "metadata": {
            "tags": null
          },
          "name": "stdout",
          "output_type": "stream",
          "text": [
            "                   all       1146       1821      0.848      0.814      0.838       0.57\n"
          ]
        },
        {
          "metadata": {
            "tags": null
          },
          "name": "stderr",
          "output_type": "stream",
          "text": [
            "\n"
          ]
        },
        {
          "metadata": {
            "tags": null
          },
          "name": "stdout",
          "output_type": "stream",
          "text": [
            "\n",
            "      Epoch    GPU_mem   box_loss   cls_loss   dfl_loss  Instances       Size\n"
          ]
        },
        {
          "metadata": {
            "tags": null
          },
          "name": "stderr",
          "output_type": "stream",
          "text": [
            "      31/75      3.58G      1.035     0.8605      1.344         39        640: 100%|██████████| 470/470 [02:06<00:00,  3.70it/s]\n",
            "                 Class     Images  Instances      Box(P          R      mAP50  mAP50-95): 100%|██████████| 36/36 [00:07<00:00,  4.60it/s]\n"
          ]
        },
        {
          "metadata": {
            "tags": null
          },
          "name": "stdout",
          "output_type": "stream",
          "text": [
            "                   all       1146       1821      0.867      0.822       0.84      0.566\n",
            "\n",
            "      Epoch    GPU_mem   box_loss   cls_loss   dfl_loss  Instances       Size\n"
          ]
        },
        {
          "metadata": {
            "tags": null
          },
          "name": "stderr",
          "output_type": "stream",
          "text": [
            "      32/75       3.6G      1.019     0.8543      1.337         36        640: 100%|██████████| 470/470 [02:06<00:00,  3.72it/s]\n",
            "                 Class     Images  Instances      Box(P          R      mAP50  mAP50-95): 100%|██████████| 36/36 [00:09<00:00,  3.84it/s]\n"
          ]
        },
        {
          "metadata": {
            "tags": null
          },
          "name": "stdout",
          "output_type": "stream",
          "text": [
            "                   all       1146       1821      0.885      0.815      0.842      0.576\n",
            "\n",
            "      Epoch    GPU_mem   box_loss   cls_loss   dfl_loss  Instances       Size\n"
          ]
        },
        {
          "metadata": {
            "tags": null
          },
          "name": "stderr",
          "output_type": "stream",
          "text": [
            "      33/75      3.61G      1.015     0.8441       1.33         29        640: 100%|██████████| 470/470 [02:08<00:00,  3.66it/s]\n",
            "                 Class     Images  Instances      Box(P          R      mAP50  mAP50-95): 100%|██████████| 36/36 [00:09<00:00,  3.91it/s]\n"
          ]
        },
        {
          "metadata": {
            "tags": null
          },
          "name": "stdout",
          "output_type": "stream",
          "text": [
            "                   all       1146       1821      0.859      0.827      0.851      0.588\n",
            "\n",
            "      Epoch    GPU_mem   box_loss   cls_loss   dfl_loss  Instances       Size\n"
          ]
        },
        {
          "metadata": {
            "tags": null
          },
          "name": "stderr",
          "output_type": "stream",
          "text": [
            "      34/75      3.63G      1.001     0.8351      1.322         32        640: 100%|██████████| 470/470 [02:05<00:00,  3.74it/s]\n",
            "                 Class     Images  Instances      Box(P          R      mAP50  mAP50-95): 100%|██████████| 36/36 [00:10<00:00,  3.39it/s]\n"
          ]
        },
        {
          "metadata": {
            "tags": null
          },
          "name": "stdout",
          "output_type": "stream",
          "text": [
            "                   all       1146       1821      0.883      0.822      0.853      0.589\n",
            "\n",
            "      Epoch    GPU_mem   box_loss   cls_loss   dfl_loss  Instances       Size\n"
          ]
        },
        {
          "metadata": {
            "tags": null
          },
          "name": "stderr",
          "output_type": "stream",
          "text": [
            "      35/75      3.65G     0.9902     0.8102      1.313         33        640: 100%|██████████| 470/470 [02:05<00:00,  3.73it/s]\n",
            "                 Class     Images  Instances      Box(P          R      mAP50  mAP50-95): 100%|██████████| 36/36 [00:07<00:00,  4.62it/s]\n"
          ]
        },
        {
          "metadata": {
            "tags": null
          },
          "name": "stdout",
          "output_type": "stream",
          "text": [
            "                   all       1146       1821      0.889      0.821      0.851      0.582\n",
            "\n",
            "      Epoch    GPU_mem   box_loss   cls_loss   dfl_loss  Instances       Size\n"
          ]
        },
        {
          "metadata": {
            "tags": null
          },
          "name": "stderr",
          "output_type": "stream",
          "text": [
            "      36/75      3.67G     0.9964     0.8133      1.317         35        640: 100%|██████████| 470/470 [02:07<00:00,  3.70it/s]\n",
            "                 Class     Images  Instances      Box(P          R      mAP50  mAP50-95): 100%|██████████| 36/36 [00:09<00:00,  3.82it/s]\n"
          ]
        },
        {
          "metadata": {
            "tags": null
          },
          "name": "stdout",
          "output_type": "stream",
          "text": [
            "                   all       1146       1821      0.869      0.819      0.843      0.583\n",
            "\n",
            "      Epoch    GPU_mem   box_loss   cls_loss   dfl_loss  Instances       Size\n"
          ]
        },
        {
          "metadata": {
            "tags": null
          },
          "name": "stderr",
          "output_type": "stream",
          "text": [
            "      37/75      3.68G     0.9962      0.807      1.313         30        640: 100%|██████████| 470/470 [02:07<00:00,  3.70it/s]\n",
            "                 Class     Images  Instances      Box(P          R      mAP50  mAP50-95): 100%|██████████| 36/36 [00:09<00:00,  3.99it/s]\n"
          ]
        },
        {
          "metadata": {
            "tags": null
          },
          "name": "stdout",
          "output_type": "stream",
          "text": [
            "                   all       1146       1821      0.889      0.831      0.857      0.591\n",
            "\n",
            "      Epoch    GPU_mem   box_loss   cls_loss   dfl_loss  Instances       Size\n"
          ]
        },
        {
          "metadata": {
            "tags": null
          },
          "name": "stderr",
          "output_type": "stream",
          "text": [
            "      38/75       3.7G     0.9823     0.7848      1.307         63        640: 100%|██████████| 470/470 [02:07<00:00,  3.69it/s]\n",
            "                 Class     Images  Instances      Box(P          R      mAP50  mAP50-95): 100%|██████████| 36/36 [00:09<00:00,  3.95it/s]"
          ]
        },
        {
          "metadata": {
            "tags": null
          },
          "name": "stdout",
          "output_type": "stream",
          "text": [
            "                   all       1146       1821      0.882      0.825      0.856      0.594\n"
          ]
        },
        {
          "metadata": {
            "tags": null
          },
          "name": "stderr",
          "output_type": "stream",
          "text": [
            "\n"
          ]
        },
        {
          "metadata": {
            "tags": null
          },
          "name": "stdout",
          "output_type": "stream",
          "text": [
            "\n",
            "      Epoch    GPU_mem   box_loss   cls_loss   dfl_loss  Instances       Size\n"
          ]
        },
        {
          "metadata": {
            "tags": null
          },
          "name": "stderr",
          "output_type": "stream",
          "text": [
            "      39/75      3.72G     0.9788       0.79      1.307         38        640: 100%|██████████| 470/470 [02:06<00:00,  3.72it/s]\n",
            "                 Class     Images  Instances      Box(P          R      mAP50  mAP50-95): 100%|██████████| 36/36 [00:07<00:00,  4.60it/s]\n"
          ]
        },
        {
          "metadata": {
            "tags": null
          },
          "name": "stdout",
          "output_type": "stream",
          "text": [
            "                   all       1146       1821      0.891      0.825      0.857      0.595\n",
            "\n",
            "      Epoch    GPU_mem   box_loss   cls_loss   dfl_loss  Instances       Size\n"
          ]
        },
        {
          "metadata": {
            "tags": null
          },
          "name": "stderr",
          "output_type": "stream",
          "text": [
            "      40/75      3.73G     0.9741      0.777      1.299         44        640: 100%|██████████| 470/470 [02:08<00:00,  3.65it/s]\n",
            "                 Class     Images  Instances      Box(P          R      mAP50  mAP50-95): 100%|██████████| 36/36 [00:08<00:00,  4.17it/s]\n"
          ]
        },
        {
          "metadata": {
            "tags": null
          },
          "name": "stdout",
          "output_type": "stream",
          "text": [
            "                   all       1146       1821      0.885      0.833      0.856      0.596\n",
            "\n",
            "      Epoch    GPU_mem   box_loss   cls_loss   dfl_loss  Instances       Size\n"
          ]
        },
        {
          "metadata": {
            "tags": null
          },
          "name": "stderr",
          "output_type": "stream",
          "text": [
            "      41/75      3.75G     0.9635       0.76      1.292         51        640: 100%|██████████| 470/470 [02:08<00:00,  3.66it/s]\n",
            "                 Class     Images  Instances      Box(P          R      mAP50  mAP50-95): 100%|██████████| 36/36 [00:09<00:00,  3.92it/s]\n"
          ]
        },
        {
          "metadata": {
            "tags": null
          },
          "name": "stdout",
          "output_type": "stream",
          "text": [
            "                   all       1146       1821      0.881      0.827      0.856      0.602\n",
            "\n",
            "      Epoch    GPU_mem   box_loss   cls_loss   dfl_loss  Instances       Size\n"
          ]
        },
        {
          "metadata": {
            "tags": null
          },
          "name": "stderr",
          "output_type": "stream",
          "text": [
            "      42/75      3.77G     0.9548     0.7574      1.286         39        640: 100%|██████████| 470/470 [02:08<00:00,  3.67it/s]\n",
            "                 Class     Images  Instances      Box(P          R      mAP50  mAP50-95): 100%|██████████| 36/36 [00:09<00:00,  3.89it/s]\n"
          ]
        },
        {
          "metadata": {
            "tags": null
          },
          "name": "stdout",
          "output_type": "stream",
          "text": [
            "                   all       1146       1821       0.89      0.831      0.858      0.601\n",
            "\n",
            "      Epoch    GPU_mem   box_loss   cls_loss   dfl_loss  Instances       Size\n"
          ]
        },
        {
          "metadata": {
            "tags": null
          },
          "name": "stderr",
          "output_type": "stream",
          "text": [
            "      43/75      3.79G     0.9603     0.7511       1.29         53        640: 100%|██████████| 470/470 [02:06<00:00,  3.72it/s]\n",
            "                 Class     Images  Instances      Box(P          R      mAP50  mAP50-95): 100%|██████████| 36/36 [00:08<00:00,  4.14it/s]"
          ]
        },
        {
          "metadata": {
            "tags": null
          },
          "name": "stdout",
          "output_type": "stream",
          "text": [
            "                   all       1146       1821      0.872      0.838      0.856      0.598\n"
          ]
        },
        {
          "metadata": {
            "tags": null
          },
          "name": "stderr",
          "output_type": "stream",
          "text": [
            "\n"
          ]
        },
        {
          "metadata": {
            "tags": null
          },
          "name": "stdout",
          "output_type": "stream",
          "text": [
            "\n",
            "      Epoch    GPU_mem   box_loss   cls_loss   dfl_loss  Instances       Size\n"
          ]
        },
        {
          "metadata": {
            "tags": null
          },
          "name": "stderr",
          "output_type": "stream",
          "text": [
            "      44/75       3.8G     0.9501     0.7369      1.276         39        640: 100%|██████████| 470/470 [02:08<00:00,  3.65it/s]\n",
            "                 Class     Images  Instances      Box(P          R      mAP50  mAP50-95): 100%|██████████| 36/36 [00:07<00:00,  4.54it/s]\n"
          ]
        },
        {
          "metadata": {
            "tags": null
          },
          "name": "stdout",
          "output_type": "stream",
          "text": [
            "                   all       1146       1821       0.88      0.844      0.864      0.596\n",
            "\n",
            "      Epoch    GPU_mem   box_loss   cls_loss   dfl_loss  Instances       Size\n"
          ]
        },
        {
          "metadata": {
            "tags": null
          },
          "name": "stderr",
          "output_type": "stream",
          "text": [
            "      45/75      3.82G     0.9465     0.7509       1.28         42        640: 100%|██████████| 470/470 [02:08<00:00,  3.67it/s]\n",
            "                 Class     Images  Instances      Box(P          R      mAP50  mAP50-95): 100%|██████████| 36/36 [00:08<00:00,  4.14it/s]\n"
          ]
        },
        {
          "metadata": {
            "tags": null
          },
          "name": "stdout",
          "output_type": "stream",
          "text": [
            "                   all       1146       1821       0.87      0.853      0.864      0.604\n",
            "\n",
            "      Epoch    GPU_mem   box_loss   cls_loss   dfl_loss  Instances       Size\n"
          ]
        },
        {
          "output_type": "stream",
          "name": "stderr",
          "text": [
            "      46/75      3.84G     0.9316      0.732      1.268         44        640: 100%|██████████| 470/470 [02:06<00:00,  3.73it/s]\n",
            "                 Class     Images  Instances      Box(P          R      mAP50  mAP50-95): 100%|██████████| 36/36 [00:09<00:00,  3.91it/s]\n"
          ]
        },
        {
          "output_type": "stream",
          "name": "stdout",
          "text": [
            "                   all       1146       1821      0.872      0.847       0.86      0.602\n",
            "\n",
            "      Epoch    GPU_mem   box_loss   cls_loss   dfl_loss  Instances       Size\n"
          ]
        },
        {
          "output_type": "stream",
          "name": "stderr",
          "text": [
            "      47/75      3.85G     0.9303     0.7182      1.267         46        640: 100%|██████████| 470/470 [02:04<00:00,  3.76it/s]\n",
            "                 Class     Images  Instances      Box(P          R      mAP50  mAP50-95): 100%|██████████| 36/36 [00:08<00:00,  4.18it/s]"
          ]
        },
        {
          "output_type": "stream",
          "name": "stdout",
          "text": [
            "                   all       1146       1821      0.877      0.839      0.861      0.603\n"
          ]
        },
        {
          "output_type": "stream",
          "name": "stderr",
          "text": [
            "\n"
          ]
        },
        {
          "output_type": "stream",
          "name": "stdout",
          "text": [
            "\n",
            "      Epoch    GPU_mem   box_loss   cls_loss   dfl_loss  Instances       Size\n"
          ]
        },
        {
          "output_type": "stream",
          "name": "stderr",
          "text": [
            "      48/75      3.87G     0.9315     0.7227      1.273         30        640: 100%|██████████| 470/470 [02:06<00:00,  3.72it/s]\n",
            "                 Class     Images  Instances      Box(P          R      mAP50  mAP50-95): 100%|██████████| 36/36 [00:08<00:00,  4.08it/s]\n"
          ]
        },
        {
          "output_type": "stream",
          "name": "stdout",
          "text": [
            "                   all       1146       1821      0.879       0.83      0.854      0.598\n",
            "\n",
            "      Epoch    GPU_mem   box_loss   cls_loss   dfl_loss  Instances       Size\n"
          ]
        },
        {
          "output_type": "stream",
          "name": "stderr",
          "text": [
            "      49/75      3.89G     0.9214     0.7231      1.263         40        640: 100%|██████████| 470/470 [02:09<00:00,  3.63it/s]\n",
            "                 Class     Images  Instances      Box(P          R      mAP50  mAP50-95): 100%|██████████| 36/36 [00:09<00:00,  3.92it/s]\n"
          ]
        },
        {
          "output_type": "stream",
          "name": "stdout",
          "text": [
            "                   all       1146       1821      0.888      0.829       0.86      0.604\n",
            "\n",
            "      Epoch    GPU_mem   box_loss   cls_loss   dfl_loss  Instances       Size\n"
          ]
        },
        {
          "output_type": "stream",
          "name": "stderr",
          "text": [
            "      50/75       3.9G     0.9193       0.72      1.265         50        640: 100%|██████████| 470/470 [02:07<00:00,  3.68it/s]\n",
            "                 Class     Images  Instances      Box(P          R      mAP50  mAP50-95): 100%|██████████| 36/36 [00:09<00:00,  3.81it/s]\n"
          ]
        },
        {
          "output_type": "stream",
          "name": "stdout",
          "text": [
            "                   all       1146       1821      0.881      0.847      0.867      0.615\n",
            "\n",
            "      Epoch    GPU_mem   box_loss   cls_loss   dfl_loss  Instances       Size\n"
          ]
        },
        {
          "output_type": "stream",
          "name": "stderr",
          "text": [
            "      51/75      3.92G     0.9115     0.6953      1.256         32        640: 100%|██████████| 470/470 [02:07<00:00,  3.69it/s]\n",
            "                 Class     Images  Instances      Box(P          R      mAP50  mAP50-95): 100%|██████████| 36/36 [00:09<00:00,  3.87it/s]\n"
          ]
        },
        {
          "output_type": "stream",
          "name": "stdout",
          "text": [
            "                   all       1146       1821      0.909      0.831      0.868      0.612\n",
            "\n",
            "      Epoch    GPU_mem   box_loss   cls_loss   dfl_loss  Instances       Size\n"
          ]
        },
        {
          "output_type": "stream",
          "name": "stderr",
          "text": [
            "      52/75      3.94G     0.8854     0.6778      1.244         31        640: 100%|██████████| 470/470 [02:08<00:00,  3.66it/s]\n",
            "                 Class     Images  Instances      Box(P          R      mAP50  mAP50-95): 100%|██████████| 36/36 [00:08<00:00,  4.00it/s]"
          ]
        },
        {
          "output_type": "stream",
          "name": "stdout",
          "text": [
            "                   all       1146       1821      0.902      0.821      0.861      0.609\n"
          ]
        },
        {
          "output_type": "stream",
          "name": "stderr",
          "text": [
            "\n"
          ]
        },
        {
          "output_type": "stream",
          "name": "stdout",
          "text": [
            "\n",
            "      Epoch    GPU_mem   box_loss   cls_loss   dfl_loss  Instances       Size\n"
          ]
        },
        {
          "output_type": "stream",
          "name": "stderr",
          "text": [
            "      53/75      3.96G     0.9001      0.683       1.25         45        640: 100%|██████████| 470/470 [02:08<00:00,  3.64it/s]\n",
            "                 Class     Images  Instances      Box(P          R      mAP50  mAP50-95): 100%|██████████| 36/36 [00:08<00:00,  4.12it/s]"
          ]
        },
        {
          "output_type": "stream",
          "name": "stdout",
          "text": [
            "                   all       1146       1821      0.897      0.833      0.873      0.617\n"
          ]
        },
        {
          "output_type": "stream",
          "name": "stderr",
          "text": [
            "\n"
          ]
        },
        {
          "output_type": "stream",
          "name": "stdout",
          "text": [
            "\n",
            "      Epoch    GPU_mem   box_loss   cls_loss   dfl_loss  Instances       Size\n"
          ]
        },
        {
          "output_type": "stream",
          "name": "stderr",
          "text": [
            "      54/75      3.97G     0.8856     0.6756      1.238         33        640: 100%|██████████| 470/470 [02:09<00:00,  3.64it/s]\n",
            "                 Class     Images  Instances      Box(P          R      mAP50  mAP50-95): 100%|██████████| 36/36 [00:07<00:00,  4.65it/s]\n"
          ]
        },
        {
          "output_type": "stream",
          "name": "stdout",
          "text": [
            "                   all       1146       1821      0.899      0.839      0.869      0.619\n",
            "\n",
            "      Epoch    GPU_mem   box_loss   cls_loss   dfl_loss  Instances       Size\n"
          ]
        },
        {
          "output_type": "stream",
          "name": "stderr",
          "text": [
            "      55/75      3.99G     0.8894     0.6791       1.24         33        640: 100%|██████████| 470/470 [02:08<00:00,  3.66it/s]\n",
            "                 Class     Images  Instances      Box(P          R      mAP50  mAP50-95): 100%|██████████| 36/36 [00:09<00:00,  3.97it/s]\n"
          ]
        },
        {
          "output_type": "stream",
          "name": "stdout",
          "text": [
            "                   all       1146       1821      0.882      0.851      0.866      0.617\n",
            "\n",
            "      Epoch    GPU_mem   box_loss   cls_loss   dfl_loss  Instances       Size\n"
          ]
        },
        {
          "output_type": "stream",
          "name": "stderr",
          "text": [
            "      56/75      4.01G     0.8817     0.6716      1.236         26        640: 100%|██████████| 470/470 [02:13<00:00,  3.52it/s]\n",
            "                 Class     Images  Instances      Box(P          R      mAP50  mAP50-95): 100%|██████████| 36/36 [00:08<00:00,  4.43it/s]\n"
          ]
        },
        {
          "output_type": "stream",
          "name": "stdout",
          "text": [
            "                   all       1146       1821      0.894      0.841      0.871      0.625\n",
            "\n",
            "      Epoch    GPU_mem   box_loss   cls_loss   dfl_loss  Instances       Size\n"
          ]
        },
        {
          "output_type": "stream",
          "name": "stderr",
          "text": [
            "      57/75      4.02G     0.8802     0.6623      1.239         27        640: 100%|██████████| 470/470 [02:10<00:00,  3.59it/s]\n",
            "                 Class     Images  Instances      Box(P          R      mAP50  mAP50-95): 100%|██████████| 36/36 [00:09<00:00,  3.92it/s]"
          ]
        },
        {
          "output_type": "stream",
          "name": "stdout",
          "text": [
            "                   all       1146       1821       0.88      0.866      0.876      0.622\n"
          ]
        },
        {
          "output_type": "stream",
          "name": "stderr",
          "text": [
            "\n"
          ]
        },
        {
          "output_type": "stream",
          "name": "stdout",
          "text": [
            "\n",
            "      Epoch    GPU_mem   box_loss   cls_loss   dfl_loss  Instances       Size\n"
          ]
        },
        {
          "output_type": "stream",
          "name": "stderr",
          "text": [
            "      58/75      4.04G     0.8718     0.6592      1.235         38        640: 100%|██████████| 470/470 [02:09<00:00,  3.63it/s]\n",
            "                 Class     Images  Instances      Box(P          R      mAP50  mAP50-95): 100%|██████████| 36/36 [00:10<00:00,  3.37it/s]\n"
          ]
        },
        {
          "output_type": "stream",
          "name": "stdout",
          "text": [
            "                   all       1146       1821      0.885      0.858      0.874       0.62\n",
            "\n",
            "      Epoch    GPU_mem   box_loss   cls_loss   dfl_loss  Instances       Size\n"
          ]
        },
        {
          "output_type": "stream",
          "name": "stderr",
          "text": [
            "      59/75      4.06G     0.8613     0.6453      1.221         33        640: 100%|██████████| 470/470 [02:10<00:00,  3.61it/s]\n",
            "                 Class     Images  Instances      Box(P          R      mAP50  mAP50-95): 100%|██████████| 36/36 [00:09<00:00,  3.86it/s]\n"
          ]
        },
        {
          "output_type": "stream",
          "name": "stdout",
          "text": [
            "                   all       1146       1821      0.884      0.855      0.875      0.627\n",
            "\n",
            "      Epoch    GPU_mem   box_loss   cls_loss   dfl_loss  Instances       Size\n"
          ]
        },
        {
          "output_type": "stream",
          "name": "stderr",
          "text": [
            "      60/75      4.07G     0.8711     0.6484      1.226         41        640: 100%|██████████| 470/470 [02:13<00:00,  3.53it/s]\n",
            "                 Class     Images  Instances      Box(P          R      mAP50  mAP50-95): 100%|██████████| 36/36 [00:08<00:00,  4.11it/s]\n"
          ]
        },
        {
          "output_type": "stream",
          "name": "stdout",
          "text": [
            "                   all       1146       1821      0.895      0.849      0.873      0.625\n",
            "\n",
            "      Epoch    GPU_mem   box_loss   cls_loss   dfl_loss  Instances       Size\n"
          ]
        },
        {
          "output_type": "stream",
          "name": "stderr",
          "text": [
            "      61/75      4.09G     0.8683     0.6548      1.225         44        640: 100%|██████████| 470/470 [02:13<00:00,  3.52it/s]\n",
            "                 Class     Images  Instances      Box(P          R      mAP50  mAP50-95): 100%|██████████| 36/36 [00:08<00:00,  4.48it/s]\n"
          ]
        },
        {
          "output_type": "stream",
          "name": "stdout",
          "text": [
            "                   all       1146       1821      0.887      0.843      0.873      0.626\n",
            "\n",
            "      Epoch    GPU_mem   box_loss   cls_loss   dfl_loss  Instances       Size\n"
          ]
        },
        {
          "output_type": "stream",
          "name": "stderr",
          "text": [
            "      62/75      4.11G      0.861     0.6425      1.221         40        640: 100%|██████████| 470/470 [02:11<00:00,  3.57it/s]\n",
            "                 Class     Images  Instances      Box(P          R      mAP50  mAP50-95): 100%|██████████| 36/36 [00:08<00:00,  4.47it/s]\n"
          ]
        },
        {
          "output_type": "stream",
          "name": "stdout",
          "text": [
            "                   all       1146       1821      0.897      0.858      0.878      0.629\n",
            "\n",
            "      Epoch    GPU_mem   box_loss   cls_loss   dfl_loss  Instances       Size\n"
          ]
        },
        {
          "output_type": "stream",
          "name": "stderr",
          "text": [
            "      63/75      4.13G     0.8493     0.6322      1.213         39        640: 100%|██████████| 470/470 [02:11<00:00,  3.56it/s]\n",
            "                 Class     Images  Instances      Box(P          R      mAP50  mAP50-95): 100%|██████████| 36/36 [00:08<00:00,  4.36it/s]\n"
          ]
        },
        {
          "output_type": "stream",
          "name": "stdout",
          "text": [
            "                   all       1146       1821      0.903       0.86      0.878      0.626\n",
            "\n",
            "      Epoch    GPU_mem   box_loss   cls_loss   dfl_loss  Instances       Size\n"
          ]
        },
        {
          "output_type": "stream",
          "name": "stderr",
          "text": [
            "      64/75      4.14G     0.8416     0.6188      1.211         31        640: 100%|██████████| 470/470 [02:12<00:00,  3.54it/s]\n",
            "                 Class     Images  Instances      Box(P          R      mAP50  mAP50-95): 100%|██████████| 36/36 [00:08<00:00,  4.35it/s]\n"
          ]
        },
        {
          "output_type": "stream",
          "name": "stdout",
          "text": [
            "                   all       1146       1821      0.902      0.855      0.879      0.628\n",
            "\n",
            "      Epoch    GPU_mem   box_loss   cls_loss   dfl_loss  Instances       Size\n"
          ]
        },
        {
          "output_type": "stream",
          "name": "stderr",
          "text": [
            "      65/75      4.16G     0.8486     0.6298      1.213         35        640: 100%|██████████| 470/470 [02:12<00:00,  3.55it/s]\n",
            "                 Class     Images  Instances      Box(P          R      mAP50  mAP50-95): 100%|██████████| 36/36 [00:08<00:00,  4.19it/s]"
          ]
        },
        {
          "output_type": "stream",
          "name": "stdout",
          "text": [
            "                   all       1146       1821      0.895      0.859      0.881      0.633\n"
          ]
        },
        {
          "output_type": "stream",
          "name": "stderr",
          "text": [
            "\n"
          ]
        },
        {
          "output_type": "stream",
          "name": "stdout",
          "text": [
            "Closing dataloader mosaic\n",
            "\u001b[34m\u001b[1malbumentations: \u001b[0mBlur(p=0.01, blur_limit=(3, 7)), MedianBlur(p=0.01, blur_limit=(3, 7)), ToGray(p=0.01, method='weighted_average', num_output_channels=3), CLAHE(p=0.01, clip_limit=(1.0, 4.0), tile_grid_size=(8, 8))\n",
            "\n",
            "      Epoch    GPU_mem   box_loss   cls_loss   dfl_loss  Instances       Size\n"
          ]
        },
        {
          "output_type": "stream",
          "name": "stderr",
          "text": [
            "      66/75      4.18G     0.8073      0.494      1.228         14        640: 100%|██████████| 470/470 [02:05<00:00,  3.74it/s]\n",
            "                 Class     Images  Instances      Box(P          R      mAP50  mAP50-95): 100%|██████████| 36/36 [00:08<00:00,  4.13it/s]\n"
          ]
        },
        {
          "output_type": "stream",
          "name": "stdout",
          "text": [
            "                   all       1146       1821      0.909      0.849      0.877      0.632\n",
            "\n",
            "      Epoch    GPU_mem   box_loss   cls_loss   dfl_loss  Instances       Size\n"
          ]
        },
        {
          "output_type": "stream",
          "name": "stderr",
          "text": [
            "      67/75       4.2G     0.7875     0.4682      1.217         14        640: 100%|██████████| 470/470 [02:05<00:00,  3.74it/s]\n",
            "                 Class     Images  Instances      Box(P          R      mAP50  mAP50-95): 100%|██████████| 36/36 [00:09<00:00,  3.84it/s]\n"
          ]
        },
        {
          "output_type": "stream",
          "name": "stdout",
          "text": [
            "                   all       1146       1821      0.897      0.863      0.878      0.627\n",
            "\n",
            "      Epoch    GPU_mem   box_loss   cls_loss   dfl_loss  Instances       Size\n"
          ]
        },
        {
          "output_type": "stream",
          "name": "stderr",
          "text": [
            "      68/75      4.21G     0.7771     0.4591      1.203         21        640: 100%|██████████| 470/470 [02:06<00:00,  3.72it/s]\n",
            "                 Class     Images  Instances      Box(P          R      mAP50  mAP50-95): 100%|██████████| 36/36 [00:08<00:00,  4.38it/s]"
          ]
        },
        {
          "output_type": "stream",
          "name": "stdout",
          "text": [
            "                   all       1146       1821      0.903      0.858      0.878      0.629\n"
          ]
        },
        {
          "output_type": "stream",
          "name": "stderr",
          "text": [
            "\n"
          ]
        },
        {
          "output_type": "stream",
          "name": "stdout",
          "text": [
            "\n",
            "      Epoch    GPU_mem   box_loss   cls_loss   dfl_loss  Instances       Size\n"
          ]
        },
        {
          "output_type": "stream",
          "name": "stderr",
          "text": [
            "      69/75      4.23G     0.7757     0.4572      1.204         18        640: 100%|██████████| 470/470 [02:03<00:00,  3.81it/s]\n",
            "                 Class     Images  Instances      Box(P          R      mAP50  mAP50-95): 100%|██████████| 36/36 [00:09<00:00,  3.84it/s]\n"
          ]
        },
        {
          "output_type": "stream",
          "name": "stdout",
          "text": [
            "                   all       1146       1821      0.904       0.85      0.877      0.632\n",
            "\n",
            "      Epoch    GPU_mem   box_loss   cls_loss   dfl_loss  Instances       Size\n"
          ]
        },
        {
          "output_type": "stream",
          "name": "stderr",
          "text": [
            "      70/75      4.25G     0.7592     0.4483      1.191         20        640: 100%|██████████| 470/470 [02:04<00:00,  3.77it/s]\n",
            "                 Class     Images  Instances      Box(P          R      mAP50  mAP50-95): 100%|██████████| 36/36 [00:08<00:00,  4.09it/s]"
          ]
        },
        {
          "output_type": "stream",
          "name": "stdout",
          "text": [
            "                   all       1146       1821        0.9      0.855      0.878      0.633\n"
          ]
        },
        {
          "output_type": "stream",
          "name": "stderr",
          "text": [
            "\n"
          ]
        },
        {
          "output_type": "stream",
          "name": "stdout",
          "text": [
            "\n",
            "      Epoch    GPU_mem   box_loss   cls_loss   dfl_loss  Instances       Size\n"
          ]
        },
        {
          "output_type": "stream",
          "name": "stderr",
          "text": [
            "      71/75      4.26G     0.7562     0.4435      1.192         32        640: 100%|██████████| 470/470 [02:05<00:00,  3.75it/s]\n",
            "                 Class     Images  Instances      Box(P          R      mAP50  mAP50-95): 100%|██████████| 36/36 [00:08<00:00,  4.15it/s]\n"
          ]
        },
        {
          "output_type": "stream",
          "name": "stdout",
          "text": [
            "                   all       1146       1821      0.903      0.855       0.88      0.634\n",
            "\n",
            "      Epoch    GPU_mem   box_loss   cls_loss   dfl_loss  Instances       Size\n"
          ]
        },
        {
          "output_type": "stream",
          "name": "stderr",
          "text": [
            "      72/75      4.28G     0.7534     0.4471       1.19         14        640: 100%|██████████| 470/470 [02:02<00:00,  3.83it/s]\n",
            "                 Class     Images  Instances      Box(P          R      mAP50  mAP50-95): 100%|██████████| 36/36 [00:08<00:00,  4.21it/s]"
          ]
        },
        {
          "output_type": "stream",
          "name": "stdout",
          "text": [
            "                   all       1146       1821      0.904      0.855       0.88      0.634\n"
          ]
        },
        {
          "output_type": "stream",
          "name": "stderr",
          "text": [
            "\n"
          ]
        },
        {
          "output_type": "stream",
          "name": "stdout",
          "text": [
            "\n",
            "      Epoch    GPU_mem   box_loss   cls_loss   dfl_loss  Instances       Size\n"
          ]
        },
        {
          "output_type": "stream",
          "name": "stderr",
          "text": [
            "      73/75       4.3G     0.7364     0.4326       1.18         16        640: 100%|██████████| 470/470 [02:03<00:00,  3.82it/s]\n",
            "                 Class     Images  Instances      Box(P          R      mAP50  mAP50-95): 100%|██████████| 36/36 [00:09<00:00,  3.93it/s]\n"
          ]
        },
        {
          "output_type": "stream",
          "name": "stdout",
          "text": [
            "                   all       1146       1821      0.905      0.853      0.878      0.633\n",
            "\n",
            "      Epoch    GPU_mem   box_loss   cls_loss   dfl_loss  Instances       Size\n"
          ]
        },
        {
          "output_type": "stream",
          "name": "stderr",
          "text": [
            "      74/75      4.31G     0.7448     0.4348      1.183         42        640: 100%|██████████| 470/470 [02:04<00:00,  3.77it/s]\n",
            "                 Class     Images  Instances      Box(P          R      mAP50  mAP50-95): 100%|██████████| 36/36 [00:08<00:00,  4.46it/s]\n"
          ]
        },
        {
          "output_type": "stream",
          "name": "stdout",
          "text": [
            "                   all       1146       1821      0.903      0.857      0.877      0.632\n",
            "\n",
            "      Epoch    GPU_mem   box_loss   cls_loss   dfl_loss  Instances       Size\n"
          ]
        },
        {
          "output_type": "stream",
          "name": "stderr",
          "text": [
            "      75/75      4.33G     0.7362     0.4292      1.175         17        640: 100%|██████████| 470/470 [02:04<00:00,  3.78it/s]\n",
            "                 Class     Images  Instances      Box(P          R      mAP50  mAP50-95): 100%|██████████| 36/36 [00:09<00:00,  3.88it/s]\n"
          ]
        },
        {
          "output_type": "stream",
          "name": "stdout",
          "text": [
            "                   all       1146       1821      0.901      0.856      0.877      0.631\n",
            "\n",
            "75 epochs completed in 2.847 hours.\n",
            "Optimizer stripped from /content/drive/MyDrive/Organized_Paddy_Insects_Classification/YOLO_Training_Runs/detect/yolo_paddy_insect_v1/weights/last.pt, 6.3MB\n",
            "Optimizer stripped from /content/drive/MyDrive/Organized_Paddy_Insects_Classification/YOLO_Training_Runs/detect/yolo_paddy_insect_v1/weights/best.pt, 6.3MB\n",
            "\n",
            "Validating /content/drive/MyDrive/Organized_Paddy_Insects_Classification/YOLO_Training_Runs/detect/yolo_paddy_insect_v1/weights/best.pt...\n",
            "Ultralytics 8.3.184 🚀 Python-3.12.11 torch-2.8.0+cu126 CUDA:0 (Tesla T4, 15095MiB)\n",
            "Model summary (fused): 72 layers, 3,007,793 parameters, 0 gradients, 8.1 GFLOPs\n"
          ]
        },
        {
          "output_type": "stream",
          "name": "stderr",
          "text": [
            "                 Class     Images  Instances      Box(P          R      mAP50  mAP50-95): 100%|██████████| 36/36 [00:11<00:00,  3.14it/s]\n"
          ]
        },
        {
          "output_type": "stream",
          "name": "stdout",
          "text": [
            "                   all       1146       1821      0.904      0.855       0.88      0.634\n",
            "              Armyworm         71        198      0.821      0.787      0.831      0.421\n",
            "     Brown_Planthopper         30        136       0.82       0.37      0.463      0.225\n",
            "              Crickets        125        125      0.996          1      0.995      0.785\n",
            "             Dragonfly         26         26      0.944      0.962      0.973      0.741\n",
            "              Mealybug        150        199      0.957      0.779      0.853      0.632\n",
            "              Rice_Bug         17         18      0.772      0.833      0.782      0.454\n",
            "       Rice_Gall_Midge        114        136      0.948      0.939       0.97      0.787\n",
            "     Rice_Water_Weevil        167        200       0.94          1      0.991      0.923\n",
            "                Thrips        176        233      0.891       0.97      0.932      0.694\n",
            "                 Wasps        169        396      0.949      0.904      0.971      0.572\n",
            "          Whorl_Maggot         61        154       0.91      0.858      0.915      0.743\n",
            "Speed: 0.3ms preprocess, 2.2ms inference, 0.0ms loss, 2.7ms postprocess per image\n",
            "Results saved to \u001b[1m/content/drive/MyDrive/Organized_Paddy_Insects_Classification/YOLO_Training_Runs/detect/yolo_paddy_insect_v1\u001b[0m\n"
          ]
        }
      ]
    },
    {
      "cell_type": "code",
      "source": [],
      "metadata": {
        "id": "EPGhOpDQ9oFH"
      },
      "execution_count": null,
      "outputs": []
    }
  ]
}